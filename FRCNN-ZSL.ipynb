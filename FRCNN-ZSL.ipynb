{
  "cells": [
    {
      "cell_type": "markdown",
      "source": [
        "# 1. Create FRCNN Model"
      ],
      "metadata": {},
      "id": "f89e524d"
    },
    {
      "cell_type": "markdown",
      "source": [
        "Title: Faster-RCNN\n",
        "\n",
        "Author: [Blaine Perry]\n",
        "\n",
        "Date created: 2021/08/03\n",
        "\n",
        "Last modified: 2021/08/03\n",
        "\n",
        "Description: Implementation of Faster-RCNN."
      ],
      "metadata": {},
      "id": "b90b7b65"
    },
    {
      "cell_type": "markdown",
      "source": [
        "## Train the model\r\n",
        "\r\n",
        "# Start by creating the workspace"
      ],
      "metadata": {
        "nteract": {
          "transient": {
            "deleting": false
          }
        }
      },
      "id": "54c1cea7-83ac-4025-99ab-0fec25c1c10b"
    },
    {
      "cell_type": "code",
      "source": [
        "%matplotlib inline\r\n",
        "import numpy as np\r\n",
        "import os\r\n",
        "import matplotlib.pyplot as plt"
      ],
      "outputs": [],
      "execution_count": 13,
      "metadata": {
        "collapsed": true,
        "jupyter": {
          "source_hidden": false,
          "outputs_hidden": false
        },
        "nteract": {
          "transient": {
            "deleting": false
          }
        },
        "gather": {
          "logged": 1629761530366
        }
      },
      "id": "015b9335-27d6-4664-99e5-197bc702e0f2"
    },
    {
      "cell_type": "code",
      "source": [
        "import azureml\n",
        "from azureml.core import Workspace\n",
        "\n",
        "# check core SDK version number\n",
        "print(\"Azure ML SDK Version: \", azureml.core.VERSION)"
      ],
      "outputs": [
        {
          "output_type": "stream",
          "name": "stdout",
          "text": [
            "Azure ML SDK Version:  1.32.0\n"
          ]
        }
      ],
      "execution_count": 14,
      "metadata": {
        "gather": {
          "logged": 1629761530536
        }
      },
      "id": "78ea8765"
    },
    {
      "cell_type": "code",
      "source": [
        "ws = Workspace.from_config()\r\n",
        "print('Workspace name: ' + ws.name, \r\n",
        "      'Azure region: ' + ws.location, \r\n",
        "      'Subscription id: ' + ws.subscription_id, \r\n",
        "      'Resource group: ' + ws.resource_group, sep='\\n')"
      ],
      "outputs": [
        {
          "output_type": "stream",
          "name": "stdout",
          "text": [
            "Workspace name: geointerns_workspace\n",
            "Azure region: usgovarizona\n",
            "Subscription id: 8dab0d11-5037-44d3-9b24-ed18e6c0845e\n",
            "Resource group: iso_lrpf\n"
          ]
        }
      ],
      "execution_count": 15,
      "metadata": {
        "collapsed": true,
        "jupyter": {
          "source_hidden": false,
          "outputs_hidden": false
        },
        "nteract": {
          "transient": {
            "deleting": false
          }
        },
        "gather": {
          "logged": 1629761530782
        }
      },
      "id": "6d1345f7-78c9-43af-8c92-b9c279a9df02"
    },
    {
      "cell_type": "markdown",
      "source": [
        "## Create an experiment"
      ],
      "metadata": {
        "nteract": {
          "transient": {
            "deleting": false
          }
        }
      },
      "id": "1078cc0e-cb57-49ca-bf18-a55df5c0d98d"
    },
    {
      "cell_type": "code",
      "source": [
        "from azureml.core import Experiment\r\n",
        "\r\n",
        "exp = Experiment(workspace=ws, name='keras-FRCNN-ZSL')"
      ],
      "outputs": [],
      "execution_count": 16,
      "metadata": {
        "collapsed": true,
        "jupyter": {
          "source_hidden": false,
          "outputs_hidden": false
        },
        "nteract": {
          "transient": {
            "deleting": false
          }
        },
        "gather": {
          "logged": 1629761530915
        }
      },
      "id": "82d90ba9-a8bd-40dc-a883-06d72fae9428"
    },
    {
      "cell_type": "markdown",
      "source": [
        "## Create or Attach existing AmlCompute\r\n",
        "You will need to create a [compute target](https://docs.microsoft.com/azure/machine-learning/service/concept-azure-machine-learning-architecture#compute-target) for training your model. Here we wil create `AmlCompute` as your training compute resource.\r\n"
      ],
      "metadata": {
        "nteract": {
          "transient": {
            "deleting": false
          }
        }
      },
      "id": "265a27d6-a93b-4f9a-8921-20bfa694fdec"
    },
    {
      "cell_type": "code",
      "source": [
        "from azureml.core.compute import ComputeTarget, AmlCompute\r\n",
        "from azureml.core.compute_target import ComputeTargetException\r\n",
        "\r\n",
        "# choose a name for your cluster\r\n",
        "cluster_name = \"four-gpu-cluster\"\r\n",
        "\r\n",
        "try:\r\n",
        "    compute_target = ComputeTarget(workspace=ws, name=cluster_name)\r\n",
        "    print('Found existing compute target')\r\n",
        "except ComputeTargetException:\r\n",
        "    print('Creating a new compute target...')\r\n",
        "    compute_config = AmlCompute.provisioning_configuration(vm_size='STANDARD_NC24', \r\n",
        "                                                           max_nodes=4)\r\n",
        "\r\n",
        "    # create the cluster\r\n",
        "    compute_target = ComputeTarget.create(ws, cluster_name, compute_config)\r\n",
        "\r\n",
        "# can poll for a minimum number of nodes and for a specific timeout. \r\n",
        "# if no min node count is provided it uses the scale settings for the cluster\r\n",
        "compute_target.wait_for_completion(show_output=True, min_node_count=None, timeout_in_minutes=20)\r\n",
        "\r\n",
        "# use get_status() to get a detailed status for the current cluster. \r\n",
        "print(compute_target.get_status().serialize())"
      ],
      "outputs": [
        {
          "output_type": "stream",
          "name": "stdout",
          "text": [
            "Found existing compute target\n",
            "Succeeded\n",
            "AmlCompute wait for completion finished\n",
            "\n",
            "Minimum number of nodes requested have been provisioned\n",
            "{'currentNodeCount': 1, 'targetNodeCount': 1, 'nodeStateCounts': {'preparingNodeCount': 0, 'runningNodeCount': 1, 'idleNodeCount': 0, 'unusableNodeCount': 0, 'leavingNodeCount': 0, 'preemptedNodeCount': 0}, 'allocationState': 'Steady', 'allocationStateTransitionTime': '2021-08-23T21:33:35.495000+00:00', 'errors': None, 'creationTime': '2021-08-11T15:46:47.330021+00:00', 'modifiedTime': '2021-08-11T15:47:12.751770+00:00', 'provisioningState': 'Succeeded', 'provisioningStateTransitionTime': None, 'scaleSettings': {'minNodeCount': 0, 'maxNodeCount': 4, 'nodeIdleTimeBeforeScaleDown': 'PT1800S'}, 'vmPriority': 'Dedicated', 'vmSize': 'STANDARD_NC24'}\n"
          ]
        }
      ],
      "execution_count": 17,
      "metadata": {
        "collapsed": true,
        "jupyter": {
          "source_hidden": false,
          "outputs_hidden": false
        },
        "nteract": {
          "transient": {
            "deleting": false
          }
        },
        "gather": {
          "logged": 1629761532554
        }
      },
      "id": "0e762f3c-9e9f-4dc5-9d79-81ad089d1bf6"
    },
    {
      "cell_type": "markdown",
      "source": [
        "## Create an environment\r\n",
        "\r\n",
        "Define a conda environment YAML file with your training script dependencies, which include TensorFlow, Keras and matplotlib, and create an Azure ML environment."
      ],
      "metadata": {
        "nteract": {
          "transient": {
            "deleting": false
          }
        }
      },
      "id": "7c8b4b9b-1c9d-4078-aca6-22e50638f38d"
    },
    {
      "cell_type": "code",
      "source": [
        "%%writefile conda_dependencies.yml\r\n",
        "\r\n",
        "channels:\r\n",
        "- conda-forge\r\n",
        "dependencies:\r\n",
        "- python=3.8.8\r\n",
        "- pip:\r\n",
        "  - azureml-defaults\r\n",
        "  - tensorflow-gpu==2.5\r\n",
        "  - matplotlib\r\n",
        "  - pandas\r\n",
        "  - tqdm\r\n",
        "  - tensorflow_hub\r\n",
        "  - tensorflow_text\r\n",
        "  - tensorflow_addons"
      ],
      "outputs": [
        {
          "output_type": "stream",
          "name": "stdout",
          "text": [
            "Overwriting conda_dependencies.yml\n"
          ]
        }
      ],
      "execution_count": 18,
      "metadata": {
        "collapsed": true,
        "jupyter": {
          "source_hidden": false,
          "outputs_hidden": false
        },
        "nteract": {
          "transient": {
            "deleting": false
          }
        }
      },
      "id": "b2909bab-17f4-4dbb-9ac0-cd98e5059c51"
    },
    {
      "cell_type": "code",
      "source": [
        "from azureml.core import Environment\r\n",
        "\r\n",
        "keras_ZSL_env = Environment.from_conda_specification(name = 'keras-ZSL-env', file_path = './conda_dependencies.yml')\r\n",
        "# load the string from a file.\r\n",
        "keras_ZSL_env.docker.base_image = None\r\n",
        "keras_ZSL_env.docker.base_dockerfile = \"./docker-FRCNN.txt\"\r\n",
        "\r\n",
        "\r\n",
        "keras_FRCNN_env = Environment.from_conda_specification(name = 'keras-FRCNN-env', file_path = './conda_dependencies.yml')\r\n",
        "# load the string from a file.\r\n",
        "keras_FRCNN_env.docker.base_image = None\r\n",
        "keras_FRCNN_env.docker.base_dockerfile = \"./docker-FRCNN.txt\"\r\n"
      ],
      "outputs": [],
      "execution_count": 19,
      "metadata": {
        "collapsed": true,
        "jupyter": {
          "source_hidden": false,
          "outputs_hidden": false
        },
        "nteract": {
          "transient": {
            "deleting": false
          }
        },
        "gather": {
          "logged": 1629761535364
        }
      },
      "id": "c4514c85-4da0-47dd-8714-b529b8f07312"
    },
    {
      "cell_type": "markdown",
      "source": [
        "## Configure the training job\r\n",
        "\r\n",
        "Create a ScriptRunConfig object to specify the configuration details of your training job, including your training script, environment to use, and the compute target to run on.\r\n",
        "\r\n",
        "Note that we are specifying a DatasetConsumptionConfig for our FileDataset as an argument to the training script. Azure ML will resolve this DatasetConsumptionConfig to the mount-point of the backing datastore, which we access from the training script."
      ],
      "metadata": {
        "nteract": {
          "transient": {
            "deleting": false
          }
        }
      },
      "id": "f082ebdb-81c3-49fa-bf01-8a478ef82588"
    },
    {
      "cell_type": "code",
      "source": [
        "from azureml.core import Dataset\r\n",
        "dataset = Dataset.get_by_name(ws, 'xview_tfrecords')\r\n",
        "#dataset = Dataset.get_by_name(ws, 'xview_small_sample')\r\n",
        "\r\n",
        "# list the files referenced by the dataset\r\n",
        "dataset.to_path()\r\n"
      ],
      "outputs": [
        {
          "output_type": "execute_result",
          "execution_count": 26,
          "data": {
            "text/plain": "['/xview_attribute_dict_text.pickle',\n '/xview_class_labels.txt',\n '/xview_test_sample.record',\n '/xview_train_sample.record']"
          },
          "metadata": {}
        }
      ],
      "execution_count": 26,
      "metadata": {
        "collapsed": true,
        "jupyter": {
          "source_hidden": false,
          "outputs_hidden": false
        },
        "nteract": {
          "transient": {
            "deleting": false
          }
        },
        "gather": {
          "logged": 1629764701376
        }
      },
      "id": "b2b0f0b9-490a-471d-afd7-d9e40e3b0f8a"
    },
    {
      "cell_type": "markdown",
      "source": [
        "Train ZSL"
      ],
      "metadata": {
        "nteract": {
          "transient": {
            "deleting": false
          }
        }
      },
      "id": "f90c7013-3f25-4153-a1f1-8924fadb4148"
    },
    {
      "cell_type": "code",
      "source": [
        "from azureml.core import ScriptRunConfig\r\n",
        "\r\n",
        "args = ['--data-folder', dataset.as_named_input('xview_tfrecords').as_mount(),\r\n",
        "        #'--input-weight-path', None,\r\n",
        "        '--num-epochs', 30,\r\n",
        "        '--model-type', 'ZSL']\r\n",
        "\r\n",
        "src = ScriptRunConfig(source_directory='./ZSL',\r\n",
        "                      script='train_ZSL.py',\r\n",
        "                      arguments=args,\r\n",
        "                      compute_target=compute_target,\r\n",
        "                      environment=keras_ZSL_env)\r\n",
        "\r\n",
        "\r\n",
        "run = exp.submit(src)"
      ],
      "outputs": [],
      "execution_count": 29,
      "metadata": {
        "collapsed": true,
        "jupyter": {
          "source_hidden": false,
          "outputs_hidden": false
        },
        "nteract": {
          "transient": {
            "deleting": false
          }
        },
        "gather": {
          "logged": 1629764904372
        }
      },
      "id": "fb90a441-4c85-4aba-a433-872b848a9718"
    },
    {
      "cell_type": "markdown",
      "source": [
        "Train FRCNN"
      ],
      "metadata": {
        "nteract": {
          "transient": {
            "deleting": false
          }
        }
      },
      "id": "13c10791-a19f-4e4b-90b7-c63b82209d92"
    },
    {
      "cell_type": "code",
      "source": [
        "from azureml.core import ScriptRunConfig\r\n",
        "\r\n",
        "args = ['--data-folder', dataset.as_named_input('xview_tfrecords').as_mount(),\r\n",
        "        #'--input-weight-path', 'path',\r\n",
        "        '--num-epochs', 30,\r\n",
        "        '--model-type', 'FRCNN']\r\n",
        "\r\n",
        "src = ScriptRunConfig(source_directory='./ZSL',\r\n",
        "                      script='train_ZSL.py',\r\n",
        "                      arguments=args,\r\n",
        "                      compute_target=compute_target,\r\n",
        "                      environment=keras_FRCNN_env)\r\n",
        "\r\n",
        "\r\n",
        "run = exp.submit(src)"
      ],
      "outputs": [],
      "execution_count": 22,
      "metadata": {
        "collapsed": true,
        "jupyter": {
          "source_hidden": false,
          "outputs_hidden": false
        },
        "nteract": {
          "transient": {
            "deleting": false
          }
        },
        "gather": {
          "logged": 1629666347694
        }
      },
      "id": "bfd09fc2-441d-490d-bb8a-de3a121754b1"
    },
    {
      "cell_type": "code",
      "source": [],
      "outputs": [],
      "execution_count": null,
      "metadata": {
        "collapsed": true,
        "jupyter": {
          "source_hidden": false,
          "outputs_hidden": false
        },
        "nteract": {
          "transient": {
            "deleting": false
          }
        }
      },
      "id": "18d67b49-8566-4511-b406-6142b368ca5f"
    },
    {
      "cell_type": "code",
      "source": [],
      "outputs": [],
      "execution_count": null,
      "metadata": {
        "collapsed": true,
        "jupyter": {
          "source_hidden": false,
          "outputs_hidden": false
        },
        "nteract": {
          "transient": {
            "deleting": false
          }
        }
      },
      "id": "ce1df504-ab25-48ce-ab11-3149ae4347c5"
    }
  ],
  "metadata": {
    "kernel_info": {
      "name": "python38-azureml"
    },
    "kernelspec": {
      "name": "python38-azureml",
      "language": "python",
      "display_name": "Python 3.8 - AzureML"
    },
    "language_info": {
      "name": "python",
      "version": "3.8.1",
      "mimetype": "text/x-python",
      "codemirror_mode": {
        "name": "ipython",
        "version": 3
      },
      "pygments_lexer": "ipython3",
      "nbconvert_exporter": "python",
      "file_extension": ".py"
    },
    "nteract": {
      "version": "nteract-front-end@1.0.0"
    },
    "microsoft": {
      "host": {
        "AzureML": {
          "notebookHasBeenCompleted": true
        }
      }
    }
  },
  "nbformat": 4,
  "nbformat_minor": 5
}