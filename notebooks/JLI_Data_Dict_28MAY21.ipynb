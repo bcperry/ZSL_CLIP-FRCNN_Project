{
 "cells": [
  {
   "cell_type": "markdown",
   "id": "a59c44cd",
   "metadata": {},
   "source": [
    "## Define Classes of Military Vehicles\n",
    "\n",
    "***References:***\n",
    "\n",
    " ***Worldwide Equipment Guide: https://odin.tradoc.army.mil/WEG***\n",
    " \n",
    " ***TC 7-100.4 Hybrid Threat Force Structure Organization Guide (2015)***"
   ]
  },
  {
   "cell_type": "markdown",
   "id": "63811a72",
   "metadata": {},
   "source": [
    "## Create Sub Dictionaries For Military Vehicles"
   ]
  },
  {
   "cell_type": "code",
   "execution_count": 1,
   "id": "f19f4a70",
   "metadata": {},
   "outputs": [],
   "source": [
    "'''\n",
    "Fixed Wing : B52, F16, E3\n",
    "Rotary Wing : UH60, CH47, AH64\n",
    "UAV : Shadow, predator\n",
    "'''\n",
    "\n",
    "aircraft_sub_dict = {'Military Fixed Wing' : ['wings', 'elevators', 'rudder', 'tail', 'cockpit', 'multi engine', 'single engine', 'weapons', 'external fuel tank', 'grey', 'brown', 'green', 'black', 'blue', 'fuselage'],\n",
    "                     'Military Helicopter' : ['main rotor', 'tail rotor', 'rudder', 'tail',  'cockpit', 'weapons', 'external fuel tank', 'grey', 'brown', 'green', 'black', 'skids', 'wheels', 'fuselage'],\n",
    "                     'UAV' : ['trailer', 'small', 'wings', 'tail', 'rudder']}"
   ]
  },
  {
   "cell_type": "code",
   "execution_count": 2,
   "id": "0a9f7dba",
   "metadata": {},
   "outputs": [],
   "source": [
    "'''\n",
    "Short Range Anti-Air : Roland-2 French SHORAD, HQ-7 (FM-80) Chinese SHORAD, CSA-41 (FM-80) Iranian SHORAD\n",
    "Point Defense : LD 2000 (LuDun-2000) Chinese 8x8 Mobile Air Defense Gun Missile System\n",
    "Long Range Missile : HQ-22 Chinese Long-Range Air Defense Missile System, S-300P (SA-10 Grumble) Russian 8x8 Long-Range Surface-to-Air Missile System\n",
    "Radar System : P-40 (Long Track) Russian Mobile 3-D UHF Radar System, 96L6E (Cheese Board) Russian Early-Warning and Acquisition Radar\n",
    "'''\n",
    "\n",
    "ada_sub_dict = {'General Anti-Air' : ['launch tube', 'turret', 'gun', 'missile', 'rectangle', 'cab', 'hood', 'wheels', 'tracks', 'trailer', 'platform', 'green', 'tan', 'radar', 'array', 'antenna'],\n",
    "                'Radar System' : ['wheels', 'cab', 'windows', 'doors', 'radar', 'array', 'antenna', 'square', 'green', 'tan', 'Shipping Container']}"
   ]
  },
  {
   "cell_type": "code",
   "execution_count": 3,
   "id": "f4d81235",
   "metadata": {},
   "outputs": [],
   "source": [
    "'''\n",
    "Towed Cannon : M777, various field howitzers\n",
    "Multiple-Rocket Launchers : BM-21 122mm MLR, and various other MLRS\n",
    "Artillery Command and Reconnaissance : \n",
    "'''\n",
    "\n",
    "artillery_sub_dict = {'Towed Cannon' : ['cannon', 'carriage', 'wheels', 'tan', 'green', 'square'],\n",
    "                      'Multiple-Rocket Launchers' : ['wheels', 'tracks', 'cab', 'launch tube', 'windows', 'doors', 'tan', 'green', 'rectangle']}"
   ]
  },
  {
   "cell_type": "code",
   "execution_count": 4,
   "id": "bdef9613",
   "metadata": {},
   "outputs": [],
   "source": [
    "'''\n",
    "Minelaying systems: GBL-130 Chinese Armored Mine Dispenser, UMZ Russian 6x6 Scatterable Minelaying System\n",
    "Mine-Clearing Systems : IMR-2M CEV, MR-2 CEV \n",
    "Counter Mobility Systems : excavator, scoop loader, backhoe, skid-steer\n",
    "'''\n",
    "\n",
    "engineer_sub_dict = {'Minelaying systems' : ['tracks', 'wheels', 'dispenser', 'canister', 'tan', 'green'],\n",
    "                     'Mine-Clearing Systems' : ['tracks', 'wheels', 'blade', 'rollers', 'crane', 'hydraulic arm', 'tan', 'green'],\n",
    "                     'Gap-Crossing Systems' : ['bridge', 'crane', 'rectangle', 'tracks', 'tan', 'green'],\n",
    "                     'Counter Mobility Systems' : ['Excavator', 'Scraper/Tractor', 'Front Loader', 'Ground Grader', 'Dump Truck', 'hydraulic arm', 'scoop', 'blade', 'frontloader', 'cab', 'doors', 'windshield', 'tan', 'green']}"
   ]
  },
  {
   "cell_type": "code",
   "execution_count": 5,
   "id": "234a3d6a",
   "metadata": {},
   "outputs": [],
   "source": [
    "'''\n",
    "Tank : Abrams, T90\n",
    "Infantry Carrier : Bradley, BMP\n",
    "Support Vehicle : M113, M88, other armored recovery vehicles\n",
    "Self Propelled Artillery : Palidin\n",
    "'''\n",
    "\n",
    "armor_sub_dict = {'Main Battle Tank' : ['tracks', 'turret', 'cannon', 'rectangle', 'tan', 'green', 'hatch'],\n",
    "                  'Infantry Carrier' : ['tracks', 'square', 'tan', 'green', 'hatch'],\n",
    "                  'Support Vehicle' : ['tracks', 'blade', 'tow arm', 'square', 'tan', 'green', 'hatch'],\n",
    "                  'Self Propelled Artillery'  : ['tracks', 'turret', 'cannon', 'square', 'tan', 'green', 'hatch']}"
   ]
  },
  {
   "cell_type": "code",
   "execution_count": 6,
   "id": "cedb5576",
   "metadata": {},
   "outputs": [],
   "source": [
    "'''\n",
    "Infantry Carriers : Stryker, various wheeled APCs\n",
    "Light Tactical Vehicles : HMMWV, JLTV, MAT-V\n",
    "Combat Support Vehicles : M997 Ambulance\n",
    "Mobile Gun Systems : wheeled howitzer, Stryker MGS, various antitank vehicles\n",
    "'''\n",
    "\n",
    "light_sub_dict = {'Infantry Carriers' : ['wheels', 'turret', 'rectangle', 'tan', 'green', 'hatch', 'gun'],\n",
    "                  'Light Tactical Vehicles' : ['wheels', 'turret', 'windows', 'cab', 'doors', 'rectangle', 'hood', 'trunk', 'tan', 'green'],\n",
    "                  'Combat Support Vehicles' : ['wheels', 'windows', 'cab', 'doors', 'rectangle', 'hood', 'trunk', 'tan', 'green'],\n",
    "                  'Mobile Gun Systems' : ['wheels', 'cannon', 'turret', 'rectangle', 'tan', 'green']}"
   ]
  },
  {
   "cell_type": "code",
   "execution_count": 7,
   "id": "941c37f1",
   "metadata": {},
   "outputs": [],
   "source": [
    "'''\n",
    "Supply Vehicle : M977 HEMTT, M1094\n",
    "Recovery Vehicle : Wrecker, various other tow truck type vehicles\n",
    "Tanker : fuel truck, hippo\n",
    "'''\n",
    "\n",
    "logistics_sub_dict = {'Military Supply Vehicle' : ['wheels', 'windows', 'cab', 'doors', 'hood', 'Shipping Container', 'bed', 'trailer', 'tan', 'green'],\n",
    "                      'Military Recovery Vehicle' : ['wheels', 'windows', 'cab', 'doors', 'winch', 'tow arm', 'tan', 'green'],\n",
    "                      'Military Fueler' : ['wheels', 'windows', 'cab', 'doors', 'tank', 'tube', 'hood', 'tan', 'green']}"
   ]
  },
  {
   "cell_type": "code",
   "execution_count": 8,
   "id": "5d5e32d8",
   "metadata": {},
   "outputs": [],
   "source": [
    "other_sub_dict = {'Command and Control Systems' : ['antenna', 'square', 'green', 'tan'],\n",
    "                  'Communications Systems' : ['radar', 'array', 'antenna', 'square', 'green', 'tan'],\n",
    "                  'Electronic Warfare Systems' : ['radar', 'array', 'antenna', 'square', 'green', 'tan']}"
   ]
  },
  {
   "cell_type": "markdown",
   "id": "f978d3e3",
   "metadata": {},
   "source": [
    "## Create Sub Dictionaries For Civilian Vehicles"
   ]
  },
  {
   "cell_type": "code",
   "execution_count": 9,
   "id": "2a593c9b",
   "metadata": {},
   "outputs": [],
   "source": [
    "civ_sub_dict = {'Small Aircraft' : ['wings', 'elevators', 'rudder', 'tail', 'cockpit', 'single engine', 'white', 'red', 'blue', 'silver', 'fuselage'],\n",
    "                'Cargo Plane' : ['wings', 'elevators', 'rudder', 'tail',  'cockpit', 'multi engine', 'white', 'red', 'blue', 'silver', 'fuselage'],\n",
    "                'Helicopter' : ['main rotor', 'tail rotor', 'rudder', 'tail',  'cockpit', 'red', 'white', 'blue', 'fuselage']}"
   ]
  },
  {
   "cell_type": "code",
   "execution_count": 10,
   "id": "6623df85",
   "metadata": {},
   "outputs": [],
   "source": [
    "passenger_sub_dict = {'Small Car' : ['wheels', 'windows', 'cab', 'doors', 'hood', 'trunk', 'white', 'black', 'silver', 'red', 'blue', 'small'],\n",
    "                      'Bus' : ['wheels', 'windows', 'cab', 'doors', 'long', 'rectangle', 'white', 'silver', 'red', 'blue']}"
   ]
  },
  {
   "cell_type": "code",
   "execution_count": 11,
   "id": "57c3d083",
   "metadata": {},
   "outputs": [],
   "source": [
    "truck_sub_dict = {'Pickup Truck' : ['wheels', 'windows', 'cab', 'doors', 'hood', 'bed', 'white', 'black', 'silver', 'red', 'blue'],\n",
    "                  'Utility Truck' : ['wheels', 'windows', 'cab', 'doors', 'hood', 'bed', 'box', 'crane', 'winch', 'white'],\n",
    "                  'Cargo Truck' : ['wheels', 'windows', 'cab', 'doors', 'bed', 'box', 'container', 'tractor', 'trailer', 'long', 'rectangle'],\n",
    "                  'Truck w/Box' : ['wheels', 'windows', 'cab', 'doors', 'bed', 'box'],\n",
    "                  'Truck Tractor Trailer' : ['Shipping Container', 'wheels', 'windows', 'cab', 'doors', 'bed', 'box', 'trailer'],\n",
    "                  'Truck w/Flatbed' : ['wheels', 'windows', 'cab', 'doors', 'bed', 'flat', 'trailer'],\n",
    "                  'Truck w/Liquid' : ['wheels', 'windows', 'cab', 'doors', 'bed', 'tube', 'tank', 'trailer']}"
   ]
  },
  {
   "cell_type": "code",
   "execution_count": 12,
   "id": "10418fa8",
   "metadata": {},
   "outputs": [],
   "source": [
    "rail_sub_dict = {'Passenger Car' : ['wheels', 'rail', 'long', 'windows', 'rectangle'],\n",
    "                 'Cargo Car' : ['wheels', 'rail', 'long', 'box', 'Shipping Container', 'rectangle'],\n",
    "                 'Flat Car' : ['wheels', 'rail', 'long', 'bed', 'flat', 'rectangle'],\n",
    "                 'Tank Car' : ['wheels', 'rail', 'long', 'tube', 'cylinder', 'rectangle'],\n",
    "                 'Locomotive' : ['wheels', 'rail', 'long', 'engine', 'stack', 'rectangle']}"
   ]
  },
  {
   "cell_type": "code",
   "execution_count": 13,
   "id": "2a1dc327",
   "metadata": {},
   "outputs": [],
   "source": [
    "engineering_sub_dict = {'Tower Crane' : ['fixed', 'counter weight', 'crane', 'boom', 'cab', 'narrow', 'long', 'thin'],\n",
    "                        'Container Crane' : ['Shipping Container','fixed', 'counter weight', 'crane', 'boom', 'cab', 'spreader', 'wide', 'long'],\n",
    "                        'Reach Stacker' : ['crane', 'boom', 'cab', 'spreader', 'wheels', 'windows', 'doors', 'red', 'blue', 'white', 'yellow', 'orange'],\n",
    "                        'Straddle Carrier' : ['cab', 'spreader', 'wheels', 'windows', 'doors', 'red', 'blue', 'white', 'yellow', 'orange', 'square', 'flat'],\n",
    "                        'Mobile Crane' : ['wheels', 'tracks', 'windows', 'cab', 'doors', 'boom', 'crane', 'outriggers', 'carrier', 'red', 'blue', 'white', 'yellow', 'orange', 'rectangle'],\n",
    "                        'Dump Truck' : ['wheels', 'windows', 'cab', 'doors', 'haul bed', 'large', 'square', 'rectangle', 'red', 'blue', 'white', 'yellow', 'orange'],\n",
    "                        'Scraper/Tractor' : ['wheels', 'windows', 'cab', 'doors', 'bowl', 'tractor', 'scraper', 'yellow', 'rectangle', 'trailer'],\n",
    "                        'Front Loader' : ['wheels', 'windows', 'cab', 'doors', 'scoop', 'yellow', 'orange', 'green'],\n",
    "                        'Excavator' : ['tracks', 'windows', 'cab', 'doors', 'boom', 'bucket', 'arm', 'square', 'yellow', 'orange', 'red', 'white', 'blade'],\n",
    "                        'Cement Mixer' : ['wheels', 'windows', 'cab', 'doors', 'hood', 'water tank', 'barrel', 'hopper', 'rectangle', 'red', 'blue', 'white', 'yellow', 'orange'],\n",
    "                        'Ground Grader' : ['wheels', 'windows', 'cab', 'doors', 'blade', 'frame', 'yellow', 'red', 'orange', 'rectangle'],\n",
    "                        'Crane Truck' : ['wheels', 'windows', 'cab', 'doors', 'boom', 'crane', 'outriggers', 'carrier', 'red', 'blue', 'white', 'yellow', 'orange', 'rectangle']}"
   ]
  },
  {
   "cell_type": "markdown",
   "id": "61f5c117",
   "metadata": {},
   "source": [
    "## Create Sub Dictionaries For Other Features"
   ]
  },
  {
   "cell_type": "code",
   "execution_count": 14,
   "id": "1a557f5d",
   "metadata": {},
   "outputs": [],
   "source": [
    "building_sub_dict = {'Hut_Tent': [],\n",
    "                     'Shed': [],\n",
    "                     'Aircraft Hangar': [],\n",
    "                     'Damaged Building': [],\n",
    "                     'Facility': []}"
   ]
  },
  {
   "cell_type": "code",
   "execution_count": 15,
   "id": "73210675",
   "metadata": {},
   "outputs": [],
   "source": [
    "maritime_sub_dict = {'Motoboat': ['boat', 'water', 'small', 'wake', 'engine', 'sharp', 'white'],\n",
    "                     'Sailboat': ['boat', 'water', 'small', 'sails', 'sharp', 'white'],\n",
    "                     'Tugboat': ['boat', 'water', 'small', 'wake', 'engine', 'round', 'red', 'yellow', 'orange', 'white', 'blue', 'fender', 'wide', 'bridge', 'stack'],\n",
    "                     'Barge': ['boat', 'water', 'medium', 'rectangle', 'red', 'yellow', 'orange', 'blue', 'grey', 'wide'],\n",
    "                     'Fishing Vessel': ['boat', 'water', 'medium', 'wake', 'engine', 'round', 'red', 'yellow', 'orange', 'white', 'blue', 'green', 'gantry', 'masthead', 'bridge', 'stack'],\n",
    "                     'Ferry': ['boat', 'water', 'medium', 'wake', 'engine', 'round', 'windows', 'yellow', 'orange', 'white', 'bridge', 'stack', 'wide'],\n",
    "                     'Yacht': ['boat', 'water', 'medium', 'wake', 'engine', 'sharp', 'white'],\n",
    "                     'Container Ship': ['boat', 'water', 'large', 'wake', 'engine', 'rectangle', 'white', 'blue', 'red', 'Shipping Container', 'stack', 'bridge'],\n",
    "                     'Oil Tanker': ['boat', 'water', 'large', 'wake', 'engine', 'round', 'white', 'green', 'red', 'flat', 'stack', 'bridge']}"
   ]
  },
  {
   "cell_type": "code",
   "execution_count": 16,
   "id": "334a5938",
   "metadata": {},
   "outputs": [],
   "source": [
    "other_struct_sub_dict = {'Helipad': ['H', 'green', 'red', 'yellow', 'circle', 'flat', 'lights'],\n",
    "                         'Pylon': ['lines', 'grey', 'tall'],\n",
    "                         'Shipping Container': ['rectangle', 'box', 'small', 'red', 'green', 'yellow', 'blue'],\n",
    "                         'Shipping Container Lot': ['Shipping Container', 'flat', 'concrete', 'dirt', 'asphalt', 'lights', 'fence'],\n",
    "                         'Storage Tank': ['round', 'cylinder', 'tube', 'white', 'yellow', 'blue'],\n",
    "                         'Vehicle Lot': ['vehicles', 'wheels', 'tracks', 'lights', 'fence', 'flat', 'concrete', 'asphalt', 'dirt'],\n",
    "                         'Construction Site': [],\n",
    "                         'Tower Structure': []}"
   ]
  },
  {
   "cell_type": "markdown",
   "id": "7790340f",
   "metadata": {},
   "source": [
    "## Create Main Dictionary"
   ]
  },
  {
   "cell_type": "code",
   "execution_count": 17,
   "id": "653cf718",
   "metadata": {},
   "outputs": [],
   "source": [
    "main_dict = {'Military Aircraft' : aircraft_sub_dict,\n",
    "             'Air Defense' : ada_sub_dict,\n",
    "             'Armor' :armor_sub_dict,\n",
    "             'Artillery' : artillery_sub_dict,\n",
    "             'Military Engineer and CBRN' : engineer_sub_dict,\n",
    "             'Light Military Vehicles' : light_sub_dict,\n",
    "             'Military Logistics' : logistics_sub_dict,                 \n",
    "             'Other Military' : other_sub_dict,\n",
    "             'Civilian Aircraft' : civ_sub_dict,\n",
    "             'Civilian Passenger Vehicle' : passenger_sub_dict,\n",
    "             'Civilian Truck' : truck_sub_dict,\n",
    "             'Railway Vehicle' : rail_sub_dict,\n",
    "             'Civilian Engineering' : engineering_sub_dict,\n",
    "             'Buildings' : building_sub_dict,\n",
    "             'Maritime Vessels' : maritime_sub_dict,\n",
    "             'Other Structures' : other_struct_sub_dict}"
   ]
  },
  {
   "cell_type": "markdown",
   "id": "a1eb4901",
   "metadata": {},
   "source": [
    "## Dictionary Analyis"
   ]
  },
  {
   "cell_type": "code",
   "execution_count": 18,
   "id": "98310096",
   "metadata": {},
   "outputs": [],
   "source": [
    "labels = [] # create a list to store possible lables\n",
    "features = [] # create a list to store possible features\n",
    "\n",
    "\n",
    "for sub_dict in main_dict:\n",
    "    for entity in main_dict[sub_dict]:\n",
    "        labels.append(entity)  # extract the lables from the data dictionary\n",
    "        features.extend(main_dict[sub_dict][entity]) # ectract the features from the data dictionary\n",
    "\n",
    "\n",
    "feature_dic = {feature : features.count(feature) for feature in set(features)} # create a dictionary that counts the number of occurances of a given feature"
   ]
  },
  {
   "cell_type": "code",
   "execution_count": 19,
   "id": "4c17e3dd",
   "metadata": {},
   "outputs": [
    {
     "name": "stdout",
     "output_type": "stream",
     "text": [
      "There are 76 possible labels\n",
      "There are 115 possible features to describe the labels\n",
      "They are:\n",
      "\n",
      "1.\tMilitary Fixed Wing\n",
      "2.\tMilitary Helicopter\n",
      "3.\tUAV\n",
      "4.\tGeneral Anti-Air\n",
      "5.\tRadar System\n",
      "6.\tMain Battle Tank\n",
      "7.\tInfantry Carrier\n",
      "8.\tSupport Vehicle\n",
      "9.\tSelf Propelled Artillery\n",
      "10.\tTowed Cannon\n",
      "11.\tMultiple-Rocket Launchers\n",
      "12.\tMinelaying systems\n",
      "13.\tMine-Clearing Systems\n",
      "14.\tGap-Crossing Systems\n",
      "15.\tCounter Mobility Systems\n",
      "16.\tInfantry Carriers\n",
      "17.\tLight Tactical Vehicles\n",
      "18.\tCombat Support Vehicles\n",
      "19.\tMobile Gun Systems\n",
      "20.\tMilitary Supply Vehicle\n",
      "21.\tMilitary Recovery Vehicle\n",
      "22.\tMilitary Fueler\n",
      "23.\tCommand and Control Systems\n",
      "24.\tCommunications Systems\n",
      "25.\tElectronic Warfare Systems\n",
      "26.\tSmall Aircraft\n",
      "27.\tCargo Plane\n",
      "28.\tHelicopter\n",
      "29.\tSmall Car\n",
      "30.\tBus\n",
      "31.\tPickup Truck\n",
      "32.\tUtility Truck\n",
      "33.\tCargo Truck\n",
      "34.\tTruck w/Box\n",
      "35.\tTruck Tractor Trailer\n",
      "36.\tTruck w/Flatbed\n",
      "37.\tTruck w/Liquid\n",
      "38.\tPassenger Car\n",
      "39.\tCargo Car\n",
      "40.\tFlat Car\n",
      "41.\tTank Car\n",
      "42.\tLocomotive\n",
      "43.\tTower Crane\n",
      "44.\tContainer Crane\n",
      "45.\tReach Stacker\n",
      "46.\tStraddle Carrier\n",
      "47.\tMobile Crane\n",
      "48.\tDump Truck\n",
      "49.\tScraper/Tractor\n",
      "50.\tFront Loader\n",
      "51.\tExcavator\n",
      "52.\tCement Mixer\n",
      "53.\tGround Grader\n",
      "54.\tCrane Truck\n",
      "55.\tHut_Tent\n",
      "56.\tShed\n",
      "57.\tAircraft Hangar\n",
      "58.\tDamaged Building\n",
      "59.\tFacility\n",
      "60.\tMotoboat\n",
      "61.\tSailboat\n",
      "62.\tTugboat\n",
      "63.\tBarge\n",
      "64.\tFishing Vessel\n",
      "65.\tFerry\n",
      "66.\tYacht\n",
      "67.\tContainer Ship\n",
      "68.\tOil Tanker\n",
      "69.\tHelipad\n",
      "70.\tPylon\n",
      "71.\tShipping Container\n",
      "72.\tShipping Container Lot\n",
      "73.\tStorage Tank\n",
      "74.\tVehicle Lot\n",
      "75.\tConstruction Site\n",
      "76.\tTower Structure\n"
     ]
    }
   ],
   "source": [
    "print('There are ' + str(len(labels)) + ' possible labels')\n",
    "print('There are ' + str(len(feature_dic)) + ' possible features to describe the labels')\n",
    "print('They are:\\n')\n",
    "\n",
    "number = 1\n",
    "for label in labels:\n",
    "    print(str(number) + '.\\t' + label)\n",
    "    number +=1"
   ]
  },
  {
   "cell_type": "code",
   "execution_count": 20,
   "id": "0e41fa18",
   "metadata": {},
   "outputs": [],
   "source": [
    "import pandas as pd\n",
    "\n",
    "features_df = pd.DataFrame(list(feature_dic.items()))\n",
    "\n",
    "features_df.rename(columns = {0:'Feature', 1 : 'Count'}, inplace = True)\n",
    "\n",
    "features_df = features_df.sort_values(by='Count', ascending=False)\n",
    "\n",
    "features_df['Frequency'] = features_df['Count']/len(labels)"
   ]
  },
  {
   "cell_type": "code",
   "execution_count": 21,
   "id": "6e08142f",
   "metadata": {},
   "outputs": [
    {
     "name": "stdout",
     "output_type": "stream",
     "text": [
      "                Feature  Count  Frequency\n",
      "48               wheels     38   0.500000\n",
      "97                  cab     30   0.394737\n",
      "37                green     29   0.381579\n",
      "92              windows     28   0.368421\n",
      "98                doors     27   0.355263\n",
      "80            rectangle     24   0.315789\n",
      "105               white     23   0.302632\n",
      "0                   tan     22   0.289474\n",
      "85                  red     21   0.276316\n",
      "54                 blue     19   0.250000\n",
      "95               yellow     17   0.223684\n",
      "31               orange     13   0.171053\n",
      "41               tracks     12   0.157895\n",
      "12               square     11   0.144737\n",
      "18                 boat      9   0.118421\n",
      "64                 hood      9   0.118421\n",
      "99                 long      9   0.118421\n",
      "34                  bed      9   0.118421\n",
      "89                water      9   0.118421\n",
      "62                crane      8   0.105263\n",
      "93              trailer      8   0.105263\n",
      "38               engine      8   0.105263\n",
      "24   Shipping Container      7   0.092105\n",
      "76                 flat      7   0.092105\n",
      "60                 wake      7   0.092105\n",
      "56                  box      6   0.078947\n",
      "66                 tail      6   0.078947\n",
      "83                 boom      6   0.078947\n",
      "27               turret      6   0.078947\n",
      "58               bridge      6   0.078947\n",
      "52               rudder      6   0.078947\n",
      "68                small      6   0.078947\n",
      "44                stack      6   0.078947\n",
      "8                 blade      5   0.065789\n",
      "9                 round      5   0.065789\n",
      "73              cockpit      5   0.065789\n",
      "20                hatch      5   0.065789\n",
      "4                  rail      5   0.065789\n",
      "112             antenna      5   0.065789\n",
      "21             fuselage      5   0.065789\n",
      "82               silver      5   0.065789\n",
      "10                 tube      4   0.052632\n",
      "113              medium      4   0.052632\n",
      "22                black      4   0.052632\n",
      "111                grey      4   0.052632\n",
      "3                cannon      4   0.052632\n",
      "43                wings      4   0.052632\n",
      "77                array      4   0.052632\n",
      "100               radar      4   0.052632\n",
      "94                 wide      4   0.052632\n",
      "78               lights      3   0.039474\n",
      "28                trunk      3   0.039474\n",
      "55            elevators      3   0.039474\n",
      "1              spreader      3   0.039474\n",
      "65                large      3   0.039474\n",
      "104               sharp      3   0.039474\n",
      "69       counter weight      2   0.026316\n",
      "70           outriggers      2   0.026316\n",
      "74           main rotor      2   0.026316\n",
      "67          launch tube      2   0.026316\n",
      "84             concrete      2   0.026316\n",
      "2                   gun      2   0.026316\n",
      "81         multi engine      2   0.026316\n",
      "19                fence      2   0.026316\n",
      "61             cylinder      2   0.026316\n",
      "102             weapons      2   0.026316\n",
      "107       single engine      2   0.026316\n",
      "110             asphalt      2   0.026316\n",
      "32                 dirt      2   0.026316\n",
      "33              tractor      2   0.026316\n",
      "15                fixed      2   0.026316\n",
      "6            tail rotor      2   0.026316\n",
      "96              carrier      2   0.026316\n",
      "13        hydraulic arm      2   0.026316\n",
      "88              tow arm      2   0.026316\n",
      "45   external fuel tank      2   0.026316\n",
      "11                scoop      2   0.026316\n",
      "50                brown      2   0.026316\n",
      "51                winch      2   0.026316\n",
      "7                  tank      2   0.026316\n",
      "101       Ground Grader      1   0.013158\n",
      "103     Scraper/Tractor      1   0.013158\n",
      "90               hopper      1   0.013158\n",
      "106          Dump Truck      1   0.013158\n",
      "108              bucket      1   0.013158\n",
      "109            masthead      1   0.013158\n",
      "91              rollers      1   0.013158\n",
      "57                    H      1   0.013158\n",
      "87                 bowl      1   0.013158\n",
      "39               gantry      1   0.013158\n",
      "5             container      1   0.013158\n",
      "14         Front Loader      1   0.013158\n",
      "16                sails      1   0.013158\n",
      "17               circle      1   0.013158\n",
      "23           water tank      1   0.013158\n",
      "25               barrel      1   0.013158\n",
      "26                 tall      1   0.013158\n",
      "29            dispenser      1   0.013158\n",
      "30                  arm      1   0.013158\n",
      "35              missile      1   0.013158\n",
      "36             carriage      1   0.013158\n",
      "40             haul bed      1   0.013158\n",
      "86            Excavator      1   0.013158\n",
      "42                skids      1   0.013158\n",
      "46          frontloader      1   0.013158\n",
      "47               fender      1   0.013158\n",
      "49               narrow      1   0.013158\n",
      "53                frame      1   0.013158\n",
      "59                 thin      1   0.013158\n",
      "63             canister      1   0.013158\n",
      "71             platform      1   0.013158\n",
      "72                lines      1   0.013158\n",
      "75           windshield      1   0.013158\n",
      "79              scraper      1   0.013158\n",
      "114            vehicles      1   0.013158\n"
     ]
    }
   ],
   "source": [
    "pd.set_option('display.max_rows', None)\n",
    "\n",
    "print(features_df)"
   ]
  },
  {
   "cell_type": "code",
   "execution_count": 22,
   "id": "d4abb264",
   "metadata": {},
   "outputs": [],
   "source": [
    "# consider making colors bright vs subdued instead of listing individual colors?"
   ]
  }
 ],
 "metadata": {
  "kernelspec": {
   "display_name": "Python 3",
   "language": "python",
   "name": "python3"
  },
  "language_info": {
   "codemirror_mode": {
    "name": "ipython",
    "version": 3
   },
   "file_extension": ".py",
   "mimetype": "text/x-python",
   "name": "python",
   "nbconvert_exporter": "python",
   "pygments_lexer": "ipython3",
   "version": "3.8.8"
  }
 },
 "nbformat": 4,
 "nbformat_minor": 5
}
