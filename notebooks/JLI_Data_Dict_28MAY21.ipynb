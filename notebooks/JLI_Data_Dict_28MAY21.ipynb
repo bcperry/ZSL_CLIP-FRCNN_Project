{
 "cells": [
  {
   "cell_type": "markdown",
   "id": "a59c44cd",
   "metadata": {},
   "source": [
    "## Define Classes of Military Vehicles\n",
    "\n",
    "***References:***\n",
    "\n",
    " ***Worldwide Equipment Guide: https://odin.tradoc.army.mil/WEG***\n",
    " \n",
    " ***TC 7-100.4 Hybrid Threat Force Structure Organization Guide (2015)***"
   ]
  },
  {
   "cell_type": "markdown",
   "id": "63811a72",
   "metadata": {},
   "source": [
    "## Create Sub Dictionaries For Military Vehicles"
   ]
  },
  {
   "cell_type": "code",
   "execution_count": 1,
   "id": "f19f4a70",
   "metadata": {},
   "outputs": [],
   "source": [
    "'''\n",
    "Fixed Wing : B52, F16, E3\n",
    "Rotary Wing : UH60, CH47, AH64\n",
    "UAV : Shadow, predator\n",
    "'''\n",
    "\n",
    "aircraft_sub_dict = {'Fixed Wing' : ['wings', 'engines', 'tail', 'underslung'],\n",
    "                     'Rotary Wing' : ['main rotor', 'tail rotor'],\n",
    "                     'UAV' : ['no-cockpit', 'launcher', 'small']}"
   ]
  },
  {
   "cell_type": "code",
   "execution_count": 2,
   "id": "0a9f7dba",
   "metadata": {},
   "outputs": [],
   "source": [
    "'''\n",
    "Short Range Anti-Air : Roland-2 French SHORAD, HQ-7 (FM-80) Chinese SHORAD, CSA-41 (FM-80) Iranian SHORAD\n",
    "Point Defense : LD 2000 (LuDun-2000) Chinese 8x8 Mobile Air Defense Gun Missile System\n",
    "Long Range Missile : HQ-22 Chinese Long-Range Air Defense Missile System, S-300P (SA-10 Grumble) Russian 8x8 Long-Range Surface-to-Air Missile System\n",
    "Radar System : P-40 (Long Track) Russian Mobile 3-D UHF Radar System, 96L6E (Cheese Board) Russian Early-Warning and Acquisition Radar\n",
    "'''\n",
    "\n",
    "ada_sub_dict = {'Short Range Anti-Air' : ['tubes', 'turret'],\n",
    "                'Point Defense' : ['gun', 'trailer', 'wheels', 'cab', 'windows', 'doors'],\n",
    "                'Long Range Missile' : ['trailer', 'tube', 'missile', 'wheels', 'cab', 'windows', 'doors'],\n",
    "                'Radar System' : ['wheels', 'cab', 'windows', 'doors', 'array', 'square']}"
   ]
  },
  {
   "cell_type": "code",
   "execution_count": 3,
   "id": "f4d81235",
   "metadata": {},
   "outputs": [],
   "source": [
    "'''\n",
    "Towed Cannon : M777, various field howitzers\n",
    "Multiple-Rocket Launchers : BM-21 122mm MLR, and various other MLRS\n",
    "Artillery Command and Reconnaissance : \n",
    "'''\n",
    "\n",
    "artillery_sub_dict = {'Towed Cannon' : ['cannon', 'carriage', 'wheels'],\n",
    "                      'Multiple-Rocket Launchers' : ['cab', 'launch_tube', 'windows', 'doors', 'no_turret'],\n",
    "                      'Artillery Command and Reconnaissance' : []}"
   ]
  },
  {
   "cell_type": "code",
   "execution_count": 4,
   "id": "bdef9613",
   "metadata": {},
   "outputs": [],
   "source": [
    "'''\n",
    "Minelaying systems: GBL-130 Chinese Armored Mine Dispenser, UMZ Russian 6x6 Scatterable Minelaying System\n",
    "Mine-Clearing Systems : IMR-2M CEV, MR-2 CEV \n",
    "Counter Mobility Systems : excavator, scoop loader, backhoe, skid-steer\n",
    "CBRN Systems : Slovakian Decontamination/Smoke Generator Vehicle TZ-74, TMS-65 Russian 6x6 Decontamination Vehicle\n",
    "'''\n",
    "\n",
    "engineer_sub_dict = {'Minelaying systems' : ['dispenser' , 'canister'],\n",
    "                     'Mine-Clearing Systems' : ['blade', 'rollers', 'crane'],\n",
    "                     'Gap-Crossing Systems' : ['bridge', 'crane', 'square', 'tube', 'crane'],\n",
    "                     'Counter Mobility Systems' : ['hydraulic_arm', 'scoop', 'blade', 'front_loader', 'cab', 'doors', 'windshield'],\n",
    "                     'CBRN Systems' : ['wheels', 'cab', 'tube', 'windows', 'doors', 'no_turret']}"
   ]
  },
  {
   "cell_type": "code",
   "execution_count": 5,
   "id": "234a3d6a",
   "metadata": {},
   "outputs": [],
   "source": [
    "'''\n",
    "Tank : Abrams, T90\n",
    "Infantry Carrier : Bradley, BMP\n",
    "Support Vehicle : M113, M88, other armored recovery vehicles\n",
    "Self Propelled Artillery : Palidin\n",
    "'''\n",
    "\n",
    "armor_sub_dict = {'Tank' : ['tracks', 'turret', 'cannon' , ],\n",
    "                  'Infantry Carrier' : ['tracks', 'no_cannon', ],\n",
    "                  'Support Vehicle' : ['tracks', 'blade', 'tow hook', 'no_turret'],\n",
    "                  'Self Propelled Artillery'  : ['tracks', 'turret', 'cannon']}"
   ]
  },
  {
   "cell_type": "code",
   "execution_count": 6,
   "id": "cedb5576",
   "metadata": {},
   "outputs": [],
   "source": [
    "'''\n",
    "Infantry Carriers : Stryker, various wheeled APCs\n",
    "Light Tactical Vehicles : HMMWV, JLTV, MAT-V\n",
    "Combat Support Vehicles : M997 Ambulance\n",
    "Mobile Gun Systems : wheeled howitzer, Stryker MGS, various antitank vehicles\n",
    "'''\n",
    "\n",
    "light_sub_dict = {'Infantry Carriers' : ['wheels', 'turret'],\n",
    "                  'Light Tactical Vehicles' : ['wheels', 'turret', 'windows', 'cab', 'doors'],\n",
    "                  'Combat Support Vehicles' : ['wheels', 'windows', 'cab', 'doors', 'box'],\n",
    "                  'Mobile Gun Systems' : ['wheels', 'cannon', 'turret']}"
   ]
  },
  {
   "cell_type": "code",
   "execution_count": 7,
   "id": "941c37f1",
   "metadata": {},
   "outputs": [],
   "source": [
    "'''\n",
    "Supply Vehicle : M977 HEMTT, M1094\n",
    "Recovery Vehicle : Wrecker, various other tow truck type vehicles\n",
    "Tanker : fuel truck, hippo\n",
    "'''\n",
    "\n",
    "logistics_sub_dict = {'Supply Vehicle' : ['wheels', 'windows', 'cab', 'doors', 'box', 'bed', 'trailer'],\n",
    "                      'Recovery Vehicle' : ['wheels', 'windows', 'cab', 'doors', 'winch', 'tow_bar'],\n",
    "                      'Tanker' : ['wheels', 'windows', 'cab', 'doors', 'tube']}"
   ]
  },
  {
   "cell_type": "code",
   "execution_count": 8,
   "id": "5d5e32d8",
   "metadata": {},
   "outputs": [],
   "source": [
    "\n",
    "\n",
    "other_sub_dict = {'Command and Control Systems' : [],\n",
    "                  'Communications Systems' : [],\n",
    "                  'Electronic Warfare Systems' : []}"
   ]
  },
  {
   "cell_type": "markdown",
   "id": "f1fc5844",
   "metadata": {},
   "source": [
    "## Create Main Dictionary for Military Vehicles"
   ]
  },
  {
   "cell_type": "code",
   "execution_count": 9,
   "id": "f1ae8bad",
   "metadata": {},
   "outputs": [],
   "source": [
    "mil_vehicle_dict = {'Aircraft' : aircraft_sub_dict,\n",
    "                    'Air Defense' : ada_sub_dict,\n",
    "                    'Armor' :armor_sub_dict,\n",
    "                    'Artillery' : artillery_sub_dict,\n",
    "                    'Engineer and CBRN' : engineer_sub_dict,\n",
    "                    'Light Vehicles' : light_sub_dict,\n",
    "                    'Logistics' : logistics_sub_dict,                 \n",
    "                    'Other' : other_sub_dict}"
   ]
  },
  {
   "cell_type": "code",
   "execution_count": 10,
   "id": "ec9b273c",
   "metadata": {},
   "outputs": [
    {
     "data": {
      "text/plain": [
       "{'Aircraft': {'Fixed Wing': ['wings', 'engines', 'tail', 'underslung'],\n",
       "  'Rotary Wing': ['main rotor', 'tail rotor'],\n",
       "  'UAV': ['no-cockpit', 'launcher', 'small']},\n",
       " 'Air Defense': {'Short Range Anti-Air': ['tubes', 'turret'],\n",
       "  'Point Defense': ['gun', 'trailer', 'wheels', 'cab', 'windows', 'doors'],\n",
       "  'Long Range Missile': ['trailer',\n",
       "   'tube',\n",
       "   'missile',\n",
       "   'wheels',\n",
       "   'cab',\n",
       "   'windows',\n",
       "   'doors'],\n",
       "  'Radar System': ['wheels', 'cab', 'windows', 'doors', 'array', 'square']},\n",
       " 'Armor': {'Tank': ['tracks', 'turret', 'cannon'],\n",
       "  'Infantry Carrier': ['tracks', 'no_cannon'],\n",
       "  'Support Vehicle': ['tracks', 'blade', 'tow hook', 'no_turret'],\n",
       "  'Self Propelled Artillery': ['tracks', 'turret', 'cannon']},\n",
       " 'Artillery': {'Towed Cannon': ['cannon', 'carriage', 'wheels'],\n",
       "  'Multiple-Rocket Launchers': ['cab',\n",
       "   'launch_tube',\n",
       "   'windows',\n",
       "   'doors',\n",
       "   'no_turret'],\n",
       "  'Artillery Command and Reconnaissance': []},\n",
       " 'Engineer and CBRN': {'Minelaying systems': ['dispenser', 'canister'],\n",
       "  'Mine-Clearing Systems': ['blade', 'rollers', 'crane'],\n",
       "  'Gap-Crossing Systems': ['bridge', 'crane', 'square', 'tube', 'crane'],\n",
       "  'Counter Mobility Systems': ['hydraulic_arm',\n",
       "   'scoop',\n",
       "   'blade',\n",
       "   'front_loader',\n",
       "   'cab',\n",
       "   'doors',\n",
       "   'windshield'],\n",
       "  'CBRN Systems': ['wheels', 'cab', 'tube', 'windows', 'doors', 'no_turret']},\n",
       " 'Light Vehicles': {'Infantry Carriers': ['wheels', 'turret'],\n",
       "  'Light Tactical Vehicles': ['wheels', 'turret', 'windows', 'cab', 'doors'],\n",
       "  'Combat Support Vehicles': ['wheels', 'windows', 'cab', 'doors', 'box'],\n",
       "  'Mobile Gun Systems': ['wheels', 'cannon', 'turret']},\n",
       " 'Logistics': {'Supply Vehicle': ['wheels',\n",
       "   'windows',\n",
       "   'cab',\n",
       "   'doors',\n",
       "   'box',\n",
       "   'bed',\n",
       "   'trailer'],\n",
       "  'Recovery Vehicle': ['wheels',\n",
       "   'windows',\n",
       "   'cab',\n",
       "   'doors',\n",
       "   'winch',\n",
       "   'tow_bar'],\n",
       "  'Tanker': ['wheels', 'windows', 'cab', 'doors', 'tube']},\n",
       " 'Other': {'Command and Control Systems': [],\n",
       "  'Communications Systems': [],\n",
       "  'Electronic Warfare Systems': []}}"
      ]
     },
     "execution_count": 10,
     "metadata": {},
     "output_type": "execute_result"
    }
   ],
   "source": [
    "mil_vehicle_dict"
   ]
  },
  {
   "cell_type": "markdown",
   "id": "f978d3e3",
   "metadata": {},
   "source": [
    "## Create Sub Dictionaries For Civilian Vehicles"
   ]
  },
  {
   "cell_type": "code",
   "execution_count": 11,
   "id": "2a593c9b",
   "metadata": {},
   "outputs": [],
   "source": [
    "fwa_sub_dict = {'Small Aircraft' : ['wings', 'tail', 'cockpit', 'single_engine'],\n",
    "                'Cargo Plane' : ['wings', 'tail', 'cockpit', 'multi_engine']}"
   ]
  },
  {
   "cell_type": "code",
   "execution_count": 12,
   "id": "6623df85",
   "metadata": {},
   "outputs": [],
   "source": [
    "passenger_sub_dict = {'Small Car' : ['wheels', 'windows', 'cab', 'doors'],\n",
    "                      'Bus' : ['wheels', 'windows', 'cab', 'doors', 'long_tube']}"
   ]
  },
  {
   "cell_type": "code",
   "execution_count": 13,
   "id": "57c3d083",
   "metadata": {},
   "outputs": [],
   "source": [
    "truck_sub_dict = {'Pickup Truck' : ['wheels', 'windows', 'cab', 'doors', 'bed'],\n",
    "                  'Utility Truck' : ['wheels', 'windows', 'cab', 'doors', 'bed', 'box', 'crane', 'winch'],\n",
    "                  'Cargo Truck' : ['wheels', 'windows', 'cab', 'doors', 'bed', 'box', 'container'],\n",
    "                  'Truck w/Box' : ['wheels', 'windows', 'cab', 'doors', 'bed', 'box'],\n",
    "                  'Truck Tractor Trailer' : ['wheels', 'windows', 'cab', 'doors', 'bed', 'box', 'trailer'],\n",
    "                  'Truck w/Flatbed' : ['wheels', 'windows', 'cab', 'doors', 'bed', 'flat'],\n",
    "                  'Truck w/Liquid' : ['wheels', 'windows', 'cab', 'doors', 'bed', 'tube']}"
   ]
  },
  {
   "cell_type": "code",
   "execution_count": 14,
   "id": "10418fa8",
   "metadata": {},
   "outputs": [],
   "source": [
    "rail_sub_dict = {'Passenger Car' : ['tracks', 'rail', 'long', 'windows'],\n",
    "                 'Cargo Car' : ['tracks', 'rail', 'long', 'box', 'container'],\n",
    "                 'Flat Car' : ['tracks', 'rail', 'long', 'bed', 'flat'],\n",
    "                 'Tank Car' : ['tracks', 'rail', 'long', 'tube', 'cylinder'],\n",
    "                 'Locomotive' : ['tracks', 'rail', 'long', 'engine', 'exhaust']}"
   ]
  },
  {
   "cell_type": "code",
   "execution_count": 15,
   "id": "2a1dc327",
   "metadata": {},
   "outputs": [],
   "source": [
    "engineering_sub_dict = {'Tower Crane' : ['fixed', 'long_arm', 'counter_weight', 'crane'],\n",
    "                        'Container Crane' : [],\n",
    "                        'Reach Stacker' : [],\n",
    "                        'Straddle Carrier' : [],\n",
    "                        'Mobile Crane' : ['wheels', 'windows', 'cab', 'doors', 'arm', 'crane'],\n",
    "                        'Dump Truck' : ['wheels', 'windows', 'cab', 'doors', 'bed'],\n",
    "                        'Haul Truck' : ['wheels', 'windows', 'cab', 'doors', 'bed'],\n",
    "                        'Scraper/Tractor' : ['wheels', 'windows', 'cab', 'doors', 'bed', 'tractor', 'trailer'],\n",
    "                        'Front Loader' : ['wheels', 'windows', 'cab', 'doors', 'scoop'],\n",
    "                        'Excavator' : ['track', 'windows', 'cab', 'doors', 'arm', 'scoop'],\n",
    "                        'Cement Mixer' : ['wheels', 'windows', 'cab', 'doors', 'tube', 'cylinder', 'boom'],\n",
    "                        'Ground Grader' : ['wheels', 'windows', 'cab', 'doors', 'blade'],\n",
    "                        'Crane Truck' : ['wheels', 'windows', 'cab', 'doors', 'arm', 'crane']}"
   ]
  },
  {
   "cell_type": "code",
   "execution_count": 16,
   "id": "c66b2c60",
   "metadata": {},
   "outputs": [],
   "source": [
    "other_sub_dict = {'Helicopter' : ['main rotor', 'tail rotor']}"
   ]
  },
  {
   "cell_type": "markdown",
   "id": "dcc96a01",
   "metadata": {},
   "source": [
    "## Create Main Dictionary for Civilian Vehicles"
   ]
  },
  {
   "cell_type": "code",
   "execution_count": 17,
   "id": "ebdb67ef",
   "metadata": {},
   "outputs": [],
   "source": [
    "civ_vehicle_dict = {'Fixed-Wing Aircraft' : fwa_sub_dict,\n",
    "                    'Passenger Vehicle' : passenger_sub_dict,\n",
    "                    'Truck' : truck_sub_dict,\n",
    "                    'Railway Vehicle' : rail_sub_dict,\n",
    "                    'Engineering' : engineering_sub_dict}"
   ]
  },
  {
   "cell_type": "code",
   "execution_count": 18,
   "id": "e987fe4b",
   "metadata": {},
   "outputs": [
    {
     "data": {
      "text/plain": [
       "{'Fixed-Wing Aircraft': {'Small Aircraft': ['wings',\n",
       "   'tail',\n",
       "   'cockpit',\n",
       "   'single_engine'],\n",
       "  'Cargo Plane': ['wings', 'tail', 'cockpit', 'multi_engine']},\n",
       " 'Passenger Vehicle': {'Small Car': ['wheels', 'windows', 'cab', 'doors'],\n",
       "  'Bus': ['wheels', 'windows', 'cab', 'doors', 'long_tube']},\n",
       " 'Truck': {'Pickup Truck': ['wheels', 'windows', 'cab', 'doors', 'bed'],\n",
       "  'Utility Truck': ['wheels',\n",
       "   'windows',\n",
       "   'cab',\n",
       "   'doors',\n",
       "   'bed',\n",
       "   'box',\n",
       "   'crane',\n",
       "   'winch'],\n",
       "  'Cargo Truck': ['wheels',\n",
       "   'windows',\n",
       "   'cab',\n",
       "   'doors',\n",
       "   'bed',\n",
       "   'box',\n",
       "   'container'],\n",
       "  'Truck w/Box': ['wheels', 'windows', 'cab', 'doors', 'bed', 'box'],\n",
       "  'Truck Tractor Trailer': ['wheels',\n",
       "   'windows',\n",
       "   'cab',\n",
       "   'doors',\n",
       "   'bed',\n",
       "   'box',\n",
       "   'trailer'],\n",
       "  'Truck w/Flatbed': ['wheels', 'windows', 'cab', 'doors', 'bed', 'flat'],\n",
       "  'Truck w/Liquid': ['wheels', 'windows', 'cab', 'doors', 'bed', 'tube']},\n",
       " 'Railway Vehicle': {'Passenger Car': ['tracks', 'rail', 'long', 'windows'],\n",
       "  'Cargo Car': ['tracks', 'rail', 'long', 'box', 'container'],\n",
       "  'Flat Car': ['tracks', 'rail', 'long', 'bed', 'flat'],\n",
       "  'Tank Car': ['tracks', 'rail', 'long', 'tube', 'cylinder'],\n",
       "  'Locomotive': ['tracks', 'rail', 'long', 'engine', 'exhaust']},\n",
       " 'Engineering': {'Tower Crane': ['fixed',\n",
       "   'long_arm',\n",
       "   'counter_weight',\n",
       "   'crane'],\n",
       "  'Container Crane': [],\n",
       "  'Reach Stacker': [],\n",
       "  'Straddle Carrier': [],\n",
       "  'Mobile Crane': ['wheels', 'windows', 'cab', 'doors', 'arm', 'crane'],\n",
       "  'Dump Truck': ['wheels', 'windows', 'cab', 'doors', 'bed'],\n",
       "  'Haul Truck': ['wheels', 'windows', 'cab', 'doors', 'bed'],\n",
       "  'Scraper/Tractor': ['wheels',\n",
       "   'windows',\n",
       "   'cab',\n",
       "   'doors',\n",
       "   'bed',\n",
       "   'tractor',\n",
       "   'trailer'],\n",
       "  'Front Loader': ['wheels', 'windows', 'cab', 'doors', 'scoop'],\n",
       "  'Excavator': ['track', 'windows', 'cab', 'doors', 'arm', 'scoop'],\n",
       "  'Cement Mixer': ['wheels',\n",
       "   'windows',\n",
       "   'cab',\n",
       "   'doors',\n",
       "   'tube',\n",
       "   'cylinder',\n",
       "   'boom'],\n",
       "  'Ground Grader': ['wheels', 'windows', 'cab', 'doors', 'blade'],\n",
       "  'Crane Truck': ['wheels', 'windows', 'cab', 'doors', 'arm', 'crane']}}"
      ]
     },
     "execution_count": 18,
     "metadata": {},
     "output_type": "execute_result"
    }
   ],
   "source": [
    "civ_vehicle_dict"
   ]
  },
  {
   "cell_type": "markdown",
   "id": "7790340f",
   "metadata": {},
   "source": [
    "## Create Final Dictionary"
   ]
  },
  {
   "cell_type": "code",
   "execution_count": 19,
   "id": "653cf718",
   "metadata": {},
   "outputs": [],
   "source": [
    "Vehicle_Dict = {'Civilian' : civ_vehicle_dict,\n",
    "                'Military' : mil_vehicle_dict}"
   ]
  },
  {
   "cell_type": "code",
   "execution_count": 20,
   "id": "14c57bf2",
   "metadata": {},
   "outputs": [
    {
     "data": {
      "text/plain": [
       "{'Civilian': {'Fixed-Wing Aircraft': {'Small Aircraft': ['wings',\n",
       "    'tail',\n",
       "    'cockpit',\n",
       "    'single_engine'],\n",
       "   'Cargo Plane': ['wings', 'tail', 'cockpit', 'multi_engine']},\n",
       "  'Passenger Vehicle': {'Small Car': ['wheels', 'windows', 'cab', 'doors'],\n",
       "   'Bus': ['wheels', 'windows', 'cab', 'doors', 'long_tube']},\n",
       "  'Truck': {'Pickup Truck': ['wheels', 'windows', 'cab', 'doors', 'bed'],\n",
       "   'Utility Truck': ['wheels',\n",
       "    'windows',\n",
       "    'cab',\n",
       "    'doors',\n",
       "    'bed',\n",
       "    'box',\n",
       "    'crane',\n",
       "    'winch'],\n",
       "   'Cargo Truck': ['wheels',\n",
       "    'windows',\n",
       "    'cab',\n",
       "    'doors',\n",
       "    'bed',\n",
       "    'box',\n",
       "    'container'],\n",
       "   'Truck w/Box': ['wheels', 'windows', 'cab', 'doors', 'bed', 'box'],\n",
       "   'Truck Tractor Trailer': ['wheels',\n",
       "    'windows',\n",
       "    'cab',\n",
       "    'doors',\n",
       "    'bed',\n",
       "    'box',\n",
       "    'trailer'],\n",
       "   'Truck w/Flatbed': ['wheels', 'windows', 'cab', 'doors', 'bed', 'flat'],\n",
       "   'Truck w/Liquid': ['wheels', 'windows', 'cab', 'doors', 'bed', 'tube']},\n",
       "  'Railway Vehicle': {'Passenger Car': ['tracks', 'rail', 'long', 'windows'],\n",
       "   'Cargo Car': ['tracks', 'rail', 'long', 'box', 'container'],\n",
       "   'Flat Car': ['tracks', 'rail', 'long', 'bed', 'flat'],\n",
       "   'Tank Car': ['tracks', 'rail', 'long', 'tube', 'cylinder'],\n",
       "   'Locomotive': ['tracks', 'rail', 'long', 'engine', 'exhaust']},\n",
       "  'Engineering': {'Tower Crane': ['fixed',\n",
       "    'long_arm',\n",
       "    'counter_weight',\n",
       "    'crane'],\n",
       "   'Container Crane': [],\n",
       "   'Reach Stacker': [],\n",
       "   'Straddle Carrier': [],\n",
       "   'Mobile Crane': ['wheels', 'windows', 'cab', 'doors', 'arm', 'crane'],\n",
       "   'Dump Truck': ['wheels', 'windows', 'cab', 'doors', 'bed'],\n",
       "   'Haul Truck': ['wheels', 'windows', 'cab', 'doors', 'bed'],\n",
       "   'Scraper/Tractor': ['wheels',\n",
       "    'windows',\n",
       "    'cab',\n",
       "    'doors',\n",
       "    'bed',\n",
       "    'tractor',\n",
       "    'trailer'],\n",
       "   'Front Loader': ['wheels', 'windows', 'cab', 'doors', 'scoop'],\n",
       "   'Excavator': ['track', 'windows', 'cab', 'doors', 'arm', 'scoop'],\n",
       "   'Cement Mixer': ['wheels',\n",
       "    'windows',\n",
       "    'cab',\n",
       "    'doors',\n",
       "    'tube',\n",
       "    'cylinder',\n",
       "    'boom'],\n",
       "   'Ground Grader': ['wheels', 'windows', 'cab', 'doors', 'blade'],\n",
       "   'Crane Truck': ['wheels', 'windows', 'cab', 'doors', 'arm', 'crane']}},\n",
       " 'Military': {'Aircraft': {'Fixed Wing': ['wings',\n",
       "    'engines',\n",
       "    'tail',\n",
       "    'underslung'],\n",
       "   'Rotary Wing': ['main rotor', 'tail rotor'],\n",
       "   'UAV': ['no-cockpit', 'launcher', 'small']},\n",
       "  'Air Defense': {'Short Range Anti-Air': ['tubes', 'turret'],\n",
       "   'Point Defense': ['gun', 'trailer', 'wheels', 'cab', 'windows', 'doors'],\n",
       "   'Long Range Missile': ['trailer',\n",
       "    'tube',\n",
       "    'missile',\n",
       "    'wheels',\n",
       "    'cab',\n",
       "    'windows',\n",
       "    'doors'],\n",
       "   'Radar System': ['wheels', 'cab', 'windows', 'doors', 'array', 'square']},\n",
       "  'Armor': {'Tank': ['tracks', 'turret', 'cannon'],\n",
       "   'Infantry Carrier': ['tracks', 'no_cannon'],\n",
       "   'Support Vehicle': ['tracks', 'blade', 'tow hook', 'no_turret'],\n",
       "   'Self Propelled Artillery': ['tracks', 'turret', 'cannon']},\n",
       "  'Artillery': {'Towed Cannon': ['cannon', 'carriage', 'wheels'],\n",
       "   'Multiple-Rocket Launchers': ['cab',\n",
       "    'launch_tube',\n",
       "    'windows',\n",
       "    'doors',\n",
       "    'no_turret'],\n",
       "   'Artillery Command and Reconnaissance': []},\n",
       "  'Engineer and CBRN': {'Minelaying systems': ['dispenser', 'canister'],\n",
       "   'Mine-Clearing Systems': ['blade', 'rollers', 'crane'],\n",
       "   'Gap-Crossing Systems': ['bridge', 'crane', 'square', 'tube', 'crane'],\n",
       "   'Counter Mobility Systems': ['hydraulic_arm',\n",
       "    'scoop',\n",
       "    'blade',\n",
       "    'front_loader',\n",
       "    'cab',\n",
       "    'doors',\n",
       "    'windshield'],\n",
       "   'CBRN Systems': ['wheels', 'cab', 'tube', 'windows', 'doors', 'no_turret']},\n",
       "  'Light Vehicles': {'Infantry Carriers': ['wheels', 'turret'],\n",
       "   'Light Tactical Vehicles': ['wheels', 'turret', 'windows', 'cab', 'doors'],\n",
       "   'Combat Support Vehicles': ['wheels', 'windows', 'cab', 'doors', 'box'],\n",
       "   'Mobile Gun Systems': ['wheels', 'cannon', 'turret']},\n",
       "  'Logistics': {'Supply Vehicle': ['wheels',\n",
       "    'windows',\n",
       "    'cab',\n",
       "    'doors',\n",
       "    'box',\n",
       "    'bed',\n",
       "    'trailer'],\n",
       "   'Recovery Vehicle': ['wheels',\n",
       "    'windows',\n",
       "    'cab',\n",
       "    'doors',\n",
       "    'winch',\n",
       "    'tow_bar'],\n",
       "   'Tanker': ['wheels', 'windows', 'cab', 'doors', 'tube']},\n",
       "  'Other': {'Command and Control Systems': [],\n",
       "   'Communications Systems': [],\n",
       "   'Electronic Warfare Systems': []}}}"
      ]
     },
     "execution_count": 20,
     "metadata": {},
     "output_type": "execute_result"
    }
   ],
   "source": [
    "Vehicle_Dict"
   ]
  }
 ],
 "metadata": {
  "kernelspec": {
   "display_name": "Python 3",
   "language": "python",
   "name": "python3"
  },
  "language_info": {
   "codemirror_mode": {
    "name": "ipython",
    "version": 3
   },
   "file_extension": ".py",
   "mimetype": "text/x-python",
   "name": "python",
   "nbconvert_exporter": "python",
   "pygments_lexer": "ipython3",
   "version": "3.8.8"
  }
 },
 "nbformat": 4,
 "nbformat_minor": 5
}
