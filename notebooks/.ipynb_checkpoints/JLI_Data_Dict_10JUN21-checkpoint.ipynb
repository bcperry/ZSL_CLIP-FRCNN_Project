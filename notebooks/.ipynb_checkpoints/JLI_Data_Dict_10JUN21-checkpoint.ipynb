{
 "cells": [
  {
   "cell_type": "markdown",
   "id": "07bdffc4",
   "metadata": {},
   "source": [
    "## 1. Import the given Xview Labels\n",
    "***Ref: https://github.com/DIUx-xView/data_utilities/blob/master/xview_class_labels.txt***"
   ]
  },
  {
   "cell_type": "code",
   "execution_count": 1,
   "id": "9fb115c4",
   "metadata": {},
   "outputs": [],
   "source": [
    "# Ensure label.txt file is downloaded into the working directory \n",
    "file_name = 'xview_class_labels.txt'"
   ]
  },
  {
   "cell_type": "code",
   "execution_count": 2,
   "id": "0bb5899a",
   "metadata": {},
   "outputs": [],
   "source": [
    "# Create the Xview Data dictionary for comparison\n",
    "xview_label_dict = {}\n",
    "\n",
    "with open('xview_class_labels.txt') as file:\n",
    "    for line in file:\n",
    "        line = line.rstrip('\\n')\n",
    "        (key, value) = line.split(':')\n",
    "        xview_label_dict[int(key)] = value"
   ]
  },
  {
   "cell_type": "code",
   "execution_count": 3,
   "id": "a8d64354",
   "metadata": {},
   "outputs": [
    {
     "name": "stdout",
     "output_type": "stream",
     "text": [
      "11: 'Fixed-wing Aircraft',\n",
      "12: 'Small Aircraft',\n",
      "13: 'Passenger/Cargo Plane',\n",
      "15: 'Helicopter',\n",
      "17: 'Passenger Vehicle',\n",
      "18: 'Small Car',\n",
      "19: 'Bus',\n",
      "20: 'Pickup Truck',\n",
      "21: 'Utility Truck',\n",
      "23: 'Truck',\n",
      "24: 'Cargo Truck',\n",
      "25: 'Truck Tractor w/ Box Trailer',\n",
      "26: 'Truck Tractor',\n",
      "27: 'Trailer',\n",
      "28: 'Truck Tractor w/ Flatbed Trailer',\n",
      "29: 'Truck Tractor w/ Liquid Tank',\n",
      "32: 'Crane Truck',\n",
      "33: 'Railway Vehicle',\n",
      "34: 'Passenger Car',\n",
      "35: 'Cargo/Container Car',\n",
      "36: 'Flat Car',\n",
      "37: 'Tank car',\n",
      "38: 'Locomotive',\n",
      "40: 'Maritime Vessel',\n",
      "41: 'Motorboat',\n",
      "42: 'Sailboat',\n",
      "44: 'Tugboat',\n",
      "45: 'Barge',\n",
      "47: 'Fishing Vessel',\n",
      "49: 'Ferry',\n",
      "50: 'Yacht',\n",
      "51: 'Container Ship',\n",
      "52: 'Oil Tanker',\n",
      "53: 'Engineering Vehicle',\n",
      "54: 'Tower crane',\n",
      "55: 'Container Crane',\n",
      "56: 'Reach Stacker',\n",
      "57: 'Straddle Carrier',\n",
      "59: 'Mobile Crane',\n",
      "60: 'Dump Truck',\n",
      "61: 'Haul Truck',\n",
      "62: 'Scraper/Tractor',\n",
      "63: 'Front loader/Bulldozer',\n",
      "64: 'Excavator',\n",
      "65: 'Cement Mixer',\n",
      "66: 'Ground Grader',\n",
      "71: 'Hut/Tent',\n",
      "72: 'Shed',\n",
      "73: 'Building',\n",
      "74: 'Aircraft Hangar',\n",
      "76: 'Damaged Building',\n",
      "77: 'Facility',\n",
      "79: 'Construction Site',\n",
      "83: 'Vehicle Lot',\n",
      "84: 'Helipad',\n",
      "86: 'Storage Tank',\n",
      "89: 'Shipping container lot',\n",
      "91: 'Shipping Container',\n",
      "93: 'Pylon',\n",
      "94: 'Tower',}\n"
     ]
    }
   ],
   "source": [
    "# print each dictionary item\n",
    "print(\"\" + \"\\n\".join(\"{!r}: {!r},\".format(k, v) for k, v in xview_label_dict.items()) + \"}\")"
   ]
  },
  {
   "cell_type": "markdown",
   "id": "89853921",
   "metadata": {},
   "source": [
    "## 2. Generate Labels with Text Embedding for the Xview Data"
   ]
  },
  {
   "cell_type": "code",
   "execution_count": 4,
   "id": "54b95ea1",
   "metadata": {},
   "outputs": [],
   "source": [
    "# create a function to find the intersection of 2 lists\n",
    "# Reference: https://www.geeksforgeeks.org/python-intersection-two-lists/\n",
    "def intersection(lst1, lst2):\n",
    "    lst3 = [value for value in lst1 if value in lst2]\n",
    "    return lst3\n",
    "\n",
    "def parent_labels(label_dict, target, omit_list = []):\n",
    "    '''\n",
    "    parent_labels takes a data dictionary with labels as keys and a list of features and returns a list containing all\n",
    "    common features between the keys excluding the target and any key on the omit list.\n",
    "    \n",
    "    INPUTS:\n",
    "    label_dict: the dictionary containing all labels and features in the sub class\n",
    "    target: a string containing the target label\n",
    "    omit_list: a list of keys to exclude from the feature selection\n",
    "    \n",
    "    OUTPUT:\n",
    "    feature_list: a list conainting all common features in the data dicitonary excluding the target and the omit_list\n",
    "    '''\n",
    "    # create the exclude list\n",
    "    exclude_list = [target]\n",
    "    exclude_list.extend(omit_list)\n",
    "    \n",
    "    # create a list of keys in the label dictionary\n",
    "    key_list = []\n",
    "    for key in label_dict.keys():\n",
    "        key_list.append(key)\n",
    "        \n",
    "    # remove keys on the exclude list\n",
    "    for label in exclude_list:\n",
    "        key_list.remove(label)\n",
    "    \n",
    "    # polulate the feature list\n",
    "    feature_list = []\n",
    "    if len(key_list) == 1:\n",
    "        feature_list = label_dict[key_list[0]]\n",
    "    elif len(key_list) == 2:\n",
    "        feature_list = intersection(label_dict[key_list[0]], label_dict[key_list[1]])\n",
    "    else:\n",
    "        i = 0\n",
    "        while i < (len(key_list) - 1):\n",
    "            if i == 0:\n",
    "                feature_list = intersection(label_dict[key_list[i]], label_dict[key_list[i+1]])\n",
    "                i += 1\n",
    "            else:\n",
    "                feature_list = intersection(label_dict[key_list[i]], feature_list)\n",
    "                i += 1\n",
    "    \n",
    "    # return the final feature list\n",
    "    return feature_list"
   ]
  },
  {
   "cell_type": "code",
   "execution_count": 5,
   "id": "79b09f2e",
   "metadata": {},
   "outputs": [],
   "source": [
    "# Create the dictionary of aircraft labels\n",
    "civ_aircraft_sub_dict = {'Fixed-wing Aircraft' : [],\n",
    "                         'Small Aircraft' : ['Fixed-wing Aircraft', 'wings', 'elevators', 'rudder', 'tail', 'cockpit', 'single engine', 'white', 'red', 'blue', 'silver', 'fuselage'],\n",
    "                         'Passenger/Cargo Plane' : ['Fixed-wing Aircraft', 'wings', 'elevators', 'rudder', 'tail',  'cockpit', 'multi engine', 'white', 'red', 'blue', 'silver', 'fuselage'],\n",
    "                         'Helicopter' : ['main rotor', 'tail rotor', 'rudder', 'tail',  'cockpit', 'red', 'white', 'blue', 'fuselage']}\n",
    "\n",
    "# Create the parent label (common attributes between sub labels)\n",
    "omit_list = ['Helicopter']\n",
    "civ_aircraft_sub_dict['Fixed-wing Aircraft'] = parent_labels(civ_aircraft_sub_dict, 'Fixed-wing Aircraft', omit_list)"
   ]
  },
  {
   "cell_type": "code",
   "execution_count": 6,
   "id": "6623df85",
   "metadata": {},
   "outputs": [],
   "source": [
    "# Create the dictionary of passenger vehicle labels\n",
    "passenger_sub_dict = {'Passenger Vehicle' : [],\n",
    "                      'Small Car' : ['1:3 ratio', 'Passenger Vehicle', 'wheels', 'windows', 'single cab', 'full cab', '2 axles', 'doors', 'hood', 'trunk', 'white', 'black', 'silver', 'red', 'blue', 'small'],\n",
    "                      'Bus' : ['1:3 ratio', 'Passenger Vehicle', 'wheels', 'windows', 'single cab', 'full cab', 'doors', '3 axles', 'long', 'rectangle', 'white', 'silver', 'red', 'blue']}\n",
    "\n",
    "# Create the parent lable (common attributes between sub labels)\n",
    "passenger_sub_dict['Passenger Vehicle'] = parent_labels(passenger_sub_dict, 'Passenger Vehicle')"
   ]
  },
  {
   "cell_type": "code",
   "execution_count": 7,
   "id": "57c3d083",
   "metadata": {},
   "outputs": [],
   "source": [
    "# Create the dictionary of truck labels\n",
    "truck_sub_dict = {'Pickup Truck' : ['1:3 ratio', 'Truck', 'wheels', 'windows', 'single cab', 'full cab', '2 axles', 'doors', 'hood', 'bed', 'white', 'black', 'silver', 'red', 'blue'],\n",
    "                  'Utility Truck' : ['1:3 ratio', 'Truck', 'wheels', 'windows', 'single cab', 'full cab', '2 axles', 'doors', 'hood', 'bed', 'box', 'crane', 'winch', 'white'],\n",
    "                  'Truck' : [],\n",
    "                  'Cargo Truck' : ['Truck', 'wheels', 'windows', 'single cab', 'full cab', '2 axles', 'doors', 'bed', 'box', 'Shipping Container', 'tractor', 'trailer', 'long', 'rectangle'],\n",
    "                  'Truck Tractor w/ Box Trailer' : ['Truck', 'wheels', 'windows', 'single cab', 'full cab', '5 axles', 'doors', 'bed', 'box', 'trailer', 'Shipping Container'],\n",
    "                  'Truck Tractor' : ['Truck', 'Shipping Container', 'wheels', 'windows', 'single cab', 'full cab', '3 axles', 'doors'],\n",
    "                  'Trailer' : ['Shipping Container', 'wheels', 'bed', 'box', 'trailer', 'flat', '2 axles'],\n",
    "                  'Truck Tractor w/ Flatbed Trailer' : ['Truck', 'wheels', 'windows', 'single cab', 'full cab', '5 axles', 'doors', 'bed', 'flat', 'trailer'],\n",
    "                  'Truck Tractor w/ Liquid Tank' : ['Truck', 'wheels', 'windows', 'single cab', 'full cab', '5 axles', 'doors', 'bed', 'tube', 'tank', 'trailer'],\n",
    "                  'Crane Truck' : ['Truck', 'wheels', 'windows', 'single cab', 'full cab', '3 axles', 'doors', 'boom', 'crane', 'outriggers', 'carrier', 'red', 'blue', 'white', 'yellow', 'orange', 'rectangle']}\n",
    "\n",
    "# Create the parent label (common attributes between sub labels)\n",
    "omit_list = ['Trailer']\n",
    "truck_sub_dict['Truck'] = parent_labels(truck_sub_dict, 'Truck', omit_list)"
   ]
  },
  {
   "cell_type": "code",
   "execution_count": 8,
   "id": "10418fa8",
   "metadata": {},
   "outputs": [],
   "source": [
    "# Create the dictionary of truck labels\n",
    "rail_sub_dict = {'Railway Vehicle' : [],\n",
    "                 'Passenger Car' : ['Railway Vehicle', 'wheelset', 'rail', 'long', 'windows', 'rectangle'],\n",
    "                 'Cargo/Container Car' : ['Railway Vehicle', 'wheelset', 'rail', 'long', 'box', 'Shipping Container', 'rectangle'],\n",
    "                 'Flat Car' : ['Railway Vehicle', 'wheelset', 'rail', 'long', 'bed', 'flat', 'rectangle'],\n",
    "                 'Tank car' : ['Railway Vehicle', 'wheelset', 'rail', 'long', 'tube', 'cylinder', 'rectangle'],\n",
    "                 'Locomotive' : ['Railway Vehicle', 'wheelset', 'rail', 'long', 'engine', 'stack', 'rectangle']}\n",
    "\n",
    "# Create the parent label (common attributes between sub labels)\n",
    "rail_sub_dict['Railway Vehicle'] = parent_labels(rail_sub_dict, 'Railway Vehicle')"
   ]
  },
  {
   "cell_type": "code",
   "execution_count": 9,
   "id": "73210675",
   "metadata": {},
   "outputs": [],
   "source": [
    "maritime_sub_dict = {'Maritime Vessel' : [],\n",
    "                     'Motorboat': ['Maritime Vessel', 'water', 'small', 'wake', 'engine', 'sharp', 'white'],\n",
    "                     'Sailboat': ['Maritime Vessel', 'water', 'small', 'sails', 'sharp', 'white'],\n",
    "                     'Tugboat': ['Maritime Vessel', 'water', 'small', 'wake', 'engine', 'round', 'red', 'yellow', 'orange', 'white', 'blue', 'fender', 'wide', 'bridge', 'stack'],\n",
    "                     'Barge': ['Maritime Vessel', 'water', 'medium', 'rectangle', 'red', 'yellow', 'orange', 'blue', 'grey', 'wide'],\n",
    "                     'Fishing Vessel': ['Maritime Vessel', 'water', 'medium', 'wake', 'engine', 'round', 'red', 'yellow', 'orange', 'white', 'blue', 'green', 'gantry', 'masthead', 'bridge', 'stack'],\n",
    "                     'Ferry': ['Maritime Vessel', 'water', 'medium', 'wake', 'engine', 'round', 'windows', 'yellow', 'orange', 'white', 'bridge', 'stack', 'wide'],\n",
    "                     'Yacht': ['Maritime Vessel', 'water', 'medium', 'wake', 'engine', 'sharp', 'white'],\n",
    "                     'Container Ship': ['Maritime Vessel', 'water', 'large', 'wake', 'engine', 'rectangle', 'white', 'blue', 'red', 'Shipping Container', 'stack', 'bridge'],\n",
    "                     'Oil Tanker': ['Maritime Vessel', 'water', 'large', 'wake', 'engine', 'round', 'white', 'green', 'red', 'flat', 'stack', 'bridge']}\n",
    "\n",
    "# Create the parent label (common attributes between sub labels)\n",
    "maritime_sub_dict['Maritime Vessel'] = parent_labels(maritime_sub_dict, 'Maritime Vessel')"
   ]
  },
  {
   "cell_type": "code",
   "execution_count": 10,
   "id": "2a1dc327",
   "metadata": {},
   "outputs": [],
   "source": [
    "engineering_sub_dict = {'Engineering Vehicle' : [],\n",
    "                        'Tower crane' : ['Engineering Vehicle', 'fixed', 'counter weight', 'crane', 'boom', 'single cab', 'half cab', 'narrow', 'long', 'thin'],\n",
    "                        'Container Crane' : ['Engineering Vehicle', 'Shipping Container','fixed', 'counter weight', 'crane', 'boom', 'half cab', 'spreader', 'wide', 'long', '2 axles'],\n",
    "                        'Reach Stacker' : ['Engineering Vehicle', 'crane', 'boom', 'single cab', 'half cab', '2 axles', 'spreader', 'wheels', 'windows', 'doors', 'red', 'blue', 'white', 'yellow', 'orange'],\n",
    "                        'Straddle Carrier' : ['Engineering Vehicle', 'single cab', 'half cab', 'spreader', 'wheels', 'windows', 'doors', 'red', 'blue', 'white', 'yellow', 'orange', 'square', 'flat'],\n",
    "                        'Mobile Crane' : ['Engineering Vehicle', 'wheels', 'tracks', 'windows', 'multi cab', 'half cab', 'full cab', 'doors', 'boom', 'crane', 'outriggers', 'carrier', 'red', 'blue', 'white', 'yellow', 'orange', 'rectangle'],\n",
    "                        'Dump Truck' : ['Engineering Vehicle', 'wheels', 'windows', 'full cab', 'single cab', '3 axles', 'doors', 'haul bed', 'large', 'square', 'rectangle', 'red', 'blue', 'white', 'yellow', 'orange'],\n",
    "                        'Haul Truck' : ['Engineering Vehicle', 'wheels', 'windows', 'full cab', 'single cab', '3 axles', 'doors', 'haul bed', 'large', 'square', 'rectangle', 'red', 'blue', 'white', 'yellow', 'orange'],\n",
    "                        'Scraper/Tractor' : ['Engineering Vehicle', 'wheels', 'windows', 'half cab', 'single cab', '2 axles', 'doors', 'bowl', 'tractor', 'scraper', 'yellow', 'rectangle', 'trailer'],\n",
    "                        'Front loader/Bulldozer' : ['Engineering Vehicle', 'wheels', 'windows', 'full cab', 'single cab', 'blade', 'tracks', '2 axles', 'doors', 'scoop', 'yellow', 'orange', 'green'],\n",
    "                        'Excavator' : ['Engineering Vehicle', 'tracks', 'windows', 'half cab', 'single cab', 'doors', 'boom', 'bucket', 'arm', 'square', 'yellow', 'orange', 'red', 'white', 'blade'],\n",
    "                        'Cement Mixer' : ['Engineering Vehicle', 'wheels', 'windows', 'full cab', 'single cab', '3 axles', 'doors', 'hood', 'water tank', 'barrel', 'hopper', 'rectangle', 'red', 'blue', 'white', 'yellow', 'orange'],\n",
    "                        'Ground Grader' : ['Engineering Vehicle', 'wheels', 'windows', 'full cab', 'single cab', '3 axles', 'doors', 'blade', 'frame', 'yellow', 'red', 'orange', 'rectangle']}\n",
    "\n",
    "# Create the parent lable (common attributes between sub labels)\n",
    "engineering_sub_dict['Engineering Vehicle'] = parent_labels(engineering_sub_dict, 'Engineering Vehicle')"
   ]
  },
  {
   "cell_type": "code",
   "execution_count": 11,
   "id": "1a557f5d",
   "metadata": {},
   "outputs": [],
   "source": [
    "building_sub_dict = {'Hut/Tent' : ['Building', 'canvas', 'curved', 'small'],\n",
    "                     'Shed' : ['Building', 'walls', 'small', 'roof', 'flat', 'corners', 'straight'],\n",
    "                     'Building' : ['Building', 'medium', 'roof', 'flat', 'corners', 'straight', 'walls'],\n",
    "                     'Aircraft Hangar' : ['Building', 'walls', 'curved', 'white', 'grey'],\n",
    "                     'Damaged Building' : ['Building', 'walls', 'debris', 'damage'],\n",
    "                     'Facility' : ['Building', 'walls', 'roof', 'flat', 'corners', 'straight']}"
   ]
  },
  {
   "cell_type": "code",
   "execution_count": 12,
   "id": "334a5938",
   "metadata": {},
   "outputs": [],
   "source": [
    "other_struct_sub_dict = {'Construction Site': ['walls', 'engineering Vehicle', 'dirt', 'debris', 'fence'],\n",
    "                         'Vehicle Lot'  : ['Passenger Vehicle', 'truck', 'wheels', 'tracks', 'lights', 'fence', 'flat', 'concrete', 'asphalt', 'dirt'],\n",
    "                         'Helipad' : ['H', 'green', 'red', 'yellow', 'circle', 'flat', 'lights'],\n",
    "                         'Storage Tank' : ['round', 'cylinder', 'tube', 'white', 'yellow', 'blue'],\n",
    "                         'Shipping container lot' : ['Shipping Container', 'flat', 'concrete', 'dirt', 'asphalt', 'lights', 'fence', 'truck'],\n",
    "                         'Shipping Container' : ['rectangle', 'box', 'small', 'red', 'green', 'yellow', 'blue'],\n",
    "                         'Pylon' : ['lines', 'grey', 'tall'],\n",
    "                         'Tower' : ['tall', 'narrow', 'stack']}"
   ]
  },
  {
   "cell_type": "code",
   "execution_count": 13,
   "id": "8f2eb51d",
   "metadata": {},
   "outputs": [],
   "source": [
    "# Changed dictionary format for ease of tokenizing\n",
    "'''\n",
    "xview_embed_dict = {'Civilian Aircraft' : civ_aircraft_sub_dict,\n",
    "                    'Civilian Passenger Vehicle' : passenger_sub_dict,\n",
    "                    'Civilian Truck' : truck_sub_dict,\n",
    "                    'Railway Vehicle' : rail_sub_dict,\n",
    "                    'Maritime Vessels' : maritime_sub_dict,\n",
    "                    'Civilian Engineering' : engineering_sub_dict,\n",
    "                    'Buildings' : building_sub_dict,\n",
    "                    'Other Structures' : other_struct_sub_dict}\n",
    "'''\n",
    "\n",
    "xview_embed_dict = {**civ_aircraft_sub_dict,\n",
    "                    **passenger_sub_dict,\n",
    "                    **truck_sub_dict,\n",
    "                    **rail_sub_dict,\n",
    "                    **maritime_sub_dict,\n",
    "                    **engineering_sub_dict,\n",
    "                    **building_sub_dict,\n",
    "                    **other_struct_sub_dict}"
   ]
  },
  {
   "cell_type": "markdown",
   "id": "fe1c1567",
   "metadata": {},
   "source": [
    "## 3. Ensure the given Xview Labels and the Generated Embedding Dictionary Match"
   ]
  },
  {
   "cell_type": "code",
   "execution_count": 14,
   "id": "c95c4ee1",
   "metadata": {},
   "outputs": [],
   "source": [
    "# Extract the labels from the Xview Embedding Dictionary\n",
    "xview_labels = [] # create a list to store possible lables\n",
    "\n",
    "for key in xview_embed_dict.keys():\n",
    "    xview_labels.append(key)"
   ]
  },
  {
   "cell_type": "code",
   "execution_count": 15,
   "id": "0d7bf37b",
   "metadata": {},
   "outputs": [
    {
     "name": "stdout",
     "output_type": "stream",
     "text": [
      "The Embedded Dictionary and Label Dictionary are the same size.\n"
     ]
    }
   ],
   "source": [
    "# Ensure the Embedded dictionary is the same length as the Xview Labels\n",
    "\n",
    "if len(xview_label_dict) == len(xview_embed_dict):\n",
    "    print('The Embedded Dictionary and Label Dictionary are the same size.')\n",
    "else:\n",
    "    print('ERROR: The Embedded Dictionary and Label Dictionary are NOT the same size.')"
   ]
  },
  {
   "cell_type": "code",
   "execution_count": 16,
   "id": "0321c83e",
   "metadata": {},
   "outputs": [],
   "source": [
    "# Ensure the Labels in Embedded dictionary match the given Xview Labels\n",
    "\n",
    "i = 0\n",
    "\n",
    "for key in xview_label_dict.keys():\n",
    "    label_value = xview_label_dict[key]\n",
    "    if label_value == xview_labels[i]:\n",
    "        i += 1\n",
    "    else:\n",
    "        print(label_value + ' has no match in the embedded dictionary')\n",
    "        print('Embedded dictionary returns : ' + xview_labels[i] + '\\n')\n",
    "        i += 1"
   ]
  },
  {
   "cell_type": "markdown",
   "id": "8d6ad943",
   "metadata": {},
   "source": [
    "## 4. Generate Labels with Text Embedding for Military Vehicles\n",
    "\n",
    "***References:***\n",
    "\n",
    " ***Worldwide Equipment Guide: https://odin.tradoc.army.mil/WEG***\n",
    " \n",
    " ***TC 7-100.4 Hybrid Threat Force Structure Organization Guide (2015)***"
   ]
  },
  {
   "cell_type": "code",
   "execution_count": 17,
   "id": "f19f4a70",
   "metadata": {},
   "outputs": [],
   "source": [
    "'''\n",
    "Fixed Wing : B52, F16, E3\n",
    "Rotary Wing : UH60, CH47, AH64\n",
    "UAV : Shadow, predator\n",
    "'''\n",
    "\n",
    "aircraft_sub_dict = {'Military Fixed-wing' : ['wings', 'elevators', 'rudder', 'tail', 'cockpit', 'multi engine', 'single engine', 'weapons', 'external fuel tank', 'grey', 'brown', 'green', 'black', 'blue', 'fuselage'],\n",
    "                     'Military Helicopter' : ['main rotor', 'tail rotor', 'rudder', 'tail',  'cockpit', 'weapons', 'external fuel tank', 'grey', 'brown', 'green', 'black', 'skids', 'wheels', 'fuselage'],\n",
    "                     'UAV' : ['trailer', 'small', 'wings', 'tail', 'rudder']}"
   ]
  },
  {
   "cell_type": "code",
   "execution_count": 18,
   "id": "0a9f7dba",
   "metadata": {},
   "outputs": [],
   "source": [
    "'''\n",
    "Short Range Anti-Air : Roland-2 French SHORAD, HQ-7 (FM-80) Chinese SHORAD, CSA-41 (FM-80) Iranian SHORAD\n",
    "Point Defense : LD 2000 (LuDun-2000) Chinese 8x8 Mobile Air Defense Gun Missile System\n",
    "Long Range Missile : HQ-22 Chinese Long-Range Air Defense Missile System, S-300P (SA-10 Grumble) Russian 8x8 Long-Range Surface-to-Air Missile System\n",
    "Radar System : P-40 (Long Track) Russian Mobile 3-D UHF Radar System, 96L6E (Cheese Board) Russian Early-Warning and Acquisition Radar\n",
    "'''\n",
    "\n",
    "ada_sub_dict = {'General Anti-Air' : ['launch tube', 'turret', 'gun', 'missile', 'rectangle', 'cab', 'hood', 'wheels', 'tracks', 'trailer', 'platform', 'green', 'tan', 'radar', 'array', 'antenna'],\n",
    "                'Radar System' : ['wheels', 'cab', 'windows', 'doors', 'radar', 'array', 'antenna', 'square', 'green', 'tan', 'Shipping Container']}"
   ]
  },
  {
   "cell_type": "code",
   "execution_count": 19,
   "id": "f4d81235",
   "metadata": {},
   "outputs": [],
   "source": [
    "'''\n",
    "Towed Cannon : M777, various field howitzers\n",
    "Multiple-Rocket Launchers : BM-21 122mm MLR, and various other MLRS\n",
    "Artillery Command and Reconnaissance : \n",
    "'''\n",
    "\n",
    "artillery_sub_dict = {'Towed Cannon' : ['cannon', 'carriage', 'wheels', 'tan', 'green', 'square'],\n",
    "                      'Multiple-Rocket Launchers' : ['wheels', 'tracks', 'cab', 'launch tube', 'windows', 'doors', 'tan', 'green', 'rectangle']}"
   ]
  },
  {
   "cell_type": "code",
   "execution_count": 20,
   "id": "bdef9613",
   "metadata": {},
   "outputs": [],
   "source": [
    "'''\n",
    "Minelaying systems: GBL-130 Chinese Armored Mine Dispenser, UMZ Russian 6x6 Scatterable Minelaying System\n",
    "Mine-Clearing Systems : IMR-2M CEV, MR-2 CEV \n",
    "Counter Mobility Systems : excavator, scoop loader, backhoe, skid-steer\n",
    "'''\n",
    "\n",
    "engineer_sub_dict = {'Minelaying systems' : ['tracks', 'wheels', 'dispenser', 'canister', 'tan', 'green'],\n",
    "                     'Mine-Clearing Systems' : ['tracks', 'wheels', 'blade', 'rollers', 'crane', 'hydraulic arm', 'tan', 'green'],\n",
    "                     'Gap-Crossing Systems' : ['bridge', 'crane', 'rectangle', 'tracks', 'tan', 'green'],\n",
    "                     'Counter Mobility Systems' : ['Excavator', 'Scraper/Tractor', 'Front Loader', 'Ground Grader', 'Dump Truck', 'hydraulic arm', 'scoop', 'blade', 'frontloader', 'cab', 'doors', 'windshield', 'tan', 'green']}"
   ]
  },
  {
   "cell_type": "code",
   "execution_count": 21,
   "id": "234a3d6a",
   "metadata": {},
   "outputs": [],
   "source": [
    "'''\n",
    "Tank : Abrams, T90\n",
    "Infantry Carrier : Bradley, BMP\n",
    "Support Vehicle : M113, M88, other armored recovery vehicles\n",
    "Self Propelled Artillery : Palidin\n",
    "'''\n",
    "\n",
    "armor_sub_dict = {'Main Battle Tank' : ['2:3 ratio', 'tracks', 'turret', 'cannon', 'rectangle', 'tan', 'green', 'hatch'],\n",
    "                  'Infantry Carrier' : ['2:3 ratio', 'tracks', 'square', 'tan', 'green', 'hatch'],\n",
    "                  'Support Vehicle' : ['2:3 ratio', 'tracks', 'blade', 'tow arm', 'square', 'tan', 'green', 'hatch'],\n",
    "                  'Self Propelled Artillery'  : ['2:3 ratio', 'tracks', 'turret', 'cannon', 'square', 'tan', 'green', 'hatch']}"
   ]
  },
  {
   "cell_type": "code",
   "execution_count": 22,
   "id": "cedb5576",
   "metadata": {},
   "outputs": [],
   "source": [
    "'''\n",
    "Infantry Carriers : Stryker, various wheeled APCs\n",
    "Light Tactical Vehicles : HMMWV, JLTV, MAT-V\n",
    "Combat Support Vehicles : M997 Ambulance\n",
    "Mobile Gun Systems : wheeled howitzer, Stryker MGS, various antitank vehicles\n",
    "'''\n",
    "\n",
    "light_sub_dict = {'Infantry Carriers' : ['1:3 ratio', 'wheels', 'turret', 'rectangle', 'tan', 'green', 'hatch', 'gun'],\n",
    "                  'Light Tactical Vehicles' : ['1:3 ratio', 'wheels', 'turret', 'windows', 'cab', 'doors', 'rectangle', 'hood', 'trunk', 'tan', 'green'],\n",
    "                  'Combat Support Vehicles' : ['1:3 ratio', 'wheels', 'windows', 'cab', 'doors', 'rectangle', 'hood', 'trunk', 'tan', 'green'],\n",
    "                  'Mobile Gun Systems' : ['1:3 ratio', 'wheels', 'cannon', 'turret', 'rectangle', 'tan', 'green']}"
   ]
  },
  {
   "cell_type": "code",
   "execution_count": 23,
   "id": "941c37f1",
   "metadata": {},
   "outputs": [],
   "source": [
    "'''\n",
    "Supply Vehicle : M977 HEMTT, M1094\n",
    "Recovery Vehicle : Wrecker, various other tow truck type vehicles\n",
    "Tanker : fuel truck, hippo\n",
    "'''\n",
    "\n",
    "logistics_sub_dict = {'Military Supply Vehicle' : ['1:3 ratio', 'wheels', 'windows', 'cab', 'doors', 'hood', 'Shipping Container', 'bed', 'trailer', 'tan', 'green'],\n",
    "                      'Military Recovery Vehicle' : ['1:3 ratio', 'wheels', 'windows', 'cab', 'doors', 'winch', 'tow arm', 'tan', 'green'],\n",
    "                      'Military Fueler' : ['1:3 ratio', 'wheels', 'windows', 'cab', 'doors', 'tank', 'tube', 'hood', 'tan', 'green']}"
   ]
  },
  {
   "cell_type": "code",
   "execution_count": 24,
   "id": "5d5e32d8",
   "metadata": {},
   "outputs": [],
   "source": [
    "other_sub_dict = {'Command and Control Systems' : ['antenna', 'square', 'green', 'tan'],\n",
    "                  'Communications Systems' : ['radar', 'array', 'antenna', 'square', 'green', 'tan'],\n",
    "                  'Electronic Warfare Systems' : ['radar', 'array', 'antenna', 'square', 'green', 'tan']}"
   ]
  },
  {
   "cell_type": "code",
   "execution_count": 25,
   "id": "408b5d87",
   "metadata": {},
   "outputs": [],
   "source": [
    "# Changed dictionary format for ease of tokenizing\n",
    "'''\n",
    "military_embed_dict = {'Military Aircraft' : aircraft_sub_dict,\n",
    "                       'Air Defense' : ada_sub_dict,\n",
    "                       'Armor' :armor_sub_dict,\n",
    "                       'Artillery' : artillery_sub_dict,\n",
    "                       'Military Engineer and CBRN' : engineer_sub_dict,\n",
    "                       'Light Military Vehicles' : light_sub_dict,\n",
    "                       'Military Logistics' : logistics_sub_dict,\n",
    "                       'Other Military' : other_sub_dict}\n",
    "'''\n",
    "\n",
    "military_embed_dict = {**aircraft_sub_dict,\n",
    "                       **ada_sub_dict,\n",
    "                       **armor_sub_dict,\n",
    "                       **artillery_sub_dict,\n",
    "                       **engineer_sub_dict,\n",
    "                       **light_sub_dict,\n",
    "                       **logistics_sub_dict,\n",
    "                       **other_sub_dict}"
   ]
  },
  {
   "cell_type": "markdown",
   "id": "7790340f",
   "metadata": {},
   "source": [
    "## 5. Merge Embedding Dictionaries (if needed)"
   ]
  },
  {
   "cell_type": "code",
   "execution_count": 26,
   "id": "653cf718",
   "metadata": {},
   "outputs": [],
   "source": [
    "#main_dict = {**xview_embed_dict , **military_embed_dict}\n",
    "main_dict = xview_embed_dict"
   ]
  },
  {
   "cell_type": "markdown",
   "id": "498fcc35",
   "metadata": {},
   "source": [
    "## 6. Create a Dictionary of tokens for Embedding"
   ]
  },
  {
   "cell_type": "code",
   "execution_count": 27,
   "id": "a442dfa5",
   "metadata": {},
   "outputs": [
    {
     "name": "stderr",
     "output_type": "stream",
     "text": [
      "[nltk_data] Downloading package punkt to\n",
      "[nltk_data]     C:\\Users\\jingr\\AppData\\Roaming\\nltk_data...\n",
      "[nltk_data]   Package punkt is already up-to-date!\n"
     ]
    },
    {
     "data": {
      "text/plain": [
       "True"
      ]
     },
     "execution_count": 27,
     "metadata": {},
     "output_type": "execute_result"
    }
   ],
   "source": [
    "# Import needed packages\n",
    "\n",
    "import nltk\n",
    "import re\n",
    "\n",
    "from nltk.tokenize import word_tokenize\n",
    "nltk.download('punkt')"
   ]
  },
  {
   "cell_type": "code",
   "execution_count": 28,
   "id": "d55fa779",
   "metadata": {},
   "outputs": [],
   "source": [
    "# Create a helper function to tokenize the values in the dictionary\n",
    "\n",
    "def tokenize_list(word_list):\n",
    "    token_list = []\n",
    "    for text in word_list:\n",
    "        # Remove spaces\n",
    "        text = re.sub(r'([^\\s])\\s([^\\s])', r'\\1_\\2',text)\n",
    "    \n",
    "        # Remove case\n",
    "        text = text.lower() \n",
    "        \n",
    "        # Store the text in the token list\n",
    "        token_list.append(text)\n",
    "        \n",
    "    return(token_list)"
   ]
  },
  {
   "cell_type": "code",
   "execution_count": 29,
   "id": "7697ba79",
   "metadata": {},
   "outputs": [],
   "source": [
    "# Tokenize the Xview dataset for labeling\n",
    "\n",
    "# Create an empty dictionary to store labels\n",
    "xview_label_dict_embedded = {}\n",
    "\n",
    "\n",
    "# Match embedded text to labels provided with the Xview data\n",
    "for key in xview_label_dict.keys():\n",
    "    xview_label_dict_embedded[key] = set(tokenize_list(xview_embed_dict[xview_label_dict[key]]))\n",
    "    \n",
    "# Tokenize the main dictionary\n",
    "for key in main_dict.keys():\n",
    "    main_dict[key] = set(tokenize_list(main_dict[key]))"
   ]
  },
  {
   "cell_type": "code",
   "execution_count": 30,
   "id": "9a4f84c2",
   "metadata": {
    "scrolled": true
   },
   "outputs": [
    {
     "name": "stdout",
     "output_type": "stream",
     "text": [
      "11: {'red', 'blue', 'tail', 'fuselage', 'silver', 'cockpit', 'wings', 'fixed-wing_aircraft', 'white', 'elevators', 'rudder'},\n",
      "12: {'red', 'blue', 'tail', 'fuselage', 'silver', 'cockpit', 'wings', 'fixed-wing_aircraft', 'single_engine', 'white', 'elevators', 'rudder'},\n",
      "13: {'red', 'blue', 'tail', 'fuselage', 'silver', 'multi_engine', 'cockpit', 'wings', 'fixed-wing_aircraft', 'white', 'elevators', 'rudder'},\n",
      "15: {'red', 'blue', 'tail', 'fuselage', 'tail_rotor', 'cockpit', 'main_rotor', 'white', 'rudder'},\n",
      "17: {'red', 'blue', 'full_cab', '1:3_ratio', 'doors', 'silver', 'passenger_vehicle', 'wheels', 'single_cab', 'white', 'windows'},\n",
      "18: {'red', '2_axles', 'blue', 'full_cab', '1:3_ratio', 'doors', 'silver', 'passenger_vehicle', 'wheels', 'single_cab', 'black', 'small', 'hood', 'white', 'windows', 'trunk'},\n",
      "19: {'red', 'blue', 'full_cab', '1:3_ratio', 'doors', 'silver', 'passenger_vehicle', 'wheels', 'rectangle', 'single_cab', 'white', '3_axles', 'windows', 'long'},\n",
      "20: {'red', '2_axles', 'blue', 'full_cab', '1:3_ratio', 'doors', 'silver', 'bed', 'wheels', 'single_cab', 'black', 'hood', 'white', 'truck', 'windows'},\n",
      "21: {'2_axles', 'full_cab', 'winch', 'box', 'crane', '1:3_ratio', 'doors', 'bed', 'wheels', 'single_cab', 'hood', 'white', 'truck', 'windows'},\n",
      "23: {'full_cab', 'doors', 'wheels', 'single_cab', 'truck', 'windows'},\n",
      "24: {'2_axles', 'trailer', 'full_cab', 'shipping_container', 'box', 'tractor', 'doors', 'bed', 'wheels', 'rectangle', 'single_cab', 'truck', 'windows', 'long'},\n",
      "25: {'trailer', 'full_cab', 'shipping_container', 'box', 'doors', 'bed', 'wheels', 'single_cab', '5_axles', 'truck', 'windows'},\n",
      "26: {'3_axles', 'shipping_container', 'full_cab', 'doors', 'wheels', 'single_cab', 'truck', 'windows'},\n",
      "27: {'2_axles', 'trailer', 'shipping_container', 'bed', 'wheels', 'flat', 'box'},\n",
      "28: {'trailer', 'full_cab', 'doors', 'bed', 'wheels', 'single_cab', 'flat', '5_axles', 'truck', 'windows'},\n",
      "29: {'trailer', 'full_cab', 'tube', 'doors', 'bed', 'wheels', 'single_cab', '5_axles', 'truck', 'tank', 'windows'},\n",
      "32: {'red', '3_axles', 'blue', 'full_cab', 'orange', 'crane', 'doors', 'outriggers', 'wheels', 'rectangle', 'single_cab', 'yellow', 'carrier', 'white', 'truck', 'boom', 'windows'},\n",
      "33: {'rail', 'rectangle', 'railway_vehicle', 'wheelset', 'long'},\n",
      "34: {'rail', 'rectangle', 'railway_vehicle', 'wheelset', 'windows', 'long'},\n",
      "35: {'shipping_container', 'rail', 'rectangle', 'railway_vehicle', 'wheelset', 'box', 'long'},\n",
      "36: {'rail', 'bed', 'rectangle', 'flat', 'railway_vehicle', 'wheelset', 'long'},\n",
      "37: {'tube', 'cylinder', 'rail', 'rectangle', 'railway_vehicle', 'wheelset', 'long'},\n",
      "38: {'rail', 'stack', 'rectangle', 'engine', 'railway_vehicle', 'wheelset', 'long'},\n",
      "40: {'water', 'maritime_vessel'},\n",
      "41: {'sharp', 'maritime_vessel', 'engine', 'small', 'wake', 'water', 'white'},\n",
      "42: {'sharp', 'maritime_vessel', 'sails', 'small', 'water', 'white'},\n",
      "44: {'red', 'orange', 'blue', 'maritime_vessel', 'bridge', 'round', 'fender', 'engine', 'yellow', 'small', 'wake', 'water', 'white', 'wide', 'stack'},\n",
      "45: {'red', 'orange', 'blue', 'maritime_vessel', 'rectangle', 'yellow', 'grey', 'water', 'wide', 'medium'},\n",
      "47: {'red', 'orange', 'blue', 'green', 'maritime_vessel', 'bridge', 'round', 'stack', 'engine', 'yellow', 'wake', 'water', 'white', 'masthead', 'gantry', 'medium'},\n",
      "49: {'orange', 'windows', 'maritime_vessel', 'bridge', 'round', 'engine', 'yellow', 'wake', 'water', 'white', 'wide', 'stack', 'medium'},\n",
      "50: {'sharp', 'maritime_vessel', 'engine', 'wake', 'water', 'white', 'medium'},\n",
      "51: {'red', 'blue', 'shipping_container', 'maritime_vessel', 'rectangle', 'large', 'bridge', 'engine', 'wake', 'water', 'white', 'stack'},\n",
      "52: {'red', 'green', 'maritime_vessel', 'bridge', 'large', 'round', 'engine', 'flat', 'wake', 'water', 'white', 'stack'},\n",
      "53: {'engineering_vehicle'},\n",
      "54: {'engineering_vehicle', 'crane', 'single_cab', 'narrow', 'counter_weight', 'half_cab', 'thin', 'boom', 'fixed', 'long'},\n",
      "55: {'2_axles', 'engineering_vehicle', 'shipping_container', 'crane', 'spreader', 'counter_weight', 'half_cab', 'wide', 'boom', 'fixed', 'long'},\n",
      "56: {'red', '2_axles', 'engineering_vehicle', 'blue', 'orange', 'crane', 'doors', 'wheels', 'single_cab', 'spreader', 'yellow', 'half_cab', 'white', 'boom', 'windows'},\n",
      "57: {'red', 'engineering_vehicle', 'blue', 'orange', 'doors', 'square', 'wheels', 'spreader', 'single_cab', 'yellow', 'flat', 'half_cab', 'white', 'windows'},\n",
      "59: {'red', 'multi_cab', 'engineering_vehicle', 'blue', 'full_cab', 'carrier', 'orange', 'crane', 'doors', 'wheels', 'rectangle', 'yellow', 'tracks', 'half_cab', 'white', 'outriggers', 'boom', 'windows'},\n",
      "60: {'red', 'engineering_vehicle', 'blue', 'full_cab', 'orange', 'doors', 'square', 'wheels', 'large', 'rectangle', 'single_cab', 'yellow', 'white', '3_axles', 'haul_bed', 'windows'},\n",
      "61: {'red', 'engineering_vehicle', 'blue', 'full_cab', 'orange', 'doors', 'square', 'wheels', 'large', 'rectangle', 'single_cab', 'yellow', 'white', '3_axles', 'haul_bed', 'windows'},\n",
      "62: {'2_axles', 'engineering_vehicle', 'trailer', 'tractor', 'doors', 'bowl', 'wheels', 'rectangle', 'single_cab', 'yellow', 'half_cab', 'scraper', 'windows'},\n",
      "63: {'2_axles', 'engineering_vehicle', 'orange', 'full_cab', 'green', 'doors', 'wheels', 'single_cab', 'yellow', 'tracks', 'blade', 'windows', 'scoop'},\n",
      "64: {'red', 'engineering_vehicle', 'orange', 'arm', 'doors', 'bucket', 'square', 'single_cab', 'yellow', 'tracks', 'half_cab', 'white', 'blade', 'boom', 'windows'},\n",
      "65: {'red', 'engineering_vehicle', 'barrel', 'full_cab', 'blue', 'orange', 'doors', 'wheels', 'rectangle', 'single_cab', 'hopper', 'yellow', 'hood', 'white', '3_axles', 'water_tank', 'windows'},\n",
      "66: {'red', 'engineering_vehicle', 'orange', 'full_cab', 'frame', 'doors', 'wheels', 'rectangle', 'single_cab', 'yellow', '3_axles', 'blade', 'windows'},\n",
      "71: {'curved', 'canvas', 'small', 'building'},\n",
      "72: {'corners', 'walls', 'flat', 'small', 'building', 'straight', 'roof'},\n",
      "73: {'corners', 'walls', 'flat', 'straight', 'building', 'roof', 'medium'},\n",
      "74: {'walls', 'grey', 'curved', 'white', 'building'},\n",
      "76: {'damage', 'debris', 'walls', 'building'},\n",
      "77: {'corners', 'walls', 'flat', 'straight', 'building', 'roof'},\n",
      "79: {'engineering_vehicle', 'walls', 'fence', 'debris', 'dirt'},\n",
      "83: {'lights', 'fence', 'passenger_vehicle', 'wheels', 'tracks', 'flat', 'dirt', 'concrete', 'truck', 'asphalt'},\n",
      "84: {'circle', 'red', 'h', 'lights', 'green', 'yellow', 'flat'},\n",
      "86: {'blue', 'tube', 'cylinder', 'round', 'yellow', 'white'},\n",
      "89: {'shipping_container', 'lights', 'fence', 'flat', 'dirt', 'concrete', 'truck', 'asphalt'},\n",
      "91: {'red', 'blue', 'green', 'rectangle', 'yellow', 'small', 'box'},\n",
      "93: {'tall', 'lines', 'grey'},\n",
      "94: {'narrow', 'tall', 'stack'},}\n"
     ]
    }
   ],
   "source": [
    "# Print the embedded Xview Data\n",
    "print(\"\" + \"\\n\".join(\"{!r}: {!r},\".format(k, v) for k, v in xview_label_dict_embedded.items()) + \"}\")"
   ]
  },
  {
   "cell_type": "markdown",
   "id": "a1eb4901",
   "metadata": {},
   "source": [
    "## 7. Dictionary Analyis"
   ]
  },
  {
   "cell_type": "code",
   "execution_count": 31,
   "id": "98310096",
   "metadata": {},
   "outputs": [],
   "source": [
    "features = [] # create a list to store possible features\n",
    "labels = [] # create a list to store possible lables\n",
    "\n",
    "for entity in main_dict:\n",
    "    features.extend(main_dict[entity]) # ectract the features from the data dictionary\n",
    "    labels.append(entity)\n",
    "\n",
    "feature_dic = {feature : features.count(feature) for feature in set(features)} # create a dictionary that counts the number of occurances of a given feature"
   ]
  },
  {
   "cell_type": "code",
   "execution_count": 32,
   "id": "4c17e3dd",
   "metadata": {},
   "outputs": [
    {
     "name": "stdout",
     "output_type": "stream",
     "text": [
      "There are 60 possible labels\n",
      "There are 107 possible features to describe the labels\n",
      "They are:\n",
      "\n",
      "1.\tFixed-wing Aircraft\n",
      "2.\tSmall Aircraft\n",
      "3.\tPassenger/Cargo Plane\n",
      "4.\tHelicopter\n",
      "5.\tPassenger Vehicle\n",
      "6.\tSmall Car\n",
      "7.\tBus\n",
      "8.\tPickup Truck\n",
      "9.\tUtility Truck\n",
      "10.\tTruck\n",
      "11.\tCargo Truck\n",
      "12.\tTruck Tractor w/ Box Trailer\n",
      "13.\tTruck Tractor\n",
      "14.\tTrailer\n",
      "15.\tTruck Tractor w/ Flatbed Trailer\n",
      "16.\tTruck Tractor w/ Liquid Tank\n",
      "17.\tCrane Truck\n",
      "18.\tRailway Vehicle\n",
      "19.\tPassenger Car\n",
      "20.\tCargo/Container Car\n",
      "21.\tFlat Car\n",
      "22.\tTank car\n",
      "23.\tLocomotive\n",
      "24.\tMaritime Vessel\n",
      "25.\tMotorboat\n",
      "26.\tSailboat\n",
      "27.\tTugboat\n",
      "28.\tBarge\n",
      "29.\tFishing Vessel\n",
      "30.\tFerry\n",
      "31.\tYacht\n",
      "32.\tContainer Ship\n",
      "33.\tOil Tanker\n",
      "34.\tEngineering Vehicle\n",
      "35.\tTower crane\n",
      "36.\tContainer Crane\n",
      "37.\tReach Stacker\n",
      "38.\tStraddle Carrier\n",
      "39.\tMobile Crane\n",
      "40.\tDump Truck\n",
      "41.\tHaul Truck\n",
      "42.\tScraper/Tractor\n",
      "43.\tFront loader/Bulldozer\n",
      "44.\tExcavator\n",
      "45.\tCement Mixer\n",
      "46.\tGround Grader\n",
      "47.\tHut/Tent\n",
      "48.\tShed\n",
      "49.\tBuilding\n",
      "50.\tAircraft Hangar\n",
      "51.\tDamaged Building\n",
      "52.\tFacility\n",
      "53.\tConstruction Site\n",
      "54.\tVehicle Lot\n",
      "55.\tHelipad\n",
      "56.\tStorage Tank\n",
      "57.\tShipping container lot\n",
      "58.\tShipping Container\n",
      "59.\tPylon\n",
      "60.\tTower\n"
     ]
    }
   ],
   "source": [
    "print('There are ' + str(len(main_dict)) + ' possible labels')\n",
    "print('There are ' + str(len(feature_dic)) + ' possible features to describe the labels')\n",
    "print('They are:\\n')\n",
    "\n",
    "number = 1\n",
    "for label in labels:\n",
    "    print(str(number) + '.\\t' + label)\n",
    "    number +=1"
   ]
  },
  {
   "cell_type": "code",
   "execution_count": 33,
   "id": "0e41fa18",
   "metadata": {},
   "outputs": [],
   "source": [
    "import pandas as pd\n",
    "\n",
    "features_df = pd.DataFrame(list(feature_dic.items()))\n",
    "\n",
    "features_df.rename(columns = {0:'Feature', 1 : 'Count'}, inplace = True)\n",
    "\n",
    "features_df = features_df.sort_values(by='Count', ascending=False)\n",
    "\n",
    "features_df['Frequency'] = features_df['Count']/len(labels)"
   ]
  },
  {
   "cell_type": "code",
   "execution_count": 34,
   "id": "6e08142f",
   "metadata": {},
   "outputs": [
    {
     "name": "stdout",
     "output_type": "stream",
     "text": [
      "                 Feature  Count  Frequency\n",
      "71                 white     27   0.450000\n",
      "15               windows     24   0.400000\n",
      "86                   red     24   0.400000\n",
      "28                wheels     23   0.383333\n",
      "33                 doors     22   0.366667\n",
      "78            single_cab     22   0.366667\n",
      "87                  blue     21   0.350000\n",
      "37             rectangle     18   0.300000\n",
      "60                yellow     18   0.300000\n",
      "26              full_cab     18   0.300000\n",
      "46                orange     14   0.233333\n",
      "47   engineering_vehicle     14   0.233333\n",
      "50                  flat     11   0.183333\n",
      "44                 truck     11   0.183333\n",
      "43                 water     10   0.166667\n",
      "0        maritime_vessel     10   0.166667\n",
      "6                   long     10   0.166667\n",
      "75               2_axles      9   0.150000\n",
      "68                engine      8   0.133333\n",
      "76                   bed      8   0.133333\n",
      "18    shipping_container      8   0.133333\n",
      "83                silver      7   0.116667\n",
      "96                 stack      7   0.116667\n",
      "63              half_cab      7   0.116667\n",
      "51                 small      7   0.116667\n",
      "3                3_axles      7   0.116667\n",
      "102                 wake      7   0.116667\n",
      "95              wheelset      6   0.100000\n",
      "9                   rail      6   0.100000\n",
      "70              building      6   0.100000\n",
      "13                  boom      6   0.100000\n",
      "41               trailer      6   0.100000\n",
      "17                   box      6   0.100000\n",
      "40       railway_vehicle      6   0.100000\n",
      "82                 crane      6   0.100000\n",
      "99                 walls      6   0.100000\n",
      "55                 green      5   0.083333\n",
      "1                  round      5   0.083333\n",
      "88             1:3_ratio      5   0.083333\n",
      "65                medium      5   0.083333\n",
      "29                bridge      5   0.083333\n",
      "57                square      4   0.066667\n",
      "69                tracks      4   0.066667\n",
      "101              cockpit      4   0.066667\n",
      "94                rudder      4   0.066667\n",
      "90     passenger_vehicle      4   0.066667\n",
      "98                  tail      4   0.066667\n",
      "53                  hood      4   0.066667\n",
      "42              fuselage      4   0.066667\n",
      "22                  wide      4   0.066667\n",
      "38                 large      4   0.066667\n",
      "48                lights      3   0.050000\n",
      "34                 wings      3   0.050000\n",
      "92                  grey      3   0.050000\n",
      "84                 sharp      3   0.050000\n",
      "11               5_axles      3   0.050000\n",
      "73                  roof      3   0.050000\n",
      "7               straight      3   0.050000\n",
      "4              elevators      3   0.050000\n",
      "32                  tube      3   0.050000\n",
      "100                fence      3   0.050000\n",
      "35                  dirt      3   0.050000\n",
      "39   fixed-wing_aircraft      3   0.050000\n",
      "58              spreader      3   0.050000\n",
      "54               corners      3   0.050000\n",
      "104                blade      3   0.050000\n",
      "97                 fixed      2   0.033333\n",
      "20                narrow      2   0.033333\n",
      "81              cylinder      2   0.033333\n",
      "49                  tall      2   0.033333\n",
      "62                 black      2   0.033333\n",
      "74              concrete      2   0.033333\n",
      "72               carrier      2   0.033333\n",
      "25               asphalt      2   0.033333\n",
      "103               curved      2   0.033333\n",
      "45              haul_bed      2   0.033333\n",
      "67               tractor      2   0.033333\n",
      "59        counter_weight      2   0.033333\n",
      "64            outriggers      2   0.033333\n",
      "21                debris      2   0.033333\n",
      "93                  thin      1   0.016667\n",
      "91            tail_rotor      1   0.016667\n",
      "105               barrel      1   0.016667\n",
      "2                  sails      1   0.016667\n",
      "10          multi_engine      1   0.016667\n",
      "8              multi_cab      1   0.016667\n",
      "5               masthead      1   0.016667\n",
      "89                 lines      1   0.016667\n",
      "12                  tank      1   0.016667\n",
      "77                  bowl      1   0.016667\n",
      "14                damage      1   0.016667\n",
      "30            main_rotor      1   0.016667\n",
      "52         single_engine      1   0.016667\n",
      "56                bucket      1   0.016667\n",
      "36                gantry      1   0.016667\n",
      "61                hopper      1   0.016667\n",
      "66                     h      1   0.016667\n",
      "31                circle      1   0.016667\n",
      "27                   arm      1   0.016667\n",
      "16                 trunk      1   0.016667\n",
      "24                canvas      1   0.016667\n",
      "23               scraper      1   0.016667\n",
      "79            water_tank      1   0.016667\n",
      "80                 winch      1   0.016667\n",
      "85                fender      1   0.016667\n",
      "19                 frame      1   0.016667\n",
      "106                scoop      1   0.016667\n"
     ]
    }
   ],
   "source": [
    "pd.set_option('display.max_rows', None)\n",
    "\n",
    "print(features_df)"
   ]
  },
  {
   "cell_type": "code",
   "execution_count": 35,
   "id": "d4abb264",
   "metadata": {},
   "outputs": [],
   "source": [
    "# consider making colors bright vs subdued instead of listing individual colors?"
   ]
  },
  {
   "cell_type": "markdown",
   "id": "36375ff8",
   "metadata": {},
   "source": [
    "## 8. OHE the Tokens to be Embedded in the Model"
   ]
  },
  {
   "cell_type": "code",
   "execution_count": 36,
   "id": "c39e2401",
   "metadata": {},
   "outputs": [],
   "source": [
    "# Import required packages\n",
    "import numpy as np"
   ]
  },
  {
   "cell_type": "code",
   "execution_count": 37,
   "id": "61f8ddbe",
   "metadata": {},
   "outputs": [],
   "source": [
    "# create the bag of word to OHE\n",
    "corpus = np.array(features_df['Feature'].to_list())  # create the corpus from the analysis df\n",
    "s_corpus = len(corpus)  # store the length of the corpus\n",
    "\n",
    "corpus_dict = {}\n",
    "i = 0\n",
    "# Convert the corpus into a dictionary {word : int} format\n",
    "for word in corpus:\n",
    "    corpus_dict[word] = i \n",
    "    i += 1"
   ]
  },
  {
   "cell_type": "code",
   "execution_count": 38,
   "id": "9a97ef96",
   "metadata": {},
   "outputs": [],
   "source": [
    "# One hot encode the data\n",
    "for key in xview_label_dict.keys():\n",
    "    int_list = []\n",
    "    binary_list = [0] * s_corpus\n",
    "    for value in xview_label_dict_embedded[key]:\n",
    "        int_list.append(corpus_dict[value])  # convert words in the dictionary to an int using the corpus dict\n",
    "    for num in int_list:\n",
    "        binary_list[num] = 1  # use the ints to change the 0's to 1's in the binary list\n",
    "    xview_label_dict_embedded[key] = binary_list  # add the binary list to the data dictionary"
   ]
  },
  {
   "cell_type": "code",
   "execution_count": 39,
   "id": "9f359087",
   "metadata": {},
   "outputs": [
    {
     "name": "stdout",
     "output_type": "stream",
     "text": [
      "11: [1, 0, 1, 0, 0, 0, 1, 0, 0, 0, 0, 0, 0, 0, 0, 0, 0, 0, 0, 0, 0, 1, 0, 0, 0, 0, 0, 0, 0, 0, 0, 0, 0, 0, 0, 0, 0, 0, 0, 0, 0, 0, 0, 1, 1, 0, 1, 0, 1, 0, 0, 0, 1, 0, 0, 0, 0, 0, 1, 0, 0, 0, 1, 0, 0, 0, 0, 0, 0, 0, 0, 0, 0, 0, 0, 0, 0, 0, 0, 0, 0, 0, 0, 0, 0, 0, 0, 0, 0, 0, 0, 0, 0, 0, 0, 0, 0, 0, 0, 0, 0, 0, 0, 0, 0, 0, 0],\n",
      "12: [1, 0, 1, 0, 0, 0, 1, 0, 0, 0, 0, 0, 0, 0, 0, 0, 0, 0, 0, 0, 0, 1, 0, 0, 0, 0, 0, 0, 0, 0, 0, 0, 0, 0, 0, 0, 0, 0, 0, 0, 0, 0, 0, 1, 1, 0, 1, 0, 1, 0, 0, 0, 1, 0, 0, 0, 0, 0, 1, 0, 0, 0, 1, 0, 0, 0, 0, 0, 0, 0, 0, 0, 0, 0, 0, 0, 0, 0, 0, 0, 0, 0, 0, 0, 0, 0, 0, 0, 0, 0, 0, 0, 1, 0, 0, 0, 0, 0, 0, 0, 0, 0, 0, 0, 0, 0, 0],\n",
      "13: [1, 0, 1, 0, 0, 0, 1, 0, 0, 0, 0, 0, 0, 0, 0, 0, 0, 0, 0, 0, 0, 1, 0, 0, 0, 0, 0, 0, 0, 0, 0, 0, 0, 0, 0, 0, 0, 0, 0, 0, 0, 0, 0, 1, 1, 0, 1, 0, 1, 0, 0, 0, 1, 0, 0, 0, 0, 0, 1, 0, 0, 0, 1, 0, 0, 0, 0, 0, 0, 0, 0, 0, 0, 0, 0, 0, 0, 0, 0, 0, 0, 0, 0, 0, 1, 0, 0, 0, 0, 0, 0, 0, 0, 0, 0, 0, 0, 0, 0, 0, 0, 0, 0, 0, 0, 0, 0],\n",
      "15: [1, 0, 1, 0, 0, 0, 1, 0, 0, 0, 0, 0, 0, 0, 0, 0, 0, 0, 0, 0, 0, 0, 0, 0, 0, 0, 0, 0, 0, 0, 0, 0, 0, 0, 0, 0, 0, 0, 0, 0, 0, 0, 0, 1, 1, 0, 1, 0, 1, 0, 0, 0, 0, 0, 0, 0, 0, 0, 0, 0, 0, 0, 0, 0, 0, 0, 0, 0, 0, 0, 0, 0, 0, 0, 0, 0, 0, 0, 0, 0, 0, 1, 0, 0, 0, 0, 0, 0, 0, 0, 0, 1, 0, 0, 0, 0, 0, 0, 0, 0, 0, 0, 0, 0, 0, 0, 0],\n",
      "17: [1, 1, 1, 1, 1, 1, 1, 0, 0, 1, 0, 0, 0, 0, 0, 0, 0, 0, 0, 0, 0, 1, 0, 0, 0, 0, 0, 0, 0, 0, 0, 0, 0, 0, 0, 0, 0, 0, 1, 0, 0, 0, 0, 0, 0, 1, 0, 0, 0, 0, 0, 0, 0, 0, 0, 0, 0, 0, 0, 0, 0, 0, 0, 0, 0, 0, 0, 0, 0, 0, 0, 0, 0, 0, 0, 0, 0, 0, 0, 0, 0, 0, 0, 0, 0, 0, 0, 0, 0, 0, 0, 0, 0, 0, 0, 0, 0, 0, 0, 0, 0, 0, 0, 0, 0, 0, 0],\n",
      "18: [1, 1, 1, 1, 1, 1, 1, 0, 0, 1, 0, 0, 0, 0, 0, 0, 0, 1, 0, 0, 0, 1, 0, 0, 1, 0, 0, 0, 0, 0, 0, 0, 0, 0, 0, 0, 0, 0, 1, 0, 0, 0, 0, 0, 0, 1, 0, 1, 0, 0, 0, 0, 0, 0, 0, 0, 0, 0, 0, 0, 0, 0, 0, 0, 0, 0, 0, 0, 0, 0, 1, 0, 0, 0, 0, 0, 0, 0, 0, 0, 0, 0, 0, 0, 0, 0, 0, 0, 0, 0, 0, 0, 0, 0, 0, 0, 0, 0, 0, 1, 0, 0, 0, 0, 0, 0, 0],\n",
      "19: [1, 1, 1, 1, 1, 1, 1, 1, 0, 1, 0, 0, 0, 0, 0, 0, 1, 0, 0, 0, 0, 1, 0, 0, 0, 1, 0, 0, 0, 0, 0, 0, 0, 0, 0, 0, 0, 0, 1, 0, 0, 0, 0, 0, 0, 1, 0, 0, 0, 0, 0, 0, 0, 0, 0, 0, 0, 0, 0, 0, 0, 0, 0, 0, 0, 0, 0, 0, 0, 0, 0, 0, 0, 0, 0, 0, 0, 0, 0, 0, 0, 0, 0, 0, 0, 0, 0, 0, 0, 0, 0, 0, 0, 0, 0, 0, 0, 0, 0, 0, 0, 0, 0, 0, 0, 0, 0],\n",
      "20: [1, 1, 1, 1, 1, 1, 1, 0, 0, 1, 0, 0, 0, 1, 0, 0, 0, 1, 0, 1, 0, 1, 0, 0, 0, 0, 0, 0, 0, 0, 0, 0, 0, 0, 0, 0, 0, 0, 1, 0, 0, 0, 0, 0, 0, 0, 0, 1, 0, 0, 0, 0, 0, 0, 0, 0, 0, 0, 0, 0, 0, 0, 0, 0, 0, 0, 0, 0, 0, 0, 1, 0, 0, 0, 0, 0, 0, 0, 0, 0, 0, 0, 0, 0, 0, 0, 0, 0, 0, 0, 0, 0, 0, 0, 0, 0, 0, 0, 0, 0, 0, 0, 0, 0, 0, 0, 0],\n",
      "21: [1, 1, 0, 1, 1, 1, 0, 0, 0, 1, 0, 0, 0, 1, 0, 0, 0, 1, 0, 1, 0, 0, 0, 0, 0, 0, 0, 0, 0, 0, 0, 0, 1, 0, 1, 0, 0, 0, 1, 0, 0, 0, 0, 0, 0, 0, 0, 1, 0, 0, 0, 0, 0, 0, 0, 0, 0, 0, 0, 0, 0, 0, 0, 0, 0, 0, 0, 0, 0, 0, 0, 0, 0, 0, 0, 0, 0, 0, 0, 0, 0, 0, 0, 0, 0, 0, 0, 0, 0, 0, 0, 0, 0, 0, 0, 0, 0, 0, 0, 0, 0, 0, 0, 1, 0, 0, 0],\n",
      "23: [0, 1, 0, 1, 1, 1, 0, 0, 0, 1, 0, 0, 0, 1, 0, 0, 0, 0, 0, 0, 0, 0, 0, 0, 0, 0, 0, 0, 0, 0, 0, 0, 0, 0, 0, 0, 0, 0, 0, 0, 0, 0, 0, 0, 0, 0, 0, 0, 0, 0, 0, 0, 0, 0, 0, 0, 0, 0, 0, 0, 0, 0, 0, 0, 0, 0, 0, 0, 0, 0, 0, 0, 0, 0, 0, 0, 0, 0, 0, 0, 0, 0, 0, 0, 0, 0, 0, 0, 0, 0, 0, 0, 0, 0, 0, 0, 0, 0, 0, 0, 0, 0, 0, 0, 0, 0, 0],\n",
      "24: [0, 1, 0, 1, 1, 1, 0, 1, 0, 1, 0, 0, 0, 1, 0, 0, 1, 1, 0, 1, 1, 0, 0, 0, 0, 0, 0, 0, 0, 0, 0, 1, 1, 0, 0, 0, 0, 0, 0, 0, 0, 0, 0, 0, 0, 0, 0, 0, 0, 0, 0, 0, 0, 0, 0, 0, 0, 0, 0, 0, 0, 0, 0, 0, 0, 0, 0, 0, 0, 0, 0, 0, 0, 0, 0, 0, 1, 0, 0, 0, 0, 0, 0, 0, 0, 0, 0, 0, 0, 0, 0, 0, 0, 0, 0, 0, 0, 0, 0, 0, 0, 0, 0, 0, 0, 0, 0],\n",
      "25: [0, 1, 0, 1, 1, 1, 0, 0, 0, 1, 0, 0, 0, 1, 0, 0, 0, 0, 0, 1, 1, 0, 0, 0, 0, 0, 0, 0, 0, 0, 0, 1, 1, 0, 0, 0, 0, 0, 0, 0, 0, 0, 0, 0, 0, 0, 0, 0, 0, 0, 0, 0, 0, 0, 0, 1, 0, 0, 0, 0, 0, 0, 0, 0, 0, 0, 0, 0, 0, 0, 0, 0, 0, 0, 0, 0, 0, 0, 0, 0, 0, 0, 0, 0, 0, 0, 0, 0, 0, 0, 0, 0, 0, 0, 0, 0, 0, 0, 0, 0, 0, 0, 0, 0, 0, 0, 0],\n",
      "26: [0, 1, 0, 1, 1, 1, 0, 0, 0, 1, 0, 0, 0, 1, 0, 0, 0, 0, 0, 0, 1, 0, 0, 0, 0, 1, 0, 0, 0, 0, 0, 0, 0, 0, 0, 0, 0, 0, 0, 0, 0, 0, 0, 0, 0, 0, 0, 0, 0, 0, 0, 0, 0, 0, 0, 0, 0, 0, 0, 0, 0, 0, 0, 0, 0, 0, 0, 0, 0, 0, 0, 0, 0, 0, 0, 0, 0, 0, 0, 0, 0, 0, 0, 0, 0, 0, 0, 0, 0, 0, 0, 0, 0, 0, 0, 0, 0, 0, 0, 0, 0, 0, 0, 0, 0, 0, 0],\n",
      "27: [0, 0, 0, 1, 0, 0, 0, 0, 0, 0, 0, 0, 1, 0, 0, 0, 0, 1, 0, 1, 1, 0, 0, 0, 0, 0, 0, 0, 0, 0, 0, 1, 1, 0, 0, 0, 0, 0, 0, 0, 0, 0, 0, 0, 0, 0, 0, 0, 0, 0, 0, 0, 0, 0, 0, 0, 0, 0, 0, 0, 0, 0, 0, 0, 0, 0, 0, 0, 0, 0, 0, 0, 0, 0, 0, 0, 0, 0, 0, 0, 0, 0, 0, 0, 0, 0, 0, 0, 0, 0, 0, 0, 0, 0, 0, 0, 0, 0, 0, 0, 0, 0, 0, 0, 0, 0, 0],\n",
      "28: [0, 1, 0, 1, 1, 1, 0, 0, 0, 1, 0, 0, 1, 1, 0, 0, 0, 0, 0, 1, 0, 0, 0, 0, 0, 0, 0, 0, 0, 0, 0, 1, 0, 0, 0, 0, 0, 0, 0, 0, 0, 0, 0, 0, 0, 0, 0, 0, 0, 0, 0, 0, 0, 0, 0, 1, 0, 0, 0, 0, 0, 0, 0, 0, 0, 0, 0, 0, 0, 0, 0, 0, 0, 0, 0, 0, 0, 0, 0, 0, 0, 0, 0, 0, 0, 0, 0, 0, 0, 0, 0, 0, 0, 0, 0, 0, 0, 0, 0, 0, 0, 0, 0, 0, 0, 0, 0],\n",
      "29: [0, 1, 0, 1, 1, 1, 0, 0, 0, 1, 0, 0, 0, 1, 0, 0, 0, 0, 0, 1, 0, 0, 0, 0, 0, 0, 0, 0, 0, 0, 0, 1, 0, 0, 0, 0, 0, 0, 0, 0, 0, 0, 0, 0, 0, 0, 0, 0, 0, 0, 0, 0, 0, 0, 0, 1, 0, 0, 0, 1, 0, 0, 0, 0, 0, 0, 0, 0, 0, 0, 0, 0, 0, 0, 0, 0, 0, 0, 0, 0, 0, 0, 0, 0, 0, 0, 0, 0, 1, 0, 0, 0, 0, 0, 0, 0, 0, 0, 0, 0, 0, 0, 0, 0, 0, 0, 0],\n",
      "32: [1, 1, 1, 1, 1, 1, 1, 1, 1, 1, 1, 0, 0, 1, 0, 0, 0, 0, 0, 0, 0, 0, 0, 0, 0, 1, 0, 0, 0, 0, 1, 0, 0, 0, 1, 0, 0, 0, 0, 0, 0, 0, 0, 0, 0, 0, 0, 0, 0, 0, 0, 0, 0, 0, 0, 0, 0, 0, 0, 0, 0, 0, 0, 0, 0, 0, 0, 0, 0, 0, 0, 0, 1, 0, 0, 0, 0, 0, 1, 0, 0, 0, 0, 0, 0, 0, 0, 0, 0, 0, 0, 0, 0, 0, 0, 0, 0, 0, 0, 0, 0, 0, 0, 0, 0, 0, 0],\n",
      "33: [0, 0, 0, 0, 0, 0, 0, 1, 0, 0, 0, 0, 0, 0, 0, 0, 1, 0, 0, 0, 0, 0, 0, 0, 0, 0, 0, 1, 1, 0, 0, 0, 0, 1, 0, 0, 0, 0, 0, 0, 0, 0, 0, 0, 0, 0, 0, 0, 0, 0, 0, 0, 0, 0, 0, 0, 0, 0, 0, 0, 0, 0, 0, 0, 0, 0, 0, 0, 0, 0, 0, 0, 0, 0, 0, 0, 0, 0, 0, 0, 0, 0, 0, 0, 0, 0, 0, 0, 0, 0, 0, 0, 0, 0, 0, 0, 0, 0, 0, 0, 0, 0, 0, 0, 0, 0, 0],\n",
      "34: [0, 1, 0, 0, 0, 0, 0, 1, 0, 0, 0, 0, 0, 0, 0, 0, 1, 0, 0, 0, 0, 0, 0, 0, 0, 0, 0, 1, 1, 0, 0, 0, 0, 1, 0, 0, 0, 0, 0, 0, 0, 0, 0, 0, 0, 0, 0, 0, 0, 0, 0, 0, 0, 0, 0, 0, 0, 0, 0, 0, 0, 0, 0, 0, 0, 0, 0, 0, 0, 0, 0, 0, 0, 0, 0, 0, 0, 0, 0, 0, 0, 0, 0, 0, 0, 0, 0, 0, 0, 0, 0, 0, 0, 0, 0, 0, 0, 0, 0, 0, 0, 0, 0, 0, 0, 0, 0],\n",
      "35: [0, 0, 0, 0, 0, 0, 0, 1, 0, 0, 0, 0, 0, 0, 0, 0, 1, 0, 0, 0, 1, 0, 0, 0, 0, 0, 0, 1, 1, 0, 0, 0, 1, 1, 0, 0, 0, 0, 0, 0, 0, 0, 0, 0, 0, 0, 0, 0, 0, 0, 0, 0, 0, 0, 0, 0, 0, 0, 0, 0, 0, 0, 0, 0, 0, 0, 0, 0, 0, 0, 0, 0, 0, 0, 0, 0, 0, 0, 0, 0, 0, 0, 0, 0, 0, 0, 0, 0, 0, 0, 0, 0, 0, 0, 0, 0, 0, 0, 0, 0, 0, 0, 0, 0, 0, 0, 0],\n",
      "36: [0, 0, 0, 0, 0, 0, 0, 1, 0, 0, 0, 0, 1, 0, 0, 0, 1, 0, 0, 1, 0, 0, 0, 0, 0, 0, 0, 1, 1, 0, 0, 0, 0, 1, 0, 0, 0, 0, 0, 0, 0, 0, 0, 0, 0, 0, 0, 0, 0, 0, 0, 0, 0, 0, 0, 0, 0, 0, 0, 0, 0, 0, 0, 0, 0, 0, 0, 0, 0, 0, 0, 0, 0, 0, 0, 0, 0, 0, 0, 0, 0, 0, 0, 0, 0, 0, 0, 0, 0, 0, 0, 0, 0, 0, 0, 0, 0, 0, 0, 0, 0, 0, 0, 0, 0, 0, 0],\n",
      "37: [0, 0, 0, 0, 0, 0, 0, 1, 0, 0, 0, 0, 0, 0, 0, 0, 1, 0, 0, 0, 0, 0, 0, 0, 0, 0, 0, 1, 1, 0, 0, 0, 0, 1, 0, 0, 0, 0, 0, 0, 0, 0, 0, 0, 0, 0, 0, 0, 0, 0, 0, 0, 0, 0, 0, 0, 0, 0, 0, 1, 0, 0, 0, 0, 0, 0, 0, 0, 1, 0, 0, 0, 0, 0, 0, 0, 0, 0, 0, 0, 0, 0, 0, 0, 0, 0, 0, 0, 0, 0, 0, 0, 0, 0, 0, 0, 0, 0, 0, 0, 0, 0, 0, 0, 0, 0, 0],\n",
      "38: [0, 0, 0, 0, 0, 0, 0, 1, 0, 0, 0, 0, 0, 0, 0, 0, 1, 0, 1, 0, 0, 0, 1, 0, 0, 0, 0, 1, 1, 0, 0, 0, 0, 1, 0, 0, 0, 0, 0, 0, 0, 0, 0, 0, 0, 0, 0, 0, 0, 0, 0, 0, 0, 0, 0, 0, 0, 0, 0, 0, 0, 0, 0, 0, 0, 0, 0, 0, 0, 0, 0, 0, 0, 0, 0, 0, 0, 0, 0, 0, 0, 0, 0, 0, 0, 0, 0, 0, 0, 0, 0, 0, 0, 0, 0, 0, 0, 0, 0, 0, 0, 0, 0, 0, 0, 0, 0],\n",
      "40: [0, 0, 0, 0, 0, 0, 0, 0, 0, 0, 0, 0, 0, 0, 1, 1, 0, 0, 0, 0, 0, 0, 0, 0, 0, 0, 0, 0, 0, 0, 0, 0, 0, 0, 0, 0, 0, 0, 0, 0, 0, 0, 0, 0, 0, 0, 0, 0, 0, 0, 0, 0, 0, 0, 0, 0, 0, 0, 0, 0, 0, 0, 0, 0, 0, 0, 0, 0, 0, 0, 0, 0, 0, 0, 0, 0, 0, 0, 0, 0, 0, 0, 0, 0, 0, 0, 0, 0, 0, 0, 0, 0, 0, 0, 0, 0, 0, 0, 0, 0, 0, 0, 0, 0, 0, 0, 0],\n",
      "41: [1, 0, 0, 0, 0, 0, 0, 0, 0, 0, 0, 0, 0, 0, 1, 1, 0, 0, 1, 0, 0, 0, 0, 0, 1, 0, 1, 0, 0, 0, 0, 0, 0, 0, 0, 0, 0, 0, 0, 0, 0, 0, 0, 0, 0, 0, 0, 0, 0, 0, 0, 0, 0, 0, 1, 0, 0, 0, 0, 0, 0, 0, 0, 0, 0, 0, 0, 0, 0, 0, 0, 0, 0, 0, 0, 0, 0, 0, 0, 0, 0, 0, 0, 0, 0, 0, 0, 0, 0, 0, 0, 0, 0, 0, 0, 0, 0, 0, 0, 0, 0, 0, 0, 0, 0, 0, 0],\n",
      "42: [1, 0, 0, 0, 0, 0, 0, 0, 0, 0, 0, 0, 0, 0, 1, 1, 0, 0, 0, 0, 0, 0, 0, 0, 1, 0, 0, 0, 0, 0, 0, 0, 0, 0, 0, 0, 0, 0, 0, 0, 0, 0, 0, 0, 0, 0, 0, 0, 0, 0, 0, 0, 0, 0, 1, 0, 0, 0, 0, 0, 0, 0, 0, 0, 0, 0, 0, 0, 0, 0, 0, 0, 0, 0, 0, 0, 0, 0, 0, 0, 0, 0, 0, 1, 0, 0, 0, 0, 0, 0, 0, 0, 0, 0, 0, 0, 0, 0, 0, 0, 0, 0, 0, 0, 0, 0, 0],\n",
      "44: [1, 0, 1, 0, 0, 0, 1, 0, 1, 0, 1, 0, 0, 0, 1, 1, 0, 0, 1, 0, 0, 0, 1, 0, 1, 0, 1, 0, 0, 0, 0, 0, 0, 0, 0, 0, 0, 1, 0, 0, 1, 0, 0, 0, 0, 0, 0, 0, 0, 1, 0, 0, 0, 0, 0, 0, 0, 0, 0, 0, 0, 0, 0, 0, 0, 0, 0, 0, 0, 0, 0, 0, 0, 0, 0, 0, 0, 0, 0, 0, 0, 0, 0, 0, 0, 0, 0, 0, 0, 0, 0, 0, 0, 0, 0, 0, 0, 0, 0, 0, 0, 0, 0, 0, 1, 0, 0],\n",
      "45: [0, 0, 1, 0, 0, 0, 1, 1, 1, 0, 1, 0, 0, 0, 1, 1, 0, 0, 0, 0, 0, 0, 0, 0, 0, 0, 0, 0, 0, 0, 0, 0, 0, 0, 0, 0, 0, 0, 0, 1, 0, 0, 0, 0, 0, 0, 0, 0, 0, 1, 0, 0, 0, 1, 0, 0, 0, 0, 0, 0, 0, 0, 0, 0, 0, 0, 0, 0, 0, 0, 0, 0, 0, 0, 0, 0, 0, 0, 0, 0, 0, 0, 0, 0, 0, 0, 0, 0, 0, 0, 0, 0, 0, 0, 0, 0, 0, 0, 0, 0, 0, 0, 0, 0, 0, 0, 0],\n",
      "47: [1, 0, 1, 0, 0, 0, 1, 0, 1, 0, 1, 0, 0, 0, 1, 1, 0, 0, 1, 0, 0, 0, 1, 0, 0, 0, 1, 0, 0, 0, 0, 0, 0, 0, 0, 0, 1, 1, 0, 1, 1, 0, 0, 0, 0, 0, 0, 0, 0, 0, 0, 0, 0, 0, 0, 0, 0, 0, 0, 0, 0, 0, 0, 0, 0, 0, 0, 0, 0, 0, 0, 0, 0, 0, 0, 0, 0, 0, 0, 0, 0, 0, 0, 0, 0, 0, 1, 0, 0, 0, 0, 0, 0, 0, 1, 0, 0, 0, 0, 0, 0, 0, 0, 0, 0, 0, 0],\n",
      "49: [1, 1, 0, 0, 0, 0, 0, 0, 1, 0, 1, 0, 0, 0, 1, 1, 0, 0, 1, 0, 0, 0, 1, 0, 0, 0, 1, 0, 0, 0, 0, 0, 0, 0, 0, 0, 0, 1, 0, 1, 1, 0, 0, 0, 0, 0, 0, 0, 0, 1, 0, 0, 0, 0, 0, 0, 0, 0, 0, 0, 0, 0, 0, 0, 0, 0, 0, 0, 0, 0, 0, 0, 0, 0, 0, 0, 0, 0, 0, 0, 0, 0, 0, 0, 0, 0, 0, 0, 0, 0, 0, 0, 0, 0, 0, 0, 0, 0, 0, 0, 0, 0, 0, 0, 0, 0, 0],\n",
      "50: [1, 0, 0, 0, 0, 0, 0, 0, 0, 0, 0, 0, 0, 0, 1, 1, 0, 0, 1, 0, 0, 0, 0, 0, 0, 0, 1, 0, 0, 0, 0, 0, 0, 0, 0, 0, 0, 0, 0, 1, 0, 0, 0, 0, 0, 0, 0, 0, 0, 0, 0, 0, 0, 0, 1, 0, 0, 0, 0, 0, 0, 0, 0, 0, 0, 0, 0, 0, 0, 0, 0, 0, 0, 0, 0, 0, 0, 0, 0, 0, 0, 0, 0, 0, 0, 0, 0, 0, 0, 0, 0, 0, 0, 0, 0, 0, 0, 0, 0, 0, 0, 0, 0, 0, 0, 0, 0],\n",
      "51: [1, 0, 1, 0, 0, 0, 1, 1, 0, 0, 0, 0, 0, 0, 1, 1, 0, 0, 1, 0, 1, 0, 1, 0, 0, 0, 1, 0, 0, 0, 0, 0, 0, 0, 0, 0, 0, 0, 0, 0, 1, 0, 0, 0, 0, 0, 0, 0, 0, 0, 1, 0, 0, 0, 0, 0, 0, 0, 0, 0, 0, 0, 0, 0, 0, 0, 0, 0, 0, 0, 0, 0, 0, 0, 0, 0, 0, 0, 0, 0, 0, 0, 0, 0, 0, 0, 0, 0, 0, 0, 0, 0, 0, 0, 0, 0, 0, 0, 0, 0, 0, 0, 0, 0, 0, 0, 0],\n",
      "52: [1, 0, 1, 0, 0, 0, 0, 0, 0, 0, 0, 0, 1, 0, 1, 1, 0, 0, 1, 0, 0, 0, 1, 0, 0, 0, 1, 0, 0, 0, 0, 0, 0, 0, 0, 0, 1, 1, 0, 0, 1, 0, 0, 0, 0, 0, 0, 0, 0, 0, 1, 0, 0, 0, 0, 0, 0, 0, 0, 0, 0, 0, 0, 0, 0, 0, 0, 0, 0, 0, 0, 0, 0, 0, 0, 0, 0, 0, 0, 0, 0, 0, 0, 0, 0, 0, 0, 0, 0, 0, 0, 0, 0, 0, 0, 0, 0, 0, 0, 0, 0, 0, 0, 0, 0, 0, 0],\n",
      "53: [0, 0, 0, 0, 0, 0, 0, 0, 0, 0, 0, 1, 0, 0, 0, 0, 0, 0, 0, 0, 0, 0, 0, 0, 0, 0, 0, 0, 0, 0, 0, 0, 0, 0, 0, 0, 0, 0, 0, 0, 0, 0, 0, 0, 0, 0, 0, 0, 0, 0, 0, 0, 0, 0, 0, 0, 0, 0, 0, 0, 0, 0, 0, 0, 0, 0, 0, 0, 0, 0, 0, 0, 0, 0, 0, 0, 0, 0, 0, 0, 0, 0, 0, 0, 0, 0, 0, 0, 0, 0, 0, 0, 0, 0, 0, 0, 0, 0, 0, 0, 0, 0, 0, 0, 0, 0, 0],\n",
      "54: [0, 0, 0, 0, 0, 1, 0, 0, 0, 0, 0, 1, 0, 0, 0, 0, 1, 0, 0, 0, 0, 0, 0, 1, 0, 0, 0, 0, 0, 0, 1, 0, 0, 0, 1, 0, 0, 0, 0, 0, 0, 0, 0, 0, 0, 0, 0, 0, 0, 0, 0, 0, 0, 0, 0, 0, 0, 0, 0, 0, 0, 0, 0, 0, 0, 0, 1, 1, 0, 0, 0, 0, 0, 0, 0, 0, 0, 1, 0, 0, 1, 0, 0, 0, 0, 0, 0, 0, 0, 0, 0, 0, 0, 0, 0, 0, 0, 0, 0, 0, 0, 0, 0, 0, 0, 0, 0],\n",
      "55: [0, 0, 0, 0, 0, 0, 0, 0, 0, 0, 0, 1, 0, 0, 0, 0, 1, 1, 0, 0, 1, 0, 0, 1, 0, 0, 0, 0, 0, 0, 1, 0, 0, 0, 1, 0, 0, 0, 0, 0, 0, 0, 0, 0, 0, 0, 0, 0, 0, 1, 0, 0, 0, 0, 0, 0, 0, 0, 0, 0, 0, 0, 0, 1, 0, 0, 1, 0, 0, 0, 0, 0, 0, 0, 0, 0, 0, 1, 0, 0, 0, 0, 0, 0, 0, 0, 0, 0, 0, 0, 0, 0, 0, 0, 0, 0, 0, 0, 0, 0, 0, 0, 0, 0, 0, 0, 0],\n",
      "56: [1, 1, 1, 1, 1, 1, 1, 0, 1, 0, 1, 1, 0, 0, 0, 0, 0, 1, 0, 0, 0, 0, 0, 1, 0, 0, 0, 0, 0, 0, 1, 0, 0, 0, 1, 0, 0, 0, 0, 0, 0, 0, 0, 0, 0, 0, 0, 0, 0, 0, 0, 0, 0, 0, 0, 0, 0, 0, 0, 0, 0, 0, 0, 1, 0, 0, 0, 0, 0, 0, 0, 0, 0, 0, 0, 0, 0, 0, 0, 0, 0, 0, 0, 0, 0, 0, 0, 0, 0, 0, 0, 0, 0, 0, 0, 0, 0, 0, 0, 0, 0, 0, 0, 0, 0, 0, 0],\n",
      "57: [1, 1, 1, 1, 1, 1, 1, 0, 1, 0, 1, 1, 1, 0, 0, 0, 0, 0, 0, 0, 0, 0, 0, 1, 0, 0, 0, 0, 0, 0, 0, 0, 0, 0, 0, 0, 0, 0, 0, 0, 0, 1, 0, 0, 0, 0, 0, 0, 0, 0, 0, 0, 0, 0, 0, 0, 0, 0, 0, 0, 0, 0, 0, 1, 0, 0, 0, 0, 0, 0, 0, 0, 0, 0, 0, 0, 0, 0, 0, 0, 0, 0, 0, 0, 0, 0, 0, 0, 0, 0, 0, 0, 0, 0, 0, 0, 0, 0, 0, 0, 0, 0, 0, 0, 0, 0, 0],\n",
      "59: [1, 1, 1, 1, 1, 0, 1, 1, 1, 1, 1, 1, 0, 0, 0, 0, 0, 0, 0, 0, 0, 0, 0, 1, 0, 0, 0, 0, 0, 0, 1, 0, 0, 0, 1, 0, 0, 0, 0, 0, 0, 0, 1, 0, 0, 0, 0, 0, 0, 0, 0, 0, 0, 0, 0, 0, 0, 0, 0, 0, 0, 0, 0, 0, 0, 0, 0, 0, 0, 0, 0, 0, 1, 0, 0, 0, 0, 0, 1, 0, 0, 0, 0, 0, 0, 1, 0, 0, 0, 0, 0, 0, 0, 0, 0, 0, 0, 0, 0, 0, 0, 0, 0, 0, 0, 0, 0],\n",
      "60: [1, 1, 1, 1, 1, 1, 1, 1, 1, 1, 1, 1, 0, 0, 0, 0, 0, 0, 0, 0, 0, 0, 0, 0, 0, 1, 0, 0, 0, 0, 0, 0, 0, 0, 0, 0, 0, 0, 0, 0, 0, 1, 0, 0, 0, 0, 0, 0, 0, 0, 1, 0, 0, 0, 0, 0, 0, 0, 0, 0, 0, 0, 0, 0, 0, 0, 0, 0, 0, 0, 0, 0, 0, 0, 0, 1, 0, 0, 0, 0, 0, 0, 0, 0, 0, 0, 0, 0, 0, 0, 0, 0, 0, 0, 0, 0, 0, 0, 0, 0, 0, 0, 0, 0, 0, 0, 0],\n",
      "61: [1, 1, 1, 1, 1, 1, 1, 1, 1, 1, 1, 1, 0, 0, 0, 0, 0, 0, 0, 0, 0, 0, 0, 0, 0, 1, 0, 0, 0, 0, 0, 0, 0, 0, 0, 0, 0, 0, 0, 0, 0, 1, 0, 0, 0, 0, 0, 0, 0, 0, 1, 0, 0, 0, 0, 0, 0, 0, 0, 0, 0, 0, 0, 0, 0, 0, 0, 0, 0, 0, 0, 0, 0, 0, 0, 1, 0, 0, 0, 0, 0, 0, 0, 0, 0, 0, 0, 0, 0, 0, 0, 0, 0, 0, 0, 0, 0, 0, 0, 0, 0, 0, 0, 0, 0, 0, 0],\n",
      "62: [0, 1, 0, 1, 1, 1, 0, 1, 1, 0, 0, 1, 0, 0, 0, 0, 0, 1, 0, 0, 0, 0, 0, 1, 0, 0, 0, 0, 0, 0, 0, 1, 0, 0, 0, 0, 0, 0, 0, 0, 0, 0, 0, 0, 0, 0, 0, 0, 0, 0, 0, 0, 0, 0, 0, 0, 0, 0, 0, 0, 0, 0, 0, 0, 0, 0, 0, 0, 0, 0, 0, 0, 0, 0, 0, 0, 1, 0, 0, 0, 0, 0, 0, 0, 0, 0, 0, 0, 0, 1, 0, 0, 0, 0, 0, 0, 0, 0, 0, 0, 0, 1, 0, 0, 0, 0, 0],\n",
      "63: [0, 1, 0, 1, 1, 1, 0, 0, 1, 1, 1, 1, 0, 0, 0, 0, 0, 1, 0, 0, 0, 0, 0, 0, 0, 0, 0, 0, 0, 0, 0, 0, 0, 0, 0, 0, 1, 0, 0, 0, 0, 0, 1, 0, 0, 0, 0, 0, 0, 0, 0, 0, 0, 0, 0, 0, 0, 0, 0, 0, 0, 0, 0, 0, 0, 1, 0, 0, 0, 0, 0, 0, 0, 0, 0, 0, 0, 0, 0, 0, 0, 0, 0, 0, 0, 0, 0, 0, 0, 0, 0, 0, 0, 0, 0, 0, 0, 0, 0, 0, 0, 0, 0, 0, 0, 0, 1],\n",
      "64: [1, 1, 1, 0, 1, 1, 0, 0, 1, 0, 1, 1, 0, 0, 0, 0, 0, 0, 0, 0, 0, 0, 0, 1, 0, 0, 0, 0, 0, 0, 1, 0, 0, 0, 0, 0, 0, 0, 0, 0, 0, 1, 1, 0, 0, 0, 0, 0, 0, 0, 0, 0, 0, 0, 0, 0, 0, 0, 0, 0, 0, 0, 0, 0, 0, 1, 0, 0, 0, 0, 0, 0, 0, 0, 0, 0, 0, 0, 0, 0, 0, 0, 0, 0, 0, 0, 0, 0, 0, 0, 0, 0, 0, 1, 0, 0, 0, 0, 1, 0, 0, 0, 0, 0, 0, 0, 0],\n",
      "65: [1, 1, 1, 1, 1, 1, 1, 1, 1, 1, 1, 1, 0, 0, 0, 0, 0, 0, 0, 0, 0, 0, 0, 0, 0, 1, 0, 0, 0, 0, 0, 0, 0, 0, 0, 0, 0, 0, 0, 0, 0, 0, 0, 0, 0, 0, 0, 1, 0, 0, 0, 0, 0, 0, 0, 0, 0, 0, 0, 0, 0, 0, 0, 0, 0, 0, 0, 0, 0, 0, 0, 0, 0, 0, 0, 0, 0, 0, 0, 0, 0, 0, 1, 0, 0, 0, 0, 0, 0, 0, 0, 0, 0, 0, 0, 1, 0, 0, 0, 0, 0, 0, 1, 0, 0, 0, 0],\n",
      "66: [0, 1, 1, 1, 1, 1, 0, 1, 1, 1, 1, 1, 0, 0, 0, 0, 0, 0, 0, 0, 0, 0, 0, 0, 0, 1, 0, 0, 0, 0, 0, 0, 0, 0, 0, 0, 0, 0, 0, 0, 0, 0, 0, 0, 0, 0, 0, 0, 0, 0, 0, 0, 0, 0, 0, 0, 0, 0, 0, 0, 0, 0, 0, 0, 0, 1, 0, 0, 0, 0, 0, 0, 0, 0, 0, 0, 0, 0, 0, 0, 0, 0, 0, 0, 0, 0, 0, 0, 0, 0, 0, 0, 0, 0, 0, 0, 0, 0, 0, 0, 0, 0, 0, 0, 0, 1, 0],\n",
      "71: [0, 0, 0, 0, 0, 0, 0, 0, 0, 0, 0, 0, 0, 0, 0, 0, 0, 0, 0, 0, 0, 0, 0, 0, 1, 0, 0, 0, 0, 1, 0, 0, 0, 0, 0, 0, 0, 0, 0, 0, 0, 0, 0, 0, 0, 0, 0, 0, 0, 0, 0, 0, 0, 0, 0, 0, 0, 0, 0, 0, 0, 0, 0, 0, 0, 0, 0, 0, 0, 0, 0, 0, 0, 0, 1, 0, 0, 0, 0, 0, 0, 0, 0, 0, 0, 0, 0, 0, 0, 0, 0, 0, 0, 0, 0, 0, 0, 0, 0, 0, 1, 0, 0, 0, 0, 0, 0],\n",
      "72: [0, 0, 0, 0, 0, 0, 0, 0, 0, 0, 0, 0, 1, 0, 0, 0, 0, 0, 0, 0, 0, 0, 0, 0, 1, 0, 0, 0, 0, 1, 0, 0, 0, 0, 0, 1, 0, 0, 0, 0, 0, 0, 0, 0, 0, 0, 0, 0, 0, 0, 0, 0, 0, 0, 0, 0, 1, 1, 0, 0, 0, 0, 0, 0, 1, 0, 0, 0, 0, 0, 0, 0, 0, 0, 0, 0, 0, 0, 0, 0, 0, 0, 0, 0, 0, 0, 0, 0, 0, 0, 0, 0, 0, 0, 0, 0, 0, 0, 0, 0, 0, 0, 0, 0, 0, 0, 0],\n",
      "73: [0, 0, 0, 0, 0, 0, 0, 0, 0, 0, 0, 0, 1, 0, 0, 0, 0, 0, 0, 0, 0, 0, 0, 0, 0, 0, 0, 0, 0, 1, 0, 0, 0, 0, 0, 1, 0, 0, 0, 1, 0, 0, 0, 0, 0, 0, 0, 0, 0, 0, 0, 0, 0, 0, 0, 0, 1, 1, 0, 0, 0, 0, 0, 0, 1, 0, 0, 0, 0, 0, 0, 0, 0, 0, 0, 0, 0, 0, 0, 0, 0, 0, 0, 0, 0, 0, 0, 0, 0, 0, 0, 0, 0, 0, 0, 0, 0, 0, 0, 0, 0, 0, 0, 0, 0, 0, 0],\n",
      "74: [1, 0, 0, 0, 0, 0, 0, 0, 0, 0, 0, 0, 0, 0, 0, 0, 0, 0, 0, 0, 0, 0, 0, 0, 0, 0, 0, 0, 0, 1, 0, 0, 0, 0, 0, 1, 0, 0, 0, 0, 0, 0, 0, 0, 0, 0, 0, 0, 0, 0, 0, 0, 0, 1, 0, 0, 0, 0, 0, 0, 0, 0, 0, 0, 0, 0, 0, 0, 0, 0, 0, 0, 0, 0, 1, 0, 0, 0, 0, 0, 0, 0, 0, 0, 0, 0, 0, 0, 0, 0, 0, 0, 0, 0, 0, 0, 0, 0, 0, 0, 0, 0, 0, 0, 0, 0, 0],\n",
      "76: [0, 0, 0, 0, 0, 0, 0, 0, 0, 0, 0, 0, 0, 0, 0, 0, 0, 0, 0, 0, 0, 0, 0, 0, 0, 0, 0, 0, 0, 1, 0, 0, 0, 0, 0, 1, 0, 0, 0, 0, 0, 0, 0, 0, 0, 0, 0, 0, 0, 0, 0, 0, 0, 0, 0, 0, 0, 0, 0, 0, 0, 0, 0, 0, 0, 0, 0, 0, 0, 0, 0, 0, 0, 0, 0, 0, 0, 0, 0, 1, 0, 0, 0, 0, 0, 0, 0, 0, 0, 0, 1, 0, 0, 0, 0, 0, 0, 0, 0, 0, 0, 0, 0, 0, 0, 0, 0],\n",
      "77: [0, 0, 0, 0, 0, 0, 0, 0, 0, 0, 0, 0, 1, 0, 0, 0, 0, 0, 0, 0, 0, 0, 0, 0, 0, 0, 0, 0, 0, 1, 0, 0, 0, 0, 0, 1, 0, 0, 0, 0, 0, 0, 0, 0, 0, 0, 0, 0, 0, 0, 0, 0, 0, 0, 0, 0, 1, 1, 0, 0, 0, 0, 0, 0, 1, 0, 0, 0, 0, 0, 0, 0, 0, 0, 0, 0, 0, 0, 0, 0, 0, 0, 0, 0, 0, 0, 0, 0, 0, 0, 0, 0, 0, 0, 0, 0, 0, 0, 0, 0, 0, 0, 0, 0, 0, 0, 0],\n",
      "79: [0, 0, 0, 0, 0, 0, 0, 0, 0, 0, 0, 1, 0, 0, 0, 0, 0, 0, 0, 0, 0, 0, 0, 0, 0, 0, 0, 0, 0, 0, 0, 0, 0, 0, 0, 1, 0, 0, 0, 0, 0, 0, 0, 0, 0, 0, 0, 0, 0, 0, 0, 0, 0, 0, 0, 0, 0, 0, 0, 0, 1, 1, 0, 0, 0, 0, 0, 0, 0, 0, 0, 0, 0, 0, 0, 0, 0, 0, 0, 1, 0, 0, 0, 0, 0, 0, 0, 0, 0, 0, 0, 0, 0, 0, 0, 0, 0, 0, 0, 0, 0, 0, 0, 0, 0, 0, 0],\n",
      "83: [0, 0, 0, 1, 0, 0, 0, 0, 0, 0, 0, 0, 1, 1, 0, 0, 0, 0, 0, 0, 0, 0, 0, 0, 0, 0, 0, 0, 0, 0, 0, 0, 0, 0, 0, 0, 0, 0, 0, 0, 0, 0, 1, 0, 0, 1, 0, 0, 0, 0, 0, 1, 0, 0, 0, 0, 0, 0, 0, 0, 1, 1, 0, 0, 0, 0, 0, 0, 0, 0, 0, 1, 0, 1, 0, 0, 0, 0, 0, 0, 0, 0, 0, 0, 0, 0, 0, 0, 0, 0, 0, 0, 0, 0, 0, 0, 0, 0, 0, 0, 0, 0, 0, 0, 0, 0, 0],\n",
      "84: [0, 0, 1, 0, 0, 0, 0, 0, 1, 0, 0, 0, 1, 0, 0, 0, 0, 0, 0, 0, 0, 0, 0, 0, 0, 0, 0, 0, 0, 0, 0, 0, 0, 0, 0, 0, 1, 0, 0, 0, 0, 0, 0, 0, 0, 0, 0, 0, 0, 0, 0, 1, 0, 0, 0, 0, 0, 0, 0, 0, 0, 0, 0, 0, 0, 0, 0, 0, 0, 0, 0, 0, 0, 0, 0, 0, 0, 0, 0, 0, 0, 0, 0, 0, 0, 0, 0, 0, 0, 0, 0, 0, 0, 0, 0, 0, 1, 1, 0, 0, 0, 0, 0, 0, 0, 0, 0],\n",
      "86: [1, 0, 0, 0, 0, 0, 1, 0, 1, 0, 0, 0, 0, 0, 0, 0, 0, 0, 0, 0, 0, 0, 0, 0, 0, 0, 0, 0, 0, 0, 0, 0, 0, 0, 0, 0, 0, 1, 0, 0, 0, 0, 0, 0, 0, 0, 0, 0, 0, 0, 0, 0, 0, 0, 0, 0, 0, 0, 0, 1, 0, 0, 0, 0, 0, 0, 0, 0, 1, 0, 0, 0, 0, 0, 0, 0, 0, 0, 0, 0, 0, 0, 0, 0, 0, 0, 0, 0, 0, 0, 0, 0, 0, 0, 0, 0, 0, 0, 0, 0, 0, 0, 0, 0, 0, 0, 0],\n",
      "89: [0, 0, 0, 0, 0, 0, 0, 0, 0, 0, 0, 0, 1, 1, 0, 0, 0, 0, 0, 0, 1, 0, 0, 0, 0, 0, 0, 0, 0, 0, 0, 0, 0, 0, 0, 0, 0, 0, 0, 0, 0, 0, 0, 0, 0, 0, 0, 0, 0, 0, 0, 1, 0, 0, 0, 0, 0, 0, 0, 0, 1, 1, 0, 0, 0, 0, 0, 0, 0, 0, 0, 1, 0, 1, 0, 0, 0, 0, 0, 0, 0, 0, 0, 0, 0, 0, 0, 0, 0, 0, 0, 0, 0, 0, 0, 0, 0, 0, 0, 0, 0, 0, 0, 0, 0, 0, 0],\n",
      "91: [0, 0, 1, 0, 0, 0, 1, 1, 1, 0, 0, 0, 0, 0, 0, 0, 0, 0, 0, 0, 0, 0, 0, 0, 1, 0, 0, 0, 0, 0, 0, 0, 1, 0, 0, 0, 1, 0, 0, 0, 0, 0, 0, 0, 0, 0, 0, 0, 0, 0, 0, 0, 0, 0, 0, 0, 0, 0, 0, 0, 0, 0, 0, 0, 0, 0, 0, 0, 0, 0, 0, 0, 0, 0, 0, 0, 0, 0, 0, 0, 0, 0, 0, 0, 0, 0, 0, 0, 0, 0, 0, 0, 0, 0, 0, 0, 0, 0, 0, 0, 0, 0, 0, 0, 0, 0, 0],\n",
      "93: [0, 0, 0, 0, 0, 0, 0, 0, 0, 0, 0, 0, 0, 0, 0, 0, 0, 0, 0, 0, 0, 0, 0, 0, 0, 0, 0, 0, 0, 0, 0, 0, 0, 0, 0, 0, 0, 0, 0, 0, 0, 0, 0, 0, 0, 0, 0, 0, 0, 0, 0, 0, 0, 1, 0, 0, 0, 0, 0, 0, 0, 0, 0, 0, 0, 0, 0, 0, 0, 1, 0, 0, 0, 0, 0, 0, 0, 0, 0, 0, 0, 0, 0, 0, 0, 0, 0, 1, 0, 0, 0, 0, 0, 0, 0, 0, 0, 0, 0, 0, 0, 0, 0, 0, 0, 0, 0],\n",
      "94: [0, 0, 0, 0, 0, 0, 0, 0, 0, 0, 0, 0, 0, 0, 0, 0, 0, 0, 0, 0, 0, 0, 1, 0, 0, 0, 0, 0, 0, 0, 0, 0, 0, 0, 0, 0, 0, 0, 0, 0, 0, 0, 0, 0, 0, 0, 0, 0, 0, 0, 0, 0, 0, 0, 0, 0, 0, 0, 0, 0, 0, 0, 0, 0, 0, 0, 0, 1, 0, 1, 0, 0, 0, 0, 0, 0, 0, 0, 0, 0, 0, 0, 0, 0, 0, 0, 0, 0, 0, 0, 0, 0, 0, 0, 0, 0, 0, 0, 0, 0, 0, 0, 0, 0, 0, 0, 0],}\n"
     ]
    }
   ],
   "source": [
    "print(\"\" + \"\\n\".join(\"{!r}: {!r},\".format(k, v) for k, v in xview_label_dict_embedded.items()) + \"}\")"
   ]
  }
 ],
 "metadata": {
  "kernelspec": {
   "display_name": "Python 3",
   "language": "python",
   "name": "python3"
  },
  "language_info": {
   "codemirror_mode": {
    "name": "ipython",
    "version": 3
   },
   "file_extension": ".py",
   "mimetype": "text/x-python",
   "name": "python",
   "nbconvert_exporter": "python",
   "pygments_lexer": "ipython3",
   "version": "3.8.8"
  }
 },
 "nbformat": 4,
 "nbformat_minor": 5
}
