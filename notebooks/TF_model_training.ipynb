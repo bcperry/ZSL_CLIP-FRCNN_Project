{
 "cells": [
  {
   "cell_type": "markdown",
   "metadata": {},
   "source": [
    "# Install packages"
   ]
  },
  {
   "cell_type": "code",
   "execution_count": null,
   "metadata": {},
   "outputs": [],
   "source": []
  },
  {
   "cell_type": "markdown",
   "metadata": {},
   "source": [
    "# General setup"
   ]
  },
  {
   "cell_type": "code",
   "execution_count": 1,
   "metadata": {},
   "outputs": [],
   "source": [
    "import os # importing OS in order to make GPU visible\n",
    "import time\n",
    "os.environ[\"CUDA_DEVICE_ORDER\"]=\"PCI_BUS_ID\"\n",
    "# specify which device you want to work on.\n",
    "# Use \"-1\" to work on a CPU. Default value \"0\" stands for the 1st GPU that will be used\n",
    "os.environ[\"CUDA_VISIBLE_DEVICES\"]='1'"
   ]
  },
  {
   "cell_type": "code",
   "execution_count": 2,
   "metadata": {},
   "outputs": [],
   "source": [
    "#code structure below courtesy https://github.com/nicknochnack/TFODCourse\n",
    "MODEL_NAME = 'resnet50' \n",
    "MODEL_VERSION = 'v4'\n",
    "PRETRAINED_MODEL_NAME = 'faster_rcnn_resnet50_v1_640x640_coco17_tpu-8'\n",
    "PRETRAINED_MODEL_URL = 'http://download.tensorflow.org/models/object_detection/tf2/20200711/faster_rcnn_resnet50_v1_640x640_coco17_tpu-8.tar.gz'\n",
    "CLASS_LABELS_FILE = 'Class Labels.txt'\n",
    "LABEL_MAP_NAME = 'label_map.pbtxt'\n",
    "TFR_FILENAME = 'cleaned_complete'\n",
    "TEST_RATIO = .2\n",
    "TRAIN_RECORD = 'xview_train_cleaned_complete.record'\n",
    "EVAL_RECORD = 'xview_test_cleaned_complete.record'\n",
    "TEST_RECORD = 'xview_test_cleaned.record'\n",
    "GEOJSON_FILE = 'train_data_clean.geojson'\n",
    "\n",
    "XVIEW_UTILS_PATH = r'C:\\Users\\bcper\\Documents\\GitHub'\n",
    "TF_INSTALL_PATH = r'C:\\Users\\bcper\\Documents\\GitHub\\models'\n",
    "\n",
    "NUM_TRAINING_IMAGES = 44460\n",
    "NUM_EPOCHS = 10\n",
    "BATCH_SIZE = 6\n",
    "\n",
    "STEPS = int(NUM_TRAINING_IMAGES / BATCH_SIZE * NUM_EPOCHS)\n"
   ]
  },
  {
   "cell_type": "code",
   "execution_count": 3,
   "metadata": {},
   "outputs": [],
   "source": [
    "DATA_DIR_PATH = os.path.join(TF_INSTALL_PATH, 'workspace','data', '')\n",
    "\n",
    "paths = {\n",
    "    'WORK_PATH': os.path.join(TF_INSTALL_PATH, 'workspace'),\n",
    "    'TFR_WORK_PATH': os.path.join(XVIEW_UTILS_PATH,'xView_data_utilities'),\n",
    "    'SCRIPTS_PATH': os.path.join(TF_INSTALL_PATH,'research', 'object_detection'),\n",
    "    'LABELMAP_PATH': DATA_DIR_PATH,\n",
    "    'TFR_TRAIN_IMAGE': os.path.join(DATA_DIR_PATH, 'train_images',''),\n",
    "    'TFR_TEST_IMAGE': os.path.join(DATA_DIR_PATH, 'test_images', ''),\n",
    "    'MODEL_PATH': os.path.join(TF_INSTALL_PATH, 'workspace','models', MODEL_NAME, MODEL_VERSION, ''),\n",
    "    'PRETRAINED_MODEL': os.path.join(TF_INSTALL_PATH, 'workspace','pre-trained_models'),\n",
    "    'CHECKPOINT_PATH': os.path.join(TF_INSTALL_PATH, 'workspace','models', MODEL_NAME), \n",
    "    'EXPORT_PATH': os.path.join(TF_INSTALL_PATH, 'workspace','exported_models',MODEL_NAME + '_' + MODEL_VERSION),\n",
    "    'PROTOC_PATH':os.path.join(TF_INSTALL_PATH,'protoc'),\n",
    "    'GEOJSON_PATH': os.path.join(TF_INSTALL_PATH, 'workspace','data'),\n",
    "    'CLASS_LABEL_PATH': DATA_DIR_PATH,\n",
    "    'DATA_PATH': DATA_DIR_PATH\n",
    " }"
   ]
  },
  {
   "cell_type": "code",
   "execution_count": 4,
   "metadata": {},
   "outputs": [],
   "source": [
    "files = {\n",
    "    'PIPELINE_CONFIG_SOURCE': os.path.join(paths['PRETRAINED_MODEL'],PRETRAINED_MODEL_NAME, 'pipeline.config'), \n",
    "    'PIPELINE_CONFIG':os.path.join(TF_INSTALL_PATH, 'workspace','models', MODEL_NAME, MODEL_VERSION, 'pipeline.config'),\n",
    "    'LABELMAP': os.path.join(paths['LABELMAP_PATH'], LABEL_MAP_NAME),\n",
    "    'GEOJSON': os.path.join(paths['GEOJSON_PATH'], GEOJSON_FILE),\n",
    "    'CLASS_LABELS': os.path.join(paths['CLASS_LABEL_PATH'], CLASS_LABELS_FILE),\n",
    "    'TRAIN_RECORD': os.path.join(paths['DATA_PATH'], TRAIN_RECORD),\n",
    "    'EVAL_RECORD': os.path.join(paths['DATA_PATH'], EVAL_RECORD),\n",
    "    'TEST_RECORD': os.path.join(paths['DATA_PATH'], TEST_RECORD),\n",
    "    'FINE_TUNE_CKPT': os.path.join(paths['PRETRAINED_MODEL'], PRETRAINED_MODEL_NAME, 'checkpoint', 'ckpt-0'),\n",
    "    'TRAINING_SCRIPT': os.path.join(paths['SCRIPTS_PATH'], 'model_main_tf2.py')\n",
    "}"
   ]
  },
  {
   "cell_type": "code",
   "execution_count": 5,
   "metadata": {},
   "outputs": [],
   "source": [
    "config = {\n",
    "    'CLASSES': 95,\n",
    "    'STEPS': STEPS,\n",
    "    'BATCH_SIZE': BATCH_SIZE,\n",
    "    'WARMUP_LEARN_RATE': .001,\n",
    "    'BASE_LEARN_RATE': .01 ,\n",
    "    'WARMUP_STEPS': 1000\n",
    "}"
   ]
  },
  {
   "cell_type": "code",
   "execution_count": 6,
   "metadata": {},
   "outputs": [
    {
     "name": "stdout",
     "output_type": "stream",
     "text": [
      "Model Training command: \n",
      "\n",
      "model_main_tf2.py --pipeline_config_path=C:\\Users\\bcper\\Documents\\GitHub\\models\\workspace\\models\\resnet50\\v4\\pipeline.config --model_dir=C:\\Users\\bcper\\Documents\\GitHub\\models\\workspace\\models\\resnet50\\v4\\  --alsologtostderr\n",
      "\n",
      "Model Evaluation Command: \n",
      "\n",
      "model_main_tf2.py --pipeline_config_path=C:\\Users\\bcper\\Documents\\GitHub\\models\\workspace\\models\\resnet50\\v4\\pipeline.config --model_dir=C:\\Users\\bcper\\Documents\\GitHub\\models\\workspace\\models\\resnet50\\v4\\ --checkpoint_dir=C:\\Users\\bcper\\Documents\\GitHub\\models\\workspace\\models\\resnet50\\v4\\  --sample_1_of_n_eval_examples=1\n",
      "\n",
      "Tensorboard Command: \n",
      "\n",
      "tensorboard --logdir=C:\\Users\\bcper\\Documents\\GitHub\\models\\workspace\\models\\resnet50\n",
      "\n"
     ]
    }
   ],
   "source": [
    "train_model = '{} --pipeline_config_path={} --model_dir={}  --alsologtostderr'.format('model_main_tf2.py', files['PIPELINE_CONFIG'], paths['MODEL_PATH'])\n",
    "print('Model Training command: \\n')\n",
    "print(train_model)\n",
    "print()\n",
    "evaluate_model = '{} --pipeline_config_path={} --model_dir={} --checkpoint_dir={}  --sample_1_of_n_eval_examples=1'.format('model_main_tf2.py', files['PIPELINE_CONFIG'], paths['MODEL_PATH'], paths['MODEL_PATH'])\n",
    "print('Model Evaluation Command: \\n')\n",
    "print(evaluate_model)\n",
    "print()\n",
    "run_tensorboard = 'tensorboard --logdir={}'.format(paths['CHECKPOINT_PATH'])\n",
    "print('Tensorboard Command: \\n')\n",
    "print(run_tensorboard)\n",
    "print()"
   ]
  },
  {
   "cell_type": "markdown",
   "metadata": {},
   "source": [
    "# Generate the TF .record files"
   ]
  },
  {
   "cell_type": "code",
   "execution_count": 13,
   "metadata": {},
   "outputs": [
    {
     "name": "stderr",
     "output_type": "stream",
     "text": [
      "100%|██████████████████████████████████████████████████████████████████████| 468474/468474 [00:01<00:00, 268466.53it/s]\n",
      "INFO:root:Res: (500, 500)\n",
      "100%|████████████████████████████████████████████████████████████████████████████████| 845/845 [09:03<00:00,  1.56it/s]\n",
      "INFO:root:Max chips per resolution: 21139 \n",
      "INFO:root:Tot Box: 462529\n",
      "INFO:root:Chips: 14093\n",
      "INFO:root:Res: (400, 400)\n",
      "100%|████████████████████████████████████████████████████████████████████████████████| 845/845 [09:18<00:00,  1.51it/s]\n",
      "INFO:root:Tot Box: 498253\n",
      "INFO:root:Chips: 20748\n",
      "INFO:root:Res: (300, 300)\n",
      "100%|████████████████████████████████████████████████████████████████████████████████| 845/845 [09:39<00:00,  1.46it/s]\n",
      "INFO:root:Tot Box: 360212\n",
      "INFO:root:Chips: 21139\n",
      "INFO:root:saved: 11520 train chips\n",
      "INFO:root:saved: 44460 test chips\n"
     ]
    }
   ],
   "source": [
    "os.chdir(paths['TFR_WORK_PATH'])\n",
    "TFR_TEST_FILENAME = TFR_FILENAME + 'test'\n",
    "\n",
    "\n",
    "generate_train_and_eval = 'process_wv.py {} {} -s={} -t={}'.format(paths['TFR_TRAIN_IMAGE'], files['GEOJSON'], TFR_FILENAME, TEST_RATIO)\n",
    "%run {generate_train_and_eval}\n",
    "\n",
    "#generate_test = 'process_wv.py {} {} -s={} -t={}'.format(paths['TFR_TEST_IMAGE'], files['GEOJSON'], TFR_FILENAME, 0)\n",
    "#%run {generate_test}"
   ]
  },
  {
   "cell_type": "markdown",
   "metadata": {},
   "source": [
    "# Create the label map"
   ]
  },
  {
   "cell_type": "code",
   "execution_count": null,
   "metadata": {},
   "outputs": [],
   "source": [
    "os.chdir(paths['DATA_PATH'])\n",
    "#read in the class labels\n",
    "class_dict = {}\n",
    "file = open(files['CLASS_LABELS'], \"r\")\n",
    "\n",
    "#create a class label dictionary\n",
    "for line in file:\n",
    "    key, value = line.split(':')\n",
    "    class_dict[int(key)] = value.strip()\n",
    "\n",
    "\n",
    "#this will make the list in the correct label format for tensorflow\n",
    "x = ''\n",
    "for key in class_dict:\n",
    "    x = x + ('item { \\n\\tid: ' + str(key) + '\\n\\tname: \\\"' + class_dict.get(key) + '\\\"\\n}\\n\\n')\n",
    "    \n",
    "# Write the label map to a file\n",
    "lmap = open(files['LABELMAP'],\"w\")#write mode\n",
    "lmap.write(x)\n",
    "lmap.close()"
   ]
  },
  {
   "cell_type": "markdown",
   "metadata": {},
   "source": [
    "# When creating a new model using existing data created above"
   ]
  },
  {
   "cell_type": "markdown",
   "metadata": {},
   "source": [
    "# Update the .config file"
   ]
  },
  {
   "cell_type": "code",
   "execution_count": 7,
   "metadata": {},
   "outputs": [],
   "source": [
    "import re\n",
    "import io\n",
    "import tensorflow as tf\n",
    "from object_detection.utils import config_util\n",
    "from object_detection.protos import pipeline_pb2\n",
    "from google.protobuf import text_format\n",
    "\n",
    "config_file = config_util.get_configs_from_pipeline_file(files['PIPELINE_CONFIG_SOURCE'])"
   ]
  },
  {
   "cell_type": "code",
   "execution_count": 8,
   "metadata": {},
   "outputs": [],
   "source": [
    "pipeline_config = pipeline_pb2.TrainEvalPipelineConfig()\n",
    "with tf.io.gfile.GFile(files['PIPELINE_CONFIG_SOURCE'], \"r\") as f:                                                                                                                                                                                                                     \n",
    "    proto_str = f.read()                                                                                                                                                                                                                                          \n",
    "    text_format.Merge(proto_str, pipeline_config)\n",
    "\n",
    "    \n",
    "#this is specific to the faster_rcnn model, for others we would need to change this\n",
    "pipeline_config.model.faster_rcnn.num_classes = config['CLASSES']\n",
    "\n",
    "\n",
    "\n",
    "pipeline_config.train_config.batch_size = config['BATCH_SIZE']\n",
    "pipeline_config.train_config.fine_tune_checkpoint = os.path.join(files['FINE_TUNE_CKPT'])\n",
    "pipeline_config.train_config.fine_tune_checkpoint_type = \"detection\"\n",
    "pipeline_config.train_config.num_steps = config['STEPS']\n",
    "pipeline_config.train_input_reader.label_map_path= files['LABELMAP']\n",
    "pipeline_config.train_input_reader.tf_record_input_reader.input_path[:] = [files['TRAIN_RECORD']]\n",
    "pipeline_config.eval_input_reader[0].label_map_path = files['LABELMAP']\n",
    "pipeline_config.eval_input_reader[0].tf_record_input_reader.input_path[:] = [files['EVAL_RECORD']]\n",
    "pipeline_config.train_config.use_bfloat16 = False\n",
    "pipeline_config.train_config.optimizer.momentum_optimizer.learning_rate.cosine_decay_learning_rate.total_steps = config['STEPS']\n",
    "pipeline_config.train_config.optimizer.momentum_optimizer.learning_rate.cosine_decay_learning_rate.warmup_learning_rate = config['WARMUP_LEARN_RATE']\n",
    "pipeline_config.train_config.optimizer.momentum_optimizer.learning_rate.cosine_decay_learning_rate.learning_rate_base = config['BASE_LEARN_RATE']\n",
    "pipeline_config.train_config.optimizer.momentum_optimizer.learning_rate.cosine_decay_learning_rate.warmup_steps = config['WARMUP_STEPS']\n",
    "\n",
    "\n",
    "config_text = text_format.MessageToString(pipeline_config)    \n",
    "\n",
    "#create the folder if if doesnt exist\n",
    "if not os.path.exists(paths['MODEL_PATH']):\n",
    "    os.makedirs(paths['MODEL_PATH'])\n",
    "   \n",
    "    \n",
    "if os.path.exists(files['PIPELINE_CONFIG']):\n",
    "    with tf.io.gfile.GFile(files['PIPELINE_CONFIG'], \"wb\") as f:                                                                                                                                                                                                                     \n",
    "        f.write(config_text)\n",
    "else:\n",
    "    open(paths['MODEL_PATH'] + \"pipeline.config\", \"x\")\n",
    "    \n",
    "    with tf.io.gfile.GFile(files['PIPELINE_CONFIG'], \"wb\") as f:                                                                                                                                                                                                                     \n",
    "        f.write(config_text)\n",
    "\n"
   ]
  },
  {
   "cell_type": "markdown",
   "metadata": {},
   "source": [
    "## Start the model training"
   ]
  },
  {
   "cell_type": "code",
   "execution_count": 7,
   "metadata": {
    "scrolled": true
   },
   "outputs": [
    {
     "name": "stdout",
     "output_type": "stream",
     "text": [
      "Training model for 74100 steps.\n",
      "Starting at time: 08:20:53\n",
      "WARNING:tensorflow:Collective ops is not configured at program startup. Some performance features may not be enabled.\n"
     ]
    },
    {
     "name": "stderr",
     "output_type": "stream",
     "text": [
      "W0610 08:20:57.794448 12508 mirrored_strategy.py:379] Collective ops is not configured at program startup. Some performance features may not be enabled.\n"
     ]
    },
    {
     "name": "stdout",
     "output_type": "stream",
     "text": [
      "INFO:tensorflow:Using MirroredStrategy with devices ('/job:localhost/replica:0/task:0/device:GPU:0',)\n"
     ]
    },
    {
     "name": "stderr",
     "output_type": "stream",
     "text": [
      "I0610 08:20:58.440447 12508 mirrored_strategy.py:369] Using MirroredStrategy with devices ('/job:localhost/replica:0/task:0/device:GPU:0',)\n"
     ]
    },
    {
     "name": "stdout",
     "output_type": "stream",
     "text": [
      "INFO:tensorflow:Maybe overwriting train_steps: None\n"
     ]
    },
    {
     "name": "stderr",
     "output_type": "stream",
     "text": [
      "I0610 08:20:58.444445 12508 config_util.py:552] Maybe overwriting train_steps: None\n"
     ]
    },
    {
     "name": "stdout",
     "output_type": "stream",
     "text": [
      "INFO:tensorflow:Maybe overwriting use_bfloat16: False\n"
     ]
    },
    {
     "name": "stderr",
     "output_type": "stream",
     "text": [
      "I0610 08:20:58.445447 12508 config_util.py:552] Maybe overwriting use_bfloat16: False\n"
     ]
    },
    {
     "name": "stdout",
     "output_type": "stream",
     "text": [
      "WARNING:tensorflow:From C:\\Users\\bcper\\anaconda3\\lib\\site-packages\\object_detection\\model_lib_v2.py:550: StrategyBase.experimental_distribute_datasets_from_function (from tensorflow.python.distribute.distribute_lib) is deprecated and will be removed in a future version.\n",
      "Instructions for updating:\n",
      "rename to distribute_datasets_from_function\n"
     ]
    },
    {
     "name": "stderr",
     "output_type": "stream",
     "text": [
      "W0610 08:20:58.556449 12508 deprecation.py:330] From C:\\Users\\bcper\\anaconda3\\lib\\site-packages\\object_detection\\model_lib_v2.py:550: StrategyBase.experimental_distribute_datasets_from_function (from tensorflow.python.distribute.distribute_lib) is deprecated and will be removed in a future version.\n",
      "Instructions for updating:\n",
      "rename to distribute_datasets_from_function\n"
     ]
    },
    {
     "name": "stdout",
     "output_type": "stream",
     "text": [
      "INFO:tensorflow:Reading unweighted datasets: ['C:\\\\Users\\\\bcper\\\\Documents\\\\GitHub\\\\models\\\\workspace\\\\data\\\\xview_train_cleaned_complete.record']\n"
     ]
    },
    {
     "name": "stderr",
     "output_type": "stream",
     "text": [
      "I0610 08:20:58.574445 12508 dataset_builder.py:163] Reading unweighted datasets: ['C:\\\\Users\\\\bcper\\\\Documents\\\\GitHub\\\\models\\\\workspace\\\\data\\\\xview_train_cleaned_complete.record']\n"
     ]
    },
    {
     "name": "stdout",
     "output_type": "stream",
     "text": [
      "INFO:tensorflow:Reading record datasets for input file: ['C:\\\\Users\\\\bcper\\\\Documents\\\\GitHub\\\\models\\\\workspace\\\\data\\\\xview_train_cleaned_complete.record']\n"
     ]
    },
    {
     "name": "stderr",
     "output_type": "stream",
     "text": [
      "I0610 08:20:58.575446 12508 dataset_builder.py:80] Reading record datasets for input file: ['C:\\\\Users\\\\bcper\\\\Documents\\\\GitHub\\\\models\\\\workspace\\\\data\\\\xview_train_cleaned_complete.record']\n"
     ]
    },
    {
     "name": "stdout",
     "output_type": "stream",
     "text": [
      "INFO:tensorflow:Number of filenames to read: 1\n"
     ]
    },
    {
     "name": "stderr",
     "output_type": "stream",
     "text": [
      "I0610 08:20:58.576446 12508 dataset_builder.py:81] Number of filenames to read: 1\n"
     ]
    },
    {
     "name": "stdout",
     "output_type": "stream",
     "text": [
      "WARNING:tensorflow:num_readers has been reduced to 1 to match input file shards.\n"
     ]
    },
    {
     "name": "stderr",
     "output_type": "stream",
     "text": [
      "W0610 08:20:58.577448 12508 dataset_builder.py:87] num_readers has been reduced to 1 to match input file shards.\n"
     ]
    },
    {
     "name": "stdout",
     "output_type": "stream",
     "text": [
      "WARNING:tensorflow:From C:\\Users\\bcper\\anaconda3\\lib\\site-packages\\object_detection\\builders\\dataset_builder.py:101: parallel_interleave (from tensorflow.python.data.experimental.ops.interleave_ops) is deprecated and will be removed in a future version.\n",
      "Instructions for updating:\n",
      "Use `tf.data.Dataset.interleave(map_func, cycle_length, block_length, num_parallel_calls=tf.data.AUTOTUNE)` instead. If sloppy execution is desired, use `tf.data.Options.experimental_deterministic`.\n"
     ]
    },
    {
     "name": "stderr",
     "output_type": "stream",
     "text": [
      "W0610 08:20:58.580447 12508 deprecation.py:330] From C:\\Users\\bcper\\anaconda3\\lib\\site-packages\\object_detection\\builders\\dataset_builder.py:101: parallel_interleave (from tensorflow.python.data.experimental.ops.interleave_ops) is deprecated and will be removed in a future version.\n",
      "Instructions for updating:\n",
      "Use `tf.data.Dataset.interleave(map_func, cycle_length, block_length, num_parallel_calls=tf.data.AUTOTUNE)` instead. If sloppy execution is desired, use `tf.data.Options.experimental_deterministic`.\n"
     ]
    },
    {
     "name": "stdout",
     "output_type": "stream",
     "text": [
      "WARNING:tensorflow:From C:\\Users\\bcper\\anaconda3\\lib\\site-packages\\object_detection\\builders\\dataset_builder.py:236: DatasetV1.map_with_legacy_function (from tensorflow.python.data.ops.dataset_ops) is deprecated and will be removed in a future version.\n",
      "Instructions for updating:\n",
      "Use `tf.data.Dataset.map()\n"
     ]
    },
    {
     "name": "stderr",
     "output_type": "stream",
     "text": [
      "W0610 08:20:58.602445 12508 deprecation.py:330] From C:\\Users\\bcper\\anaconda3\\lib\\site-packages\\object_detection\\builders\\dataset_builder.py:236: DatasetV1.map_with_legacy_function (from tensorflow.python.data.ops.dataset_ops) is deprecated and will be removed in a future version.\n",
      "Instructions for updating:\n",
      "Use `tf.data.Dataset.map()\n"
     ]
    },
    {
     "name": "stdout",
     "output_type": "stream",
     "text": [
      "WARNING:tensorflow:From C:\\Users\\bcper\\anaconda3\\lib\\site-packages\\tensorflow\\python\\util\\dispatch.py:206: sparse_to_dense (from tensorflow.python.ops.sparse_ops) is deprecated and will be removed in a future version.\n",
      "Instructions for updating:\n",
      "Create a `tf.sparse.SparseTensor` and use `tf.sparse.to_dense` instead.\n"
     ]
    },
    {
     "name": "stderr",
     "output_type": "stream",
     "text": [
      "W0610 08:21:03.671446 12508 deprecation.py:330] From C:\\Users\\bcper\\anaconda3\\lib\\site-packages\\tensorflow\\python\\util\\dispatch.py:206: sparse_to_dense (from tensorflow.python.ops.sparse_ops) is deprecated and will be removed in a future version.\n",
      "Instructions for updating:\n",
      "Create a `tf.sparse.SparseTensor` and use `tf.sparse.to_dense` instead.\n"
     ]
    },
    {
     "name": "stdout",
     "output_type": "stream",
     "text": [
      "WARNING:tensorflow:From C:\\Users\\bcper\\anaconda3\\lib\\site-packages\\tensorflow\\python\\autograph\\impl\\api.py:464: to_float (from tensorflow.python.ops.math_ops) is deprecated and will be removed in a future version.\n",
      "Instructions for updating:\n",
      "Use `tf.cast` instead.\n"
     ]
    },
    {
     "name": "stderr",
     "output_type": "stream",
     "text": [
      "W0610 08:21:05.939447 12508 deprecation.py:330] From C:\\Users\\bcper\\anaconda3\\lib\\site-packages\\tensorflow\\python\\autograph\\impl\\api.py:464: to_float (from tensorflow.python.ops.math_ops) is deprecated and will be removed in a future version.\n",
      "Instructions for updating:\n",
      "Use `tf.cast` instead.\n",
      "C:\\Users\\bcper\\anaconda3\\lib\\site-packages\\tensorflow\\python\\keras\\backend.py:435: UserWarning: `tf.keras.backend.set_learning_phase` is deprecated and will be removed after 2020-10-11. To update it, simply pass a True/False value to the `training` argument of the `__call__` method of your layer or model.\n",
      "  warnings.warn('`tf.keras.backend.set_learning_phase` is deprecated and '\n"
     ]
    },
    {
     "name": "stdout",
     "output_type": "stream",
     "text": [
      "INFO:tensorflow:depth of additional conv before box predictor: 0\n"
     ]
    },
    {
     "name": "stderr",
     "output_type": "stream",
     "text": [
      "I0610 08:21:13.123445 11480 convolutional_keras_box_predictor.py:153] depth of additional conv before box predictor: 0\n"
     ]
    },
    {
     "name": "stdout",
     "output_type": "stream",
     "text": [
      "WARNING:tensorflow:From C:\\Users\\bcper\\anaconda3\\lib\\site-packages\\tensorflow\\python\\autograph\\impl\\api.py:464: Tensor.experimental_ref (from tensorflow.python.framework.ops) is deprecated and will be removed in a future version.\n",
      "Instructions for updating:\n",
      "Use ref() instead.\n"
     ]
    },
    {
     "name": "stderr",
     "output_type": "stream",
     "text": [
      "W0610 08:21:21.182445 11480 deprecation.py:330] From C:\\Users\\bcper\\anaconda3\\lib\\site-packages\\tensorflow\\python\\autograph\\impl\\api.py:464: Tensor.experimental_ref (from tensorflow.python.framework.ops) is deprecated and will be removed in a future version.\n",
      "Instructions for updating:\n",
      "Use ref() instead.\n"
     ]
    },
    {
     "name": "stdout",
     "output_type": "stream",
     "text": [
      "WARNING:tensorflow:From C:\\Users\\bcper\\anaconda3\\lib\\site-packages\\tensorflow\\python\\util\\dispatch.py:206: softmax_cross_entropy_with_logits (from tensorflow.python.ops.nn_ops) is deprecated and will be removed in a future version.\n",
      "Instructions for updating:\n",
      "\n",
      "Future major versions of TensorFlow will allow gradients to flow\n",
      "into the labels input on backprop by default.\n",
      "\n",
      "See `tf.nn.softmax_cross_entropy_with_logits_v2`.\n",
      "\n"
     ]
    },
    {
     "name": "stderr",
     "output_type": "stream",
     "text": [
      "W0610 08:21:25.678445 11480 deprecation.py:330] From C:\\Users\\bcper\\anaconda3\\lib\\site-packages\\tensorflow\\python\\util\\dispatch.py:206: softmax_cross_entropy_with_logits (from tensorflow.python.ops.nn_ops) is deprecated and will be removed in a future version.\n",
      "Instructions for updating:\n",
      "\n",
      "Future major versions of TensorFlow will allow gradients to flow\n",
      "into the labels input on backprop by default.\n",
      "\n",
      "See `tf.nn.softmax_cross_entropy_with_logits_v2`.\n",
      "\n"
     ]
    },
    {
     "name": "stdout",
     "output_type": "stream",
     "text": [
      "WARNING:tensorflow:Unresolved object in checkpoint: (root).model._groundtruth_lists\n"
     ]
    },
    {
     "name": "stderr",
     "output_type": "stream",
     "text": [
      "W0610 08:21:45.815585 12508 util.py:161] Unresolved object in checkpoint: (root).model._groundtruth_lists\n"
     ]
    },
    {
     "name": "stdout",
     "output_type": "stream",
     "text": [
      "WARNING:tensorflow:Unresolved object in checkpoint: (root).model._first_stage_box_predictor_first_conv\n"
     ]
    },
    {
     "name": "stderr",
     "output_type": "stream",
     "text": [
      "W0610 08:21:45.816585 12508 util.py:161] Unresolved object in checkpoint: (root).model._first_stage_box_predictor_first_conv\n"
     ]
    },
    {
     "name": "stdout",
     "output_type": "stream",
     "text": [
      "WARNING:tensorflow:Unresolved object in checkpoint: (root).model._first_stage_box_predictor\n"
     ]
    },
    {
     "name": "stderr",
     "output_type": "stream",
     "text": [
      "W0610 08:21:45.817589 12508 util.py:161] Unresolved object in checkpoint: (root).model._first_stage_box_predictor\n"
     ]
    },
    {
     "name": "stdout",
     "output_type": "stream",
     "text": [
      "WARNING:tensorflow:Unresolved object in checkpoint: (root).model._maxpool_layer\n"
     ]
    },
    {
     "name": "stderr",
     "output_type": "stream",
     "text": [
      "W0610 08:21:45.818588 12508 util.py:161] Unresolved object in checkpoint: (root).model._maxpool_layer\n"
     ]
    },
    {
     "name": "stdout",
     "output_type": "stream",
     "text": [
      "WARNING:tensorflow:Unresolved object in checkpoint: (root).model._mask_rcnn_box_predictor\n"
     ]
    },
    {
     "name": "stderr",
     "output_type": "stream",
     "text": [
      "W0610 08:21:45.818588 12508 util.py:161] Unresolved object in checkpoint: (root).model._mask_rcnn_box_predictor\n"
     ]
    },
    {
     "name": "stdout",
     "output_type": "stream",
     "text": [
      "WARNING:tensorflow:Unresolved object in checkpoint: (root).model._batched_prediction_tensor_names\n"
     ]
    },
    {
     "name": "stderr",
     "output_type": "stream",
     "text": [
      "W0610 08:21:45.819588 12508 util.py:161] Unresolved object in checkpoint: (root).model._batched_prediction_tensor_names\n"
     ]
    },
    {
     "name": "stdout",
     "output_type": "stream",
     "text": [
      "WARNING:tensorflow:Unresolved object in checkpoint: (root).model.endpoints\n"
     ]
    },
    {
     "name": "stderr",
     "output_type": "stream",
     "text": [
      "W0610 08:21:45.820587 12508 util.py:161] Unresolved object in checkpoint: (root).model.endpoints\n"
     ]
    },
    {
     "name": "stdout",
     "output_type": "stream",
     "text": [
      "WARNING:tensorflow:Unresolved object in checkpoint: (root).model._first_stage_box_predictor_first_conv.layer_with_weights-0\n"
     ]
    },
    {
     "name": "stderr",
     "output_type": "stream",
     "text": [
      "W0610 08:21:45.820587 12508 util.py:161] Unresolved object in checkpoint: (root).model._first_stage_box_predictor_first_conv.layer_with_weights-0\n"
     ]
    },
    {
     "name": "stdout",
     "output_type": "stream",
     "text": [
      "WARNING:tensorflow:Unresolved object in checkpoint: (root).model._first_stage_box_predictor_first_conv.layer-1\n"
     ]
    },
    {
     "name": "stderr",
     "output_type": "stream",
     "text": [
      "W0610 08:21:45.821589 12508 util.py:161] Unresolved object in checkpoint: (root).model._first_stage_box_predictor_first_conv.layer-1\n"
     ]
    },
    {
     "name": "stdout",
     "output_type": "stream",
     "text": [
      "WARNING:tensorflow:Unresolved object in checkpoint: (root).model._first_stage_box_predictor_first_conv.layer-2\n"
     ]
    },
    {
     "name": "stderr",
     "output_type": "stream",
     "text": [
      "W0610 08:21:45.822587 12508 util.py:161] Unresolved object in checkpoint: (root).model._first_stage_box_predictor_first_conv.layer-2\n"
     ]
    },
    {
     "name": "stdout",
     "output_type": "stream",
     "text": [
      "WARNING:tensorflow:Unresolved object in checkpoint: (root).model._first_stage_box_predictor._prediction_heads\n"
     ]
    },
    {
     "name": "stderr",
     "output_type": "stream",
     "text": [
      "W0610 08:21:45.823587 12508 util.py:161] Unresolved object in checkpoint: (root).model._first_stage_box_predictor._prediction_heads\n"
     ]
    },
    {
     "name": "stdout",
     "output_type": "stream",
     "text": [
      "WARNING:tensorflow:Unresolved object in checkpoint: (root).model._first_stage_box_predictor._sorted_head_names\n"
     ]
    },
    {
     "name": "stderr",
     "output_type": "stream",
     "text": [
      "W0610 08:21:45.824588 12508 util.py:161] Unresolved object in checkpoint: (root).model._first_stage_box_predictor._sorted_head_names\n"
     ]
    },
    {
     "name": "stdout",
     "output_type": "stream",
     "text": [
      "WARNING:tensorflow:Unresolved object in checkpoint: (root).model._first_stage_box_predictor._shared_nets\n"
     ]
    },
    {
     "name": "stderr",
     "output_type": "stream",
     "text": [
      "W0610 08:21:45.824588 12508 util.py:161] Unresolved object in checkpoint: (root).model._first_stage_box_predictor._shared_nets\n"
     ]
    },
    {
     "name": "stdout",
     "output_type": "stream",
     "text": [
      "WARNING:tensorflow:Unresolved object in checkpoint: (root).model._mask_rcnn_box_predictor._box_prediction_head\n"
     ]
    },
    {
     "name": "stderr",
     "output_type": "stream",
     "text": [
      "W0610 08:21:45.825587 12508 util.py:161] Unresolved object in checkpoint: (root).model._mask_rcnn_box_predictor._box_prediction_head\n"
     ]
    },
    {
     "name": "stdout",
     "output_type": "stream",
     "text": [
      "WARNING:tensorflow:Unresolved object in checkpoint: (root).model._mask_rcnn_box_predictor._class_prediction_head\n"
     ]
    },
    {
     "name": "stderr",
     "output_type": "stream",
     "text": [
      "W0610 08:21:45.826588 12508 util.py:161] Unresolved object in checkpoint: (root).model._mask_rcnn_box_predictor._class_prediction_head\n"
     ]
    },
    {
     "name": "stdout",
     "output_type": "stream",
     "text": [
      "WARNING:tensorflow:Unresolved object in checkpoint: (root).model._mask_rcnn_box_predictor._third_stage_heads\n"
     ]
    },
    {
     "name": "stderr",
     "output_type": "stream",
     "text": [
      "W0610 08:21:45.827590 12508 util.py:161] Unresolved object in checkpoint: (root).model._mask_rcnn_box_predictor._third_stage_heads\n"
     ]
    },
    {
     "name": "stdout",
     "output_type": "stream",
     "text": [
      "WARNING:tensorflow:Unresolved object in checkpoint: (root).model._first_stage_box_predictor_first_conv.layer_with_weights-0._inbound_nodes\n"
     ]
    },
    {
     "name": "stderr",
     "output_type": "stream",
     "text": [
      "W0610 08:21:45.827590 12508 util.py:161] Unresolved object in checkpoint: (root).model._first_stage_box_predictor_first_conv.layer_with_weights-0._inbound_nodes\n"
     ]
    },
    {
     "name": "stdout",
     "output_type": "stream",
     "text": [
      "WARNING:tensorflow:Unresolved object in checkpoint: (root).model._first_stage_box_predictor_first_conv.layer_with_weights-0.kernel\n"
     ]
    },
    {
     "name": "stderr",
     "output_type": "stream",
     "text": [
      "W0610 08:21:45.828589 12508 util.py:161] Unresolved object in checkpoint: (root).model._first_stage_box_predictor_first_conv.layer_with_weights-0.kernel\n"
     ]
    },
    {
     "name": "stdout",
     "output_type": "stream",
     "text": [
      "WARNING:tensorflow:Unresolved object in checkpoint: (root).model._first_stage_box_predictor_first_conv.layer_with_weights-0.bias\n"
     ]
    },
    {
     "name": "stderr",
     "output_type": "stream",
     "text": [
      "W0610 08:21:45.828589 12508 util.py:161] Unresolved object in checkpoint: (root).model._first_stage_box_predictor_first_conv.layer_with_weights-0.bias\n"
     ]
    },
    {
     "name": "stdout",
     "output_type": "stream",
     "text": [
      "WARNING:tensorflow:Unresolved object in checkpoint: (root).model._first_stage_box_predictor_first_conv.layer-1._inbound_nodes\n"
     ]
    },
    {
     "name": "stderr",
     "output_type": "stream",
     "text": [
      "W0610 08:21:45.829588 12508 util.py:161] Unresolved object in checkpoint: (root).model._first_stage_box_predictor_first_conv.layer-1._inbound_nodes\n"
     ]
    },
    {
     "name": "stdout",
     "output_type": "stream",
     "text": [
      "WARNING:tensorflow:Unresolved object in checkpoint: (root).model._first_stage_box_predictor_first_conv.layer-2._inbound_nodes\n"
     ]
    },
    {
     "name": "stderr",
     "output_type": "stream",
     "text": [
      "W0610 08:21:45.830588 12508 util.py:161] Unresolved object in checkpoint: (root).model._first_stage_box_predictor_first_conv.layer-2._inbound_nodes\n"
     ]
    },
    {
     "name": "stdout",
     "output_type": "stream",
     "text": [
      "WARNING:tensorflow:Unresolved object in checkpoint: (root).model._first_stage_box_predictor._prediction_heads.box_encodings\n"
     ]
    },
    {
     "name": "stderr",
     "output_type": "stream",
     "text": [
      "W0610 08:21:45.830588 12508 util.py:161] Unresolved object in checkpoint: (root).model._first_stage_box_predictor._prediction_heads.box_encodings\n"
     ]
    },
    {
     "name": "stdout",
     "output_type": "stream",
     "text": [
      "WARNING:tensorflow:Unresolved object in checkpoint: (root).model._first_stage_box_predictor._prediction_heads.class_predictions_with_background\n"
     ]
    },
    {
     "name": "stderr",
     "output_type": "stream",
     "text": [
      "W0610 08:21:45.831588 12508 util.py:161] Unresolved object in checkpoint: (root).model._first_stage_box_predictor._prediction_heads.class_predictions_with_background\n"
     ]
    },
    {
     "name": "stdout",
     "output_type": "stream",
     "text": [
      "WARNING:tensorflow:Unresolved object in checkpoint: (root).model._first_stage_box_predictor._shared_nets.0\n"
     ]
    },
    {
     "name": "stderr",
     "output_type": "stream",
     "text": [
      "W0610 08:21:45.832587 12508 util.py:161] Unresolved object in checkpoint: (root).model._first_stage_box_predictor._shared_nets.0\n"
     ]
    },
    {
     "name": "stdout",
     "output_type": "stream",
     "text": [
      "WARNING:tensorflow:Unresolved object in checkpoint: (root).model._mask_rcnn_box_predictor._box_prediction_head._box_encoder_layers\n"
     ]
    },
    {
     "name": "stderr",
     "output_type": "stream",
     "text": [
      "W0610 08:21:45.833587 12508 util.py:161] Unresolved object in checkpoint: (root).model._mask_rcnn_box_predictor._box_prediction_head._box_encoder_layers\n"
     ]
    },
    {
     "name": "stdout",
     "output_type": "stream",
     "text": [
      "WARNING:tensorflow:Unresolved object in checkpoint: (root).model._mask_rcnn_box_predictor._class_prediction_head._class_predictor_layers\n"
     ]
    },
    {
     "name": "stderr",
     "output_type": "stream",
     "text": [
      "W0610 08:21:45.833587 12508 util.py:161] Unresolved object in checkpoint: (root).model._mask_rcnn_box_predictor._class_prediction_head._class_predictor_layers\n"
     ]
    },
    {
     "name": "stdout",
     "output_type": "stream",
     "text": [
      "WARNING:tensorflow:Unresolved object in checkpoint: (root).model._first_stage_box_predictor._prediction_heads.box_encodings.0\n"
     ]
    },
    {
     "name": "stderr",
     "output_type": "stream",
     "text": [
      "W0610 08:21:45.835589 12508 util.py:161] Unresolved object in checkpoint: (root).model._first_stage_box_predictor._prediction_heads.box_encodings.0\n"
     ]
    },
    {
     "name": "stdout",
     "output_type": "stream",
     "text": [
      "WARNING:tensorflow:Unresolved object in checkpoint: (root).model._first_stage_box_predictor._prediction_heads.class_predictions_with_background.0\n"
     ]
    },
    {
     "name": "stderr",
     "output_type": "stream",
     "text": [
      "W0610 08:21:45.836586 12508 util.py:161] Unresolved object in checkpoint: (root).model._first_stage_box_predictor._prediction_heads.class_predictions_with_background.0\n"
     ]
    },
    {
     "name": "stdout",
     "output_type": "stream",
     "text": [
      "WARNING:tensorflow:Unresolved object in checkpoint: (root).model._mask_rcnn_box_predictor._box_prediction_head._box_encoder_layers.0\n"
     ]
    },
    {
     "name": "stderr",
     "output_type": "stream",
     "text": [
      "W0610 08:21:45.836586 12508 util.py:161] Unresolved object in checkpoint: (root).model._mask_rcnn_box_predictor._box_prediction_head._box_encoder_layers.0\n"
     ]
    },
    {
     "name": "stdout",
     "output_type": "stream",
     "text": [
      "WARNING:tensorflow:Unresolved object in checkpoint: (root).model._mask_rcnn_box_predictor._box_prediction_head._box_encoder_layers.1\n"
     ]
    },
    {
     "name": "stderr",
     "output_type": "stream",
     "text": [
      "W0610 08:21:45.837586 12508 util.py:161] Unresolved object in checkpoint: (root).model._mask_rcnn_box_predictor._box_prediction_head._box_encoder_layers.1\n"
     ]
    },
    {
     "name": "stdout",
     "output_type": "stream",
     "text": [
      "WARNING:tensorflow:Unresolved object in checkpoint: (root).model._mask_rcnn_box_predictor._box_prediction_head._box_encoder_layers.2\n"
     ]
    },
    {
     "name": "stderr",
     "output_type": "stream",
     "text": [
      "W0610 08:21:45.838587 12508 util.py:161] Unresolved object in checkpoint: (root).model._mask_rcnn_box_predictor._box_prediction_head._box_encoder_layers.2\n"
     ]
    },
    {
     "name": "stdout",
     "output_type": "stream",
     "text": [
      "WARNING:tensorflow:Unresolved object in checkpoint: (root).model._mask_rcnn_box_predictor._class_prediction_head._class_predictor_layers.0\n"
     ]
    },
    {
     "name": "stderr",
     "output_type": "stream",
     "text": [
      "W0610 08:21:45.839587 12508 util.py:161] Unresolved object in checkpoint: (root).model._mask_rcnn_box_predictor._class_prediction_head._class_predictor_layers.0\n"
     ]
    },
    {
     "name": "stdout",
     "output_type": "stream",
     "text": [
      "WARNING:tensorflow:Unresolved object in checkpoint: (root).model._mask_rcnn_box_predictor._class_prediction_head._class_predictor_layers.1\n"
     ]
    },
    {
     "name": "stderr",
     "output_type": "stream",
     "text": [
      "W0610 08:21:45.839587 12508 util.py:161] Unresolved object in checkpoint: (root).model._mask_rcnn_box_predictor._class_prediction_head._class_predictor_layers.1\n"
     ]
    },
    {
     "name": "stdout",
     "output_type": "stream",
     "text": [
      "WARNING:tensorflow:Unresolved object in checkpoint: (root).model._mask_rcnn_box_predictor._class_prediction_head._class_predictor_layers.2\n"
     ]
    },
    {
     "name": "stderr",
     "output_type": "stream",
     "text": [
      "W0610 08:21:45.841586 12508 util.py:161] Unresolved object in checkpoint: (root).model._mask_rcnn_box_predictor._class_prediction_head._class_predictor_layers.2\n"
     ]
    },
    {
     "name": "stdout",
     "output_type": "stream",
     "text": [
      "WARNING:tensorflow:Unresolved object in checkpoint: (root).model._first_stage_box_predictor._prediction_heads.box_encodings.0._box_encoder_layers\n"
     ]
    },
    {
     "name": "stderr",
     "output_type": "stream",
     "text": [
      "W0610 08:21:45.843587 12508 util.py:161] Unresolved object in checkpoint: (root).model._first_stage_box_predictor._prediction_heads.box_encodings.0._box_encoder_layers\n"
     ]
    },
    {
     "name": "stdout",
     "output_type": "stream",
     "text": [
      "WARNING:tensorflow:Unresolved object in checkpoint: (root).model._first_stage_box_predictor._prediction_heads.class_predictions_with_background.0._class_predictor_layers\n"
     ]
    },
    {
     "name": "stderr",
     "output_type": "stream",
     "text": [
      "W0610 08:21:45.844588 12508 util.py:161] Unresolved object in checkpoint: (root).model._first_stage_box_predictor._prediction_heads.class_predictions_with_background.0._class_predictor_layers\n"
     ]
    },
    {
     "name": "stdout",
     "output_type": "stream",
     "text": [
      "WARNING:tensorflow:Unresolved object in checkpoint: (root).model._mask_rcnn_box_predictor._box_prediction_head._box_encoder_layers.1.kernel\n"
     ]
    },
    {
     "name": "stderr",
     "output_type": "stream",
     "text": [
      "W0610 08:21:45.845590 12508 util.py:161] Unresolved object in checkpoint: (root).model._mask_rcnn_box_predictor._box_prediction_head._box_encoder_layers.1.kernel\n"
     ]
    },
    {
     "name": "stdout",
     "output_type": "stream",
     "text": [
      "WARNING:tensorflow:Unresolved object in checkpoint: (root).model._mask_rcnn_box_predictor._box_prediction_head._box_encoder_layers.1.bias\n"
     ]
    },
    {
     "name": "stderr",
     "output_type": "stream",
     "text": [
      "W0610 08:21:45.846588 12508 util.py:161] Unresolved object in checkpoint: (root).model._mask_rcnn_box_predictor._box_prediction_head._box_encoder_layers.1.bias\n"
     ]
    },
    {
     "name": "stdout",
     "output_type": "stream",
     "text": [
      "WARNING:tensorflow:Unresolved object in checkpoint: (root).model._mask_rcnn_box_predictor._class_prediction_head._class_predictor_layers.1.kernel\n"
     ]
    },
    {
     "name": "stderr",
     "output_type": "stream",
     "text": [
      "W0610 08:21:45.846588 12508 util.py:161] Unresolved object in checkpoint: (root).model._mask_rcnn_box_predictor._class_prediction_head._class_predictor_layers.1.kernel\n"
     ]
    },
    {
     "name": "stdout",
     "output_type": "stream",
     "text": [
      "WARNING:tensorflow:Unresolved object in checkpoint: (root).model._mask_rcnn_box_predictor._class_prediction_head._class_predictor_layers.1.bias\n"
     ]
    },
    {
     "name": "stderr",
     "output_type": "stream",
     "text": [
      "W0610 08:21:45.847589 12508 util.py:161] Unresolved object in checkpoint: (root).model._mask_rcnn_box_predictor._class_prediction_head._class_predictor_layers.1.bias\n"
     ]
    },
    {
     "name": "stdout",
     "output_type": "stream",
     "text": [
      "WARNING:tensorflow:Unresolved object in checkpoint: (root).model._first_stage_box_predictor._prediction_heads.box_encodings.0._box_encoder_layers.0\n"
     ]
    },
    {
     "name": "stderr",
     "output_type": "stream",
     "text": [
      "W0610 08:21:45.847589 12508 util.py:161] Unresolved object in checkpoint: (root).model._first_stage_box_predictor._prediction_heads.box_encodings.0._box_encoder_layers.0\n"
     ]
    },
    {
     "name": "stdout",
     "output_type": "stream",
     "text": [
      "WARNING:tensorflow:Unresolved object in checkpoint: (root).model._first_stage_box_predictor._prediction_heads.class_predictions_with_background.0._class_predictor_layers.0\n"
     ]
    },
    {
     "name": "stderr",
     "output_type": "stream",
     "text": [
      "W0610 08:21:45.848588 12508 util.py:161] Unresolved object in checkpoint: (root).model._first_stage_box_predictor._prediction_heads.class_predictions_with_background.0._class_predictor_layers.0\n"
     ]
    },
    {
     "name": "stdout",
     "output_type": "stream",
     "text": [
      "WARNING:tensorflow:Unresolved object in checkpoint: (root).model._first_stage_box_predictor._prediction_heads.box_encodings.0._box_encoder_layers.0.kernel\n"
     ]
    },
    {
     "name": "stderr",
     "output_type": "stream",
     "text": [
      "W0610 08:21:45.849587 12508 util.py:161] Unresolved object in checkpoint: (root).model._first_stage_box_predictor._prediction_heads.box_encodings.0._box_encoder_layers.0.kernel\n"
     ]
    },
    {
     "name": "stdout",
     "output_type": "stream",
     "text": [
      "WARNING:tensorflow:Unresolved object in checkpoint: (root).model._first_stage_box_predictor._prediction_heads.box_encodings.0._box_encoder_layers.0.bias\n"
     ]
    },
    {
     "name": "stderr",
     "output_type": "stream",
     "text": [
      "W0610 08:21:45.850590 12508 util.py:161] Unresolved object in checkpoint: (root).model._first_stage_box_predictor._prediction_heads.box_encodings.0._box_encoder_layers.0.bias\n"
     ]
    },
    {
     "name": "stdout",
     "output_type": "stream",
     "text": [
      "WARNING:tensorflow:Unresolved object in checkpoint: (root).model._first_stage_box_predictor._prediction_heads.class_predictions_with_background.0._class_predictor_layers.0.kernel\n"
     ]
    },
    {
     "name": "stderr",
     "output_type": "stream",
     "text": [
      "W0610 08:21:45.852586 12508 util.py:161] Unresolved object in checkpoint: (root).model._first_stage_box_predictor._prediction_heads.class_predictions_with_background.0._class_predictor_layers.0.kernel\n"
     ]
    },
    {
     "name": "stdout",
     "output_type": "stream",
     "text": [
      "WARNING:tensorflow:Unresolved object in checkpoint: (root).model._first_stage_box_predictor._prediction_heads.class_predictions_with_background.0._class_predictor_layers.0.bias\n"
     ]
    },
    {
     "name": "stderr",
     "output_type": "stream",
     "text": [
      "W0610 08:21:45.852586 12508 util.py:161] Unresolved object in checkpoint: (root).model._first_stage_box_predictor._prediction_heads.class_predictions_with_background.0._class_predictor_layers.0.bias\n"
     ]
    },
    {
     "name": "stdout",
     "output_type": "stream",
     "text": [
      "WARNING:tensorflow:A checkpoint was restored (e.g. tf.train.Checkpoint.restore or tf.keras.Model.load_weights) but not all checkpointed values were used. See above for specific issues. Use expect_partial() on the load status object, e.g. tf.train.Checkpoint.restore(...).expect_partial(), to silence these warnings, or use assert_consumed() to make the check explicit. See https://www.tensorflow.org/guide/checkpoint#loading_mechanics for details.\n"
     ]
    },
    {
     "name": "stderr",
     "output_type": "stream",
     "text": [
      "W0610 08:21:45.853588 12508 util.py:169] A checkpoint was restored (e.g. tf.train.Checkpoint.restore or tf.keras.Model.load_weights) but not all checkpointed values were used. See above for specific issues. Use expect_partial() on the load status object, e.g. tf.train.Checkpoint.restore(...).expect_partial(), to silence these warnings, or use assert_consumed() to make the check explicit. See https://www.tensorflow.org/guide/checkpoint#loading_mechanics for details.\n"
     ]
    },
    {
     "name": "stdout",
     "output_type": "stream",
     "text": [
      "WARNING:tensorflow:From C:\\Users\\bcper\\anaconda3\\lib\\site-packages\\tensorflow\\python\\util\\deprecation.py:602: calling map_fn_v2 (from tensorflow.python.ops.map_fn) with dtype is deprecated and will be removed in a future version.\n",
      "Instructions for updating:\n",
      "Use fn_output_signature instead\n"
     ]
    },
    {
     "name": "stderr",
     "output_type": "stream",
     "text": [
      "W0610 08:21:58.618585 15260 deprecation.py:528] From C:\\Users\\bcper\\anaconda3\\lib\\site-packages\\tensorflow\\python\\util\\deprecation.py:602: calling map_fn_v2 (from tensorflow.python.ops.map_fn) with dtype is deprecated and will be removed in a future version.\n",
      "Instructions for updating:\n",
      "Use fn_output_signature instead\n"
     ]
    },
    {
     "name": "stdout",
     "output_type": "stream",
     "text": [
      "INFO:tensorflow:Step 49100 per-step time 0.993s loss=1.298\n"
     ]
    },
    {
     "name": "stderr",
     "output_type": "stream",
     "text": [
      "I0610 08:23:26.563353 12508 model_lib_v2.py:680] Step 49100 per-step time 0.993s loss=1.298\n"
     ]
    },
    {
     "name": "stdout",
     "output_type": "stream",
     "text": [
      "INFO:tensorflow:Step 49200 per-step time 0.330s loss=1.402\n"
     ]
    },
    {
     "name": "stderr",
     "output_type": "stream",
     "text": [
      "I0610 08:23:59.564351 12508 model_lib_v2.py:680] Step 49200 per-step time 0.330s loss=1.402\n"
     ]
    },
    {
     "name": "stdout",
     "output_type": "stream",
     "text": [
      "INFO:tensorflow:Step 49300 per-step time 0.333s loss=1.500\n"
     ]
    },
    {
     "name": "stderr",
     "output_type": "stream",
     "text": [
      "I0610 08:24:32.828359 12508 model_lib_v2.py:680] Step 49300 per-step time 0.333s loss=1.500\n"
     ]
    },
    {
     "name": "stdout",
     "output_type": "stream",
     "text": [
      "INFO:tensorflow:Step 49400 per-step time 0.330s loss=1.096\n"
     ]
    },
    {
     "name": "stderr",
     "output_type": "stream",
     "text": [
      "I0610 08:25:05.844362 12508 model_lib_v2.py:680] Step 49400 per-step time 0.330s loss=1.096\n"
     ]
    },
    {
     "name": "stdout",
     "output_type": "stream",
     "text": [
      "INFO:tensorflow:Step 49500 per-step time 0.328s loss=1.417\n"
     ]
    },
    {
     "name": "stderr",
     "output_type": "stream",
     "text": [
      "I0610 08:25:38.603362 12508 model_lib_v2.py:680] Step 49500 per-step time 0.328s loss=1.417\n"
     ]
    },
    {
     "name": "stdout",
     "output_type": "stream",
     "text": [
      "INFO:tensorflow:Step 49600 per-step time 0.330s loss=1.816\n"
     ]
    },
    {
     "name": "stderr",
     "output_type": "stream",
     "text": [
      "I0610 08:26:11.553359 12508 model_lib_v2.py:680] Step 49600 per-step time 0.330s loss=1.816\n"
     ]
    },
    {
     "name": "stdout",
     "output_type": "stream",
     "text": [
      "INFO:tensorflow:Step 49700 per-step time 0.332s loss=1.494\n"
     ]
    },
    {
     "name": "stderr",
     "output_type": "stream",
     "text": [
      "I0610 08:26:44.707362 12508 model_lib_v2.py:680] Step 49700 per-step time 0.332s loss=1.494\n"
     ]
    },
    {
     "name": "stdout",
     "output_type": "stream",
     "text": [
      "INFO:tensorflow:Step 49800 per-step time 0.335s loss=1.458\n"
     ]
    },
    {
     "name": "stderr",
     "output_type": "stream",
     "text": [
      "I0610 08:27:18.219361 12508 model_lib_v2.py:680] Step 49800 per-step time 0.335s loss=1.458\n"
     ]
    },
    {
     "name": "stdout",
     "output_type": "stream",
     "text": [
      "INFO:tensorflow:Step 49900 per-step time 0.331s loss=1.629\n"
     ]
    },
    {
     "name": "stderr",
     "output_type": "stream",
     "text": [
      "I0610 08:27:51.296363 12508 model_lib_v2.py:680] Step 49900 per-step time 0.331s loss=1.629\n"
     ]
    },
    {
     "name": "stdout",
     "output_type": "stream",
     "text": [
      "INFO:tensorflow:Step 50000 per-step time 0.331s loss=1.295\n"
     ]
    },
    {
     "name": "stderr",
     "output_type": "stream",
     "text": [
      "I0610 08:28:24.437362 12508 model_lib_v2.py:680] Step 50000 per-step time 0.331s loss=1.295\n"
     ]
    },
    {
     "name": "stdout",
     "output_type": "stream",
     "text": [
      "INFO:tensorflow:Reduce to /job:localhost/replica:0/task:0/device:CPU:0 then broadcast to ('/job:localhost/replica:0/task:0/device:CPU:0',).\n"
     ]
    },
    {
     "name": "stderr",
     "output_type": "stream",
     "text": [
      "I0610 08:28:26.042361 12508 cross_device_ops.py:619] Reduce to /job:localhost/replica:0/task:0/device:CPU:0 then broadcast to ('/job:localhost/replica:0/task:0/device:CPU:0',).\n"
     ]
    },
    {
     "name": "stdout",
     "output_type": "stream",
     "text": [
      "INFO:tensorflow:Reduce to /job:localhost/replica:0/task:0/device:CPU:0 then broadcast to ('/job:localhost/replica:0/task:0/device:CPU:0',).\n"
     ]
    },
    {
     "name": "stderr",
     "output_type": "stream",
     "text": [
      "I0610 08:28:26.044362 12508 cross_device_ops.py:619] Reduce to /job:localhost/replica:0/task:0/device:CPU:0 then broadcast to ('/job:localhost/replica:0/task:0/device:CPU:0',).\n"
     ]
    },
    {
     "name": "stdout",
     "output_type": "stream",
     "text": [
      "INFO:tensorflow:Reduce to /job:localhost/replica:0/task:0/device:CPU:0 then broadcast to ('/job:localhost/replica:0/task:0/device:CPU:0',).\n"
     ]
    },
    {
     "name": "stderr",
     "output_type": "stream",
     "text": [
      "I0610 08:28:26.046359 12508 cross_device_ops.py:619] Reduce to /job:localhost/replica:0/task:0/device:CPU:0 then broadcast to ('/job:localhost/replica:0/task:0/device:CPU:0',).\n"
     ]
    },
    {
     "name": "stdout",
     "output_type": "stream",
     "text": [
      "INFO:tensorflow:Reduce to /job:localhost/replica:0/task:0/device:CPU:0 then broadcast to ('/job:localhost/replica:0/task:0/device:CPU:0',).\n"
     ]
    },
    {
     "name": "stderr",
     "output_type": "stream",
     "text": [
      "I0610 08:28:26.048362 12508 cross_device_ops.py:619] Reduce to /job:localhost/replica:0/task:0/device:CPU:0 then broadcast to ('/job:localhost/replica:0/task:0/device:CPU:0',).\n"
     ]
    },
    {
     "name": "stdout",
     "output_type": "stream",
     "text": [
      "INFO:tensorflow:Reduce to /job:localhost/replica:0/task:0/device:CPU:0 then broadcast to ('/job:localhost/replica:0/task:0/device:CPU:0',).\n"
     ]
    },
    {
     "name": "stderr",
     "output_type": "stream",
     "text": [
      "I0610 08:28:26.050361 12508 cross_device_ops.py:619] Reduce to /job:localhost/replica:0/task:0/device:CPU:0 then broadcast to ('/job:localhost/replica:0/task:0/device:CPU:0',).\n"
     ]
    },
    {
     "name": "stdout",
     "output_type": "stream",
     "text": [
      "INFO:tensorflow:Reduce to /job:localhost/replica:0/task:0/device:CPU:0 then broadcast to ('/job:localhost/replica:0/task:0/device:CPU:0',).\n"
     ]
    },
    {
     "name": "stderr",
     "output_type": "stream",
     "text": [
      "I0610 08:28:26.052361 12508 cross_device_ops.py:619] Reduce to /job:localhost/replica:0/task:0/device:CPU:0 then broadcast to ('/job:localhost/replica:0/task:0/device:CPU:0',).\n"
     ]
    },
    {
     "name": "stdout",
     "output_type": "stream",
     "text": [
      "INFO:tensorflow:Reduce to /job:localhost/replica:0/task:0/device:CPU:0 then broadcast to ('/job:localhost/replica:0/task:0/device:CPU:0',).\n"
     ]
    },
    {
     "name": "stderr",
     "output_type": "stream",
     "text": [
      "I0610 08:28:26.055361 12508 cross_device_ops.py:619] Reduce to /job:localhost/replica:0/task:0/device:CPU:0 then broadcast to ('/job:localhost/replica:0/task:0/device:CPU:0',).\n"
     ]
    },
    {
     "name": "stdout",
     "output_type": "stream",
     "text": [
      "INFO:tensorflow:Reduce to /job:localhost/replica:0/task:0/device:CPU:0 then broadcast to ('/job:localhost/replica:0/task:0/device:CPU:0',).\n"
     ]
    },
    {
     "name": "stderr",
     "output_type": "stream",
     "text": [
      "I0610 08:28:26.057360 12508 cross_device_ops.py:619] Reduce to /job:localhost/replica:0/task:0/device:CPU:0 then broadcast to ('/job:localhost/replica:0/task:0/device:CPU:0',).\n"
     ]
    },
    {
     "name": "stdout",
     "output_type": "stream",
     "text": [
      "INFO:tensorflow:Reduce to /job:localhost/replica:0/task:0/device:CPU:0 then broadcast to ('/job:localhost/replica:0/task:0/device:CPU:0',).\n"
     ]
    },
    {
     "name": "stderr",
     "output_type": "stream",
     "text": [
      "I0610 08:28:26.059359 12508 cross_device_ops.py:619] Reduce to /job:localhost/replica:0/task:0/device:CPU:0 then broadcast to ('/job:localhost/replica:0/task:0/device:CPU:0',).\n"
     ]
    },
    {
     "name": "stdout",
     "output_type": "stream",
     "text": [
      "INFO:tensorflow:Reduce to /job:localhost/replica:0/task:0/device:CPU:0 then broadcast to ('/job:localhost/replica:0/task:0/device:CPU:0',).\n"
     ]
    },
    {
     "name": "stderr",
     "output_type": "stream",
     "text": [
      "I0610 08:28:26.061360 12508 cross_device_ops.py:619] Reduce to /job:localhost/replica:0/task:0/device:CPU:0 then broadcast to ('/job:localhost/replica:0/task:0/device:CPU:0',).\n"
     ]
    },
    {
     "name": "stdout",
     "output_type": "stream",
     "text": [
      "INFO:tensorflow:Step 50100 per-step time 0.357s loss=1.374\n"
     ]
    },
    {
     "name": "stderr",
     "output_type": "stream",
     "text": [
      "I0610 08:29:00.119626 12508 model_lib_v2.py:680] Step 50100 per-step time 0.357s loss=1.374\n"
     ]
    },
    {
     "name": "stdout",
     "output_type": "stream",
     "text": [
      "INFO:tensorflow:Step 50200 per-step time 0.332s loss=1.103\n"
     ]
    },
    {
     "name": "stderr",
     "output_type": "stream",
     "text": [
      "I0610 08:29:33.273626 12508 model_lib_v2.py:680] Step 50200 per-step time 0.332s loss=1.103\n"
     ]
    },
    {
     "name": "stdout",
     "output_type": "stream",
     "text": [
      "INFO:tensorflow:Step 50300 per-step time 0.333s loss=1.201\n"
     ]
    },
    {
     "name": "stderr",
     "output_type": "stream",
     "text": [
      "I0610 08:30:06.597626 12508 model_lib_v2.py:680] Step 50300 per-step time 0.333s loss=1.201\n"
     ]
    },
    {
     "name": "stdout",
     "output_type": "stream",
     "text": [
      "INFO:tensorflow:Step 50400 per-step time 0.330s loss=1.051\n"
     ]
    },
    {
     "name": "stderr",
     "output_type": "stream",
     "text": [
      "I0610 08:30:39.591626 12508 model_lib_v2.py:680] Step 50400 per-step time 0.330s loss=1.051\n"
     ]
    },
    {
     "name": "stdout",
     "output_type": "stream",
     "text": [
      "INFO:tensorflow:Step 50500 per-step time 0.330s loss=1.364\n"
     ]
    },
    {
     "name": "stderr",
     "output_type": "stream",
     "text": [
      "I0610 08:31:12.608626 12508 model_lib_v2.py:680] Step 50500 per-step time 0.330s loss=1.364\n"
     ]
    },
    {
     "name": "stdout",
     "output_type": "stream",
     "text": [
      "INFO:tensorflow:Step 50600 per-step time 0.329s loss=1.712\n"
     ]
    },
    {
     "name": "stderr",
     "output_type": "stream",
     "text": [
      "I0610 08:31:45.553626 12508 model_lib_v2.py:680] Step 50600 per-step time 0.329s loss=1.712\n"
     ]
    },
    {
     "name": "stdout",
     "output_type": "stream",
     "text": [
      "INFO:tensorflow:Step 50700 per-step time 0.338s loss=2.296\n"
     ]
    },
    {
     "name": "stderr",
     "output_type": "stream",
     "text": [
      "I0610 08:32:19.384626 12508 model_lib_v2.py:680] Step 50700 per-step time 0.338s loss=2.296\n"
     ]
    },
    {
     "name": "stdout",
     "output_type": "stream",
     "text": [
      "INFO:tensorflow:Step 50800 per-step time 0.341s loss=1.116\n"
     ]
    },
    {
     "name": "stderr",
     "output_type": "stream",
     "text": [
      "I0610 08:32:53.523626 12508 model_lib_v2.py:680] Step 50800 per-step time 0.341s loss=1.116\n"
     ]
    },
    {
     "name": "stdout",
     "output_type": "stream",
     "text": [
      "INFO:tensorflow:Step 50900 per-step time 0.338s loss=1.351\n"
     ]
    },
    {
     "name": "stderr",
     "output_type": "stream",
     "text": [
      "I0610 08:33:27.294626 12508 model_lib_v2.py:680] Step 50900 per-step time 0.338s loss=1.351\n"
     ]
    },
    {
     "name": "stdout",
     "output_type": "stream",
     "text": [
      "INFO:tensorflow:Step 51000 per-step time 0.345s loss=1.336\n"
     ]
    },
    {
     "name": "stderr",
     "output_type": "stream",
     "text": [
      "I0610 08:34:01.792664 12508 model_lib_v2.py:680] Step 51000 per-step time 0.345s loss=1.336\n"
     ]
    },
    {
     "name": "stdout",
     "output_type": "stream",
     "text": [
      "INFO:tensorflow:Step 51100 per-step time 0.365s loss=1.275\n"
     ]
    },
    {
     "name": "stderr",
     "output_type": "stream",
     "text": [
      "I0610 08:34:38.277748 12508 model_lib_v2.py:680] Step 51100 per-step time 0.365s loss=1.275\n"
     ]
    },
    {
     "name": "stdout",
     "output_type": "stream",
     "text": [
      "INFO:tensorflow:Step 51200 per-step time 0.350s loss=1.524\n"
     ]
    },
    {
     "name": "stderr",
     "output_type": "stream",
     "text": [
      "I0610 08:35:13.289750 12508 model_lib_v2.py:680] Step 51200 per-step time 0.350s loss=1.524\n"
     ]
    },
    {
     "name": "stdout",
     "output_type": "stream",
     "text": [
      "INFO:tensorflow:Step 51300 per-step time 0.341s loss=1.609\n"
     ]
    },
    {
     "name": "stderr",
     "output_type": "stream",
     "text": [
      "I0610 08:35:47.427748 12508 model_lib_v2.py:680] Step 51300 per-step time 0.341s loss=1.609\n"
     ]
    },
    {
     "name": "stdout",
     "output_type": "stream",
     "text": [
      "INFO:tensorflow:Step 51400 per-step time 0.339s loss=1.076\n"
     ]
    },
    {
     "name": "stderr",
     "output_type": "stream",
     "text": [
      "I0610 08:36:21.288748 12508 model_lib_v2.py:680] Step 51400 per-step time 0.339s loss=1.076\n"
     ]
    },
    {
     "name": "stdout",
     "output_type": "stream",
     "text": [
      "INFO:tensorflow:Step 51500 per-step time 0.346s loss=1.376\n"
     ]
    },
    {
     "name": "stderr",
     "output_type": "stream",
     "text": [
      "I0610 08:36:55.903749 12508 model_lib_v2.py:680] Step 51500 per-step time 0.346s loss=1.376\n"
     ]
    },
    {
     "name": "stdout",
     "output_type": "stream",
     "text": [
      "INFO:tensorflow:Step 51600 per-step time 0.349s loss=1.151\n"
     ]
    },
    {
     "name": "stderr",
     "output_type": "stream",
     "text": [
      "I0610 08:37:30.768749 12508 model_lib_v2.py:680] Step 51600 per-step time 0.349s loss=1.151\n"
     ]
    },
    {
     "name": "stdout",
     "output_type": "stream",
     "text": [
      "INFO:tensorflow:Step 51700 per-step time 0.354s loss=1.578\n"
     ]
    },
    {
     "name": "stderr",
     "output_type": "stream",
     "text": [
      "I0610 08:38:06.199750 12508 model_lib_v2.py:680] Step 51700 per-step time 0.354s loss=1.578\n"
     ]
    },
    {
     "name": "stdout",
     "output_type": "stream",
     "text": [
      "INFO:tensorflow:Step 51800 per-step time 0.372s loss=0.867\n"
     ]
    },
    {
     "name": "stderr",
     "output_type": "stream",
     "text": [
      "I0610 08:38:43.425749 12508 model_lib_v2.py:680] Step 51800 per-step time 0.372s loss=0.867\n"
     ]
    },
    {
     "name": "stdout",
     "output_type": "stream",
     "text": [
      "INFO:tensorflow:Step 51900 per-step time 0.344s loss=1.779\n"
     ]
    },
    {
     "name": "stderr",
     "output_type": "stream",
     "text": [
      "I0610 08:39:17.787748 12508 model_lib_v2.py:680] Step 51900 per-step time 0.344s loss=1.779\n"
     ]
    },
    {
     "name": "stdout",
     "output_type": "stream",
     "text": [
      "INFO:tensorflow:Step 52000 per-step time 0.346s loss=1.034\n"
     ]
    },
    {
     "name": "stderr",
     "output_type": "stream",
     "text": [
      "I0610 08:39:52.430750 12508 model_lib_v2.py:680] Step 52000 per-step time 0.346s loss=1.034\n"
     ]
    },
    {
     "name": "stdout",
     "output_type": "stream",
     "text": [
      "INFO:tensorflow:Step 52100 per-step time 0.349s loss=1.078\n"
     ]
    },
    {
     "name": "stderr",
     "output_type": "stream",
     "text": [
      "I0610 08:40:27.357808 12508 model_lib_v2.py:680] Step 52100 per-step time 0.349s loss=1.078\n"
     ]
    },
    {
     "name": "stdout",
     "output_type": "stream",
     "text": [
      "INFO:tensorflow:Step 52200 per-step time 0.341s loss=1.075\n"
     ]
    },
    {
     "name": "stderr",
     "output_type": "stream",
     "text": [
      "I0610 08:41:01.498808 12508 model_lib_v2.py:680] Step 52200 per-step time 0.341s loss=1.075\n"
     ]
    },
    {
     "name": "stdout",
     "output_type": "stream",
     "text": [
      "INFO:tensorflow:Step 52300 per-step time 0.339s loss=1.226\n"
     ]
    },
    {
     "name": "stderr",
     "output_type": "stream",
     "text": [
      "I0610 08:41:35.426807 12508 model_lib_v2.py:680] Step 52300 per-step time 0.339s loss=1.226\n"
     ]
    },
    {
     "name": "stdout",
     "output_type": "stream",
     "text": [
      "INFO:tensorflow:Step 52400 per-step time 0.339s loss=1.433\n"
     ]
    },
    {
     "name": "stderr",
     "output_type": "stream",
     "text": [
      "I0610 08:42:09.335807 12508 model_lib_v2.py:680] Step 52400 per-step time 0.339s loss=1.433\n"
     ]
    },
    {
     "name": "stdout",
     "output_type": "stream",
     "text": [
      "INFO:tensorflow:Step 52500 per-step time 0.341s loss=1.687\n"
     ]
    },
    {
     "name": "stderr",
     "output_type": "stream",
     "text": [
      "I0610 08:42:43.388807 12508 model_lib_v2.py:680] Step 52500 per-step time 0.341s loss=1.687\n"
     ]
    },
    {
     "name": "stdout",
     "output_type": "stream",
     "text": [
      "INFO:tensorflow:Step 52600 per-step time 0.340s loss=0.998\n"
     ]
    },
    {
     "name": "stderr",
     "output_type": "stream",
     "text": [
      "I0610 08:43:17.356808 12508 model_lib_v2.py:680] Step 52600 per-step time 0.340s loss=0.998\n"
     ]
    },
    {
     "name": "stdout",
     "output_type": "stream",
     "text": [
      "INFO:tensorflow:Step 52700 per-step time 0.339s loss=1.855\n"
     ]
    },
    {
     "name": "stderr",
     "output_type": "stream",
     "text": [
      "I0610 08:43:51.216811 12508 model_lib_v2.py:680] Step 52700 per-step time 0.339s loss=1.855\n"
     ]
    },
    {
     "name": "stdout",
     "output_type": "stream",
     "text": [
      "INFO:tensorflow:Step 52800 per-step time 0.365s loss=1.289\n"
     ]
    },
    {
     "name": "stderr",
     "output_type": "stream",
     "text": [
      "I0610 08:44:27.687829 12508 model_lib_v2.py:680] Step 52800 per-step time 0.365s loss=1.289\n"
     ]
    },
    {
     "name": "stdout",
     "output_type": "stream",
     "text": [
      "INFO:tensorflow:Step 52900 per-step time 0.372s loss=1.430\n"
     ]
    },
    {
     "name": "stderr",
     "output_type": "stream",
     "text": [
      "I0610 08:45:04.936905 12508 model_lib_v2.py:680] Step 52900 per-step time 0.372s loss=1.430\n"
     ]
    },
    {
     "name": "stdout",
     "output_type": "stream",
     "text": [
      "INFO:tensorflow:Step 53000 per-step time 0.349s loss=1.975\n"
     ]
    },
    {
     "name": "stderr",
     "output_type": "stream",
     "text": [
      "I0610 08:45:39.871905 12508 model_lib_v2.py:680] Step 53000 per-step time 0.349s loss=1.975\n"
     ]
    },
    {
     "name": "stdout",
     "output_type": "stream",
     "text": [
      "INFO:tensorflow:Step 53100 per-step time 0.357s loss=1.334\n"
     ]
    },
    {
     "name": "stderr",
     "output_type": "stream",
     "text": [
      "I0610 08:46:15.530002 12508 model_lib_v2.py:680] Step 53100 per-step time 0.357s loss=1.334\n"
     ]
    },
    {
     "name": "stdout",
     "output_type": "stream",
     "text": [
      "INFO:tensorflow:Step 53200 per-step time 0.346s loss=1.084\n"
     ]
    },
    {
     "name": "stderr",
     "output_type": "stream",
     "text": [
      "I0610 08:46:50.090111 12508 model_lib_v2.py:680] Step 53200 per-step time 0.346s loss=1.084\n"
     ]
    },
    {
     "name": "stdout",
     "output_type": "stream",
     "text": [
      "INFO:tensorflow:Step 53300 per-step time 0.347s loss=1.173\n"
     ]
    },
    {
     "name": "stderr",
     "output_type": "stream",
     "text": [
      "I0610 08:47:24.799111 12508 model_lib_v2.py:680] Step 53300 per-step time 0.347s loss=1.173\n"
     ]
    },
    {
     "name": "stdout",
     "output_type": "stream",
     "text": [
      "INFO:tensorflow:Step 53400 per-step time 0.355s loss=0.653\n"
     ]
    },
    {
     "name": "stderr",
     "output_type": "stream",
     "text": [
      "I0610 08:48:00.254111 12508 model_lib_v2.py:680] Step 53400 per-step time 0.355s loss=0.653\n"
     ]
    },
    {
     "name": "stdout",
     "output_type": "stream",
     "text": [
      "INFO:tensorflow:Step 53500 per-step time 0.361s loss=1.306\n"
     ]
    },
    {
     "name": "stderr",
     "output_type": "stream",
     "text": [
      "I0610 08:48:36.362111 12508 model_lib_v2.py:680] Step 53500 per-step time 0.361s loss=1.306\n"
     ]
    },
    {
     "name": "stdout",
     "output_type": "stream",
     "text": [
      "INFO:tensorflow:Step 53600 per-step time 0.371s loss=1.491\n"
     ]
    },
    {
     "name": "stderr",
     "output_type": "stream",
     "text": [
      "I0610 08:49:13.435792 12508 model_lib_v2.py:680] Step 53600 per-step time 0.371s loss=1.491\n"
     ]
    },
    {
     "name": "stdout",
     "output_type": "stream",
     "text": [
      "INFO:tensorflow:Step 53700 per-step time 0.363s loss=1.524\n"
     ]
    },
    {
     "name": "stderr",
     "output_type": "stream",
     "text": [
      "I0610 08:49:49.770806 12508 model_lib_v2.py:680] Step 53700 per-step time 0.363s loss=1.524\n"
     ]
    },
    {
     "name": "stdout",
     "output_type": "stream",
     "text": [
      "INFO:tensorflow:Step 53800 per-step time 0.371s loss=1.635\n"
     ]
    },
    {
     "name": "stderr",
     "output_type": "stream",
     "text": [
      "I0610 08:50:26.895792 12508 model_lib_v2.py:680] Step 53800 per-step time 0.371s loss=1.635\n"
     ]
    },
    {
     "name": "stdout",
     "output_type": "stream",
     "text": [
      "INFO:tensorflow:Step 53900 per-step time 0.353s loss=1.518\n"
     ]
    },
    {
     "name": "stderr",
     "output_type": "stream",
     "text": [
      "I0610 08:51:02.186793 12508 model_lib_v2.py:680] Step 53900 per-step time 0.353s loss=1.518\n"
     ]
    },
    {
     "name": "stdout",
     "output_type": "stream",
     "text": [
      "INFO:tensorflow:Step 54000 per-step time 0.379s loss=1.295\n"
     ]
    },
    {
     "name": "stderr",
     "output_type": "stream",
     "text": [
      "I0610 08:51:40.095793 12508 model_lib_v2.py:680] Step 54000 per-step time 0.379s loss=1.295\n"
     ]
    },
    {
     "name": "stdout",
     "output_type": "stream",
     "text": [
      "INFO:tensorflow:Step 54100 per-step time 0.437s loss=1.627\n"
     ]
    },
    {
     "name": "stderr",
     "output_type": "stream",
     "text": [
      "I0610 08:52:23.810477 12508 model_lib_v2.py:680] Step 54100 per-step time 0.437s loss=1.627\n"
     ]
    },
    {
     "name": "stdout",
     "output_type": "stream",
     "text": [
      "INFO:tensorflow:Step 54200 per-step time 0.371s loss=1.510\n"
     ]
    },
    {
     "name": "stderr",
     "output_type": "stream",
     "text": [
      "I0610 08:53:00.886542 12508 model_lib_v2.py:680] Step 54200 per-step time 0.371s loss=1.510\n"
     ]
    },
    {
     "name": "stdout",
     "output_type": "stream",
     "text": [
      "INFO:tensorflow:Step 54300 per-step time 0.387s loss=1.591\n"
     ]
    },
    {
     "name": "stderr",
     "output_type": "stream",
     "text": [
      "I0610 08:53:39.559592 12508 model_lib_v2.py:680] Step 54300 per-step time 0.387s loss=1.591\n"
     ]
    },
    {
     "name": "stdout",
     "output_type": "stream",
     "text": [
      "INFO:tensorflow:Step 54400 per-step time 0.370s loss=1.720\n"
     ]
    },
    {
     "name": "stderr",
     "output_type": "stream",
     "text": [
      "I0610 08:54:16.513692 12508 model_lib_v2.py:680] Step 54400 per-step time 0.370s loss=1.720\n"
     ]
    },
    {
     "name": "stdout",
     "output_type": "stream",
     "text": [
      "INFO:tensorflow:Step 54500 per-step time 0.366s loss=1.233\n"
     ]
    },
    {
     "name": "stderr",
     "output_type": "stream",
     "text": [
      "I0610 08:54:53.108694 12508 model_lib_v2.py:680] Step 54500 per-step time 0.366s loss=1.233\n"
     ]
    },
    {
     "name": "stdout",
     "output_type": "stream",
     "text": [
      "INFO:tensorflow:Step 54600 per-step time 0.379s loss=1.520\n"
     ]
    },
    {
     "name": "stderr",
     "output_type": "stream",
     "text": [
      "I0610 08:55:31.031692 12508 model_lib_v2.py:680] Step 54600 per-step time 0.379s loss=1.520\n"
     ]
    },
    {
     "name": "stdout",
     "output_type": "stream",
     "text": [
      "INFO:tensorflow:Step 54700 per-step time 0.374s loss=1.661\n"
     ]
    },
    {
     "name": "stderr",
     "output_type": "stream",
     "text": [
      "I0610 08:56:08.426692 12508 model_lib_v2.py:680] Step 54700 per-step time 0.374s loss=1.661\n"
     ]
    },
    {
     "name": "stdout",
     "output_type": "stream",
     "text": [
      "INFO:tensorflow:Step 54800 per-step time 0.373s loss=0.889\n"
     ]
    },
    {
     "name": "stderr",
     "output_type": "stream",
     "text": [
      "I0610 08:56:45.729705 12508 model_lib_v2.py:680] Step 54800 per-step time 0.373s loss=0.889\n"
     ]
    },
    {
     "name": "stdout",
     "output_type": "stream",
     "text": [
      "INFO:tensorflow:Step 54900 per-step time 0.416s loss=1.349\n"
     ]
    },
    {
     "name": "stderr",
     "output_type": "stream",
     "text": [
      "I0610 08:57:27.289708 12508 model_lib_v2.py:680] Step 54900 per-step time 0.416s loss=1.349\n"
     ]
    },
    {
     "name": "stdout",
     "output_type": "stream",
     "text": [
      "INFO:tensorflow:Step 55000 per-step time 0.391s loss=1.135\n"
     ]
    },
    {
     "name": "stderr",
     "output_type": "stream",
     "text": [
      "I0610 08:58:06.433084 12508 model_lib_v2.py:680] Step 55000 per-step time 0.391s loss=1.135\n"
     ]
    },
    {
     "name": "stdout",
     "output_type": "stream",
     "text": [
      "INFO:tensorflow:Step 55100 per-step time 0.397s loss=1.174\n"
     ]
    },
    {
     "name": "stderr",
     "output_type": "stream",
     "text": [
      "I0610 08:58:46.110014 12508 model_lib_v2.py:680] Step 55100 per-step time 0.397s loss=1.174\n"
     ]
    },
    {
     "name": "stdout",
     "output_type": "stream",
     "text": [
      "INFO:tensorflow:Step 55200 per-step time 0.407s loss=0.782\n"
     ]
    },
    {
     "name": "stderr",
     "output_type": "stream",
     "text": [
      "I0610 08:59:26.824014 12508 model_lib_v2.py:680] Step 55200 per-step time 0.407s loss=0.782\n"
     ]
    },
    {
     "name": "stdout",
     "output_type": "stream",
     "text": [
      "INFO:tensorflow:Step 55300 per-step time 0.353s loss=1.531\n"
     ]
    },
    {
     "name": "stderr",
     "output_type": "stream",
     "text": [
      "I0610 09:00:02.074174 12508 model_lib_v2.py:680] Step 55300 per-step time 0.353s loss=1.531\n"
     ]
    },
    {
     "name": "stdout",
     "output_type": "stream",
     "text": [
      "INFO:tensorflow:Step 55400 per-step time 0.352s loss=0.797\n"
     ]
    },
    {
     "name": "stderr",
     "output_type": "stream",
     "text": [
      "I0610 09:00:37.301710 12508 model_lib_v2.py:680] Step 55400 per-step time 0.352s loss=0.797\n"
     ]
    },
    {
     "name": "stdout",
     "output_type": "stream",
     "text": [
      "INFO:tensorflow:Step 55500 per-step time 0.420s loss=1.055\n"
     ]
    },
    {
     "name": "stderr",
     "output_type": "stream",
     "text": [
      "I0610 09:01:19.286241 12508 model_lib_v2.py:680] Step 55500 per-step time 0.420s loss=1.055\n"
     ]
    },
    {
     "name": "stdout",
     "output_type": "stream",
     "text": [
      "INFO:tensorflow:Step 55600 per-step time 0.382s loss=1.486\n"
     ]
    },
    {
     "name": "stderr",
     "output_type": "stream",
     "text": [
      "I0610 09:01:57.459997 12508 model_lib_v2.py:680] Step 55600 per-step time 0.382s loss=1.486\n"
     ]
    },
    {
     "name": "stdout",
     "output_type": "stream",
     "text": [
      "INFO:tensorflow:Step 55700 per-step time 0.377s loss=1.583\n"
     ]
    },
    {
     "name": "stderr",
     "output_type": "stream",
     "text": [
      "I0610 09:02:35.206770 12508 model_lib_v2.py:680] Step 55700 per-step time 0.377s loss=1.583\n"
     ]
    },
    {
     "name": "stdout",
     "output_type": "stream",
     "text": [
      "INFO:tensorflow:Step 55800 per-step time 0.389s loss=1.229\n"
     ]
    },
    {
     "name": "stderr",
     "output_type": "stream",
     "text": [
      "I0610 09:03:14.082180 12508 model_lib_v2.py:680] Step 55800 per-step time 0.389s loss=1.229\n"
     ]
    },
    {
     "name": "stdout",
     "output_type": "stream",
     "text": [
      "INFO:tensorflow:Step 55900 per-step time 0.377s loss=1.409\n"
     ]
    },
    {
     "name": "stderr",
     "output_type": "stream",
     "text": [
      "I0610 09:03:51.780873 12508 model_lib_v2.py:680] Step 55900 per-step time 0.377s loss=1.409\n"
     ]
    },
    {
     "name": "stdout",
     "output_type": "stream",
     "text": [
      "INFO:tensorflow:Step 56000 per-step time 0.364s loss=1.149\n"
     ]
    },
    {
     "name": "stderr",
     "output_type": "stream",
     "text": [
      "I0610 09:04:28.154421 12508 model_lib_v2.py:680] Step 56000 per-step time 0.364s loss=1.149\n"
     ]
    },
    {
     "name": "stdout",
     "output_type": "stream",
     "text": [
      "INFO:tensorflow:Step 56100 per-step time 0.380s loss=1.212\n"
     ]
    },
    {
     "name": "stderr",
     "output_type": "stream",
     "text": [
      "I0610 09:05:06.176866 12508 model_lib_v2.py:680] Step 56100 per-step time 0.380s loss=1.212\n"
     ]
    },
    {
     "name": "stdout",
     "output_type": "stream",
     "text": [
      "INFO:tensorflow:Step 56200 per-step time 0.370s loss=1.610\n"
     ]
    },
    {
     "name": "stderr",
     "output_type": "stream",
     "text": [
      "I0610 09:05:43.155386 12508 model_lib_v2.py:680] Step 56200 per-step time 0.370s loss=1.610\n"
     ]
    },
    {
     "name": "stdout",
     "output_type": "stream",
     "text": [
      "INFO:tensorflow:Step 56300 per-step time 0.361s loss=0.916\n"
     ]
    },
    {
     "name": "stderr",
     "output_type": "stream",
     "text": [
      "I0610 09:06:19.275048 12508 model_lib_v2.py:680] Step 56300 per-step time 0.361s loss=0.916\n"
     ]
    },
    {
     "name": "stdout",
     "output_type": "stream",
     "text": [
      "INFO:tensorflow:Step 56400 per-step time 0.363s loss=1.806\n"
     ]
    },
    {
     "name": "stderr",
     "output_type": "stream",
     "text": [
      "I0610 09:06:55.528048 12508 model_lib_v2.py:680] Step 56400 per-step time 0.363s loss=1.806\n"
     ]
    },
    {
     "name": "stdout",
     "output_type": "stream",
     "text": [
      "INFO:tensorflow:Step 56500 per-step time 0.344s loss=1.408\n"
     ]
    },
    {
     "name": "stderr",
     "output_type": "stream",
     "text": [
      "I0610 09:07:29.926047 12508 model_lib_v2.py:680] Step 56500 per-step time 0.344s loss=1.408\n"
     ]
    },
    {
     "name": "stdout",
     "output_type": "stream",
     "text": [
      "INFO:tensorflow:Step 56600 per-step time 0.342s loss=1.351\n"
     ]
    },
    {
     "name": "stderr",
     "output_type": "stream",
     "text": [
      "I0610 09:08:04.133935 12508 model_lib_v2.py:680] Step 56600 per-step time 0.342s loss=1.351\n"
     ]
    },
    {
     "name": "stdout",
     "output_type": "stream",
     "text": [
      "INFO:tensorflow:Step 56700 per-step time 0.343s loss=1.115\n"
     ]
    },
    {
     "name": "stderr",
     "output_type": "stream",
     "text": [
      "I0610 09:08:38.403666 12508 model_lib_v2.py:680] Step 56700 per-step time 0.343s loss=1.115\n"
     ]
    },
    {
     "name": "stdout",
     "output_type": "stream",
     "text": [
      "INFO:tensorflow:Step 56800 per-step time 0.344s loss=1.387\n"
     ]
    },
    {
     "name": "stderr",
     "output_type": "stream",
     "text": [
      "I0610 09:09:12.765654 12508 model_lib_v2.py:680] Step 56800 per-step time 0.344s loss=1.387\n"
     ]
    },
    {
     "name": "stdout",
     "output_type": "stream",
     "text": [
      "INFO:tensorflow:Step 56900 per-step time 0.329s loss=1.765\n"
     ]
    },
    {
     "name": "stderr",
     "output_type": "stream",
     "text": [
      "I0610 09:09:45.699656 12508 model_lib_v2.py:680] Step 56900 per-step time 0.329s loss=1.765\n"
     ]
    },
    {
     "name": "stdout",
     "output_type": "stream",
     "text": [
      "INFO:tensorflow:Step 57000 per-step time 0.347s loss=1.420\n"
     ]
    },
    {
     "name": "stderr",
     "output_type": "stream",
     "text": [
      "I0610 09:10:20.368732 12508 model_lib_v2.py:680] Step 57000 per-step time 0.347s loss=1.420\n"
     ]
    },
    {
     "name": "stdout",
     "output_type": "stream",
     "text": [
      "INFO:tensorflow:Step 57100 per-step time 0.358s loss=1.678\n"
     ]
    },
    {
     "name": "stderr",
     "output_type": "stream",
     "text": [
      "I0610 09:10:56.124060 12508 model_lib_v2.py:680] Step 57100 per-step time 0.358s loss=1.678\n"
     ]
    },
    {
     "name": "stdout",
     "output_type": "stream",
     "text": [
      "INFO:tensorflow:Step 57200 per-step time 0.359s loss=1.408\n"
     ]
    },
    {
     "name": "stderr",
     "output_type": "stream",
     "text": [
      "I0610 09:11:31.981059 12508 model_lib_v2.py:680] Step 57200 per-step time 0.359s loss=1.408\n"
     ]
    },
    {
     "name": "stdout",
     "output_type": "stream",
     "text": [
      "INFO:tensorflow:Step 57300 per-step time 0.343s loss=1.592\n"
     ]
    },
    {
     "name": "stderr",
     "output_type": "stream",
     "text": [
      "I0610 09:12:06.257060 12508 model_lib_v2.py:680] Step 57300 per-step time 0.343s loss=1.592\n"
     ]
    },
    {
     "name": "stdout",
     "output_type": "stream",
     "text": [
      "INFO:tensorflow:Step 57400 per-step time 0.341s loss=0.805\n"
     ]
    },
    {
     "name": "stderr",
     "output_type": "stream",
     "text": [
      "I0610 09:12:40.381064 12508 model_lib_v2.py:680] Step 57400 per-step time 0.341s loss=0.805\n"
     ]
    },
    {
     "name": "stdout",
     "output_type": "stream",
     "text": [
      "INFO:tensorflow:Step 57500 per-step time 0.340s loss=1.143\n"
     ]
    },
    {
     "name": "stderr",
     "output_type": "stream",
     "text": [
      "I0610 09:13:14.346065 12508 model_lib_v2.py:680] Step 57500 per-step time 0.340s loss=1.143\n"
     ]
    },
    {
     "name": "stdout",
     "output_type": "stream",
     "text": [
      "INFO:tensorflow:Step 57600 per-step time 0.340s loss=1.322\n"
     ]
    },
    {
     "name": "stderr",
     "output_type": "stream",
     "text": [
      "I0610 09:13:48.325157 12508 model_lib_v2.py:680] Step 57600 per-step time 0.340s loss=1.322\n"
     ]
    },
    {
     "name": "stdout",
     "output_type": "stream",
     "text": [
      "INFO:tensorflow:Step 57700 per-step time 0.340s loss=1.891\n"
     ]
    },
    {
     "name": "stderr",
     "output_type": "stream",
     "text": [
      "I0610 09:14:22.319872 12508 model_lib_v2.py:680] Step 57700 per-step time 0.340s loss=1.891\n"
     ]
    },
    {
     "name": "stdout",
     "output_type": "stream",
     "text": [
      "INFO:tensorflow:Step 57800 per-step time 0.335s loss=2.280\n"
     ]
    },
    {
     "name": "stderr",
     "output_type": "stream",
     "text": [
      "I0610 09:14:55.855079 12508 model_lib_v2.py:680] Step 57800 per-step time 0.335s loss=2.280\n"
     ]
    },
    {
     "name": "stdout",
     "output_type": "stream",
     "text": [
      "INFO:tensorflow:Step 57900 per-step time 0.342s loss=1.340\n"
     ]
    },
    {
     "name": "stderr",
     "output_type": "stream",
     "text": [
      "I0610 09:15:30.069078 12508 model_lib_v2.py:680] Step 57900 per-step time 0.342s loss=1.340\n"
     ]
    },
    {
     "name": "stdout",
     "output_type": "stream",
     "text": [
      "INFO:tensorflow:Step 58000 per-step time 0.333s loss=1.070\n"
     ]
    },
    {
     "name": "stderr",
     "output_type": "stream",
     "text": [
      "I0610 09:16:03.403319 12508 model_lib_v2.py:680] Step 58000 per-step time 0.333s loss=1.070\n"
     ]
    },
    {
     "name": "stdout",
     "output_type": "stream",
     "text": [
      "INFO:tensorflow:Step 58100 per-step time 0.346s loss=1.529\n"
     ]
    },
    {
     "name": "stderr",
     "output_type": "stream",
     "text": [
      "I0610 09:16:37.988579 12508 model_lib_v2.py:680] Step 58100 per-step time 0.346s loss=1.529\n"
     ]
    },
    {
     "name": "stdout",
     "output_type": "stream",
     "text": [
      "INFO:tensorflow:Step 58200 per-step time 0.342s loss=1.002\n"
     ]
    },
    {
     "name": "stderr",
     "output_type": "stream",
     "text": [
      "I0610 09:17:12.142130 12508 model_lib_v2.py:680] Step 58200 per-step time 0.342s loss=1.002\n"
     ]
    },
    {
     "name": "stdout",
     "output_type": "stream",
     "text": [
      "INFO:tensorflow:Step 58300 per-step time 0.344s loss=0.909\n"
     ]
    },
    {
     "name": "stderr",
     "output_type": "stream",
     "text": [
      "I0610 09:17:46.556507 12508 model_lib_v2.py:680] Step 58300 per-step time 0.344s loss=0.909\n"
     ]
    },
    {
     "name": "stdout",
     "output_type": "stream",
     "text": [
      "INFO:tensorflow:Step 58400 per-step time 0.342s loss=1.699\n"
     ]
    },
    {
     "name": "stderr",
     "output_type": "stream",
     "text": [
      "I0610 09:18:20.798538 12508 model_lib_v2.py:680] Step 58400 per-step time 0.342s loss=1.699\n"
     ]
    },
    {
     "name": "stdout",
     "output_type": "stream",
     "text": [
      "INFO:tensorflow:Step 58500 per-step time 0.336s loss=2.429\n"
     ]
    },
    {
     "name": "stderr",
     "output_type": "stream",
     "text": [
      "I0610 09:18:54.407537 12508 model_lib_v2.py:680] Step 58500 per-step time 0.336s loss=2.429\n"
     ]
    },
    {
     "name": "stdout",
     "output_type": "stream",
     "text": [
      "INFO:tensorflow:Step 58600 per-step time 0.340s loss=1.616\n"
     ]
    },
    {
     "name": "stderr",
     "output_type": "stream",
     "text": [
      "I0610 09:19:28.415608 12508 model_lib_v2.py:680] Step 58600 per-step time 0.340s loss=1.616\n"
     ]
    },
    {
     "name": "stdout",
     "output_type": "stream",
     "text": [
      "INFO:tensorflow:Step 58700 per-step time 0.342s loss=1.441\n"
     ]
    },
    {
     "name": "stderr",
     "output_type": "stream",
     "text": [
      "I0610 09:20:02.566790 12508 model_lib_v2.py:680] Step 58700 per-step time 0.342s loss=1.441\n"
     ]
    },
    {
     "name": "stdout",
     "output_type": "stream",
     "text": [
      "INFO:tensorflow:Step 58800 per-step time 0.358s loss=1.828\n"
     ]
    },
    {
     "name": "stderr",
     "output_type": "stream",
     "text": [
      "I0610 09:20:38.356422 12508 model_lib_v2.py:680] Step 58800 per-step time 0.358s loss=1.828\n"
     ]
    },
    {
     "name": "stdout",
     "output_type": "stream",
     "text": [
      "INFO:tensorflow:Step 58900 per-step time 0.359s loss=1.016\n"
     ]
    },
    {
     "name": "stderr",
     "output_type": "stream",
     "text": [
      "I0610 09:21:14.224572 12508 model_lib_v2.py:680] Step 58900 per-step time 0.359s loss=1.016\n"
     ]
    },
    {
     "name": "stdout",
     "output_type": "stream",
     "text": [
      "INFO:tensorflow:Step 59000 per-step time 0.341s loss=1.386\n"
     ]
    },
    {
     "name": "stderr",
     "output_type": "stream",
     "text": [
      "I0610 09:21:48.296574 12508 model_lib_v2.py:680] Step 59000 per-step time 0.341s loss=1.386\n"
     ]
    },
    {
     "name": "stdout",
     "output_type": "stream",
     "text": [
      "INFO:tensorflow:Step 59100 per-step time 0.374s loss=1.456\n"
     ]
    },
    {
     "name": "stderr",
     "output_type": "stream",
     "text": [
      "I0610 09:22:25.701176 12508 model_lib_v2.py:680] Step 59100 per-step time 0.374s loss=1.456\n"
     ]
    },
    {
     "name": "stdout",
     "output_type": "stream",
     "text": [
      "INFO:tensorflow:Step 59200 per-step time 0.366s loss=1.246\n"
     ]
    },
    {
     "name": "stderr",
     "output_type": "stream",
     "text": [
      "I0610 09:23:02.276143 12508 model_lib_v2.py:680] Step 59200 per-step time 0.366s loss=1.246\n"
     ]
    },
    {
     "name": "stdout",
     "output_type": "stream",
     "text": [
      "INFO:tensorflow:Step 59300 per-step time 0.366s loss=0.856\n"
     ]
    },
    {
     "name": "stderr",
     "output_type": "stream",
     "text": [
      "I0610 09:23:38.867215 12508 model_lib_v2.py:680] Step 59300 per-step time 0.366s loss=0.856\n"
     ]
    },
    {
     "name": "stdout",
     "output_type": "stream",
     "text": [
      "INFO:tensorflow:Step 59400 per-step time 0.369s loss=1.464\n"
     ]
    },
    {
     "name": "stderr",
     "output_type": "stream",
     "text": [
      "I0610 09:24:15.805176 12508 model_lib_v2.py:680] Step 59400 per-step time 0.369s loss=1.464\n"
     ]
    },
    {
     "name": "stdout",
     "output_type": "stream",
     "text": [
      "INFO:tensorflow:Step 59500 per-step time 0.400s loss=1.562\n"
     ]
    },
    {
     "name": "stderr",
     "output_type": "stream",
     "text": [
      "I0610 09:24:55.791780 12508 model_lib_v2.py:680] Step 59500 per-step time 0.400s loss=1.562\n"
     ]
    },
    {
     "name": "stdout",
     "output_type": "stream",
     "text": [
      "INFO:tensorflow:Step 59600 per-step time 0.358s loss=1.406\n"
     ]
    },
    {
     "name": "stderr",
     "output_type": "stream",
     "text": [
      "I0610 09:25:31.544916 12508 model_lib_v2.py:680] Step 59600 per-step time 0.358s loss=1.406\n"
     ]
    },
    {
     "name": "stdout",
     "output_type": "stream",
     "text": [
      "INFO:tensorflow:Step 59700 per-step time 0.356s loss=0.925\n"
     ]
    },
    {
     "name": "stderr",
     "output_type": "stream",
     "text": [
      "I0610 09:26:07.174916 12508 model_lib_v2.py:680] Step 59700 per-step time 0.356s loss=0.925\n"
     ]
    },
    {
     "name": "stdout",
     "output_type": "stream",
     "text": [
      "INFO:tensorflow:Step 59800 per-step time 0.366s loss=0.981\n"
     ]
    },
    {
     "name": "stderr",
     "output_type": "stream",
     "text": [
      "I0610 09:26:43.760336 12508 model_lib_v2.py:680] Step 59800 per-step time 0.366s loss=0.981\n"
     ]
    },
    {
     "name": "stdout",
     "output_type": "stream",
     "text": [
      "INFO:tensorflow:Step 59900 per-step time 0.343s loss=0.999\n"
     ]
    },
    {
     "name": "stderr",
     "output_type": "stream",
     "text": [
      "I0610 09:27:18.041338 12508 model_lib_v2.py:680] Step 59900 per-step time 0.343s loss=0.999\n"
     ]
    },
    {
     "name": "stdout",
     "output_type": "stream",
     "text": [
      "INFO:tensorflow:Step 60000 per-step time 0.352s loss=2.027\n"
     ]
    },
    {
     "name": "stderr",
     "output_type": "stream",
     "text": [
      "I0610 09:27:53.234337 12508 model_lib_v2.py:680] Step 60000 per-step time 0.352s loss=2.027\n"
     ]
    },
    {
     "name": "stdout",
     "output_type": "stream",
     "text": [
      "INFO:tensorflow:Step 60100 per-step time 0.367s loss=1.052\n"
     ]
    },
    {
     "name": "stderr",
     "output_type": "stream",
     "text": [
      "I0610 09:28:29.927807 12508 model_lib_v2.py:680] Step 60100 per-step time 0.367s loss=1.052\n"
     ]
    },
    {
     "name": "stdout",
     "output_type": "stream",
     "text": [
      "INFO:tensorflow:Step 60200 per-step time 0.352s loss=1.038\n"
     ]
    },
    {
     "name": "stderr",
     "output_type": "stream",
     "text": [
      "I0610 09:29:05.076807 12508 model_lib_v2.py:680] Step 60200 per-step time 0.352s loss=1.038\n"
     ]
    },
    {
     "name": "stdout",
     "output_type": "stream",
     "text": [
      "INFO:tensorflow:Step 60300 per-step time 0.347s loss=1.394\n"
     ]
    },
    {
     "name": "stderr",
     "output_type": "stream",
     "text": [
      "I0610 09:29:39.820282 12508 model_lib_v2.py:680] Step 60300 per-step time 0.347s loss=1.394\n"
     ]
    },
    {
     "name": "stdout",
     "output_type": "stream",
     "text": [
      "INFO:tensorflow:Step 60400 per-step time 0.351s loss=1.477\n"
     ]
    },
    {
     "name": "stderr",
     "output_type": "stream",
     "text": [
      "I0610 09:30:14.925975 12508 model_lib_v2.py:680] Step 60400 per-step time 0.351s loss=1.477\n"
     ]
    },
    {
     "name": "stdout",
     "output_type": "stream",
     "text": [
      "INFO:tensorflow:Step 60500 per-step time 0.340s loss=1.216\n"
     ]
    },
    {
     "name": "stderr",
     "output_type": "stream",
     "text": [
      "I0610 09:30:48.956651 12508 model_lib_v2.py:680] Step 60500 per-step time 0.340s loss=1.216\n"
     ]
    },
    {
     "name": "stdout",
     "output_type": "stream",
     "text": [
      "INFO:tensorflow:Step 60600 per-step time 0.354s loss=0.980\n"
     ]
    },
    {
     "name": "stderr",
     "output_type": "stream",
     "text": [
      "I0610 09:31:24.342185 12508 model_lib_v2.py:680] Step 60600 per-step time 0.354s loss=0.980\n"
     ]
    },
    {
     "name": "stdout",
     "output_type": "stream",
     "text": [
      "INFO:tensorflow:Step 60700 per-step time 0.351s loss=2.097\n"
     ]
    },
    {
     "name": "stderr",
     "output_type": "stream",
     "text": [
      "I0610 09:31:59.453898 12508 model_lib_v2.py:680] Step 60700 per-step time 0.351s loss=2.097\n"
     ]
    },
    {
     "name": "stdout",
     "output_type": "stream",
     "text": [
      "INFO:tensorflow:Step 60800 per-step time 0.370s loss=1.208\n"
     ]
    },
    {
     "name": "stderr",
     "output_type": "stream",
     "text": [
      "I0610 09:32:36.429675 12508 model_lib_v2.py:680] Step 60800 per-step time 0.370s loss=1.208\n"
     ]
    },
    {
     "name": "stdout",
     "output_type": "stream",
     "text": [
      "INFO:tensorflow:Step 60900 per-step time 0.387s loss=1.377\n"
     ]
    },
    {
     "name": "stderr",
     "output_type": "stream",
     "text": [
      "I0610 09:33:15.126016 12508 model_lib_v2.py:680] Step 60900 per-step time 0.387s loss=1.377\n"
     ]
    },
    {
     "name": "stdout",
     "output_type": "stream",
     "text": [
      "INFO:tensorflow:Step 61000 per-step time 0.380s loss=1.845\n"
     ]
    },
    {
     "name": "stderr",
     "output_type": "stream",
     "text": [
      "I0610 09:33:53.082905 12508 model_lib_v2.py:680] Step 61000 per-step time 0.380s loss=1.845\n"
     ]
    },
    {
     "name": "stdout",
     "output_type": "stream",
     "text": [
      "INFO:tensorflow:Step 61100 per-step time 0.392s loss=1.413\n"
     ]
    },
    {
     "name": "stderr",
     "output_type": "stream",
     "text": [
      "I0610 09:34:32.320833 12508 model_lib_v2.py:680] Step 61100 per-step time 0.392s loss=1.413\n"
     ]
    },
    {
     "name": "stdout",
     "output_type": "stream",
     "text": [
      "INFO:tensorflow:Step 61200 per-step time 0.387s loss=1.469\n"
     ]
    },
    {
     "name": "stderr",
     "output_type": "stream",
     "text": [
      "I0610 09:35:10.989776 12508 model_lib_v2.py:680] Step 61200 per-step time 0.387s loss=1.469\n"
     ]
    },
    {
     "name": "stdout",
     "output_type": "stream",
     "text": [
      "INFO:tensorflow:Step 61300 per-step time 0.392s loss=1.341\n"
     ]
    },
    {
     "name": "stderr",
     "output_type": "stream",
     "text": [
      "I0610 09:35:50.198287 12508 model_lib_v2.py:680] Step 61300 per-step time 0.392s loss=1.341\n"
     ]
    },
    {
     "name": "stdout",
     "output_type": "stream",
     "text": [
      "INFO:tensorflow:Step 61400 per-step time 0.378s loss=1.589\n"
     ]
    },
    {
     "name": "stderr",
     "output_type": "stream",
     "text": [
      "I0610 09:36:28.019213 12508 model_lib_v2.py:680] Step 61400 per-step time 0.378s loss=1.589\n"
     ]
    },
    {
     "name": "stdout",
     "output_type": "stream",
     "text": [
      "INFO:tensorflow:Step 61500 per-step time 0.376s loss=1.263\n"
     ]
    },
    {
     "name": "stderr",
     "output_type": "stream",
     "text": [
      "I0610 09:37:05.644961 12508 model_lib_v2.py:680] Step 61500 per-step time 0.376s loss=1.263\n"
     ]
    },
    {
     "name": "stdout",
     "output_type": "stream",
     "text": [
      "INFO:tensorflow:Step 61600 per-step time 0.373s loss=1.021\n"
     ]
    },
    {
     "name": "stderr",
     "output_type": "stream",
     "text": [
      "I0610 09:37:42.963050 12508 model_lib_v2.py:680] Step 61600 per-step time 0.373s loss=1.021\n"
     ]
    },
    {
     "name": "stdout",
     "output_type": "stream",
     "text": [
      "INFO:tensorflow:Step 61700 per-step time 0.381s loss=1.515\n"
     ]
    },
    {
     "name": "stderr",
     "output_type": "stream",
     "text": [
      "I0610 09:38:21.072340 12508 model_lib_v2.py:680] Step 61700 per-step time 0.381s loss=1.515\n"
     ]
    },
    {
     "name": "stdout",
     "output_type": "stream",
     "text": [
      "INFO:tensorflow:Step 61800 per-step time 0.383s loss=1.582\n"
     ]
    },
    {
     "name": "stderr",
     "output_type": "stream",
     "text": [
      "I0610 09:38:59.328787 12508 model_lib_v2.py:680] Step 61800 per-step time 0.383s loss=1.582\n"
     ]
    },
    {
     "name": "stdout",
     "output_type": "stream",
     "text": [
      "INFO:tensorflow:Step 61900 per-step time 0.373s loss=1.203\n"
     ]
    },
    {
     "name": "stderr",
     "output_type": "stream",
     "text": [
      "I0610 09:39:36.622981 12508 model_lib_v2.py:680] Step 61900 per-step time 0.373s loss=1.203\n"
     ]
    },
    {
     "name": "stdout",
     "output_type": "stream",
     "text": [
      "INFO:tensorflow:Step 62000 per-step time 0.378s loss=1.365\n"
     ]
    },
    {
     "name": "stderr",
     "output_type": "stream",
     "text": [
      "I0610 09:40:14.456492 12508 model_lib_v2.py:680] Step 62000 per-step time 0.378s loss=1.365\n"
     ]
    },
    {
     "name": "stdout",
     "output_type": "stream",
     "text": [
      "INFO:tensorflow:Step 62100 per-step time 0.396s loss=1.542\n"
     ]
    },
    {
     "name": "stderr",
     "output_type": "stream",
     "text": [
      "I0610 09:40:54.040405 12508 model_lib_v2.py:680] Step 62100 per-step time 0.396s loss=1.542\n"
     ]
    },
    {
     "name": "stdout",
     "output_type": "stream",
     "text": [
      "INFO:tensorflow:Step 62200 per-step time 0.385s loss=1.756\n"
     ]
    },
    {
     "name": "stderr",
     "output_type": "stream",
     "text": [
      "I0610 09:41:32.539763 12508 model_lib_v2.py:680] Step 62200 per-step time 0.385s loss=1.756\n"
     ]
    },
    {
     "name": "stdout",
     "output_type": "stream",
     "text": [
      "INFO:tensorflow:Step 62300 per-step time 0.375s loss=1.358\n"
     ]
    },
    {
     "name": "stderr",
     "output_type": "stream",
     "text": [
      "I0610 09:42:10.069474 12508 model_lib_v2.py:680] Step 62300 per-step time 0.375s loss=1.358\n"
     ]
    },
    {
     "name": "stdout",
     "output_type": "stream",
     "text": [
      "INFO:tensorflow:Step 62400 per-step time 0.383s loss=1.254\n"
     ]
    },
    {
     "name": "stderr",
     "output_type": "stream",
     "text": [
      "I0610 09:42:48.348947 12508 model_lib_v2.py:680] Step 62400 per-step time 0.383s loss=1.254\n"
     ]
    },
    {
     "name": "stdout",
     "output_type": "stream",
     "text": [
      "INFO:tensorflow:Step 62500 per-step time 0.378s loss=1.371\n"
     ]
    },
    {
     "name": "stderr",
     "output_type": "stream",
     "text": [
      "I0610 09:43:26.193649 12508 model_lib_v2.py:680] Step 62500 per-step time 0.378s loss=1.371\n"
     ]
    },
    {
     "name": "stdout",
     "output_type": "stream",
     "text": [
      "INFO:tensorflow:Step 62600 per-step time 0.385s loss=1.453\n"
     ]
    },
    {
     "name": "stderr",
     "output_type": "stream",
     "text": [
      "I0610 09:44:04.663442 12508 model_lib_v2.py:680] Step 62600 per-step time 0.385s loss=1.453\n"
     ]
    },
    {
     "name": "stdout",
     "output_type": "stream",
     "text": [
      "INFO:tensorflow:Step 62700 per-step time 0.389s loss=1.281\n"
     ]
    },
    {
     "name": "stderr",
     "output_type": "stream",
     "text": [
      "I0610 09:44:43.514586 12508 model_lib_v2.py:680] Step 62700 per-step time 0.389s loss=1.281\n"
     ]
    },
    {
     "name": "stdout",
     "output_type": "stream",
     "text": [
      "INFO:tensorflow:Step 62800 per-step time 0.379s loss=1.131\n"
     ]
    },
    {
     "name": "stderr",
     "output_type": "stream",
     "text": [
      "I0610 09:45:21.397956 12508 model_lib_v2.py:680] Step 62800 per-step time 0.379s loss=1.131\n"
     ]
    },
    {
     "name": "stdout",
     "output_type": "stream",
     "text": [
      "INFO:tensorflow:Step 62900 per-step time 0.383s loss=1.113\n"
     ]
    },
    {
     "name": "stderr",
     "output_type": "stream",
     "text": [
      "I0610 09:45:59.740844 12508 model_lib_v2.py:680] Step 62900 per-step time 0.383s loss=1.113\n"
     ]
    },
    {
     "name": "stdout",
     "output_type": "stream",
     "text": [
      "INFO:tensorflow:Step 63000 per-step time 0.386s loss=1.527\n"
     ]
    },
    {
     "name": "stderr",
     "output_type": "stream",
     "text": [
      "I0610 09:46:38.298519 12508 model_lib_v2.py:680] Step 63000 per-step time 0.386s loss=1.527\n"
     ]
    },
    {
     "name": "stdout",
     "output_type": "stream",
     "text": [
      "INFO:tensorflow:Step 63100 per-step time 0.401s loss=0.985\n"
     ]
    },
    {
     "name": "stderr",
     "output_type": "stream",
     "text": [
      "I0610 09:47:18.418549 12508 model_lib_v2.py:680] Step 63100 per-step time 0.401s loss=0.985\n"
     ]
    },
    {
     "name": "stdout",
     "output_type": "stream",
     "text": [
      "INFO:tensorflow:Step 63200 per-step time 0.407s loss=1.354\n"
     ]
    },
    {
     "name": "stderr",
     "output_type": "stream",
     "text": [
      "I0610 09:47:59.127459 12508 model_lib_v2.py:680] Step 63200 per-step time 0.407s loss=1.354\n"
     ]
    },
    {
     "name": "stdout",
     "output_type": "stream",
     "text": [
      "INFO:tensorflow:Step 63300 per-step time 0.399s loss=1.300\n"
     ]
    },
    {
     "name": "stderr",
     "output_type": "stream",
     "text": [
      "I0610 09:48:38.999562 12508 model_lib_v2.py:680] Step 63300 per-step time 0.399s loss=1.300\n"
     ]
    },
    {
     "name": "stdout",
     "output_type": "stream",
     "text": [
      "INFO:tensorflow:Step 63400 per-step time 0.381s loss=1.116\n"
     ]
    },
    {
     "name": "stderr",
     "output_type": "stream",
     "text": [
      "I0610 09:49:17.097509 12508 model_lib_v2.py:680] Step 63400 per-step time 0.381s loss=1.116\n"
     ]
    },
    {
     "name": "stdout",
     "output_type": "stream",
     "text": [
      "INFO:tensorflow:Step 63500 per-step time 0.378s loss=1.274\n"
     ]
    },
    {
     "name": "stderr",
     "output_type": "stream",
     "text": [
      "I0610 09:49:54.900902 12508 model_lib_v2.py:680] Step 63500 per-step time 0.378s loss=1.274\n"
     ]
    },
    {
     "name": "stdout",
     "output_type": "stream",
     "text": [
      "INFO:tensorflow:Step 63600 per-step time 0.379s loss=1.056\n"
     ]
    },
    {
     "name": "stderr",
     "output_type": "stream",
     "text": [
      "I0610 09:50:32.813650 12508 model_lib_v2.py:680] Step 63600 per-step time 0.379s loss=1.056\n"
     ]
    },
    {
     "name": "stdout",
     "output_type": "stream",
     "text": [
      "INFO:tensorflow:Step 63700 per-step time 0.392s loss=1.071\n"
     ]
    },
    {
     "name": "stderr",
     "output_type": "stream",
     "text": [
      "I0610 09:51:11.987730 12508 model_lib_v2.py:680] Step 63700 per-step time 0.392s loss=1.071\n"
     ]
    },
    {
     "name": "stdout",
     "output_type": "stream",
     "text": [
      "INFO:tensorflow:Step 63800 per-step time 0.370s loss=1.305\n"
     ]
    },
    {
     "name": "stderr",
     "output_type": "stream",
     "text": [
      "I0610 09:51:49.007936 12508 model_lib_v2.py:680] Step 63800 per-step time 0.370s loss=1.305\n"
     ]
    },
    {
     "name": "stdout",
     "output_type": "stream",
     "text": [
      "INFO:tensorflow:Step 63900 per-step time 0.356s loss=1.781\n"
     ]
    },
    {
     "name": "stderr",
     "output_type": "stream",
     "text": [
      "I0610 09:52:24.574733 12508 model_lib_v2.py:680] Step 63900 per-step time 0.356s loss=1.781\n"
     ]
    },
    {
     "name": "stdout",
     "output_type": "stream",
     "text": [
      "INFO:tensorflow:Step 64000 per-step time 0.373s loss=1.703\n"
     ]
    },
    {
     "name": "stderr",
     "output_type": "stream",
     "text": [
      "I0610 09:53:01.874804 12508 model_lib_v2.py:680] Step 64000 per-step time 0.373s loss=1.703\n"
     ]
    },
    {
     "name": "stdout",
     "output_type": "stream",
     "text": [
      "INFO:tensorflow:Step 64100 per-step time 0.400s loss=1.973\n"
     ]
    },
    {
     "name": "stderr",
     "output_type": "stream",
     "text": [
      "I0610 09:53:41.873847 12508 model_lib_v2.py:680] Step 64100 per-step time 0.400s loss=1.973\n"
     ]
    },
    {
     "name": "stdout",
     "output_type": "stream",
     "text": [
      "INFO:tensorflow:Step 64200 per-step time 0.367s loss=1.701\n"
     ]
    },
    {
     "name": "stderr",
     "output_type": "stream",
     "text": [
      "I0610 09:54:18.531923 12508 model_lib_v2.py:680] Step 64200 per-step time 0.367s loss=1.701\n"
     ]
    },
    {
     "name": "stdout",
     "output_type": "stream",
     "text": [
      "INFO:tensorflow:Step 64300 per-step time 0.351s loss=1.350\n"
     ]
    },
    {
     "name": "stderr",
     "output_type": "stream",
     "text": [
      "I0610 09:54:53.583625 12508 model_lib_v2.py:680] Step 64300 per-step time 0.351s loss=1.350\n"
     ]
    },
    {
     "name": "stdout",
     "output_type": "stream",
     "text": [
      "INFO:tensorflow:Step 64400 per-step time 0.334s loss=1.265\n"
     ]
    },
    {
     "name": "stderr",
     "output_type": "stream",
     "text": [
      "I0610 09:55:26.985619 12508 model_lib_v2.py:680] Step 64400 per-step time 0.334s loss=1.265\n"
     ]
    },
    {
     "name": "stdout",
     "output_type": "stream",
     "text": [
      "INFO:tensorflow:Step 64500 per-step time 0.337s loss=1.639\n"
     ]
    },
    {
     "name": "stderr",
     "output_type": "stream",
     "text": [
      "I0610 09:56:00.669619 12508 model_lib_v2.py:680] Step 64500 per-step time 0.337s loss=1.639\n"
     ]
    },
    {
     "name": "stdout",
     "output_type": "stream",
     "text": [
      "INFO:tensorflow:Step 64600 per-step time 0.337s loss=1.302\n"
     ]
    },
    {
     "name": "stderr",
     "output_type": "stream",
     "text": [
      "I0610 09:56:34.354990 12508 model_lib_v2.py:680] Step 64600 per-step time 0.337s loss=1.302\n"
     ]
    },
    {
     "name": "stdout",
     "output_type": "stream",
     "text": [
      "INFO:tensorflow:Step 64700 per-step time 0.339s loss=1.110\n"
     ]
    },
    {
     "name": "stderr",
     "output_type": "stream",
     "text": [
      "I0610 09:57:08.277990 12508 model_lib_v2.py:680] Step 64700 per-step time 0.339s loss=1.110\n"
     ]
    },
    {
     "name": "stdout",
     "output_type": "stream",
     "text": [
      "INFO:tensorflow:Step 64800 per-step time 0.340s loss=1.403\n"
     ]
    },
    {
     "name": "stderr",
     "output_type": "stream",
     "text": [
      "I0610 09:57:42.263192 12508 model_lib_v2.py:680] Step 64800 per-step time 0.340s loss=1.403\n"
     ]
    },
    {
     "name": "stdout",
     "output_type": "stream",
     "text": [
      "INFO:tensorflow:Step 64900 per-step time 0.335s loss=1.312\n"
     ]
    },
    {
     "name": "stderr",
     "output_type": "stream",
     "text": [
      "I0610 09:58:15.724210 12508 model_lib_v2.py:680] Step 64900 per-step time 0.335s loss=1.312\n"
     ]
    },
    {
     "name": "stdout",
     "output_type": "stream",
     "text": [
      "INFO:tensorflow:Step 65000 per-step time 0.457s loss=1.338\n"
     ]
    },
    {
     "name": "stderr",
     "output_type": "stream",
     "text": [
      "I0610 09:59:01.380212 12508 model_lib_v2.py:680] Step 65000 per-step time 0.457s loss=1.338\n"
     ]
    },
    {
     "name": "stdout",
     "output_type": "stream",
     "text": [
      "INFO:tensorflow:Step 65100 per-step time 0.569s loss=1.422\n"
     ]
    },
    {
     "name": "stderr",
     "output_type": "stream",
     "text": [
      "I0610 09:59:58.263006 12508 model_lib_v2.py:680] Step 65100 per-step time 0.569s loss=1.422\n"
     ]
    },
    {
     "name": "stdout",
     "output_type": "stream",
     "text": [
      "INFO:tensorflow:Step 65200 per-step time 0.357s loss=0.965\n"
     ]
    },
    {
     "name": "stderr",
     "output_type": "stream",
     "text": [
      "I0610 10:00:33.918007 12508 model_lib_v2.py:680] Step 65200 per-step time 0.357s loss=0.965\n"
     ]
    },
    {
     "name": "stdout",
     "output_type": "stream",
     "text": [
      "INFO:tensorflow:Step 65300 per-step time 0.427s loss=1.366\n"
     ]
    },
    {
     "name": "stderr",
     "output_type": "stream",
     "text": [
      "I0610 10:01:16.660046 12508 model_lib_v2.py:680] Step 65300 per-step time 0.427s loss=1.366\n"
     ]
    },
    {
     "name": "stdout",
     "output_type": "stream",
     "text": [
      "INFO:tensorflow:Step 65400 per-step time 0.377s loss=1.487\n"
     ]
    },
    {
     "name": "stderr",
     "output_type": "stream",
     "text": [
      "I0610 10:01:54.405304 12508 model_lib_v2.py:680] Step 65400 per-step time 0.377s loss=1.487\n"
     ]
    },
    {
     "name": "stdout",
     "output_type": "stream",
     "text": [
      "INFO:tensorflow:Step 65500 per-step time 0.513s loss=1.210\n"
     ]
    },
    {
     "name": "stderr",
     "output_type": "stream",
     "text": [
      "I0610 10:02:45.723159 12508 model_lib_v2.py:680] Step 65500 per-step time 0.513s loss=1.210\n"
     ]
    },
    {
     "name": "stdout",
     "output_type": "stream",
     "text": [
      "INFO:tensorflow:Step 65600 per-step time 0.539s loss=0.851\n"
     ]
    },
    {
     "name": "stderr",
     "output_type": "stream",
     "text": [
      "I0610 10:03:39.652945 12508 model_lib_v2.py:680] Step 65600 per-step time 0.539s loss=0.851\n"
     ]
    },
    {
     "name": "stdout",
     "output_type": "stream",
     "text": [
      "INFO:tensorflow:Step 65700 per-step time 0.438s loss=1.521\n"
     ]
    },
    {
     "name": "stderr",
     "output_type": "stream",
     "text": [
      "I0610 10:04:23.425945 12508 model_lib_v2.py:680] Step 65700 per-step time 0.438s loss=1.521\n"
     ]
    },
    {
     "name": "stdout",
     "output_type": "stream",
     "text": [
      "INFO:tensorflow:Step 65800 per-step time 0.401s loss=0.789\n"
     ]
    },
    {
     "name": "stderr",
     "output_type": "stream",
     "text": [
      "I0610 10:05:03.491871 12508 model_lib_v2.py:680] Step 65800 per-step time 0.401s loss=0.789\n"
     ]
    },
    {
     "name": "stdout",
     "output_type": "stream",
     "text": [
      "INFO:tensorflow:Step 65900 per-step time 0.400s loss=0.951\n"
     ]
    },
    {
     "name": "stderr",
     "output_type": "stream",
     "text": [
      "I0610 10:05:43.465012 12508 model_lib_v2.py:680] Step 65900 per-step time 0.400s loss=0.951\n"
     ]
    },
    {
     "name": "stdout",
     "output_type": "stream",
     "text": [
      "INFO:tensorflow:Step 66000 per-step time 0.384s loss=0.926\n"
     ]
    },
    {
     "name": "stderr",
     "output_type": "stream",
     "text": [
      "I0610 10:06:21.897011 12508 model_lib_v2.py:680] Step 66000 per-step time 0.384s loss=0.926\n"
     ]
    },
    {
     "name": "stdout",
     "output_type": "stream",
     "text": [
      "INFO:tensorflow:Step 66100 per-step time 0.373s loss=1.938\n"
     ]
    },
    {
     "name": "stderr",
     "output_type": "stream",
     "text": [
      "I0610 10:06:59.183464 12508 model_lib_v2.py:680] Step 66100 per-step time 0.373s loss=1.938\n"
     ]
    },
    {
     "name": "stdout",
     "output_type": "stream",
     "text": [
      "INFO:tensorflow:Step 66200 per-step time 0.350s loss=1.501\n"
     ]
    },
    {
     "name": "stderr",
     "output_type": "stream",
     "text": [
      "I0610 10:07:34.233462 12508 model_lib_v2.py:680] Step 66200 per-step time 0.350s loss=1.501\n"
     ]
    },
    {
     "name": "stdout",
     "output_type": "stream",
     "text": [
      "INFO:tensorflow:Step 66300 per-step time 0.341s loss=1.612\n"
     ]
    },
    {
     "name": "stderr",
     "output_type": "stream",
     "text": [
      "I0610 10:08:08.290699 12508 model_lib_v2.py:680] Step 66300 per-step time 0.341s loss=1.612\n"
     ]
    },
    {
     "name": "stdout",
     "output_type": "stream",
     "text": [
      "INFO:tensorflow:Step 66400 per-step time 0.351s loss=1.155\n"
     ]
    },
    {
     "name": "stderr",
     "output_type": "stream",
     "text": [
      "I0610 10:08:43.402538 12508 model_lib_v2.py:680] Step 66400 per-step time 0.351s loss=1.155\n"
     ]
    },
    {
     "name": "stdout",
     "output_type": "stream",
     "text": [
      "INFO:tensorflow:Step 66500 per-step time 0.348s loss=1.288\n"
     ]
    },
    {
     "name": "stderr",
     "output_type": "stream",
     "text": [
      "I0610 10:09:18.212974 12508 model_lib_v2.py:680] Step 66500 per-step time 0.348s loss=1.288\n"
     ]
    },
    {
     "name": "stdout",
     "output_type": "stream",
     "text": [
      "INFO:tensorflow:Step 66600 per-step time 0.344s loss=1.818\n"
     ]
    },
    {
     "name": "stderr",
     "output_type": "stream",
     "text": [
      "I0610 10:09:52.631010 12508 model_lib_v2.py:680] Step 66600 per-step time 0.344s loss=1.818\n"
     ]
    },
    {
     "name": "stdout",
     "output_type": "stream",
     "text": [
      "INFO:tensorflow:Step 66700 per-step time 0.350s loss=1.547\n"
     ]
    },
    {
     "name": "stderr",
     "output_type": "stream",
     "text": [
      "I0610 10:10:27.663012 12508 model_lib_v2.py:680] Step 66700 per-step time 0.350s loss=1.547\n"
     ]
    },
    {
     "name": "stdout",
     "output_type": "stream",
     "text": [
      "INFO:tensorflow:Step 66800 per-step time 0.348s loss=1.229\n"
     ]
    },
    {
     "name": "stderr",
     "output_type": "stream",
     "text": [
      "I0610 10:11:02.417011 12508 model_lib_v2.py:680] Step 66800 per-step time 0.348s loss=1.229\n"
     ]
    },
    {
     "name": "stdout",
     "output_type": "stream",
     "text": [
      "INFO:tensorflow:Step 66900 per-step time 0.351s loss=1.361\n"
     ]
    },
    {
     "name": "stderr",
     "output_type": "stream",
     "text": [
      "I0610 10:11:37.552010 12508 model_lib_v2.py:680] Step 66900 per-step time 0.351s loss=1.361\n"
     ]
    },
    {
     "name": "stdout",
     "output_type": "stream",
     "text": [
      "INFO:tensorflow:Step 67000 per-step time 0.350s loss=1.743\n"
     ]
    },
    {
     "name": "stderr",
     "output_type": "stream",
     "text": [
      "I0610 10:12:12.560209 12508 model_lib_v2.py:680] Step 67000 per-step time 0.350s loss=1.743\n"
     ]
    },
    {
     "name": "stdout",
     "output_type": "stream",
     "text": [
      "INFO:tensorflow:Step 67100 per-step time 0.359s loss=1.382\n"
     ]
    },
    {
     "name": "stderr",
     "output_type": "stream",
     "text": [
      "I0610 10:12:48.502718 12508 model_lib_v2.py:680] Step 67100 per-step time 0.359s loss=1.382\n"
     ]
    },
    {
     "name": "stdout",
     "output_type": "stream",
     "text": [
      "INFO:tensorflow:Step 67200 per-step time 0.366s loss=1.090\n"
     ]
    },
    {
     "name": "stderr",
     "output_type": "stream",
     "text": [
      "I0610 10:13:25.144679 12508 model_lib_v2.py:680] Step 67200 per-step time 0.366s loss=1.090\n"
     ]
    },
    {
     "name": "stdout",
     "output_type": "stream",
     "text": [
      "INFO:tensorflow:Step 67300 per-step time 0.355s loss=1.475\n"
     ]
    },
    {
     "name": "stderr",
     "output_type": "stream",
     "text": [
      "I0610 10:14:00.629579 12508 model_lib_v2.py:680] Step 67300 per-step time 0.355s loss=1.475\n"
     ]
    },
    {
     "name": "stdout",
     "output_type": "stream",
     "text": [
      "INFO:tensorflow:Step 67400 per-step time 0.357s loss=1.177\n"
     ]
    },
    {
     "name": "stderr",
     "output_type": "stream",
     "text": [
      "I0610 10:14:36.287510 12508 model_lib_v2.py:680] Step 67400 per-step time 0.357s loss=1.177\n"
     ]
    },
    {
     "name": "stdout",
     "output_type": "stream",
     "text": [
      "INFO:tensorflow:Step 67500 per-step time 0.384s loss=1.134\n"
     ]
    },
    {
     "name": "stderr",
     "output_type": "stream",
     "text": [
      "I0610 10:15:14.643511 12508 model_lib_v2.py:680] Step 67500 per-step time 0.384s loss=1.134\n"
     ]
    },
    {
     "name": "stdout",
     "output_type": "stream",
     "text": [
      "INFO:tensorflow:Step 67600 per-step time 0.360s loss=1.302\n"
     ]
    },
    {
     "name": "stderr",
     "output_type": "stream",
     "text": [
      "I0610 10:15:50.594897 12508 model_lib_v2.py:680] Step 67600 per-step time 0.360s loss=1.302\n"
     ]
    },
    {
     "name": "stdout",
     "output_type": "stream",
     "text": [
      "INFO:tensorflow:Step 67700 per-step time 0.361s loss=1.656\n"
     ]
    },
    {
     "name": "stderr",
     "output_type": "stream",
     "text": [
      "I0610 10:16:26.684898 12508 model_lib_v2.py:680] Step 67700 per-step time 0.361s loss=1.656\n"
     ]
    },
    {
     "name": "stdout",
     "output_type": "stream",
     "text": [
      "INFO:tensorflow:Step 67800 per-step time 0.379s loss=2.186\n"
     ]
    },
    {
     "name": "stderr",
     "output_type": "stream",
     "text": [
      "I0610 10:17:04.573934 12508 model_lib_v2.py:680] Step 67800 per-step time 0.379s loss=2.186\n"
     ]
    },
    {
     "name": "stdout",
     "output_type": "stream",
     "text": [
      "INFO:tensorflow:Step 67900 per-step time 0.373s loss=1.309\n"
     ]
    },
    {
     "name": "stderr",
     "output_type": "stream",
     "text": [
      "I0610 10:17:41.902956 12508 model_lib_v2.py:680] Step 67900 per-step time 0.373s loss=1.309\n"
     ]
    },
    {
     "name": "stdout",
     "output_type": "stream",
     "text": [
      "INFO:tensorflow:Step 68000 per-step time 0.349s loss=1.695\n"
     ]
    },
    {
     "name": "stderr",
     "output_type": "stream",
     "text": [
      "I0610 10:18:16.804956 12508 model_lib_v2.py:680] Step 68000 per-step time 0.349s loss=1.695\n"
     ]
    },
    {
     "name": "stdout",
     "output_type": "stream",
     "text": [
      "INFO:tensorflow:Step 68100 per-step time 0.360s loss=1.378\n"
     ]
    },
    {
     "name": "stderr",
     "output_type": "stream",
     "text": [
      "I0610 10:18:52.755136 12508 model_lib_v2.py:680] Step 68100 per-step time 0.360s loss=1.378\n"
     ]
    },
    {
     "name": "stdout",
     "output_type": "stream",
     "text": [
      "INFO:tensorflow:Step 68200 per-step time 0.348s loss=1.758\n"
     ]
    },
    {
     "name": "stderr",
     "output_type": "stream",
     "text": [
      "I0610 10:19:27.551357 12508 model_lib_v2.py:680] Step 68200 per-step time 0.348s loss=1.758\n"
     ]
    },
    {
     "name": "stdout",
     "output_type": "stream",
     "text": [
      "INFO:tensorflow:Step 68300 per-step time 0.352s loss=1.114\n"
     ]
    },
    {
     "name": "stderr",
     "output_type": "stream",
     "text": [
      "I0610 10:20:02.756352 12508 model_lib_v2.py:680] Step 68300 per-step time 0.352s loss=1.114\n"
     ]
    },
    {
     "name": "stdout",
     "output_type": "stream",
     "text": [
      "INFO:tensorflow:Step 68400 per-step time 0.352s loss=1.495\n"
     ]
    },
    {
     "name": "stderr",
     "output_type": "stream",
     "text": [
      "I0610 10:20:37.952353 12508 model_lib_v2.py:680] Step 68400 per-step time 0.352s loss=1.495\n"
     ]
    },
    {
     "name": "stdout",
     "output_type": "stream",
     "text": [
      "INFO:tensorflow:Step 68500 per-step time 0.373s loss=1.034\n"
     ]
    },
    {
     "name": "stderr",
     "output_type": "stream",
     "text": [
      "I0610 10:21:15.294353 12508 model_lib_v2.py:680] Step 68500 per-step time 0.373s loss=1.034\n"
     ]
    },
    {
     "name": "stdout",
     "output_type": "stream",
     "text": [
      "INFO:tensorflow:Step 68600 per-step time 0.357s loss=1.118\n"
     ]
    },
    {
     "name": "stderr",
     "output_type": "stream",
     "text": [
      "I0610 10:21:50.954352 12508 model_lib_v2.py:680] Step 68600 per-step time 0.357s loss=1.118\n"
     ]
    },
    {
     "name": "stdout",
     "output_type": "stream",
     "text": [
      "INFO:tensorflow:Step 68700 per-step time 0.355s loss=1.270\n"
     ]
    },
    {
     "name": "stderr",
     "output_type": "stream",
     "text": [
      "I0610 10:22:26.455430 12508 model_lib_v2.py:680] Step 68700 per-step time 0.355s loss=1.270\n"
     ]
    },
    {
     "name": "stdout",
     "output_type": "stream",
     "text": [
      "INFO:tensorflow:Step 68800 per-step time 0.363s loss=1.606\n"
     ]
    },
    {
     "name": "stderr",
     "output_type": "stream",
     "text": [
      "I0610 10:23:02.786430 12508 model_lib_v2.py:680] Step 68800 per-step time 0.363s loss=1.606\n"
     ]
    },
    {
     "name": "stdout",
     "output_type": "stream",
     "text": [
      "INFO:tensorflow:Step 68900 per-step time 0.357s loss=1.186\n"
     ]
    },
    {
     "name": "stderr",
     "output_type": "stream",
     "text": [
      "I0610 10:23:38.533431 12508 model_lib_v2.py:680] Step 68900 per-step time 0.357s loss=1.186\n"
     ]
    },
    {
     "name": "stdout",
     "output_type": "stream",
     "text": [
      "INFO:tensorflow:Step 69000 per-step time 0.358s loss=1.158\n"
     ]
    },
    {
     "name": "stderr",
     "output_type": "stream",
     "text": [
      "I0610 10:24:14.289431 12508 model_lib_v2.py:680] Step 69000 per-step time 0.358s loss=1.158\n"
     ]
    },
    {
     "name": "stdout",
     "output_type": "stream",
     "text": [
      "INFO:tensorflow:Step 69100 per-step time 0.371s loss=1.068\n"
     ]
    },
    {
     "name": "stderr",
     "output_type": "stream",
     "text": [
      "I0610 10:24:51.426293 12508 model_lib_v2.py:680] Step 69100 per-step time 0.371s loss=1.068\n"
     ]
    },
    {
     "name": "stdout",
     "output_type": "stream",
     "text": [
      "INFO:tensorflow:Step 69200 per-step time 0.352s loss=1.794\n"
     ]
    },
    {
     "name": "stderr",
     "output_type": "stream",
     "text": [
      "I0610 10:25:26.581447 12508 model_lib_v2.py:680] Step 69200 per-step time 0.352s loss=1.794\n"
     ]
    },
    {
     "name": "stdout",
     "output_type": "stream",
     "text": [
      "INFO:tensorflow:Step 69300 per-step time 0.352s loss=1.602\n"
     ]
    },
    {
     "name": "stderr",
     "output_type": "stream",
     "text": [
      "I0610 10:26:01.809379 12508 model_lib_v2.py:680] Step 69300 per-step time 0.352s loss=1.602\n"
     ]
    },
    {
     "name": "stdout",
     "output_type": "stream",
     "text": [
      "INFO:tensorflow:Step 69400 per-step time 0.356s loss=1.334\n"
     ]
    },
    {
     "name": "stderr",
     "output_type": "stream",
     "text": [
      "I0610 10:26:37.392379 12508 model_lib_v2.py:680] Step 69400 per-step time 0.356s loss=1.334\n"
     ]
    },
    {
     "name": "stdout",
     "output_type": "stream",
     "text": [
      "INFO:tensorflow:Step 69500 per-step time 0.358s loss=1.651\n"
     ]
    },
    {
     "name": "stderr",
     "output_type": "stream",
     "text": [
      "I0610 10:27:13.146379 12508 model_lib_v2.py:680] Step 69500 per-step time 0.358s loss=1.651\n"
     ]
    },
    {
     "name": "stdout",
     "output_type": "stream",
     "text": [
      "INFO:tensorflow:Step 69600 per-step time 0.354s loss=1.210\n"
     ]
    },
    {
     "name": "stderr",
     "output_type": "stream",
     "text": [
      "I0610 10:27:48.585947 12508 model_lib_v2.py:680] Step 69600 per-step time 0.354s loss=1.210\n"
     ]
    },
    {
     "name": "stdout",
     "output_type": "stream",
     "text": [
      "INFO:tensorflow:Step 69700 per-step time 0.352s loss=1.461\n"
     ]
    },
    {
     "name": "stderr",
     "output_type": "stream",
     "text": [
      "I0610 10:28:23.758264 12508 model_lib_v2.py:680] Step 69700 per-step time 0.352s loss=1.461\n"
     ]
    },
    {
     "name": "stdout",
     "output_type": "stream",
     "text": [
      "INFO:tensorflow:Step 69800 per-step time 0.353s loss=1.279\n"
     ]
    },
    {
     "name": "stderr",
     "output_type": "stream",
     "text": [
      "I0610 10:28:59.100266 12508 model_lib_v2.py:680] Step 69800 per-step time 0.353s loss=1.279\n"
     ]
    },
    {
     "name": "stdout",
     "output_type": "stream",
     "text": [
      "INFO:tensorflow:Step 69900 per-step time 0.353s loss=1.682\n"
     ]
    },
    {
     "name": "stderr",
     "output_type": "stream",
     "text": [
      "I0610 10:29:34.407038 12508 model_lib_v2.py:680] Step 69900 per-step time 0.353s loss=1.682\n"
     ]
    },
    {
     "name": "stdout",
     "output_type": "stream",
     "text": [
      "INFO:tensorflow:Step 70000 per-step time 0.350s loss=1.654\n"
     ]
    },
    {
     "name": "stderr",
     "output_type": "stream",
     "text": [
      "I0610 10:30:09.433613 12508 model_lib_v2.py:680] Step 70000 per-step time 0.350s loss=1.654\n"
     ]
    },
    {
     "name": "stdout",
     "output_type": "stream",
     "text": [
      "INFO:tensorflow:Step 70100 per-step time 0.361s loss=1.599\n"
     ]
    },
    {
     "name": "stderr",
     "output_type": "stream",
     "text": [
      "I0610 10:30:45.562546 12508 model_lib_v2.py:680] Step 70100 per-step time 0.361s loss=1.599\n"
     ]
    },
    {
     "name": "stdout",
     "output_type": "stream",
     "text": [
      "INFO:tensorflow:Step 70200 per-step time 0.363s loss=1.642\n"
     ]
    },
    {
     "name": "stderr",
     "output_type": "stream",
     "text": [
      "I0610 10:31:21.833546 12508 model_lib_v2.py:680] Step 70200 per-step time 0.363s loss=1.642\n"
     ]
    },
    {
     "name": "stdout",
     "output_type": "stream",
     "text": [
      "INFO:tensorflow:Step 70300 per-step time 0.401s loss=1.296\n"
     ]
    },
    {
     "name": "stderr",
     "output_type": "stream",
     "text": [
      "I0610 10:32:01.935710 12508 model_lib_v2.py:680] Step 70300 per-step time 0.401s loss=1.296\n"
     ]
    },
    {
     "name": "stdout",
     "output_type": "stream",
     "text": [
      "INFO:tensorflow:Step 70400 per-step time 0.370s loss=1.107\n"
     ]
    },
    {
     "name": "stderr",
     "output_type": "stream",
     "text": [
      "I0610 10:32:38.961707 12508 model_lib_v2.py:680] Step 70400 per-step time 0.370s loss=1.107\n"
     ]
    },
    {
     "name": "stdout",
     "output_type": "stream",
     "text": [
      "INFO:tensorflow:Step 70500 per-step time 0.368s loss=0.954\n"
     ]
    },
    {
     "name": "stderr",
     "output_type": "stream",
     "text": [
      "I0610 10:33:15.808708 12508 model_lib_v2.py:680] Step 70500 per-step time 0.368s loss=0.954\n"
     ]
    },
    {
     "name": "stdout",
     "output_type": "stream",
     "text": [
      "INFO:tensorflow:Step 70600 per-step time 0.367s loss=0.711\n"
     ]
    },
    {
     "name": "stderr",
     "output_type": "stream",
     "text": [
      "I0610 10:33:52.494709 12508 model_lib_v2.py:680] Step 70600 per-step time 0.367s loss=0.711\n"
     ]
    },
    {
     "name": "stdout",
     "output_type": "stream",
     "text": [
      "INFO:tensorflow:Step 70700 per-step time 0.365s loss=0.857\n"
     ]
    },
    {
     "name": "stderr",
     "output_type": "stream",
     "text": [
      "I0610 10:34:28.996709 12508 model_lib_v2.py:680] Step 70700 per-step time 0.365s loss=0.857\n"
     ]
    },
    {
     "name": "stdout",
     "output_type": "stream",
     "text": [
      "INFO:tensorflow:Step 70800 per-step time 0.360s loss=1.299\n"
     ]
    },
    {
     "name": "stderr",
     "output_type": "stream",
     "text": [
      "I0610 10:35:05.038707 12508 model_lib_v2.py:680] Step 70800 per-step time 0.360s loss=1.299\n"
     ]
    },
    {
     "name": "stdout",
     "output_type": "stream",
     "text": [
      "INFO:tensorflow:Step 70900 per-step time 0.361s loss=1.795\n"
     ]
    },
    {
     "name": "stderr",
     "output_type": "stream",
     "text": [
      "I0610 10:35:41.113708 12508 model_lib_v2.py:680] Step 70900 per-step time 0.361s loss=1.795\n"
     ]
    },
    {
     "name": "stdout",
     "output_type": "stream",
     "text": [
      "INFO:tensorflow:Step 71000 per-step time 0.360s loss=1.684\n"
     ]
    },
    {
     "name": "stderr",
     "output_type": "stream",
     "text": [
      "I0610 10:36:17.140359 12508 model_lib_v2.py:680] Step 71000 per-step time 0.360s loss=1.684\n"
     ]
    },
    {
     "name": "stdout",
     "output_type": "stream",
     "text": [
      "INFO:tensorflow:Step 71100 per-step time 0.385s loss=1.154\n"
     ]
    },
    {
     "name": "stderr",
     "output_type": "stream",
     "text": [
      "I0610 10:36:55.663947 12508 model_lib_v2.py:680] Step 71100 per-step time 0.385s loss=1.154\n"
     ]
    },
    {
     "name": "stdout",
     "output_type": "stream",
     "text": [
      "INFO:tensorflow:Step 71200 per-step time 0.377s loss=1.298\n"
     ]
    },
    {
     "name": "stderr",
     "output_type": "stream",
     "text": [
      "I0610 10:37:33.340913 12508 model_lib_v2.py:680] Step 71200 per-step time 0.377s loss=1.298\n"
     ]
    },
    {
     "name": "stdout",
     "output_type": "stream",
     "text": [
      "INFO:tensorflow:Step 71300 per-step time 0.360s loss=1.140\n"
     ]
    },
    {
     "name": "stderr",
     "output_type": "stream",
     "text": [
      "I0610 10:38:09.357806 12508 model_lib_v2.py:680] Step 71300 per-step time 0.360s loss=1.140\n"
     ]
    },
    {
     "name": "stdout",
     "output_type": "stream",
     "text": [
      "INFO:tensorflow:Step 71400 per-step time 0.362s loss=1.384\n"
     ]
    },
    {
     "name": "stderr",
     "output_type": "stream",
     "text": [
      "I0610 10:38:45.519797 12508 model_lib_v2.py:680] Step 71400 per-step time 0.362s loss=1.384\n"
     ]
    },
    {
     "name": "stdout",
     "output_type": "stream",
     "text": [
      "INFO:tensorflow:Step 71500 per-step time 0.354s loss=1.683\n"
     ]
    },
    {
     "name": "stderr",
     "output_type": "stream",
     "text": [
      "I0610 10:39:20.901008 12508 model_lib_v2.py:680] Step 71500 per-step time 0.354s loss=1.683\n"
     ]
    },
    {
     "name": "stdout",
     "output_type": "stream",
     "text": [
      "INFO:tensorflow:Step 71600 per-step time 0.384s loss=1.332\n"
     ]
    },
    {
     "name": "stderr",
     "output_type": "stream",
     "text": [
      "I0610 10:39:59.302008 12508 model_lib_v2.py:680] Step 71600 per-step time 0.384s loss=1.332\n"
     ]
    },
    {
     "name": "stdout",
     "output_type": "stream",
     "text": [
      "INFO:tensorflow:Step 71700 per-step time 0.390s loss=1.431\n"
     ]
    },
    {
     "name": "stderr",
     "output_type": "stream",
     "text": [
      "I0610 10:40:38.279007 12508 model_lib_v2.py:680] Step 71700 per-step time 0.390s loss=1.431\n"
     ]
    },
    {
     "name": "stdout",
     "output_type": "stream",
     "text": [
      "INFO:tensorflow:Step 71800 per-step time 0.397s loss=1.035\n"
     ]
    },
    {
     "name": "stderr",
     "output_type": "stream",
     "text": [
      "I0610 10:41:18.002380 12508 model_lib_v2.py:680] Step 71800 per-step time 0.397s loss=1.035\n"
     ]
    },
    {
     "name": "stdout",
     "output_type": "stream",
     "text": [
      "INFO:tensorflow:Step 71900 per-step time 0.385s loss=1.483\n"
     ]
    },
    {
     "name": "stderr",
     "output_type": "stream",
     "text": [
      "I0610 10:41:56.549393 12508 model_lib_v2.py:680] Step 71900 per-step time 0.385s loss=1.483\n"
     ]
    },
    {
     "name": "stdout",
     "output_type": "stream",
     "text": [
      "INFO:tensorflow:Step 72000 per-step time 0.365s loss=1.194\n"
     ]
    },
    {
     "name": "stderr",
     "output_type": "stream",
     "text": [
      "I0610 10:42:33.053496 12508 model_lib_v2.py:680] Step 72000 per-step time 0.365s loss=1.194\n"
     ]
    },
    {
     "name": "stdout",
     "output_type": "stream",
     "text": [
      "INFO:tensorflow:Step 72100 per-step time 0.403s loss=1.455\n"
     ]
    },
    {
     "name": "stderr",
     "output_type": "stream",
     "text": [
      "I0610 10:43:13.318023 12508 model_lib_v2.py:680] Step 72100 per-step time 0.403s loss=1.455\n"
     ]
    },
    {
     "name": "stdout",
     "output_type": "stream",
     "text": [
      "INFO:tensorflow:Step 72200 per-step time 0.382s loss=1.432\n"
     ]
    },
    {
     "name": "stderr",
     "output_type": "stream",
     "text": [
      "I0610 10:43:51.491023 12508 model_lib_v2.py:680] Step 72200 per-step time 0.382s loss=1.432\n"
     ]
    },
    {
     "name": "stdout",
     "output_type": "stream",
     "text": [
      "INFO:tensorflow:Step 72300 per-step time 0.344s loss=1.644\n"
     ]
    },
    {
     "name": "stderr",
     "output_type": "stream",
     "text": [
      "I0610 10:44:25.844014 12508 model_lib_v2.py:680] Step 72300 per-step time 0.344s loss=1.644\n"
     ]
    },
    {
     "name": "stdout",
     "output_type": "stream",
     "text": [
      "INFO:tensorflow:Step 72400 per-step time 0.343s loss=1.136\n"
     ]
    },
    {
     "name": "stderr",
     "output_type": "stream",
     "text": [
      "I0610 10:45:00.169014 12508 model_lib_v2.py:680] Step 72400 per-step time 0.343s loss=1.136\n"
     ]
    },
    {
     "name": "stdout",
     "output_type": "stream",
     "text": [
      "INFO:tensorflow:Step 72500 per-step time 0.341s loss=1.441\n"
     ]
    },
    {
     "name": "stderr",
     "output_type": "stream",
     "text": [
      "I0610 10:45:34.274918 12508 model_lib_v2.py:680] Step 72500 per-step time 0.341s loss=1.441\n"
     ]
    },
    {
     "name": "stdout",
     "output_type": "stream",
     "text": [
      "INFO:tensorflow:Step 72600 per-step time 0.372s loss=1.344\n"
     ]
    },
    {
     "name": "stderr",
     "output_type": "stream",
     "text": [
      "I0610 10:46:11.499274 12508 model_lib_v2.py:680] Step 72600 per-step time 0.372s loss=1.344\n"
     ]
    },
    {
     "name": "stdout",
     "output_type": "stream",
     "text": [
      "INFO:tensorflow:Step 72700 per-step time 0.349s loss=0.973\n"
     ]
    },
    {
     "name": "stderr",
     "output_type": "stream",
     "text": [
      "I0610 10:46:46.386274 12508 model_lib_v2.py:680] Step 72700 per-step time 0.349s loss=0.973\n"
     ]
    },
    {
     "name": "stdout",
     "output_type": "stream",
     "text": [
      "INFO:tensorflow:Step 72800 per-step time 0.351s loss=1.874\n"
     ]
    },
    {
     "name": "stderr",
     "output_type": "stream",
     "text": [
      "I0610 10:47:21.469277 12508 model_lib_v2.py:680] Step 72800 per-step time 0.351s loss=1.874\n"
     ]
    },
    {
     "name": "stdout",
     "output_type": "stream",
     "text": [
      "INFO:tensorflow:Step 72900 per-step time 0.348s loss=1.199\n"
     ]
    },
    {
     "name": "stderr",
     "output_type": "stream",
     "text": [
      "I0610 10:47:56.310274 12508 model_lib_v2.py:680] Step 72900 per-step time 0.348s loss=1.199\n"
     ]
    },
    {
     "name": "stdout",
     "output_type": "stream",
     "text": [
      "INFO:tensorflow:Step 73000 per-step time 0.349s loss=1.194\n"
     ]
    },
    {
     "name": "stderr",
     "output_type": "stream",
     "text": [
      "I0610 10:48:31.178784 12508 model_lib_v2.py:680] Step 73000 per-step time 0.349s loss=1.194\n"
     ]
    },
    {
     "name": "stdout",
     "output_type": "stream",
     "text": [
      "INFO:tensorflow:Step 73100 per-step time 0.373s loss=1.300\n"
     ]
    },
    {
     "name": "stderr",
     "output_type": "stream",
     "text": [
      "I0610 10:49:08.486510 12508 model_lib_v2.py:680] Step 73100 per-step time 0.373s loss=1.300\n"
     ]
    },
    {
     "name": "stdout",
     "output_type": "stream",
     "text": [
      "INFO:tensorflow:Step 73200 per-step time 0.359s loss=1.459\n"
     ]
    },
    {
     "name": "stderr",
     "output_type": "stream",
     "text": [
      "I0610 10:49:44.341511 12508 model_lib_v2.py:680] Step 73200 per-step time 0.359s loss=1.459\n"
     ]
    },
    {
     "name": "stdout",
     "output_type": "stream",
     "text": [
      "INFO:tensorflow:Step 73300 per-step time 0.354s loss=2.131\n"
     ]
    },
    {
     "name": "stderr",
     "output_type": "stream",
     "text": [
      "I0610 10:50:19.728654 12508 model_lib_v2.py:680] Step 73300 per-step time 0.354s loss=2.131\n"
     ]
    },
    {
     "name": "stdout",
     "output_type": "stream",
     "text": [
      "INFO:tensorflow:Step 73400 per-step time 0.373s loss=1.184\n"
     ]
    },
    {
     "name": "stderr",
     "output_type": "stream",
     "text": [
      "I0610 10:50:57.046035 12508 model_lib_v2.py:680] Step 73400 per-step time 0.373s loss=1.184\n"
     ]
    },
    {
     "name": "stdout",
     "output_type": "stream",
     "text": [
      "INFO:tensorflow:Step 73500 per-step time 0.355s loss=1.307\n"
     ]
    },
    {
     "name": "stderr",
     "output_type": "stream",
     "text": [
      "I0610 10:51:32.517266 12508 model_lib_v2.py:680] Step 73500 per-step time 0.355s loss=1.307\n"
     ]
    },
    {
     "name": "stdout",
     "output_type": "stream",
     "text": [
      "INFO:tensorflow:Step 73600 per-step time 0.365s loss=1.237\n"
     ]
    },
    {
     "name": "stderr",
     "output_type": "stream",
     "text": [
      "I0610 10:52:08.998778 12508 model_lib_v2.py:680] Step 73600 per-step time 0.365s loss=1.237\n"
     ]
    },
    {
     "name": "stdout",
     "output_type": "stream",
     "text": [
      "INFO:tensorflow:Step 73700 per-step time 0.346s loss=1.001\n"
     ]
    },
    {
     "name": "stderr",
     "output_type": "stream",
     "text": [
      "I0610 10:52:43.571789 12508 model_lib_v2.py:680] Step 73700 per-step time 0.346s loss=1.001\n"
     ]
    },
    {
     "name": "stdout",
     "output_type": "stream",
     "text": [
      "INFO:tensorflow:Step 73800 per-step time 0.365s loss=1.491\n"
     ]
    },
    {
     "name": "stderr",
     "output_type": "stream",
     "text": [
      "I0610 10:53:20.038291 12508 model_lib_v2.py:680] Step 73800 per-step time 0.365s loss=1.491\n"
     ]
    },
    {
     "name": "stdout",
     "output_type": "stream",
     "text": [
      "INFO:tensorflow:Step 73900 per-step time 0.359s loss=1.372\n"
     ]
    },
    {
     "name": "stderr",
     "output_type": "stream",
     "text": [
      "I0610 10:53:55.966356 12508 model_lib_v2.py:680] Step 73900 per-step time 0.359s loss=1.372\n"
     ]
    },
    {
     "name": "stdout",
     "output_type": "stream",
     "text": [
      "INFO:tensorflow:Step 74000 per-step time 0.351s loss=0.745\n"
     ]
    },
    {
     "name": "stderr",
     "output_type": "stream",
     "text": [
      "I0610 10:54:31.067357 12508 model_lib_v2.py:680] Step 74000 per-step time 0.351s loss=0.745\n"
     ]
    },
    {
     "name": "stdout",
     "output_type": "stream",
     "text": [
      "INFO:tensorflow:Step 74100 per-step time 0.368s loss=0.931\n"
     ]
    },
    {
     "name": "stderr",
     "output_type": "stream",
     "text": [
      "I0610 10:55:07.849004 12508 model_lib_v2.py:680] Step 74100 per-step time 0.368s loss=0.931\n"
     ]
    },
    {
     "name": "stdout",
     "output_type": "stream",
     "text": [
      "Train time: 9255.14 seconds\n"
     ]
    }
   ],
   "source": [
    "os.chdir(paths['SCRIPTS_PATH'])\n",
    "print('Training model for {} steps.'.format(config['STEPS']))\n",
    "\n",
    "print('Starting at time: ' + str(time.strftime(\"%I:%M:%S\")))\n",
    "start_time = time.time()\n",
    "\n",
    "#run the model training\n",
    "%run {train_model}\n",
    "\n",
    "end_time = time.time()\n",
    "print(\"Train time: \" + str(round(end_time - start_time, 2)) + \" seconds\")"
   ]
  },
  {
   "cell_type": "markdown",
   "metadata": {},
   "source": [
    "## Start the model evaluation"
   ]
  },
  {
   "cell_type": "code",
   "execution_count": null,
   "metadata": {
    "scrolled": true
   },
   "outputs": [
    {
     "name": "stdout",
     "output_type": "stream",
     "text": [
      "WARNING:tensorflow:Forced number of epochs for all eval validations to be 1.\n"
     ]
    },
    {
     "name": "stderr",
     "output_type": "stream",
     "text": [
      "W0610 10:57:50.221807 10764 model_lib_v2.py:1063] Forced number of epochs for all eval validations to be 1.\n"
     ]
    },
    {
     "name": "stdout",
     "output_type": "stream",
     "text": [
      "INFO:tensorflow:Maybe overwriting sample_1_of_n_eval_examples: 1\n"
     ]
    },
    {
     "name": "stderr",
     "output_type": "stream",
     "text": [
      "I0610 10:57:50.222807 10764 config_util.py:552] Maybe overwriting sample_1_of_n_eval_examples: 1\n"
     ]
    },
    {
     "name": "stdout",
     "output_type": "stream",
     "text": [
      "INFO:tensorflow:Maybe overwriting use_bfloat16: False\n"
     ]
    },
    {
     "name": "stderr",
     "output_type": "stream",
     "text": [
      "I0610 10:57:50.223807 10764 config_util.py:552] Maybe overwriting use_bfloat16: False\n"
     ]
    },
    {
     "name": "stdout",
     "output_type": "stream",
     "text": [
      "INFO:tensorflow:Maybe overwriting eval_num_epochs: 1\n"
     ]
    },
    {
     "name": "stderr",
     "output_type": "stream",
     "text": [
      "I0610 10:57:50.224809 10764 config_util.py:552] Maybe overwriting eval_num_epochs: 1\n"
     ]
    },
    {
     "name": "stdout",
     "output_type": "stream",
     "text": [
      "WARNING:tensorflow:Expected number of evaluation epochs is 1, but instead encountered `eval_on_train_input_config.num_epochs` = 0. Overwriting `num_epochs` to 1.\n"
     ]
    },
    {
     "name": "stderr",
     "output_type": "stream",
     "text": [
      "W0610 10:57:50.225809 10764 model_lib_v2.py:1081] Expected number of evaluation epochs is 1, but instead encountered `eval_on_train_input_config.num_epochs` = 0. Overwriting `num_epochs` to 1.\n"
     ]
    },
    {
     "name": "stdout",
     "output_type": "stream",
     "text": [
      "INFO:tensorflow:Reading unweighted datasets: ['C:\\\\Users\\\\bcper\\\\Documents\\\\GitHub\\\\models\\\\workspace\\\\data\\\\xview_test_cleaned_complete.record']\n"
     ]
    },
    {
     "name": "stderr",
     "output_type": "stream",
     "text": [
      "I0610 10:57:51.581809 10764 dataset_builder.py:163] Reading unweighted datasets: ['C:\\\\Users\\\\bcper\\\\Documents\\\\GitHub\\\\models\\\\workspace\\\\data\\\\xview_test_cleaned_complete.record']\n"
     ]
    },
    {
     "name": "stdout",
     "output_type": "stream",
     "text": [
      "INFO:tensorflow:Reading record datasets for input file: ['C:\\\\Users\\\\bcper\\\\Documents\\\\GitHub\\\\models\\\\workspace\\\\data\\\\xview_test_cleaned_complete.record']\n"
     ]
    },
    {
     "name": "stderr",
     "output_type": "stream",
     "text": [
      "I0610 10:57:51.583808 10764 dataset_builder.py:80] Reading record datasets for input file: ['C:\\\\Users\\\\bcper\\\\Documents\\\\GitHub\\\\models\\\\workspace\\\\data\\\\xview_test_cleaned_complete.record']\n"
     ]
    },
    {
     "name": "stdout",
     "output_type": "stream",
     "text": [
      "INFO:tensorflow:Number of filenames to read: 1\n"
     ]
    },
    {
     "name": "stderr",
     "output_type": "stream",
     "text": [
      "I0610 10:57:51.583808 10764 dataset_builder.py:81] Number of filenames to read: 1\n"
     ]
    },
    {
     "name": "stdout",
     "output_type": "stream",
     "text": [
      "WARNING:tensorflow:num_readers has been reduced to 1 to match input file shards.\n"
     ]
    },
    {
     "name": "stderr",
     "output_type": "stream",
     "text": [
      "W0610 10:57:51.584810 10764 dataset_builder.py:87] num_readers has been reduced to 1 to match input file shards.\n"
     ]
    },
    {
     "name": "stdout",
     "output_type": "stream",
     "text": [
      "WARNING:tensorflow:From C:\\Users\\bcper\\anaconda3\\lib\\site-packages\\object_detection\\builders\\dataset_builder.py:101: parallel_interleave (from tensorflow.python.data.experimental.ops.interleave_ops) is deprecated and will be removed in a future version.\n",
      "Instructions for updating:\n",
      "Use `tf.data.Dataset.interleave(map_func, cycle_length, block_length, num_parallel_calls=tf.data.AUTOTUNE)` instead. If sloppy execution is desired, use `tf.data.Options.experimental_deterministic`.\n"
     ]
    },
    {
     "name": "stderr",
     "output_type": "stream",
     "text": [
      "W0610 10:57:51.587810 10764 deprecation.py:330] From C:\\Users\\bcper\\anaconda3\\lib\\site-packages\\object_detection\\builders\\dataset_builder.py:101: parallel_interleave (from tensorflow.python.data.experimental.ops.interleave_ops) is deprecated and will be removed in a future version.\n",
      "Instructions for updating:\n",
      "Use `tf.data.Dataset.interleave(map_func, cycle_length, block_length, num_parallel_calls=tf.data.AUTOTUNE)` instead. If sloppy execution is desired, use `tf.data.Options.experimental_deterministic`.\n"
     ]
    },
    {
     "name": "stdout",
     "output_type": "stream",
     "text": [
      "WARNING:tensorflow:From C:\\Users\\bcper\\anaconda3\\lib\\site-packages\\object_detection\\builders\\dataset_builder.py:236: DatasetV1.map_with_legacy_function (from tensorflow.python.data.ops.dataset_ops) is deprecated and will be removed in a future version.\n",
      "Instructions for updating:\n",
      "Use `tf.data.Dataset.map()\n"
     ]
    },
    {
     "name": "stderr",
     "output_type": "stream",
     "text": [
      "W0610 10:57:51.607807 10764 deprecation.py:330] From C:\\Users\\bcper\\anaconda3\\lib\\site-packages\\object_detection\\builders\\dataset_builder.py:236: DatasetV1.map_with_legacy_function (from tensorflow.python.data.ops.dataset_ops) is deprecated and will be removed in a future version.\n",
      "Instructions for updating:\n",
      "Use `tf.data.Dataset.map()\n"
     ]
    },
    {
     "name": "stdout",
     "output_type": "stream",
     "text": [
      "WARNING:tensorflow:From C:\\Users\\bcper\\anaconda3\\lib\\site-packages\\tensorflow\\python\\util\\dispatch.py:206: sparse_to_dense (from tensorflow.python.ops.sparse_ops) is deprecated and will be removed in a future version.\n",
      "Instructions for updating:\n",
      "Create a `tf.sparse.SparseTensor` and use `tf.sparse.to_dense` instead.\n"
     ]
    },
    {
     "name": "stderr",
     "output_type": "stream",
     "text": [
      "W0610 10:57:54.592808 10764 deprecation.py:330] From C:\\Users\\bcper\\anaconda3\\lib\\site-packages\\tensorflow\\python\\util\\dispatch.py:206: sparse_to_dense (from tensorflow.python.ops.sparse_ops) is deprecated and will be removed in a future version.\n",
      "Instructions for updating:\n",
      "Create a `tf.sparse.SparseTensor` and use `tf.sparse.to_dense` instead.\n"
     ]
    },
    {
     "name": "stdout",
     "output_type": "stream",
     "text": [
      "WARNING:tensorflow:From C:\\Users\\bcper\\anaconda3\\lib\\site-packages\\tensorflow\\python\\autograph\\impl\\api.py:464: to_float (from tensorflow.python.ops.math_ops) is deprecated and will be removed in a future version.\n",
      "Instructions for updating:\n",
      "Use `tf.cast` instead.\n"
     ]
    },
    {
     "name": "stderr",
     "output_type": "stream",
     "text": [
      "W0610 10:57:55.760808 10764 deprecation.py:330] From C:\\Users\\bcper\\anaconda3\\lib\\site-packages\\tensorflow\\python\\autograph\\impl\\api.py:464: to_float (from tensorflow.python.ops.math_ops) is deprecated and will be removed in a future version.\n",
      "Instructions for updating:\n",
      "Use `tf.cast` instead.\n"
     ]
    },
    {
     "name": "stdout",
     "output_type": "stream",
     "text": [
      "INFO:tensorflow:Waiting for new checkpoint at C:\\Users\\bcper\\Documents\\GitHub\\models\\workspace\\models\\resnet50\\v4\\\n"
     ]
    },
    {
     "name": "stderr",
     "output_type": "stream",
     "text": [
      "I0610 10:57:58.231808 10764 checkpoint_utils.py:140] Waiting for new checkpoint at C:\\Users\\bcper\\Documents\\GitHub\\models\\workspace\\models\\resnet50\\v4\\\n"
     ]
    },
    {
     "name": "stdout",
     "output_type": "stream",
     "text": [
      "INFO:tensorflow:Found new checkpoint at C:\\Users\\bcper\\Documents\\GitHub\\models\\workspace\\models\\resnet50\\v4\\ckpt-75\n"
     ]
    },
    {
     "name": "stderr",
     "output_type": "stream",
     "text": [
      "I0610 10:57:58.238806 10764 checkpoint_utils.py:149] Found new checkpoint at C:\\Users\\bcper\\Documents\\GitHub\\models\\workspace\\models\\resnet50\\v4\\ckpt-75\n",
      "C:\\Users\\bcper\\anaconda3\\lib\\site-packages\\tensorflow\\python\\keras\\backend.py:435: UserWarning: `tf.keras.backend.set_learning_phase` is deprecated and will be removed after 2020-10-11. To update it, simply pass a True/False value to the `training` argument of the `__call__` method of your layer or model.\n",
      "  warnings.warn('`tf.keras.backend.set_learning_phase` is deprecated and '\n"
     ]
    },
    {
     "name": "stdout",
     "output_type": "stream",
     "text": [
      "INFO:tensorflow:depth of additional conv before box predictor: 0\n"
     ]
    },
    {
     "name": "stderr",
     "output_type": "stream",
     "text": [
      "I0610 10:58:02.702807 10764 convolutional_keras_box_predictor.py:153] depth of additional conv before box predictor: 0\n"
     ]
    },
    {
     "name": "stdout",
     "output_type": "stream",
     "text": [
      "WARNING:tensorflow:From C:\\Users\\bcper\\anaconda3\\lib\\site-packages\\tensorflow\\python\\autograph\\impl\\api.py:464: Tensor.experimental_ref (from tensorflow.python.framework.ops) is deprecated and will be removed in a future version.\n",
      "Instructions for updating:\n",
      "Use ref() instead.\n"
     ]
    },
    {
     "name": "stderr",
     "output_type": "stream",
     "text": [
      "W0610 10:58:08.213823 10764 deprecation.py:330] From C:\\Users\\bcper\\anaconda3\\lib\\site-packages\\tensorflow\\python\\autograph\\impl\\api.py:464: Tensor.experimental_ref (from tensorflow.python.framework.ops) is deprecated and will be removed in a future version.\n",
      "Instructions for updating:\n",
      "Use ref() instead.\n"
     ]
    },
    {
     "name": "stdout",
     "output_type": "stream",
     "text": [
      "WARNING:tensorflow:From C:\\Users\\bcper\\anaconda3\\lib\\site-packages\\tensorflow\\python\\util\\dispatch.py:206: softmax_cross_entropy_with_logits (from tensorflow.python.ops.nn_ops) is deprecated and will be removed in a future version.\n",
      "Instructions for updating:\n",
      "\n",
      "Future major versions of TensorFlow will allow gradients to flow\n",
      "into the labels input on backprop by default.\n",
      "\n",
      "See `tf.nn.softmax_cross_entropy_with_logits_v2`.\n",
      "\n"
     ]
    },
    {
     "name": "stderr",
     "output_type": "stream",
     "text": [
      "W0610 10:58:12.035807 10764 deprecation.py:330] From C:\\Users\\bcper\\anaconda3\\lib\\site-packages\\tensorflow\\python\\util\\dispatch.py:206: softmax_cross_entropy_with_logits (from tensorflow.python.ops.nn_ops) is deprecated and will be removed in a future version.\n",
      "Instructions for updating:\n",
      "\n",
      "Future major versions of TensorFlow will allow gradients to flow\n",
      "into the labels input on backprop by default.\n",
      "\n",
      "See `tf.nn.softmax_cross_entropy_with_logits_v2`.\n",
      "\n"
     ]
    },
    {
     "name": "stdout",
     "output_type": "stream",
     "text": [
      "WARNING:tensorflow:From C:\\Users\\bcper\\anaconda3\\lib\\site-packages\\object_detection\\eval_util.py:929: to_int64 (from tensorflow.python.ops.math_ops) is deprecated and will be removed in a future version.\n",
      "Instructions for updating:\n",
      "Use `tf.cast` instead.\n"
     ]
    },
    {
     "name": "stderr",
     "output_type": "stream",
     "text": [
      "W0610 10:58:46.584780 10764 deprecation.py:330] From C:\\Users\\bcper\\anaconda3\\lib\\site-packages\\object_detection\\eval_util.py:929: to_int64 (from tensorflow.python.ops.math_ops) is deprecated and will be removed in a future version.\n",
      "Instructions for updating:\n",
      "Use `tf.cast` instead.\n"
     ]
    },
    {
     "name": "stdout",
     "output_type": "stream",
     "text": [
      "INFO:tensorflow:Finished eval step 0\n"
     ]
    },
    {
     "name": "stderr",
     "output_type": "stream",
     "text": [
      "I0610 10:58:46.593780 10764 model_lib_v2.py:940] Finished eval step 0\n"
     ]
    },
    {
     "name": "stdout",
     "output_type": "stream",
     "text": [
      "WARNING:tensorflow:From C:\\Users\\bcper\\anaconda3\\lib\\site-packages\\tensorflow\\python\\autograph\\impl\\api.py:464: py_func (from tensorflow.python.ops.script_ops) is deprecated and will be removed in a future version.\n",
      "Instructions for updating:\n",
      "tf.py_func is deprecated in TF V2. Instead, there are two\n",
      "    options available in V2.\n",
      "    - tf.py_function takes a python function which manipulates tf eager\n",
      "    tensors instead of numpy arrays. It's easy to convert a tf eager tensor to\n",
      "    an ndarray (just call tensor.numpy()) but having access to eager tensors\n",
      "    means `tf.py_function`s can use accelerators such as GPUs as well as\n",
      "    being differentiable using a gradient tape.\n",
      "    - tf.numpy_function maintains the semantics of the deprecated tf.py_func\n",
      "    (it is not differentiable, and manipulates numpy arrays). It drops the\n",
      "    stateful argument making all functions stateful.\n",
      "    \n"
     ]
    },
    {
     "name": "stderr",
     "output_type": "stream",
     "text": [
      "W0610 10:58:46.704792 10764 deprecation.py:330] From C:\\Users\\bcper\\anaconda3\\lib\\site-packages\\tensorflow\\python\\autograph\\impl\\api.py:464: py_func (from tensorflow.python.ops.script_ops) is deprecated and will be removed in a future version.\n",
      "Instructions for updating:\n",
      "tf.py_func is deprecated in TF V2. Instead, there are two\n",
      "    options available in V2.\n",
      "    - tf.py_function takes a python function which manipulates tf eager\n",
      "    tensors instead of numpy arrays. It's easy to convert a tf eager tensor to\n",
      "    an ndarray (just call tensor.numpy()) but having access to eager tensors\n",
      "    means `tf.py_function`s can use accelerators such as GPUs as well as\n",
      "    being differentiable using a gradient tape.\n",
      "    - tf.numpy_function maintains the semantics of the deprecated tf.py_func\n",
      "    (it is not differentiable, and manipulates numpy arrays). It drops the\n",
      "    stateful argument making all functions stateful.\n",
      "    \n"
     ]
    },
    {
     "name": "stdout",
     "output_type": "stream",
     "text": [
      "INFO:tensorflow:Finished eval step 100\n"
     ]
    },
    {
     "name": "stderr",
     "output_type": "stream",
     "text": [
      "I0610 10:59:01.926103 10764 model_lib_v2.py:940] Finished eval step 100\n"
     ]
    },
    {
     "name": "stdout",
     "output_type": "stream",
     "text": [
      "INFO:tensorflow:Finished eval step 200\n"
     ]
    },
    {
     "name": "stderr",
     "output_type": "stream",
     "text": [
      "I0610 10:59:14.524117 10764 model_lib_v2.py:940] Finished eval step 200\n"
     ]
    },
    {
     "name": "stdout",
     "output_type": "stream",
     "text": [
      "INFO:tensorflow:Finished eval step 300\n"
     ]
    },
    {
     "name": "stderr",
     "output_type": "stream",
     "text": [
      "I0610 10:59:26.986105 10764 model_lib_v2.py:940] Finished eval step 300\n"
     ]
    },
    {
     "name": "stdout",
     "output_type": "stream",
     "text": [
      "INFO:tensorflow:Finished eval step 400\n"
     ]
    },
    {
     "name": "stderr",
     "output_type": "stream",
     "text": [
      "I0610 10:59:39.387103 10764 model_lib_v2.py:940] Finished eval step 400\n"
     ]
    },
    {
     "name": "stdout",
     "output_type": "stream",
     "text": [
      "INFO:tensorflow:Finished eval step 500\n"
     ]
    },
    {
     "name": "stderr",
     "output_type": "stream",
     "text": [
      "I0610 10:59:52.479104 10764 model_lib_v2.py:940] Finished eval step 500\n"
     ]
    },
    {
     "name": "stdout",
     "output_type": "stream",
     "text": [
      "INFO:tensorflow:Finished eval step 600\n"
     ]
    },
    {
     "name": "stderr",
     "output_type": "stream",
     "text": [
      "I0610 11:00:05.164106 10764 model_lib_v2.py:940] Finished eval step 600\n"
     ]
    },
    {
     "name": "stdout",
     "output_type": "stream",
     "text": [
      "INFO:tensorflow:Finished eval step 700\n"
     ]
    },
    {
     "name": "stderr",
     "output_type": "stream",
     "text": [
      "I0610 11:00:18.033729 10764 model_lib_v2.py:940] Finished eval step 700\n"
     ]
    },
    {
     "name": "stdout",
     "output_type": "stream",
     "text": [
      "INFO:tensorflow:Finished eval step 800\n"
     ]
    },
    {
     "name": "stderr",
     "output_type": "stream",
     "text": [
      "I0610 11:00:31.049764 10764 model_lib_v2.py:940] Finished eval step 800\n"
     ]
    },
    {
     "name": "stdout",
     "output_type": "stream",
     "text": [
      "INFO:tensorflow:Finished eval step 900\n"
     ]
    },
    {
     "name": "stderr",
     "output_type": "stream",
     "text": [
      "I0610 11:00:43.395763 10764 model_lib_v2.py:940] Finished eval step 900\n"
     ]
    },
    {
     "name": "stdout",
     "output_type": "stream",
     "text": [
      "INFO:tensorflow:Finished eval step 1000\n"
     ]
    },
    {
     "name": "stderr",
     "output_type": "stream",
     "text": [
      "I0610 11:00:55.308763 10764 model_lib_v2.py:940] Finished eval step 1000\n"
     ]
    },
    {
     "name": "stdout",
     "output_type": "stream",
     "text": [
      "INFO:tensorflow:Finished eval step 1100\n"
     ]
    },
    {
     "name": "stderr",
     "output_type": "stream",
     "text": [
      "I0610 11:01:08.150761 10764 model_lib_v2.py:940] Finished eval step 1100\n"
     ]
    },
    {
     "name": "stdout",
     "output_type": "stream",
     "text": [
      "INFO:tensorflow:Finished eval step 1200\n"
     ]
    },
    {
     "name": "stderr",
     "output_type": "stream",
     "text": [
      "I0610 11:01:19.814763 10764 model_lib_v2.py:940] Finished eval step 1200\n"
     ]
    },
    {
     "name": "stdout",
     "output_type": "stream",
     "text": [
      "INFO:tensorflow:Finished eval step 1300\n"
     ]
    },
    {
     "name": "stderr",
     "output_type": "stream",
     "text": [
      "I0610 11:01:31.668762 10764 model_lib_v2.py:940] Finished eval step 1300\n"
     ]
    },
    {
     "name": "stdout",
     "output_type": "stream",
     "text": [
      "INFO:tensorflow:Finished eval step 1400\n"
     ]
    },
    {
     "name": "stderr",
     "output_type": "stream",
     "text": [
      "I0610 11:01:43.531761 10764 model_lib_v2.py:940] Finished eval step 1400\n"
     ]
    },
    {
     "name": "stdout",
     "output_type": "stream",
     "text": [
      "INFO:tensorflow:Finished eval step 1500\n"
     ]
    },
    {
     "name": "stderr",
     "output_type": "stream",
     "text": [
      "I0610 11:01:55.660763 10764 model_lib_v2.py:940] Finished eval step 1500\n"
     ]
    },
    {
     "name": "stdout",
     "output_type": "stream",
     "text": [
      "INFO:tensorflow:Finished eval step 1600\n"
     ]
    },
    {
     "name": "stderr",
     "output_type": "stream",
     "text": [
      "I0610 11:02:07.764761 10764 model_lib_v2.py:940] Finished eval step 1600\n"
     ]
    },
    {
     "name": "stdout",
     "output_type": "stream",
     "text": [
      "INFO:tensorflow:Finished eval step 1700\n"
     ]
    },
    {
     "name": "stderr",
     "output_type": "stream",
     "text": [
      "I0610 11:02:19.808762 10764 model_lib_v2.py:940] Finished eval step 1700\n"
     ]
    },
    {
     "name": "stdout",
     "output_type": "stream",
     "text": [
      "INFO:tensorflow:Finished eval step 1800\n"
     ]
    },
    {
     "name": "stderr",
     "output_type": "stream",
     "text": [
      "I0610 11:02:31.976777 10764 model_lib_v2.py:940] Finished eval step 1800\n"
     ]
    },
    {
     "name": "stdout",
     "output_type": "stream",
     "text": [
      "INFO:tensorflow:Finished eval step 1900\n"
     ]
    },
    {
     "name": "stderr",
     "output_type": "stream",
     "text": [
      "I0610 11:02:44.604776 10764 model_lib_v2.py:940] Finished eval step 1900\n"
     ]
    },
    {
     "name": "stdout",
     "output_type": "stream",
     "text": [
      "INFO:tensorflow:Finished eval step 2000\n"
     ]
    },
    {
     "name": "stderr",
     "output_type": "stream",
     "text": [
      "I0610 11:02:56.862777 10764 model_lib_v2.py:940] Finished eval step 2000\n"
     ]
    },
    {
     "name": "stdout",
     "output_type": "stream",
     "text": [
      "INFO:tensorflow:Finished eval step 2100\n"
     ]
    },
    {
     "name": "stderr",
     "output_type": "stream",
     "text": [
      "I0610 11:03:09.482777 10764 model_lib_v2.py:940] Finished eval step 2100\n"
     ]
    },
    {
     "name": "stdout",
     "output_type": "stream",
     "text": [
      "INFO:tensorflow:Finished eval step 2200\n"
     ]
    },
    {
     "name": "stderr",
     "output_type": "stream",
     "text": [
      "I0610 11:03:21.596777 10764 model_lib_v2.py:940] Finished eval step 2200\n"
     ]
    },
    {
     "name": "stdout",
     "output_type": "stream",
     "text": [
      "INFO:tensorflow:Finished eval step 2300\n"
     ]
    },
    {
     "name": "stderr",
     "output_type": "stream",
     "text": [
      "I0610 11:03:33.843776 10764 model_lib_v2.py:940] Finished eval step 2300\n"
     ]
    },
    {
     "name": "stdout",
     "output_type": "stream",
     "text": [
      "INFO:tensorflow:Finished eval step 2400\n"
     ]
    },
    {
     "name": "stderr",
     "output_type": "stream",
     "text": [
      "I0610 11:03:46.062776 10764 model_lib_v2.py:940] Finished eval step 2400\n"
     ]
    },
    {
     "name": "stdout",
     "output_type": "stream",
     "text": [
      "INFO:tensorflow:Finished eval step 2500\n"
     ]
    },
    {
     "name": "stderr",
     "output_type": "stream",
     "text": [
      "I0610 11:03:58.224183 10764 model_lib_v2.py:940] Finished eval step 2500\n"
     ]
    },
    {
     "name": "stdout",
     "output_type": "stream",
     "text": [
      "INFO:tensorflow:Finished eval step 2600\n"
     ]
    },
    {
     "name": "stderr",
     "output_type": "stream",
     "text": [
      "I0610 11:04:10.496187 10764 model_lib_v2.py:940] Finished eval step 2600\n"
     ]
    },
    {
     "name": "stdout",
     "output_type": "stream",
     "text": [
      "INFO:tensorflow:Finished eval step 2700\n"
     ]
    },
    {
     "name": "stderr",
     "output_type": "stream",
     "text": [
      "I0610 11:04:22.244183 10764 model_lib_v2.py:940] Finished eval step 2700\n"
     ]
    },
    {
     "name": "stdout",
     "output_type": "stream",
     "text": [
      "INFO:tensorflow:Finished eval step 2800\n"
     ]
    },
    {
     "name": "stderr",
     "output_type": "stream",
     "text": [
      "I0610 11:04:34.188183 10764 model_lib_v2.py:940] Finished eval step 2800\n"
     ]
    },
    {
     "name": "stdout",
     "output_type": "stream",
     "text": [
      "INFO:tensorflow:Finished eval step 2900\n"
     ]
    },
    {
     "name": "stderr",
     "output_type": "stream",
     "text": [
      "I0610 11:04:46.002184 10764 model_lib_v2.py:940] Finished eval step 2900\n"
     ]
    },
    {
     "name": "stdout",
     "output_type": "stream",
     "text": [
      "INFO:tensorflow:Finished eval step 3000\n"
     ]
    },
    {
     "name": "stderr",
     "output_type": "stream",
     "text": [
      "I0610 11:04:59.008185 10764 model_lib_v2.py:940] Finished eval step 3000\n"
     ]
    },
    {
     "name": "stdout",
     "output_type": "stream",
     "text": [
      "INFO:tensorflow:Finished eval step 3100\n"
     ]
    },
    {
     "name": "stderr",
     "output_type": "stream",
     "text": [
      "I0610 11:05:11.421184 10764 model_lib_v2.py:940] Finished eval step 3100\n"
     ]
    },
    {
     "name": "stdout",
     "output_type": "stream",
     "text": [
      "INFO:tensorflow:Finished eval step 3200\n"
     ]
    },
    {
     "name": "stderr",
     "output_type": "stream",
     "text": [
      "I0610 11:05:23.776184 10764 model_lib_v2.py:940] Finished eval step 3200\n"
     ]
    },
    {
     "name": "stdout",
     "output_type": "stream",
     "text": [
      "INFO:tensorflow:Finished eval step 3300\n"
     ]
    },
    {
     "name": "stderr",
     "output_type": "stream",
     "text": [
      "I0610 11:05:35.866201 10764 model_lib_v2.py:940] Finished eval step 3300\n"
     ]
    },
    {
     "name": "stdout",
     "output_type": "stream",
     "text": [
      "INFO:tensorflow:Finished eval step 3400\n"
     ]
    },
    {
     "name": "stderr",
     "output_type": "stream",
     "text": [
      "I0610 11:05:48.111184 10764 model_lib_v2.py:940] Finished eval step 3400\n"
     ]
    },
    {
     "name": "stdout",
     "output_type": "stream",
     "text": [
      "INFO:tensorflow:Finished eval step 3500\n"
     ]
    },
    {
     "name": "stderr",
     "output_type": "stream",
     "text": [
      "I0610 11:05:59.960182 10764 model_lib_v2.py:940] Finished eval step 3500\n"
     ]
    },
    {
     "name": "stdout",
     "output_type": "stream",
     "text": [
      "INFO:tensorflow:Finished eval step 3600\n"
     ]
    },
    {
     "name": "stderr",
     "output_type": "stream",
     "text": [
      "I0610 11:06:11.686183 10764 model_lib_v2.py:940] Finished eval step 3600\n"
     ]
    },
    {
     "name": "stdout",
     "output_type": "stream",
     "text": [
      "INFO:tensorflow:Finished eval step 3700\n"
     ]
    },
    {
     "name": "stderr",
     "output_type": "stream",
     "text": [
      "I0610 11:06:23.511183 10764 model_lib_v2.py:940] Finished eval step 3700\n"
     ]
    },
    {
     "name": "stdout",
     "output_type": "stream",
     "text": [
      "INFO:tensorflow:Finished eval step 3800\n"
     ]
    },
    {
     "name": "stderr",
     "output_type": "stream",
     "text": [
      "I0610 11:06:35.451183 10764 model_lib_v2.py:940] Finished eval step 3800\n"
     ]
    },
    {
     "name": "stdout",
     "output_type": "stream",
     "text": [
      "INFO:tensorflow:Finished eval step 3900\n"
     ]
    },
    {
     "name": "stderr",
     "output_type": "stream",
     "text": [
      "I0610 11:06:47.824183 10764 model_lib_v2.py:940] Finished eval step 3900\n"
     ]
    },
    {
     "name": "stdout",
     "output_type": "stream",
     "text": [
      "INFO:tensorflow:Finished eval step 4000\n"
     ]
    },
    {
     "name": "stderr",
     "output_type": "stream",
     "text": [
      "I0610 11:06:59.889184 10764 model_lib_v2.py:940] Finished eval step 4000\n"
     ]
    },
    {
     "name": "stdout",
     "output_type": "stream",
     "text": [
      "INFO:tensorflow:Finished eval step 4100\n"
     ]
    },
    {
     "name": "stderr",
     "output_type": "stream",
     "text": [
      "I0610 11:07:12.029183 10764 model_lib_v2.py:940] Finished eval step 4100\n"
     ]
    },
    {
     "name": "stdout",
     "output_type": "stream",
     "text": [
      "INFO:tensorflow:Finished eval step 4200\n"
     ]
    },
    {
     "name": "stderr",
     "output_type": "stream",
     "text": [
      "I0610 11:07:25.338201 10764 model_lib_v2.py:940] Finished eval step 4200\n"
     ]
    },
    {
     "name": "stdout",
     "output_type": "stream",
     "text": [
      "INFO:tensorflow:Finished eval step 4300\n"
     ]
    },
    {
     "name": "stderr",
     "output_type": "stream",
     "text": [
      "I0610 11:07:37.259184 10764 model_lib_v2.py:940] Finished eval step 4300\n"
     ]
    },
    {
     "name": "stdout",
     "output_type": "stream",
     "text": [
      "INFO:tensorflow:Finished eval step 4400\n"
     ]
    },
    {
     "name": "stderr",
     "output_type": "stream",
     "text": [
      "I0610 11:07:49.426183 10764 model_lib_v2.py:940] Finished eval step 4400\n"
     ]
    },
    {
     "name": "stdout",
     "output_type": "stream",
     "text": [
      "INFO:tensorflow:Finished eval step 4500\n"
     ]
    },
    {
     "name": "stderr",
     "output_type": "stream",
     "text": [
      "I0610 11:08:01.645184 10764 model_lib_v2.py:940] Finished eval step 4500\n"
     ]
    },
    {
     "name": "stdout",
     "output_type": "stream",
     "text": [
      "INFO:tensorflow:Finished eval step 4600\n"
     ]
    },
    {
     "name": "stderr",
     "output_type": "stream",
     "text": [
      "I0610 11:08:13.883184 10764 model_lib_v2.py:940] Finished eval step 4600\n"
     ]
    },
    {
     "name": "stdout",
     "output_type": "stream",
     "text": [
      "INFO:tensorflow:Finished eval step 4700\n"
     ]
    },
    {
     "name": "stderr",
     "output_type": "stream",
     "text": [
      "I0610 11:08:25.659184 10764 model_lib_v2.py:940] Finished eval step 4700\n"
     ]
    },
    {
     "name": "stdout",
     "output_type": "stream",
     "text": [
      "INFO:tensorflow:Finished eval step 4800\n"
     ]
    },
    {
     "name": "stderr",
     "output_type": "stream",
     "text": [
      "I0610 11:08:37.797194 10764 model_lib_v2.py:940] Finished eval step 4800\n"
     ]
    },
    {
     "name": "stdout",
     "output_type": "stream",
     "text": [
      "INFO:tensorflow:Finished eval step 4900\n"
     ]
    },
    {
     "name": "stderr",
     "output_type": "stream",
     "text": [
      "I0610 11:08:49.831184 10764 model_lib_v2.py:940] Finished eval step 4900\n"
     ]
    },
    {
     "name": "stdout",
     "output_type": "stream",
     "text": [
      "INFO:tensorflow:Finished eval step 5000\n"
     ]
    },
    {
     "name": "stderr",
     "output_type": "stream",
     "text": [
      "I0610 11:09:02.073183 10764 model_lib_v2.py:940] Finished eval step 5000\n"
     ]
    },
    {
     "name": "stdout",
     "output_type": "stream",
     "text": [
      "INFO:tensorflow:Finished eval step 5100\n"
     ]
    },
    {
     "name": "stderr",
     "output_type": "stream",
     "text": [
      "I0610 11:09:14.311183 10764 model_lib_v2.py:940] Finished eval step 5100\n"
     ]
    },
    {
     "name": "stdout",
     "output_type": "stream",
     "text": [
      "INFO:tensorflow:Finished eval step 5200\n"
     ]
    },
    {
     "name": "stderr",
     "output_type": "stream",
     "text": [
      "I0610 11:09:26.663183 10764 model_lib_v2.py:940] Finished eval step 5200\n"
     ]
    },
    {
     "name": "stdout",
     "output_type": "stream",
     "text": [
      "INFO:tensorflow:Finished eval step 5300\n"
     ]
    },
    {
     "name": "stderr",
     "output_type": "stream",
     "text": [
      "I0610 11:09:38.867184 10764 model_lib_v2.py:940] Finished eval step 5300\n"
     ]
    },
    {
     "name": "stdout",
     "output_type": "stream",
     "text": [
      "INFO:tensorflow:Finished eval step 5400\n"
     ]
    },
    {
     "name": "stderr",
     "output_type": "stream",
     "text": [
      "I0610 11:09:50.844183 10764 model_lib_v2.py:940] Finished eval step 5400\n"
     ]
    },
    {
     "name": "stdout",
     "output_type": "stream",
     "text": [
      "INFO:tensorflow:Finished eval step 5500\n"
     ]
    },
    {
     "name": "stderr",
     "output_type": "stream",
     "text": [
      "I0610 11:10:02.994183 10764 model_lib_v2.py:940] Finished eval step 5500\n"
     ]
    },
    {
     "name": "stdout",
     "output_type": "stream",
     "text": [
      "INFO:tensorflow:Finished eval step 5600\n"
     ]
    },
    {
     "name": "stderr",
     "output_type": "stream",
     "text": [
      "I0610 11:10:15.208183 10764 model_lib_v2.py:940] Finished eval step 5600\n"
     ]
    },
    {
     "name": "stdout",
     "output_type": "stream",
     "text": [
      "INFO:tensorflow:Finished eval step 5700\n"
     ]
    },
    {
     "name": "stderr",
     "output_type": "stream",
     "text": [
      "I0610 11:10:27.337183 10764 model_lib_v2.py:940] Finished eval step 5700\n"
     ]
    },
    {
     "name": "stdout",
     "output_type": "stream",
     "text": [
      "INFO:tensorflow:Finished eval step 5800\n"
     ]
    },
    {
     "name": "stderr",
     "output_type": "stream",
     "text": [
      "I0610 11:10:40.213184 10764 model_lib_v2.py:940] Finished eval step 5800\n"
     ]
    },
    {
     "name": "stdout",
     "output_type": "stream",
     "text": [
      "INFO:tensorflow:Finished eval step 5900\n"
     ]
    },
    {
     "name": "stderr",
     "output_type": "stream",
     "text": [
      "I0610 11:10:52.412184 10764 model_lib_v2.py:940] Finished eval step 5900\n"
     ]
    },
    {
     "name": "stdout",
     "output_type": "stream",
     "text": [
      "INFO:tensorflow:Finished eval step 6000\n"
     ]
    },
    {
     "name": "stderr",
     "output_type": "stream",
     "text": [
      "I0610 11:11:05.457183 10764 model_lib_v2.py:940] Finished eval step 6000\n"
     ]
    },
    {
     "name": "stdout",
     "output_type": "stream",
     "text": [
      "INFO:tensorflow:Finished eval step 6100\n"
     ]
    },
    {
     "name": "stderr",
     "output_type": "stream",
     "text": [
      "I0610 11:11:18.160183 10764 model_lib_v2.py:940] Finished eval step 6100\n"
     ]
    },
    {
     "name": "stdout",
     "output_type": "stream",
     "text": [
      "INFO:tensorflow:Finished eval step 6200\n"
     ]
    },
    {
     "name": "stderr",
     "output_type": "stream",
     "text": [
      "I0610 11:11:30.203184 10764 model_lib_v2.py:940] Finished eval step 6200\n"
     ]
    },
    {
     "name": "stdout",
     "output_type": "stream",
     "text": [
      "INFO:tensorflow:Finished eval step 6300\n"
     ]
    },
    {
     "name": "stderr",
     "output_type": "stream",
     "text": [
      "I0610 11:11:42.347184 10764 model_lib_v2.py:940] Finished eval step 6300\n"
     ]
    },
    {
     "name": "stdout",
     "output_type": "stream",
     "text": [
      "INFO:tensorflow:Finished eval step 6400\n"
     ]
    },
    {
     "name": "stderr",
     "output_type": "stream",
     "text": [
      "I0610 11:11:54.959184 10764 model_lib_v2.py:940] Finished eval step 6400\n"
     ]
    },
    {
     "name": "stdout",
     "output_type": "stream",
     "text": [
      "INFO:tensorflow:Finished eval step 6500\n"
     ]
    },
    {
     "name": "stderr",
     "output_type": "stream",
     "text": [
      "I0610 11:12:07.254184 10764 model_lib_v2.py:940] Finished eval step 6500\n"
     ]
    },
    {
     "name": "stdout",
     "output_type": "stream",
     "text": [
      "INFO:tensorflow:Finished eval step 6600\n"
     ]
    },
    {
     "name": "stderr",
     "output_type": "stream",
     "text": [
      "I0610 11:12:19.980184 10764 model_lib_v2.py:940] Finished eval step 6600\n"
     ]
    },
    {
     "name": "stdout",
     "output_type": "stream",
     "text": [
      "INFO:tensorflow:Finished eval step 6700\n"
     ]
    },
    {
     "name": "stderr",
     "output_type": "stream",
     "text": [
      "I0610 11:12:32.046184 10764 model_lib_v2.py:940] Finished eval step 6700\n"
     ]
    },
    {
     "name": "stdout",
     "output_type": "stream",
     "text": [
      "INFO:tensorflow:Finished eval step 6800\n"
     ]
    },
    {
     "name": "stderr",
     "output_type": "stream",
     "text": [
      "I0610 11:12:44.411183 10764 model_lib_v2.py:940] Finished eval step 6800\n"
     ]
    },
    {
     "name": "stdout",
     "output_type": "stream",
     "text": [
      "INFO:tensorflow:Finished eval step 6900\n"
     ]
    },
    {
     "name": "stderr",
     "output_type": "stream",
     "text": [
      "I0610 11:12:56.531184 10764 model_lib_v2.py:940] Finished eval step 6900\n"
     ]
    },
    {
     "name": "stdout",
     "output_type": "stream",
     "text": [
      "INFO:tensorflow:Finished eval step 7000\n"
     ]
    },
    {
     "name": "stderr",
     "output_type": "stream",
     "text": [
      "I0610 11:13:08.400184 10764 model_lib_v2.py:940] Finished eval step 7000\n"
     ]
    },
    {
     "name": "stdout",
     "output_type": "stream",
     "text": [
      "INFO:tensorflow:Finished eval step 7100\n"
     ]
    },
    {
     "name": "stderr",
     "output_type": "stream",
     "text": [
      "I0610 11:13:20.615184 10764 model_lib_v2.py:940] Finished eval step 7100\n"
     ]
    },
    {
     "name": "stdout",
     "output_type": "stream",
     "text": [
      "INFO:tensorflow:Finished eval step 7200\n"
     ]
    },
    {
     "name": "stderr",
     "output_type": "stream",
     "text": [
      "I0610 11:13:32.863183 10764 model_lib_v2.py:940] Finished eval step 7200\n"
     ]
    },
    {
     "name": "stdout",
     "output_type": "stream",
     "text": [
      "INFO:tensorflow:Finished eval step 7300\n"
     ]
    },
    {
     "name": "stderr",
     "output_type": "stream",
     "text": [
      "I0610 11:13:45.130184 10764 model_lib_v2.py:940] Finished eval step 7300\n"
     ]
    },
    {
     "name": "stdout",
     "output_type": "stream",
     "text": [
      "INFO:tensorflow:Finished eval step 7400\n"
     ]
    },
    {
     "name": "stderr",
     "output_type": "stream",
     "text": [
      "I0610 11:13:57.919183 10764 model_lib_v2.py:940] Finished eval step 7400\n"
     ]
    },
    {
     "name": "stdout",
     "output_type": "stream",
     "text": [
      "INFO:tensorflow:Finished eval step 7500\n"
     ]
    },
    {
     "name": "stderr",
     "output_type": "stream",
     "text": [
      "I0610 11:14:10.608233 10764 model_lib_v2.py:940] Finished eval step 7500\n"
     ]
    },
    {
     "name": "stdout",
     "output_type": "stream",
     "text": [
      "INFO:tensorflow:Finished eval step 7600\n"
     ]
    },
    {
     "name": "stderr",
     "output_type": "stream",
     "text": [
      "I0610 11:14:22.959184 10764 model_lib_v2.py:940] Finished eval step 7600\n"
     ]
    },
    {
     "name": "stdout",
     "output_type": "stream",
     "text": [
      "INFO:tensorflow:Finished eval step 7700\n"
     ]
    },
    {
     "name": "stderr",
     "output_type": "stream",
     "text": [
      "I0610 11:14:35.790183 10764 model_lib_v2.py:940] Finished eval step 7700\n"
     ]
    },
    {
     "name": "stdout",
     "output_type": "stream",
     "text": [
      "INFO:tensorflow:Finished eval step 7800\n"
     ]
    },
    {
     "name": "stderr",
     "output_type": "stream",
     "text": [
      "I0610 11:14:49.363005 10764 model_lib_v2.py:940] Finished eval step 7800\n"
     ]
    },
    {
     "name": "stdout",
     "output_type": "stream",
     "text": [
      "INFO:tensorflow:Finished eval step 7900\n"
     ]
    },
    {
     "name": "stderr",
     "output_type": "stream",
     "text": [
      "I0610 11:15:01.711014 10764 model_lib_v2.py:940] Finished eval step 7900\n"
     ]
    },
    {
     "name": "stdout",
     "output_type": "stream",
     "text": [
      "INFO:tensorflow:Finished eval step 8000\n"
     ]
    },
    {
     "name": "stderr",
     "output_type": "stream",
     "text": [
      "I0610 11:15:14.194003 10764 model_lib_v2.py:940] Finished eval step 8000\n"
     ]
    },
    {
     "name": "stdout",
     "output_type": "stream",
     "text": [
      "INFO:tensorflow:Finished eval step 8100\n"
     ]
    },
    {
     "name": "stderr",
     "output_type": "stream",
     "text": [
      "I0610 11:15:26.157003 10764 model_lib_v2.py:940] Finished eval step 8100\n"
     ]
    },
    {
     "name": "stdout",
     "output_type": "stream",
     "text": [
      "INFO:tensorflow:Finished eval step 8200\n"
     ]
    },
    {
     "name": "stderr",
     "output_type": "stream",
     "text": [
      "I0610 11:15:38.315003 10764 model_lib_v2.py:940] Finished eval step 8200\n"
     ]
    },
    {
     "name": "stdout",
     "output_type": "stream",
     "text": [
      "INFO:tensorflow:Finished eval step 8300\n"
     ]
    },
    {
     "name": "stderr",
     "output_type": "stream",
     "text": [
      "I0610 11:15:50.434004 10764 model_lib_v2.py:940] Finished eval step 8300\n"
     ]
    },
    {
     "name": "stdout",
     "output_type": "stream",
     "text": [
      "INFO:tensorflow:Finished eval step 8400\n"
     ]
    },
    {
     "name": "stderr",
     "output_type": "stream",
     "text": [
      "I0610 11:16:02.731005 10764 model_lib_v2.py:940] Finished eval step 8400\n"
     ]
    },
    {
     "name": "stdout",
     "output_type": "stream",
     "text": [
      "INFO:tensorflow:Finished eval step 8500\n"
     ]
    },
    {
     "name": "stderr",
     "output_type": "stream",
     "text": [
      "I0610 11:16:15.030003 10764 model_lib_v2.py:940] Finished eval step 8500\n"
     ]
    },
    {
     "name": "stdout",
     "output_type": "stream",
     "text": [
      "INFO:tensorflow:Finished eval step 8600\n"
     ]
    },
    {
     "name": "stderr",
     "output_type": "stream",
     "text": [
      "I0610 11:16:27.596003 10764 model_lib_v2.py:940] Finished eval step 8600\n"
     ]
    },
    {
     "name": "stdout",
     "output_type": "stream",
     "text": [
      "INFO:tensorflow:Finished eval step 8700\n"
     ]
    },
    {
     "name": "stderr",
     "output_type": "stream",
     "text": [
      "I0610 11:16:40.134003 10764 model_lib_v2.py:940] Finished eval step 8700\n"
     ]
    },
    {
     "name": "stdout",
     "output_type": "stream",
     "text": [
      "INFO:tensorflow:Finished eval step 8800\n"
     ]
    },
    {
     "name": "stderr",
     "output_type": "stream",
     "text": [
      "I0610 11:16:52.834004 10764 model_lib_v2.py:940] Finished eval step 8800\n"
     ]
    },
    {
     "name": "stdout",
     "output_type": "stream",
     "text": [
      "INFO:tensorflow:Finished eval step 8900\n"
     ]
    },
    {
     "name": "stderr",
     "output_type": "stream",
     "text": [
      "I0610 11:17:05.085012 10764 model_lib_v2.py:940] Finished eval step 8900\n"
     ]
    },
    {
     "name": "stdout",
     "output_type": "stream",
     "text": [
      "INFO:tensorflow:Finished eval step 9000\n"
     ]
    },
    {
     "name": "stderr",
     "output_type": "stream",
     "text": [
      "I0610 11:17:17.735532 10764 model_lib_v2.py:940] Finished eval step 9000\n"
     ]
    },
    {
     "name": "stdout",
     "output_type": "stream",
     "text": [
      "INFO:tensorflow:Finished eval step 9100\n"
     ]
    },
    {
     "name": "stderr",
     "output_type": "stream",
     "text": [
      "I0610 11:17:30.084598 10764 model_lib_v2.py:940] Finished eval step 9100\n"
     ]
    },
    {
     "name": "stdout",
     "output_type": "stream",
     "text": [
      "INFO:tensorflow:Finished eval step 9200\n"
     ]
    },
    {
     "name": "stderr",
     "output_type": "stream",
     "text": [
      "I0610 11:17:42.622598 10764 model_lib_v2.py:940] Finished eval step 9200\n"
     ]
    },
    {
     "name": "stdout",
     "output_type": "stream",
     "text": [
      "INFO:tensorflow:Finished eval step 9300\n"
     ]
    },
    {
     "name": "stderr",
     "output_type": "stream",
     "text": [
      "I0610 11:17:55.450597 10764 model_lib_v2.py:940] Finished eval step 9300\n"
     ]
    },
    {
     "name": "stdout",
     "output_type": "stream",
     "text": [
      "INFO:tensorflow:Finished eval step 9400\n"
     ]
    },
    {
     "name": "stderr",
     "output_type": "stream",
     "text": [
      "I0610 11:18:07.815600 10764 model_lib_v2.py:940] Finished eval step 9400\n"
     ]
    },
    {
     "name": "stdout",
     "output_type": "stream",
     "text": [
      "INFO:tensorflow:Finished eval step 9500\n"
     ]
    },
    {
     "name": "stderr",
     "output_type": "stream",
     "text": [
      "I0610 11:18:19.831597 10764 model_lib_v2.py:940] Finished eval step 9500\n"
     ]
    },
    {
     "name": "stdout",
     "output_type": "stream",
     "text": [
      "INFO:tensorflow:Finished eval step 9600\n"
     ]
    },
    {
     "name": "stderr",
     "output_type": "stream",
     "text": [
      "I0610 11:18:32.184598 10764 model_lib_v2.py:940] Finished eval step 9600\n"
     ]
    },
    {
     "name": "stdout",
     "output_type": "stream",
     "text": [
      "INFO:tensorflow:Finished eval step 9700\n"
     ]
    },
    {
     "name": "stderr",
     "output_type": "stream",
     "text": [
      "I0610 11:18:44.289598 10764 model_lib_v2.py:940] Finished eval step 9700\n"
     ]
    },
    {
     "name": "stdout",
     "output_type": "stream",
     "text": [
      "INFO:tensorflow:Finished eval step 9800\n"
     ]
    },
    {
     "name": "stderr",
     "output_type": "stream",
     "text": [
      "I0610 11:18:56.981599 10764 model_lib_v2.py:940] Finished eval step 9800\n"
     ]
    },
    {
     "name": "stdout",
     "output_type": "stream",
     "text": [
      "INFO:tensorflow:Finished eval step 9900\n"
     ]
    },
    {
     "name": "stderr",
     "output_type": "stream",
     "text": [
      "I0610 11:19:09.355598 10764 model_lib_v2.py:940] Finished eval step 9900\n"
     ]
    },
    {
     "name": "stdout",
     "output_type": "stream",
     "text": [
      "INFO:tensorflow:Finished eval step 10000\n"
     ]
    },
    {
     "name": "stderr",
     "output_type": "stream",
     "text": [
      "I0610 11:19:21.364599 10764 model_lib_v2.py:940] Finished eval step 10000\n"
     ]
    },
    {
     "name": "stdout",
     "output_type": "stream",
     "text": [
      "INFO:tensorflow:Finished eval step 10100\n"
     ]
    },
    {
     "name": "stderr",
     "output_type": "stream",
     "text": [
      "I0610 11:19:33.276598 10764 model_lib_v2.py:940] Finished eval step 10100\n"
     ]
    },
    {
     "name": "stdout",
     "output_type": "stream",
     "text": [
      "INFO:tensorflow:Finished eval step 10200\n"
     ]
    },
    {
     "name": "stderr",
     "output_type": "stream",
     "text": [
      "I0610 11:19:45.719598 10764 model_lib_v2.py:940] Finished eval step 10200\n"
     ]
    },
    {
     "name": "stdout",
     "output_type": "stream",
     "text": [
      "INFO:tensorflow:Finished eval step 10300\n"
     ]
    },
    {
     "name": "stderr",
     "output_type": "stream",
     "text": [
      "I0610 11:19:59.277598 10764 model_lib_v2.py:940] Finished eval step 10300\n"
     ]
    },
    {
     "name": "stdout",
     "output_type": "stream",
     "text": [
      "INFO:tensorflow:Finished eval step 10400\n"
     ]
    },
    {
     "name": "stderr",
     "output_type": "stream",
     "text": [
      "I0610 11:20:11.523598 10764 model_lib_v2.py:940] Finished eval step 10400\n"
     ]
    },
    {
     "name": "stdout",
     "output_type": "stream",
     "text": [
      "INFO:tensorflow:Finished eval step 10500\n"
     ]
    },
    {
     "name": "stderr",
     "output_type": "stream",
     "text": [
      "I0610 11:20:23.950599 10764 model_lib_v2.py:940] Finished eval step 10500\n"
     ]
    },
    {
     "name": "stdout",
     "output_type": "stream",
     "text": [
      "INFO:tensorflow:Finished eval step 10600\n"
     ]
    },
    {
     "name": "stderr",
     "output_type": "stream",
     "text": [
      "I0610 11:20:36.472598 10764 model_lib_v2.py:940] Finished eval step 10600\n"
     ]
    },
    {
     "name": "stdout",
     "output_type": "stream",
     "text": [
      "INFO:tensorflow:Finished eval step 10700\n"
     ]
    },
    {
     "name": "stderr",
     "output_type": "stream",
     "text": [
      "I0610 11:20:49.368599 10764 model_lib_v2.py:940] Finished eval step 10700\n"
     ]
    },
    {
     "name": "stdout",
     "output_type": "stream",
     "text": [
      "INFO:tensorflow:Finished eval step 10800\n"
     ]
    },
    {
     "name": "stderr",
     "output_type": "stream",
     "text": [
      "I0610 11:21:02.041599 10764 model_lib_v2.py:940] Finished eval step 10800\n"
     ]
    },
    {
     "name": "stdout",
     "output_type": "stream",
     "text": [
      "INFO:tensorflow:Finished eval step 10900\n"
     ]
    },
    {
     "name": "stderr",
     "output_type": "stream",
     "text": [
      "I0610 11:21:14.237598 10764 model_lib_v2.py:940] Finished eval step 10900\n"
     ]
    },
    {
     "name": "stdout",
     "output_type": "stream",
     "text": [
      "INFO:tensorflow:Finished eval step 11000\n"
     ]
    },
    {
     "name": "stderr",
     "output_type": "stream",
     "text": [
      "I0610 11:21:26.909599 10764 model_lib_v2.py:940] Finished eval step 11000\n"
     ]
    },
    {
     "name": "stdout",
     "output_type": "stream",
     "text": [
      "INFO:tensorflow:Finished eval step 11100\n"
     ]
    },
    {
     "name": "stderr",
     "output_type": "stream",
     "text": [
      "I0610 11:21:39.090598 10764 model_lib_v2.py:940] Finished eval step 11100\n"
     ]
    },
    {
     "name": "stdout",
     "output_type": "stream",
     "text": [
      "INFO:tensorflow:Finished eval step 11200\n"
     ]
    },
    {
     "name": "stderr",
     "output_type": "stream",
     "text": [
      "I0610 11:21:51.582599 10764 model_lib_v2.py:940] Finished eval step 11200\n"
     ]
    },
    {
     "name": "stdout",
     "output_type": "stream",
     "text": [
      "INFO:tensorflow:Finished eval step 11300\n"
     ]
    },
    {
     "name": "stderr",
     "output_type": "stream",
     "text": [
      "I0610 11:22:03.824599 10764 model_lib_v2.py:940] Finished eval step 11300\n"
     ]
    },
    {
     "name": "stdout",
     "output_type": "stream",
     "text": [
      "INFO:tensorflow:Finished eval step 11400\n"
     ]
    },
    {
     "name": "stderr",
     "output_type": "stream",
     "text": [
      "I0610 11:22:16.564512 10764 model_lib_v2.py:940] Finished eval step 11400\n"
     ]
    },
    {
     "name": "stdout",
     "output_type": "stream",
     "text": [
      "INFO:tensorflow:Finished eval step 11500\n"
     ]
    },
    {
     "name": "stderr",
     "output_type": "stream",
     "text": [
      "I0610 11:22:29.241512 10764 model_lib_v2.py:940] Finished eval step 11500\n"
     ]
    },
    {
     "name": "stdout",
     "output_type": "stream",
     "text": [
      "INFO:tensorflow:Performing evaluation on 11520 images.\n"
     ]
    },
    {
     "name": "stderr",
     "output_type": "stream",
     "text": [
      "I0610 11:22:31.555514 10764 coco_evaluation.py:293] Performing evaluation on 11520 images.\n"
     ]
    },
    {
     "name": "stdout",
     "output_type": "stream",
     "text": [
      "creating index...\n",
      "index created!\n",
      "INFO:tensorflow:Loading and preparing annotation results...\n"
     ]
    },
    {
     "name": "stderr",
     "output_type": "stream",
     "text": [
      "I0610 11:22:31.712511 10764 coco_tools.py:116] Loading and preparing annotation results...\n"
     ]
    },
    {
     "name": "stdout",
     "output_type": "stream",
     "text": [
      "INFO:tensorflow:DONE (t=1.67s)\n"
     ]
    },
    {
     "name": "stderr",
     "output_type": "stream",
     "text": [
      "I0610 11:22:33.380528 10764 coco_tools.py:138] DONE (t=1.67s)\n"
     ]
    },
    {
     "name": "stdout",
     "output_type": "stream",
     "text": [
      "creating index...\n",
      "index created!\n",
      "Running per image evaluation...\n",
      "Evaluate annotation type *bbox*\n",
      "DONE (t=669.99s).\n",
      "Accumulating evaluation results...\n",
      "DONE (t=53.35s).\n",
      " Average Precision  (AP) @[ IoU=0.50:0.95 | area=   all | maxDets=100 ] = 0.101\n",
      " Average Precision  (AP) @[ IoU=0.50      | area=   all | maxDets=100 ] = 0.215\n",
      " Average Precision  (AP) @[ IoU=0.75      | area=   all | maxDets=100 ] = 0.077\n",
      " Average Precision  (AP) @[ IoU=0.50:0.95 | area= small | maxDets=100 ] = 0.049\n",
      " Average Precision  (AP) @[ IoU=0.50:0.95 | area=medium | maxDets=100 ] = 0.127\n",
      " Average Precision  (AP) @[ IoU=0.50:0.95 | area= large | maxDets=100 ] = 0.159\n",
      " Average Recall     (AR) @[ IoU=0.50:0.95 | area=   all | maxDets=  1 ] = 0.117\n",
      " Average Recall     (AR) @[ IoU=0.50:0.95 | area=   all | maxDets= 10 ] = 0.262\n",
      " Average Recall     (AR) @[ IoU=0.50:0.95 | area=   all | maxDets=100 ] = 0.305\n",
      " Average Recall     (AR) @[ IoU=0.50:0.95 | area= small | maxDets=100 ] = 0.208\n",
      " Average Recall     (AR) @[ IoU=0.50:0.95 | area=medium | maxDets=100 ] = 0.345\n",
      " Average Recall     (AR) @[ IoU=0.50:0.95 | area= large | maxDets=100 ] = 0.409\n",
      "INFO:tensorflow:Eval metrics at step 74000\n"
     ]
    },
    {
     "name": "stderr",
     "output_type": "stream",
     "text": [
      "I0610 11:34:41.589753 10764 model_lib_v2.py:989] Eval metrics at step 74000\n"
     ]
    },
    {
     "name": "stdout",
     "output_type": "stream",
     "text": [
      "INFO:tensorflow:\t+ DetectionBoxes_Precision/mAP: 0.101231\n"
     ]
    },
    {
     "name": "stderr",
     "output_type": "stream",
     "text": [
      "I0610 11:34:41.606752 10764 model_lib_v2.py:992] \t+ DetectionBoxes_Precision/mAP: 0.101231\n"
     ]
    },
    {
     "name": "stdout",
     "output_type": "stream",
     "text": [
      "INFO:tensorflow:\t+ DetectionBoxes_Precision/mAP@.50IOU: 0.214982\n"
     ]
    },
    {
     "name": "stderr",
     "output_type": "stream",
     "text": [
      "I0610 11:34:41.608753 10764 model_lib_v2.py:992] \t+ DetectionBoxes_Precision/mAP@.50IOU: 0.214982\n"
     ]
    },
    {
     "name": "stdout",
     "output_type": "stream",
     "text": [
      "INFO:tensorflow:\t+ DetectionBoxes_Precision/mAP@.75IOU: 0.077209\n"
     ]
    },
    {
     "name": "stderr",
     "output_type": "stream",
     "text": [
      "I0610 11:34:41.611756 10764 model_lib_v2.py:992] \t+ DetectionBoxes_Precision/mAP@.75IOU: 0.077209\n"
     ]
    },
    {
     "name": "stdout",
     "output_type": "stream",
     "text": [
      "INFO:tensorflow:\t+ DetectionBoxes_Precision/mAP (small): 0.049179\n"
     ]
    },
    {
     "name": "stderr",
     "output_type": "stream",
     "text": [
      "I0610 11:34:41.613756 10764 model_lib_v2.py:992] \t+ DetectionBoxes_Precision/mAP (small): 0.049179\n"
     ]
    },
    {
     "name": "stdout",
     "output_type": "stream",
     "text": [
      "INFO:tensorflow:\t+ DetectionBoxes_Precision/mAP (medium): 0.126814\n"
     ]
    },
    {
     "name": "stderr",
     "output_type": "stream",
     "text": [
      "I0610 11:34:41.615756 10764 model_lib_v2.py:992] \t+ DetectionBoxes_Precision/mAP (medium): 0.126814\n"
     ]
    },
    {
     "name": "stdout",
     "output_type": "stream",
     "text": [
      "INFO:tensorflow:\t+ DetectionBoxes_Precision/mAP (large): 0.158798\n"
     ]
    },
    {
     "name": "stderr",
     "output_type": "stream",
     "text": [
      "I0610 11:34:41.617755 10764 model_lib_v2.py:992] \t+ DetectionBoxes_Precision/mAP (large): 0.158798\n"
     ]
    },
    {
     "name": "stdout",
     "output_type": "stream",
     "text": [
      "INFO:tensorflow:\t+ DetectionBoxes_Recall/AR@1: 0.116729\n"
     ]
    },
    {
     "name": "stderr",
     "output_type": "stream",
     "text": [
      "I0610 11:34:41.619755 10764 model_lib_v2.py:992] \t+ DetectionBoxes_Recall/AR@1: 0.116729\n"
     ]
    },
    {
     "name": "stdout",
     "output_type": "stream",
     "text": [
      "INFO:tensorflow:\t+ DetectionBoxes_Recall/AR@10: 0.261764\n"
     ]
    },
    {
     "name": "stderr",
     "output_type": "stream",
     "text": [
      "I0610 11:34:41.621755 10764 model_lib_v2.py:992] \t+ DetectionBoxes_Recall/AR@10: 0.261764\n"
     ]
    },
    {
     "name": "stdout",
     "output_type": "stream",
     "text": [
      "INFO:tensorflow:\t+ DetectionBoxes_Recall/AR@100: 0.304914\n"
     ]
    },
    {
     "name": "stderr",
     "output_type": "stream",
     "text": [
      "I0610 11:34:41.623756 10764 model_lib_v2.py:992] \t+ DetectionBoxes_Recall/AR@100: 0.304914\n"
     ]
    },
    {
     "name": "stdout",
     "output_type": "stream",
     "text": [
      "INFO:tensorflow:\t+ DetectionBoxes_Recall/AR@100 (small): 0.208057\n"
     ]
    },
    {
     "name": "stderr",
     "output_type": "stream",
     "text": [
      "I0610 11:34:41.626753 10764 model_lib_v2.py:992] \t+ DetectionBoxes_Recall/AR@100 (small): 0.208057\n"
     ]
    },
    {
     "name": "stdout",
     "output_type": "stream",
     "text": [
      "INFO:tensorflow:\t+ DetectionBoxes_Recall/AR@100 (medium): 0.344602\n"
     ]
    },
    {
     "name": "stderr",
     "output_type": "stream",
     "text": [
      "I0610 11:34:41.628754 10764 model_lib_v2.py:992] \t+ DetectionBoxes_Recall/AR@100 (medium): 0.344602\n"
     ]
    },
    {
     "name": "stdout",
     "output_type": "stream",
     "text": [
      "INFO:tensorflow:\t+ DetectionBoxes_Recall/AR@100 (large): 0.408729\n"
     ]
    },
    {
     "name": "stderr",
     "output_type": "stream",
     "text": [
      "I0610 11:34:41.631754 10764 model_lib_v2.py:992] \t+ DetectionBoxes_Recall/AR@100 (large): 0.408729\n"
     ]
    },
    {
     "name": "stdout",
     "output_type": "stream",
     "text": [
      "INFO:tensorflow:\t+ Loss/RPNLoss/localization_loss: 0.338899\n"
     ]
    },
    {
     "name": "stderr",
     "output_type": "stream",
     "text": [
      "I0610 11:34:41.633754 10764 model_lib_v2.py:992] \t+ Loss/RPNLoss/localization_loss: 0.338899\n"
     ]
    },
    {
     "name": "stdout",
     "output_type": "stream",
     "text": [
      "INFO:tensorflow:\t+ Loss/RPNLoss/objectness_loss: 0.162623\n"
     ]
    },
    {
     "name": "stderr",
     "output_type": "stream",
     "text": [
      "I0610 11:34:41.635755 10764 model_lib_v2.py:992] \t+ Loss/RPNLoss/objectness_loss: 0.162623\n"
     ]
    },
    {
     "name": "stdout",
     "output_type": "stream",
     "text": [
      "INFO:tensorflow:\t+ Loss/BoxClassifierLoss/localization_loss: 0.440999\n"
     ]
    },
    {
     "name": "stderr",
     "output_type": "stream",
     "text": [
      "I0610 11:34:41.637754 10764 model_lib_v2.py:992] \t+ Loss/BoxClassifierLoss/localization_loss: 0.440999\n"
     ]
    },
    {
     "name": "stdout",
     "output_type": "stream",
     "text": [
      "INFO:tensorflow:\t+ Loss/BoxClassifierLoss/classification_loss: 0.347725\n"
     ]
    },
    {
     "name": "stderr",
     "output_type": "stream",
     "text": [
      "I0610 11:34:41.639755 10764 model_lib_v2.py:992] \t+ Loss/BoxClassifierLoss/classification_loss: 0.347725\n"
     ]
    },
    {
     "name": "stdout",
     "output_type": "stream",
     "text": [
      "INFO:tensorflow:\t+ Loss/regularization_loss: 0.000000\n"
     ]
    },
    {
     "name": "stderr",
     "output_type": "stream",
     "text": [
      "I0610 11:34:41.641754 10764 model_lib_v2.py:992] \t+ Loss/regularization_loss: 0.000000\n"
     ]
    },
    {
     "name": "stdout",
     "output_type": "stream",
     "text": [
      "INFO:tensorflow:\t+ Loss/total_loss: 1.290246\n"
     ]
    },
    {
     "name": "stderr",
     "output_type": "stream",
     "text": [
      "I0610 11:34:41.643754 10764 model_lib_v2.py:992] \t+ Loss/total_loss: 1.290246\n"
     ]
    },
    {
     "name": "stdout",
     "output_type": "stream",
     "text": [
      "INFO:tensorflow:Waiting for new checkpoint at C:\\Users\\bcper\\Documents\\GitHub\\models\\workspace\\models\\resnet50\\v4\\\n"
     ]
    },
    {
     "name": "stderr",
     "output_type": "stream",
     "text": [
      "I0610 11:34:43.107737 10764 checkpoint_utils.py:140] Waiting for new checkpoint at C:\\Users\\bcper\\Documents\\GitHub\\models\\workspace\\models\\resnet50\\v4\\\n"
     ]
    }
   ],
   "source": [
    "os.chdir(paths['SCRIPTS_PATH'])\n",
    "\n",
    "#run the model evaluation\n",
    "%run {evaluate_model}"
   ]
  },
  {
   "cell_type": "markdown",
   "metadata": {},
   "source": [
    "## Start Tensorboard"
   ]
  },
  {
   "cell_type": "code",
   "execution_count": 9,
   "metadata": {},
   "outputs": [
    {
     "name": "stdout",
     "output_type": "stream",
     "text": [
      "^C\n"
     ]
    },
    {
     "ename": "NameError",
     "evalue": "name 'tensorboard' is not defined",
     "output_type": "error",
     "traceback": [
      "\u001b[1;31m---------------------------------------------------------------------------\u001b[0m",
      "\u001b[1;31mNameError\u001b[0m                                 Traceback (most recent call last)",
      "\u001b[1;32m<ipython-input-9-85ef1add162e>\u001b[0m in \u001b[0;36m<module>\u001b[1;34m\u001b[0m\n\u001b[0;32m      4\u001b[0m \u001b[0mget_ipython\u001b[0m\u001b[1;33m(\u001b[0m\u001b[1;33m)\u001b[0m\u001b[1;33m.\u001b[0m\u001b[0msystem\u001b[0m\u001b[1;33m(\u001b[0m\u001b[1;34m'tensorboard --logdir=$tensorboard_path'\u001b[0m\u001b[1;33m)\u001b[0m\u001b[1;33m\u001b[0m\u001b[1;33m\u001b[0m\u001b[0m\n\u001b[0;32m      5\u001b[0m \u001b[1;33m\u001b[0m\u001b[0m\n\u001b[1;32m----> 6\u001b[1;33m \u001b[0mprint\u001b[0m\u001b[1;33m(\u001b[0m\u001b[0mtensorboard\u001b[0m\u001b[1;33m)\u001b[0m\u001b[1;33m\u001b[0m\u001b[1;33m\u001b[0m\u001b[0m\n\u001b[0m",
      "\u001b[1;31mNameError\u001b[0m: name 'tensorboard' is not defined"
     ]
    }
   ],
   "source": [
    "os.chdir(paths['WORK_PATH'])\n",
    "tensorboard_path = paths['CHECKPOINT_PATH']\n",
    "\n",
    "!tensorboard --logdir=$tensorboard_path"
   ]
  },
  {
   "cell_type": "markdown",
   "metadata": {},
   "source": [
    "# Export Model"
   ]
  },
  {
   "cell_type": "code",
   "execution_count": null,
   "metadata": {
    "scrolled": true
   },
   "outputs": [],
   "source": [
    "os.chdir(paths['SCRIPTS_PATH'])\n",
    "\n",
    "export_model = '{} --pipeline_config_path={} --trained_checkpoint_dir={} --output_directory={} --input_type=image_tensor'.format('exporter_main_v2.py', files['PIPELINE_CONFIG'], paths['MODEL_PATH'], paths['EXPORT_PATH'])\n",
    "%run {export_model}\n",
    "\n",
    "print(export_model)\n"
   ]
  },
  {
   "cell_type": "code",
   "execution_count": null,
   "metadata": {},
   "outputs": [],
   "source": []
  }
 ],
 "metadata": {
  "kernelspec": {
   "display_name": "Python 3",
   "language": "python",
   "name": "python3"
  },
  "language_info": {
   "codemirror_mode": {
    "name": "ipython",
    "version": 3
   },
   "file_extension": ".py",
   "mimetype": "text/x-python",
   "name": "python",
   "nbconvert_exporter": "python",
   "pygments_lexer": "ipython3",
   "version": "3.8.8"
  },
  "neptune": {
   "notebookId": "7c618cd5-39ec-46c6-bee7-0cfe5297f22a"
  }
 },
 "nbformat": 4,
 "nbformat_minor": 4
}
