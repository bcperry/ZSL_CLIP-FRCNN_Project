{
 "cells": [
  {
   "cell_type": "markdown",
   "id": "07bdffc4",
   "metadata": {},
   "source": [
    "## 1. Import the given Xview Labels\n",
    "***Ref: https://github.com/DIUx-xView/data_utilities/blob/master/xview_class_labels.txt***"
   ]
  },
  {
   "cell_type": "code",
   "execution_count": 1,
   "id": "9fb115c4",
   "metadata": {},
   "outputs": [],
   "source": [
    "# Ensure label.txt file is downloaded into the working directory \n",
    "file_name = 'xview_class_labels.txt'"
   ]
  },
  {
   "cell_type": "code",
   "execution_count": 2,
   "id": "0bb5899a",
   "metadata": {},
   "outputs": [],
   "source": [
    "# Create the Xview Data dictionary for comparison\n",
    "xview_label_dict = {}\n",
    "\n",
    "with open('xview_class_labels.txt') as file:\n",
    "    for line in file:\n",
    "        line = line.rstrip('\\n')\n",
    "        (key, value) = line.split(':')\n",
    "        xview_label_dict[int(key)] = value"
   ]
  },
  {
   "cell_type": "code",
   "execution_count": 3,
   "id": "a8d64354",
   "metadata": {},
   "outputs": [
    {
     "name": "stdout",
     "output_type": "stream",
     "text": [
      "11: 'Fixed-wing Aircraft',\n",
      "12: 'Small Aircraft',\n",
      "13: 'Cargo Plane',\n",
      "15: 'Helicopter',\n",
      "17: 'Passenger Vehicle',\n",
      "18: 'Small Car',\n",
      "19: 'Bus',\n",
      "20: 'Pickup Truck',\n",
      "21: 'Utility Truck',\n",
      "23: 'Truck',\n",
      "24: 'Cargo Truck',\n",
      "25: 'Truck w/Box',\n",
      "26: 'Truck Tractor',\n",
      "27: 'Trailer',\n",
      "28: 'Truck w/Flatbed',\n",
      "29: 'Truck w/Liquid',\n",
      "32: 'Crane Truck',\n",
      "33: 'Railway Vehicle',\n",
      "34: 'Passenger Car',\n",
      "35: 'Cargo Car',\n",
      "36: 'Flat Car',\n",
      "37: 'Tank car',\n",
      "38: 'Locomotive',\n",
      "40: 'Maritime Vessel',\n",
      "41: 'Motorboat',\n",
      "42: 'Sailboat',\n",
      "44: 'Tugboat',\n",
      "45: 'Barge',\n",
      "47: 'Fishing Vessel',\n",
      "49: 'Ferry',\n",
      "50: 'Yacht',\n",
      "51: 'Container Ship',\n",
      "52: 'Oil Tanker',\n",
      "53: 'Engineering Vehicle',\n",
      "54: 'Tower crane',\n",
      "55: 'Container Crane',\n",
      "56: 'Reach Stacker',\n",
      "57: 'Straddle Carrier',\n",
      "59: 'Mobile Crane',\n",
      "60: 'Dump Truck',\n",
      "61: 'Haul Truck',\n",
      "62: 'Scraper/Tractor',\n",
      "63: 'Front loader/Bulldozer',\n",
      "64: 'Excavator',\n",
      "65: 'Cement Mixer',\n",
      "66: 'Ground Grader',\n",
      "71: 'Hut/Tent',\n",
      "72: 'Shed',\n",
      "73: 'Building',\n",
      "74: 'Aircraft Hangar',\n",
      "76: 'Damaged Building',\n",
      "77: 'Facility',\n",
      "79: 'Construction Site',\n",
      "83: 'Vehicle Lot',\n",
      "84: 'Helipad',\n",
      "86: 'Storage Tank',\n",
      "89: 'Shipping container lot',\n",
      "91: 'Shipping Container',\n",
      "93: 'Pylon',\n",
      "94: 'Tower',}\n"
     ]
    }
   ],
   "source": [
    "# print each dictionary item\n",
    "print(\"\" + \"\\n\".join(\"{!r}: {!r},\".format(k, v) for k, v in xview_label_dict.items()) + \"}\")"
   ]
  },
  {
   "cell_type": "markdown",
   "id": "89853921",
   "metadata": {},
   "source": [
    "## 2. Generate Labels with Text Embedding for the Xview Data"
   ]
  },
  {
   "cell_type": "code",
   "execution_count": 4,
   "id": "79b09f2e",
   "metadata": {},
   "outputs": [],
   "source": [
    "civ_aircraft_sub_dict = {'Fixed-wing Aircraft' : [],\n",
    "                         'Small Aircraft' : ['wings', 'elevators', 'rudder', 'tail', 'cockpit', 'single engine', 'white', 'red', 'blue', 'silver', 'fuselage'],\n",
    "                         'Cargo Plane' : ['wings', 'elevators', 'rudder', 'tail',  'cockpit', 'multi engine', 'white', 'red', 'blue', 'silver', 'fuselage'],\n",
    "                         'Helicopter' : ['main rotor', 'tail rotor', 'rudder', 'tail',  'cockpit', 'red', 'white', 'blue', 'fuselage']}"
   ]
  },
  {
   "cell_type": "code",
   "execution_count": 5,
   "id": "6623df85",
   "metadata": {},
   "outputs": [],
   "source": [
    "passenger_sub_dict = {'Passenger Vehicle' : [],\n",
    "                      'Small Car' : ['wheels', 'windows', 'cab', 'doors', 'hood', 'trunk', 'white', 'black', 'silver', 'red', 'blue', 'small'],\n",
    "                      'Bus' : ['wheels', 'windows', 'cab', 'doors', 'long', 'rectangle', 'white', 'silver', 'red', 'blue']}"
   ]
  },
  {
   "cell_type": "code",
   "execution_count": 6,
   "id": "57c3d083",
   "metadata": {},
   "outputs": [],
   "source": [
    "truck_sub_dict = {'Pickup Truck' : ['wheels', 'windows', 'cab', 'doors', 'hood', 'bed', 'white', 'black', 'silver', 'red', 'blue'],\n",
    "                  'Utility Truck' : ['wheels', 'windows', 'cab', 'doors', 'hood', 'bed', 'box', 'crane', 'winch', 'white'],\n",
    "                  'Truck' : [],\n",
    "                  'Cargo Truck' : ['wheels', 'windows', 'cab', 'doors', 'bed', 'box', 'container', 'tractor', 'trailer', 'long', 'rectangle'],\n",
    "                  'Truck w/Box' : ['wheels', 'windows', 'cab', 'doors', 'bed', 'box'],\n",
    "                  'Truck Tractor' : ['Shipping Container', 'wheels', 'windows', 'cab', 'doors', 'bed', 'box', 'trailer'],\n",
    "                  'Trailer' : [],\n",
    "                  'Truck w/Flatbed' : ['wheels', 'windows', 'cab', 'doors', 'bed', 'flat', 'trailer'],\n",
    "                  'Truck w/Liquid' : ['wheels', 'windows', 'cab', 'doors', 'bed', 'tube', 'tank', 'trailer'],\n",
    "                  'Crane Truck' : ['wheels', 'windows', 'cab', 'doors', 'boom', 'crane', 'outriggers', 'carrier', 'red', 'blue', 'white', 'yellow', 'orange', 'rectangle']}"
   ]
  },
  {
   "cell_type": "code",
   "execution_count": 7,
   "id": "10418fa8",
   "metadata": {},
   "outputs": [],
   "source": [
    "rail_sub_dict = {'Railway Vehicle' : [],\n",
    "                 'Passenger Car' : ['wheels', 'rail', 'long', 'windows', 'rectangle'],\n",
    "                 'Cargo Car' : ['wheels', 'rail', 'long', 'box', 'Shipping Container', 'rectangle'],\n",
    "                 'Flat Car' : ['wheels', 'rail', 'long', 'bed', 'flat', 'rectangle'],\n",
    "                 'Tank car' : ['wheels', 'rail', 'long', 'tube', 'cylinder', 'rectangle'],\n",
    "                 'Locomotive' : ['wheels', 'rail', 'long', 'engine', 'stack', 'rectangle']}"
   ]
  },
  {
   "cell_type": "code",
   "execution_count": 8,
   "id": "73210675",
   "metadata": {},
   "outputs": [],
   "source": [
    "maritime_sub_dict = {'Maritime Vessel' : [],\n",
    "                     'Motorboat': ['boat', 'water', 'small', 'wake', 'engine', 'sharp', 'white'],\n",
    "                     'Sailboat': ['boat', 'water', 'small', 'sails', 'sharp', 'white'],\n",
    "                     'Tugboat': ['boat', 'water', 'small', 'wake', 'engine', 'round', 'red', 'yellow', 'orange', 'white', 'blue', 'fender', 'wide', 'bridge', 'stack'],\n",
    "                     'Barge': ['boat', 'water', 'medium', 'rectangle', 'red', 'yellow', 'orange', 'blue', 'grey', 'wide'],\n",
    "                     'Fishing Vessel': ['boat', 'water', 'medium', 'wake', 'engine', 'round', 'red', 'yellow', 'orange', 'white', 'blue', 'green', 'gantry', 'masthead', 'bridge', 'stack'],\n",
    "                     'Ferry': ['boat', 'water', 'medium', 'wake', 'engine', 'round', 'windows', 'yellow', 'orange', 'white', 'bridge', 'stack', 'wide'],\n",
    "                     'Yacht': ['boat', 'water', 'medium', 'wake', 'engine', 'sharp', 'white'],\n",
    "                     'Container Ship': ['boat', 'water', 'large', 'wake', 'engine', 'rectangle', 'white', 'blue', 'red', 'Shipping Container', 'stack', 'bridge'],\n",
    "                     'Oil Tanker': ['boat', 'water', 'large', 'wake', 'engine', 'round', 'white', 'green', 'red', 'flat', 'stack', 'bridge']}"
   ]
  },
  {
   "cell_type": "code",
   "execution_count": 9,
   "id": "2a1dc327",
   "metadata": {},
   "outputs": [],
   "source": [
    "engineering_sub_dict = {'Engineering Vehicle' : [],\n",
    "                        'Tower crane' : ['fixed', 'counter weight', 'crane', 'boom', 'cab', 'narrow', 'long', 'thin'],\n",
    "                        'Container Crane' : ['Shipping Container','fixed', 'counter weight', 'crane', 'boom', 'cab', 'spreader', 'wide', 'long'],\n",
    "                        'Reach Stacker' : ['crane', 'boom', 'cab', 'spreader', 'wheels', 'windows', 'doors', 'red', 'blue', 'white', 'yellow', 'orange'],\n",
    "                        'Straddle Carrier' : ['cab', 'spreader', 'wheels', 'windows', 'doors', 'red', 'blue', 'white', 'yellow', 'orange', 'square', 'flat'],\n",
    "                        'Mobile Crane' : ['wheels', 'tracks', 'windows', 'cab', 'doors', 'boom', 'crane', 'outriggers', 'carrier', 'red', 'blue', 'white', 'yellow', 'orange', 'rectangle'],\n",
    "                        'Dump Truck' : ['wheels', 'windows', 'cab', 'doors', 'haul bed', 'large', 'square', 'rectangle', 'red', 'blue', 'white', 'yellow', 'orange'],\n",
    "                        'Haul Truck' : [],\n",
    "                        'Scraper/Tractor' : ['wheels', 'windows', 'cab', 'doors', 'bowl', 'tractor', 'scraper', 'yellow', 'rectangle', 'trailer'],\n",
    "                        'Front loader/Bulldozer' : ['wheels', 'windows', 'cab', 'doors', 'scoop', 'yellow', 'orange', 'green'],\n",
    "                        'Excavator' : ['tracks', 'windows', 'cab', 'doors', 'boom', 'bucket', 'arm', 'square', 'yellow', 'orange', 'red', 'white', 'blade'],\n",
    "                        'Cement Mixer' : ['wheels', 'windows', 'cab', 'doors', 'hood', 'water tank', 'barrel', 'hopper', 'rectangle', 'red', 'blue', 'white', 'yellow', 'orange'],\n",
    "                        'Ground Grader' : ['wheels', 'windows', 'cab', 'doors', 'blade', 'frame', 'yellow', 'red', 'orange', 'rectangle']}"
   ]
  },
  {
   "cell_type": "code",
   "execution_count": 10,
   "id": "1a557f5d",
   "metadata": {},
   "outputs": [],
   "source": [
    "building_sub_dict = {'Hut/Tent' : [],\n",
    "                     'Shed' : [],\n",
    "                     'Building' : [],\n",
    "                     'Aircraft Hangar' : [],\n",
    "                     'Damaged Building' : [],\n",
    "                     'Facility' : []}"
   ]
  },
  {
   "cell_type": "code",
   "execution_count": 11,
   "id": "334a5938",
   "metadata": {},
   "outputs": [],
   "source": [
    "other_struct_sub_dict = {'Construction Site': [],\n",
    "                         'Vehicle Lot'  : ['vehicles', 'wheels', 'tracks', 'lights', 'fence', 'flat', 'concrete', 'asphalt', 'dirt'],\n",
    "                         'Helipad' : ['H', 'green', 'red', 'yellow', 'circle', 'flat', 'lights'],\n",
    "                         'Storage Tank' : ['round', 'cylinder', 'tube', 'white', 'yellow', 'blue'],\n",
    "                         'Shipping container lot' : ['Shipping Container', 'flat', 'concrete', 'dirt', 'asphalt', 'lights', 'fence'],\n",
    "                         'Shipping Container' : ['rectangle', 'box', 'small', 'red', 'green', 'yellow', 'blue'],\n",
    "                         'Pylon' : ['lines', 'grey', 'tall'],\n",
    "                         'Tower' : []}"
   ]
  },
  {
   "cell_type": "code",
   "execution_count": 12,
   "id": "8f2eb51d",
   "metadata": {},
   "outputs": [],
   "source": [
    "# Changed dictionary format for ease of tokenizing\n",
    "'''\n",
    "xview_embed_dict = {'Civilian Aircraft' : civ_aircraft_sub_dict,\n",
    "                    'Civilian Passenger Vehicle' : passenger_sub_dict,\n",
    "                    'Civilian Truck' : truck_sub_dict,\n",
    "                    'Railway Vehicle' : rail_sub_dict,\n",
    "                    'Maritime Vessels' : maritime_sub_dict,\n",
    "                    'Civilian Engineering' : engineering_sub_dict,\n",
    "                    'Buildings' : building_sub_dict,\n",
    "                    'Other Structures' : other_struct_sub_dict}\n",
    "'''\n",
    "\n",
    "xview_embed_dict = {**civ_aircraft_sub_dict,\n",
    "                    **passenger_sub_dict,\n",
    "                    **truck_sub_dict,\n",
    "                    **rail_sub_dict,\n",
    "                    **maritime_sub_dict,\n",
    "                    **engineering_sub_dict,\n",
    "                    **building_sub_dict,\n",
    "                    **other_struct_sub_dict}"
   ]
  },
  {
   "cell_type": "markdown",
   "id": "fe1c1567",
   "metadata": {},
   "source": [
    "## 3. Ensure the given Xview Labels and the Generated Embedding Dictionary Match"
   ]
  },
  {
   "cell_type": "code",
   "execution_count": 13,
   "id": "c95c4ee1",
   "metadata": {},
   "outputs": [],
   "source": [
    "# Extract the labels from the Xview Embedding Dictionary\n",
    "xview_labels = [] # create a list to store possible lables\n",
    "\n",
    "for key in xview_embed_dict.keys():\n",
    "    xview_labels.append(key)"
   ]
  },
  {
   "cell_type": "code",
   "execution_count": 14,
   "id": "0d7bf37b",
   "metadata": {},
   "outputs": [
    {
     "name": "stdout",
     "output_type": "stream",
     "text": [
      "The Embedded Dictionary and Label Dictionary are the same size.\n"
     ]
    }
   ],
   "source": [
    "# Ensure the Embedded dictionary is the same length as the Xview Labels\n",
    "\n",
    "if len(xview_label_dict) == len(xview_embed_dict):\n",
    "    print('The Embedded Dictionary and Label Dictionary are the same size.')\n",
    "else:\n",
    "    print('ERROR: The Embedded Dictionary and Label Dictionary are NOT the same size.')"
   ]
  },
  {
   "cell_type": "code",
   "execution_count": 15,
   "id": "0321c83e",
   "metadata": {},
   "outputs": [],
   "source": [
    "# Ensure the Labels in Embedded dictionary match the given Xview Labels\n",
    "\n",
    "i = 0\n",
    "\n",
    "for key in xview_label_dict.keys():\n",
    "    label_value = xview_label_dict[key]\n",
    "    if label_value == xview_labels[i]:\n",
    "        i += 1\n",
    "    else:\n",
    "        print(label_value + ' has no match in the embedded dictionary')\n",
    "        print('Embedded dictionary returns : ' + xview_labels[i] + '\\n')\n",
    "        i += 1"
   ]
  },
  {
   "cell_type": "markdown",
   "id": "8d6ad943",
   "metadata": {},
   "source": [
    "## 4. Generate Labels with Text Embedding for Military Vehicles\n",
    "\n",
    "***References:***\n",
    "\n",
    " ***Worldwide Equipment Guide: https://odin.tradoc.army.mil/WEG***\n",
    " \n",
    " ***TC 7-100.4 Hybrid Threat Force Structure Organization Guide (2015)***"
   ]
  },
  {
   "cell_type": "code",
   "execution_count": 16,
   "id": "f19f4a70",
   "metadata": {},
   "outputs": [],
   "source": [
    "'''\n",
    "Fixed Wing : B52, F16, E3\n",
    "Rotary Wing : UH60, CH47, AH64\n",
    "UAV : Shadow, predator\n",
    "'''\n",
    "\n",
    "aircraft_sub_dict = {'Military Fixed-wing' : ['wings', 'elevators', 'rudder', 'tail', 'cockpit', 'multi engine', 'single engine', 'weapons', 'external fuel tank', 'grey', 'brown', 'green', 'black', 'blue', 'fuselage'],\n",
    "                     'Military Helicopter' : ['main rotor', 'tail rotor', 'rudder', 'tail',  'cockpit', 'weapons', 'external fuel tank', 'grey', 'brown', 'green', 'black', 'skids', 'wheels', 'fuselage'],\n",
    "                     'UAV' : ['trailer', 'small', 'wings', 'tail', 'rudder']}"
   ]
  },
  {
   "cell_type": "code",
   "execution_count": 17,
   "id": "0a9f7dba",
   "metadata": {},
   "outputs": [],
   "source": [
    "'''\n",
    "Short Range Anti-Air : Roland-2 French SHORAD, HQ-7 (FM-80) Chinese SHORAD, CSA-41 (FM-80) Iranian SHORAD\n",
    "Point Defense : LD 2000 (LuDun-2000) Chinese 8x8 Mobile Air Defense Gun Missile System\n",
    "Long Range Missile : HQ-22 Chinese Long-Range Air Defense Missile System, S-300P (SA-10 Grumble) Russian 8x8 Long-Range Surface-to-Air Missile System\n",
    "Radar System : P-40 (Long Track) Russian Mobile 3-D UHF Radar System, 96L6E (Cheese Board) Russian Early-Warning and Acquisition Radar\n",
    "'''\n",
    "\n",
    "ada_sub_dict = {'General Anti-Air' : ['launch tube', 'turret', 'gun', 'missile', 'rectangle', 'cab', 'hood', 'wheels', 'tracks', 'trailer', 'platform', 'green', 'tan', 'radar', 'array', 'antenna'],\n",
    "                'Radar System' : ['wheels', 'cab', 'windows', 'doors', 'radar', 'array', 'antenna', 'square', 'green', 'tan', 'Shipping Container']}"
   ]
  },
  {
   "cell_type": "code",
   "execution_count": 18,
   "id": "f4d81235",
   "metadata": {},
   "outputs": [],
   "source": [
    "'''\n",
    "Towed Cannon : M777, various field howitzers\n",
    "Multiple-Rocket Launchers : BM-21 122mm MLR, and various other MLRS\n",
    "Artillery Command and Reconnaissance : \n",
    "'''\n",
    "\n",
    "artillery_sub_dict = {'Towed Cannon' : ['cannon', 'carriage', 'wheels', 'tan', 'green', 'square'],\n",
    "                      'Multiple-Rocket Launchers' : ['wheels', 'tracks', 'cab', 'launch tube', 'windows', 'doors', 'tan', 'green', 'rectangle']}"
   ]
  },
  {
   "cell_type": "code",
   "execution_count": 19,
   "id": "bdef9613",
   "metadata": {},
   "outputs": [],
   "source": [
    "'''\n",
    "Minelaying systems: GBL-130 Chinese Armored Mine Dispenser, UMZ Russian 6x6 Scatterable Minelaying System\n",
    "Mine-Clearing Systems : IMR-2M CEV, MR-2 CEV \n",
    "Counter Mobility Systems : excavator, scoop loader, backhoe, skid-steer\n",
    "'''\n",
    "\n",
    "engineer_sub_dict = {'Minelaying systems' : ['tracks', 'wheels', 'dispenser', 'canister', 'tan', 'green'],\n",
    "                     'Mine-Clearing Systems' : ['tracks', 'wheels', 'blade', 'rollers', 'crane', 'hydraulic arm', 'tan', 'green'],\n",
    "                     'Gap-Crossing Systems' : ['bridge', 'crane', 'rectangle', 'tracks', 'tan', 'green'],\n",
    "                     'Counter Mobility Systems' : ['Excavator', 'Scraper/Tractor', 'Front Loader', 'Ground Grader', 'Dump Truck', 'hydraulic arm', 'scoop', 'blade', 'frontloader', 'cab', 'doors', 'windshield', 'tan', 'green']}"
   ]
  },
  {
   "cell_type": "code",
   "execution_count": 20,
   "id": "234a3d6a",
   "metadata": {},
   "outputs": [],
   "source": [
    "'''\n",
    "Tank : Abrams, T90\n",
    "Infantry Carrier : Bradley, BMP\n",
    "Support Vehicle : M113, M88, other armored recovery vehicles\n",
    "Self Propelled Artillery : Palidin\n",
    "'''\n",
    "\n",
    "armor_sub_dict = {'Main Battle Tank' : ['tracks', 'turret', 'cannon', 'rectangle', 'tan', 'green', 'hatch'],\n",
    "                  'Infantry Carrier' : ['tracks', 'square', 'tan', 'green', 'hatch'],\n",
    "                  'Support Vehicle' : ['tracks', 'blade', 'tow arm', 'square', 'tan', 'green', 'hatch'],\n",
    "                  'Self Propelled Artillery'  : ['tracks', 'turret', 'cannon', 'square', 'tan', 'green', 'hatch']}"
   ]
  },
  {
   "cell_type": "code",
   "execution_count": 21,
   "id": "cedb5576",
   "metadata": {},
   "outputs": [],
   "source": [
    "'''\n",
    "Infantry Carriers : Stryker, various wheeled APCs\n",
    "Light Tactical Vehicles : HMMWV, JLTV, MAT-V\n",
    "Combat Support Vehicles : M997 Ambulance\n",
    "Mobile Gun Systems : wheeled howitzer, Stryker MGS, various antitank vehicles\n",
    "'''\n",
    "\n",
    "light_sub_dict = {'Infantry Carriers' : ['wheels', 'turret', 'rectangle', 'tan', 'green', 'hatch', 'gun'],\n",
    "                  'Light Tactical Vehicles' : ['wheels', 'turret', 'windows', 'cab', 'doors', 'rectangle', 'hood', 'trunk', 'tan', 'green'],\n",
    "                  'Combat Support Vehicles' : ['wheels', 'windows', 'cab', 'doors', 'rectangle', 'hood', 'trunk', 'tan', 'green'],\n",
    "                  'Mobile Gun Systems' : ['wheels', 'cannon', 'turret', 'rectangle', 'tan', 'green']}"
   ]
  },
  {
   "cell_type": "code",
   "execution_count": 22,
   "id": "941c37f1",
   "metadata": {},
   "outputs": [],
   "source": [
    "'''\n",
    "Supply Vehicle : M977 HEMTT, M1094\n",
    "Recovery Vehicle : Wrecker, various other tow truck type vehicles\n",
    "Tanker : fuel truck, hippo\n",
    "'''\n",
    "\n",
    "logistics_sub_dict = {'Military Supply Vehicle' : ['wheels', 'windows', 'cab', 'doors', 'hood', 'Shipping Container', 'bed', 'trailer', 'tan', 'green'],\n",
    "                      'Military Recovery Vehicle' : ['wheels', 'windows', 'cab', 'doors', 'winch', 'tow arm', 'tan', 'green'],\n",
    "                      'Military Fueler' : ['wheels', 'windows', 'cab', 'doors', 'tank', 'tube', 'hood', 'tan', 'green']}"
   ]
  },
  {
   "cell_type": "code",
   "execution_count": 23,
   "id": "5d5e32d8",
   "metadata": {},
   "outputs": [],
   "source": [
    "other_sub_dict = {'Command and Control Systems' : ['antenna', 'square', 'green', 'tan'],\n",
    "                  'Communications Systems' : ['radar', 'array', 'antenna', 'square', 'green', 'tan'],\n",
    "                  'Electronic Warfare Systems' : ['radar', 'array', 'antenna', 'square', 'green', 'tan']}"
   ]
  },
  {
   "cell_type": "code",
   "execution_count": 24,
   "id": "408b5d87",
   "metadata": {},
   "outputs": [],
   "source": [
    "# Changed dictionary format for ease of tokenizing\n",
    "'''\n",
    "military_embed_dict = {'Military Aircraft' : aircraft_sub_dict,\n",
    "                       'Air Defense' : ada_sub_dict,\n",
    "                       'Armor' :armor_sub_dict,\n",
    "                       'Artillery' : artillery_sub_dict,\n",
    "                       'Military Engineer and CBRN' : engineer_sub_dict,\n",
    "                       'Light Military Vehicles' : light_sub_dict,\n",
    "                       'Military Logistics' : logistics_sub_dict,\n",
    "                       'Other Military' : other_sub_dict}\n",
    "'''\n",
    "\n",
    "military_embed_dict = {**aircraft_sub_dict,\n",
    "                       **ada_sub_dict,\n",
    "                       **armor_sub_dict,\n",
    "                       **artillery_sub_dict,\n",
    "                       **engineer_sub_dict,\n",
    "                       **light_sub_dict,\n",
    "                       **logistics_sub_dict,\n",
    "                       **other_sub_dict}"
   ]
  },
  {
   "cell_type": "markdown",
   "id": "7790340f",
   "metadata": {},
   "source": [
    "## 5. Merge Embedding Dictionaries (if needed)"
   ]
  },
  {
   "cell_type": "code",
   "execution_count": 25,
   "id": "653cf718",
   "metadata": {},
   "outputs": [],
   "source": [
    "main_dict = {**xview_embed_dict , **military_embed_dict}"
   ]
  },
  {
   "cell_type": "markdown",
   "id": "a1eb4901",
   "metadata": {},
   "source": [
    "## 6. Dictionary Analyis"
   ]
  },
  {
   "cell_type": "code",
   "execution_count": 26,
   "id": "98310096",
   "metadata": {},
   "outputs": [],
   "source": [
    "features = [] # create a list to store possible features\n",
    "labels = [] # create a list to store possible lables\n",
    "\n",
    "for entity in main_dict:\n",
    "    features.extend(main_dict[entity]) # ectract the features from the data dictionary\n",
    "    labels.append(entity)\n",
    "\n",
    "feature_dic = {feature : features.count(feature) for feature in set(features)} # create a dictionary that counts the number of occurances of a given feature"
   ]
  },
  {
   "cell_type": "code",
   "execution_count": 27,
   "id": "4c17e3dd",
   "metadata": {},
   "outputs": [
    {
     "name": "stdout",
     "output_type": "stream",
     "text": [
      "There are 85 possible labels\n",
      "There are 115 possible features to describe the labels\n",
      "They are:\n",
      "\n",
      "1.\tFixed-wing Aircraft\n",
      "2.\tSmall Aircraft\n",
      "3.\tCargo Plane\n",
      "4.\tHelicopter\n",
      "5.\tPassenger Vehicle\n",
      "6.\tSmall Car\n",
      "7.\tBus\n",
      "8.\tPickup Truck\n",
      "9.\tUtility Truck\n",
      "10.\tTruck\n",
      "11.\tCargo Truck\n",
      "12.\tTruck w/Box\n",
      "13.\tTruck Tractor\n",
      "14.\tTrailer\n",
      "15.\tTruck w/Flatbed\n",
      "16.\tTruck w/Liquid\n",
      "17.\tCrane Truck\n",
      "18.\tRailway Vehicle\n",
      "19.\tPassenger Car\n",
      "20.\tCargo Car\n",
      "21.\tFlat Car\n",
      "22.\tTank car\n",
      "23.\tLocomotive\n",
      "24.\tMaritime Vessel\n",
      "25.\tMotorboat\n",
      "26.\tSailboat\n",
      "27.\tTugboat\n",
      "28.\tBarge\n",
      "29.\tFishing Vessel\n",
      "30.\tFerry\n",
      "31.\tYacht\n",
      "32.\tContainer Ship\n",
      "33.\tOil Tanker\n",
      "34.\tEngineering Vehicle\n",
      "35.\tTower crane\n",
      "36.\tContainer Crane\n",
      "37.\tReach Stacker\n",
      "38.\tStraddle Carrier\n",
      "39.\tMobile Crane\n",
      "40.\tDump Truck\n",
      "41.\tHaul Truck\n",
      "42.\tScraper/Tractor\n",
      "43.\tFront loader/Bulldozer\n",
      "44.\tExcavator\n",
      "45.\tCement Mixer\n",
      "46.\tGround Grader\n",
      "47.\tHut/Tent\n",
      "48.\tShed\n",
      "49.\tBuilding\n",
      "50.\tAircraft Hangar\n",
      "51.\tDamaged Building\n",
      "52.\tFacility\n",
      "53.\tConstruction Site\n",
      "54.\tVehicle Lot\n",
      "55.\tHelipad\n",
      "56.\tStorage Tank\n",
      "57.\tShipping container lot\n",
      "58.\tShipping Container\n",
      "59.\tPylon\n",
      "60.\tTower\n",
      "61.\tMilitary Fixed-wing\n",
      "62.\tMilitary Helicopter\n",
      "63.\tUAV\n",
      "64.\tGeneral Anti-Air\n",
      "65.\tRadar System\n",
      "66.\tMain Battle Tank\n",
      "67.\tInfantry Carrier\n",
      "68.\tSupport Vehicle\n",
      "69.\tSelf Propelled Artillery\n",
      "70.\tTowed Cannon\n",
      "71.\tMultiple-Rocket Launchers\n",
      "72.\tMinelaying systems\n",
      "73.\tMine-Clearing Systems\n",
      "74.\tGap-Crossing Systems\n",
      "75.\tCounter Mobility Systems\n",
      "76.\tInfantry Carriers\n",
      "77.\tLight Tactical Vehicles\n",
      "78.\tCombat Support Vehicles\n",
      "79.\tMobile Gun Systems\n",
      "80.\tMilitary Supply Vehicle\n",
      "81.\tMilitary Recovery Vehicle\n",
      "82.\tMilitary Fueler\n",
      "83.\tCommand and Control Systems\n",
      "84.\tCommunications Systems\n",
      "85.\tElectronic Warfare Systems\n"
     ]
    }
   ],
   "source": [
    "print('There are ' + str(len(main_dict)) + ' possible labels')\n",
    "print('There are ' + str(len(feature_dic)) + ' possible features to describe the labels')\n",
    "print('They are:\\n')\n",
    "\n",
    "number = 1\n",
    "for label in labels:\n",
    "    print(str(number) + '.\\t' + label)\n",
    "    number +=1"
   ]
  },
  {
   "cell_type": "code",
   "execution_count": 28,
   "id": "0e41fa18",
   "metadata": {},
   "outputs": [],
   "source": [
    "import pandas as pd\n",
    "\n",
    "features_df = pd.DataFrame(list(feature_dic.items()))\n",
    "\n",
    "features_df.rename(columns = {0:'Feature', 1 : 'Count'}, inplace = True)\n",
    "\n",
    "features_df = features_df.sort_values(by='Count', ascending=False)\n",
    "\n",
    "features_df['Frequency'] = features_df['Count']/len(labels)"
   ]
  },
  {
   "cell_type": "code",
   "execution_count": 29,
   "id": "6e08142f",
   "metadata": {},
   "outputs": [
    {
     "name": "stdout",
     "output_type": "stream",
     "text": [
      "                Feature  Count  Frequency\n",
      "26               wheels     38   0.447059\n",
      "40                  cab     30   0.352941\n",
      "103               green     29   0.341176\n",
      "5               windows     28   0.329412\n",
      "97                doors     27   0.317647\n",
      "101           rectangle     24   0.282353\n",
      "7                 white     23   0.270588\n",
      "19                  tan     22   0.258824\n",
      "113                 red     21   0.247059\n",
      "46                 blue     19   0.223529\n",
      "47               yellow     17   0.200000\n",
      "18               orange     13   0.152941\n",
      "94               tracks     12   0.141176\n",
      "16               square     11   0.129412\n",
      "52                water      9   0.105882\n",
      "67                 hood      9   0.105882\n",
      "70                 long      9   0.105882\n",
      "31                 boat      9   0.105882\n",
      "35                  bed      9   0.105882\n",
      "12               engine      8   0.094118\n",
      "53              trailer      8   0.094118\n",
      "2                 crane      8   0.094118\n",
      "79   Shipping Container      7   0.082353\n",
      "48                 flat      7   0.082353\n",
      "99                 wake      7   0.082353\n",
      "34               rudder      6   0.070588\n",
      "83               turret      6   0.070588\n",
      "29                 boom      6   0.070588\n",
      "28                stack      6   0.070588\n",
      "85               bridge      6   0.070588\n",
      "106               small      6   0.070588\n",
      "50                  box      6   0.070588\n",
      "74                 tail      6   0.070588\n",
      "96             fuselage      5   0.058824\n",
      "61              cockpit      5   0.058824\n",
      "33               silver      5   0.058824\n",
      "9                  rail      5   0.058824\n",
      "91                round      5   0.058824\n",
      "6                 blade      5   0.058824\n",
      "42                hatch      5   0.058824\n",
      "20              antenna      5   0.058824\n",
      "0                medium      4   0.047059\n",
      "87                 tube      4   0.047059\n",
      "1                 array      4   0.047059\n",
      "104               radar      4   0.047059\n",
      "105               black      4   0.047059\n",
      "107               wings      4   0.047059\n",
      "111              cannon      4   0.047059\n",
      "8                  grey      4   0.047059\n",
      "56                 wide      4   0.047059\n",
      "39            elevators      3   0.035294\n",
      "84             spreader      3   0.035294\n",
      "59                sharp      3   0.035294\n",
      "68               lights      3   0.035294\n",
      "110               large      3   0.035294\n",
      "112               trunk      3   0.035294\n",
      "69              tow arm      2   0.023529\n",
      "92             concrete      2   0.023529\n",
      "75           outriggers      2   0.023529\n",
      "82              tractor      2   0.023529\n",
      "88        single engine      2   0.023529\n",
      "64              asphalt      2   0.023529\n",
      "108               scoop      2   0.023529\n",
      "66                 tank      2   0.023529\n",
      "114               fixed      2   0.023529\n",
      "49                winch      2   0.023529\n",
      "13           tail rotor      2   0.023529\n",
      "22              weapons      2   0.023529\n",
      "21        hydraulic arm      2   0.023529\n",
      "24       counter weight      2   0.023529\n",
      "14          launch tube      2   0.023529\n",
      "51                  gun      2   0.023529\n",
      "23              carrier      2   0.023529\n",
      "54                fence      2   0.023529\n",
      "11           main rotor      2   0.023529\n",
      "27   external fuel tank      2   0.023529\n",
      "63                 dirt      2   0.023529\n",
      "36                brown      2   0.023529\n",
      "62             cylinder      2   0.023529\n",
      "45         multi engine      2   0.023529\n",
      "25            Excavator      1   0.011765\n",
      "98               circle      1   0.011765\n",
      "100              fender      1   0.011765\n",
      "65             masthead      1   0.011765\n",
      "102                   H      1   0.011765\n",
      "30                 thin      1   0.011765\n",
      "17             canister      1   0.011765\n",
      "15             platform      1   0.011765\n",
      "109       Ground Grader      1   0.011765\n",
      "10           Dump Truck      1   0.011765\n",
      "4            windshield      1   0.011765\n",
      "3       Scraper/Tractor      1   0.011765\n",
      "95                lines      1   0.011765\n",
      "90              missile      1   0.011765\n",
      "93           water tank      1   0.011765\n",
      "78             vehicles      1   0.011765\n",
      "60             haul bed      1   0.011765\n",
      "58                sails      1   0.011765\n",
      "55         Front Loader      1   0.011765\n",
      "71               bucket      1   0.011765\n",
      "72                frame      1   0.011765\n",
      "73            container      1   0.011765\n",
      "76               narrow      1   0.011765\n",
      "77              rollers      1   0.011765\n",
      "80             carriage      1   0.011765\n",
      "32               barrel      1   0.011765\n",
      "81               hopper      1   0.011765\n",
      "44          frontloader      1   0.011765\n",
      "43                  arm      1   0.011765\n",
      "41                 bowl      1   0.011765\n",
      "86                skids      1   0.011765\n",
      "38               gantry      1   0.011765\n",
      "37            dispenser      1   0.011765\n",
      "89              scraper      1   0.011765\n",
      "57                 tall      1   0.011765\n"
     ]
    }
   ],
   "source": [
    "pd.set_option('display.max_rows', None)\n",
    "\n",
    "print(features_df)"
   ]
  },
  {
   "cell_type": "code",
   "execution_count": 30,
   "id": "d4abb264",
   "metadata": {},
   "outputs": [],
   "source": [
    "# consider making colors bright vs subdued instead of listing individual colors?"
   ]
  },
  {
   "cell_type": "markdown",
   "id": "498fcc35",
   "metadata": {},
   "source": [
    "## 7. Create a Dictionary of tokens for Embedding"
   ]
  },
  {
   "cell_type": "code",
   "execution_count": 31,
   "id": "a442dfa5",
   "metadata": {},
   "outputs": [
    {
     "name": "stderr",
     "output_type": "stream",
     "text": [
      "[nltk_data] Downloading package punkt to\n",
      "[nltk_data]     C:\\Users\\jingr\\AppData\\Roaming\\nltk_data...\n",
      "[nltk_data]   Package punkt is already up-to-date!\n"
     ]
    },
    {
     "data": {
      "text/plain": [
       "True"
      ]
     },
     "execution_count": 31,
     "metadata": {},
     "output_type": "execute_result"
    }
   ],
   "source": [
    "# Import needed packages\n",
    "\n",
    "import nltk\n",
    "import re\n",
    "\n",
    "from nltk.tokenize import word_tokenize\n",
    "nltk.download('punkt')"
   ]
  },
  {
   "cell_type": "code",
   "execution_count": 32,
   "id": "d55fa779",
   "metadata": {},
   "outputs": [],
   "source": [
    "# Create a helper function to tokenize the values in the dictionary\n",
    "\n",
    "def tokenize_list(word_list):\n",
    "    token_list = []\n",
    "    for text in word_list:\n",
    "        # Remove spaces\n",
    "        text = re.sub(r'([^\\s])\\s([^\\s])', r'\\1_\\2',text)\n",
    "    \n",
    "        # Remove case\n",
    "        text = text.lower() \n",
    "        \n",
    "        # Store the text in the token list\n",
    "        token_list.append(text)\n",
    "        \n",
    "    return(token_list)"
   ]
  },
  {
   "cell_type": "code",
   "execution_count": 33,
   "id": "7697ba79",
   "metadata": {},
   "outputs": [],
   "source": [
    "# Tokenize the Xview dataset for labeling\n",
    "\n",
    "# Create an empty dictionary to store labels\n",
    "xview_label_dict_embedded = {}\n",
    "\n",
    "\n",
    "# Match embedded text to labels provided with the Xview data\n",
    "for key in xview_label_dict.keys():\n",
    "    xview_label_dict_embedded[key] = set(tokenize_list(xview_embed_dict[xview_label_dict[key]]))"
   ]
  },
  {
   "cell_type": "code",
   "execution_count": 34,
   "id": "9a4f84c2",
   "metadata": {},
   "outputs": [
    {
     "name": "stdout",
     "output_type": "stream",
     "text": [
      "11: set(),\n",
      "12: {'wings', 'cockpit', 'single_engine', 'fuselage', 'elevators', 'blue', 'silver', 'red', 'tail', 'rudder', 'white'},\n",
      "13: {'wings', 'cockpit', 'fuselage', 'elevators', 'multi_engine', 'blue', 'silver', 'red', 'tail', 'rudder', 'white'},\n",
      "15: {'cockpit', 'fuselage', 'main_rotor', 'blue', 'red', 'tail', 'rudder', 'tail_rotor', 'white'},\n",
      "17: set(),\n",
      "18: {'black', 'doors', 'blue', 'trunk', 'wheels', 'hood', 'silver', 'windows', 'cab', 'red', 'small', 'white'},\n",
      "19: {'long', 'doors', 'blue', 'wheels', 'silver', 'red', 'windows', 'cab', 'rectangle', 'white'},\n",
      "20: {'black', 'doors', 'blue', 'wheels', 'hood', 'silver', 'windows', 'cab', 'red', 'bed', 'white'},\n",
      "21: {'doors', 'crane', 'wheels', 'hood', 'windows', 'cab', 'bed', 'winch', 'white', 'box'},\n",
      "23: set(),\n",
      "24: {'long', 'doors', 'tractor', 'wheels', 'container', 'trailer', 'windows', 'cab', 'bed', 'rectangle', 'box'},\n",
      "25: {'doors', 'wheels', 'windows', 'cab', 'bed', 'box'},\n",
      "26: {'doors', 'wheels', 'trailer', 'windows', 'cab', 'bed', 'box', 'shipping_container'},\n",
      "27: set(),\n",
      "28: {'doors', 'wheels', 'trailer', 'windows', 'cab', 'bed', 'flat'},\n",
      "29: {'tank', 'doors', 'wheels', 'trailer', 'tube', 'windows', 'cab', 'bed'},\n",
      "32: {'carrier', 'doors', 'crane', 'blue', 'yellow', 'wheels', 'outriggers', 'red', 'windows', 'cab', 'orange', 'rectangle', 'boom', 'white'},\n",
      "33: set(),\n",
      "34: {'long', 'rail', 'wheels', 'windows', 'rectangle'},\n",
      "35: {'long', 'rail', 'wheels', 'rectangle', 'box', 'shipping_container'},\n",
      "36: {'long', 'rail', 'wheels', 'bed', 'flat', 'rectangle'},\n",
      "37: {'long', 'cylinder', 'rail', 'wheels', 'tube', 'rectangle'},\n",
      "38: {'engine', 'long', 'rail', 'wheels', 'stack', 'rectangle'},\n",
      "40: set(),\n",
      "41: {'engine', 'boat', 'water', 'sharp', 'wake', 'small', 'white'},\n",
      "42: {'sails', 'boat', 'water', 'sharp', 'small', 'white'},\n",
      "44: {'engine', 'boat', 'water', 'yellow', 'blue', 'bridge', 'red', 'wide', 'wake', 'small', 'orange', 'fender', 'stack', 'round', 'white'},\n",
      "45: {'grey', 'medium', 'boat', 'water', 'yellow', 'blue', 'red', 'wide', 'orange', 'rectangle'},\n",
      "47: {'green', 'medium', 'gantry', 'engine', 'boat', 'water', 'yellow', 'blue', 'bridge', 'red', 'wake', 'stack', 'orange', 'masthead', 'round', 'white'},\n",
      "49: {'medium', 'engine', 'boat', 'water', 'yellow', 'bridge', 'windows', 'wide', 'wake', 'stack', 'orange', 'round', 'white'},\n",
      "50: {'medium', 'engine', 'boat', 'water', 'sharp', 'wake', 'white'},\n",
      "51: {'engine', 'large', 'boat', 'water', 'blue', 'bridge', 'red', 'wake', 'stack', 'rectangle', 'white', 'shipping_container'},\n",
      "52: {'green', 'engine', 'large', 'boat', 'water', 'bridge', 'red', 'wake', 'stack', 'flat', 'round', 'white'},\n",
      "53: set(),\n",
      "54: {'thin', 'long', 'crane', 'fixed', 'counter_weight', 'cab', 'narrow', 'boom'},\n",
      "55: {'long', 'crane', 'spreader', 'fixed', 'counter_weight', 'cab', 'wide', 'boom', 'shipping_container'},\n",
      "56: {'doors', 'crane', 'blue', 'spreader', 'wheels', 'red', 'yellow', 'cab', 'windows', 'orange', 'boom', 'white'},\n",
      "57: {'doors', 'blue', 'spreader', 'wheels', 'red', 'yellow', 'cab', 'windows', 'square', 'orange', 'flat', 'white'},\n",
      "59: {'carrier', 'doors', 'crane', 'blue', 'yellow', 'wheels', 'outriggers', 'red', 'windows', 'cab', 'orange', 'rectangle', 'boom', 'white', 'tracks'},\n",
      "60: {'haul_bed', 'large', 'doors', 'blue', 'yellow', 'wheels', 'red', 'windows', 'cab', 'square', 'orange', 'rectangle', 'white'},\n",
      "61: set(),\n",
      "62: {'doors', 'tractor', 'yellow', 'wheels', 'trailer', 'windows', 'bowl', 'cab', 'rectangle', 'scraper'},\n",
      "63: {'green', 'scoop', 'doors', 'yellow', 'wheels', 'windows', 'cab', 'orange'},\n",
      "64: {'doors', 'bucket', 'yellow', 'red', 'windows', 'cab', 'square', 'arm', 'orange', 'boom', 'blade', 'white', 'tracks'},\n",
      "65: {'doors', 'barrel', 'blue', 'yellow', 'wheels', 'hood', 'red', 'windows', 'cab', 'orange', 'water_tank', 'rectangle', 'hopper', 'white'},\n",
      "66: {'doors', 'yellow', 'wheels', 'frame', 'red', 'windows', 'cab', 'orange', 'rectangle', 'blade'},\n",
      "71: set(),\n",
      "72: set(),\n",
      "73: set(),\n",
      "74: set(),\n",
      "76: set(),\n",
      "77: set(),\n",
      "79: set(),\n",
      "83: {'dirt', 'wheels', 'fence', 'vehicles', 'flat', 'asphalt', 'lights', 'concrete', 'tracks'},\n",
      "84: {'green', 'yellow', 'circle', 'red', 'lights', 'flat', 'h'},\n",
      "86: {'cylinder', 'yellow', 'blue', 'tube', 'round', 'white'},\n",
      "89: {'dirt', 'fence', 'asphalt', 'flat', 'lights', 'concrete', 'shipping_container'},\n",
      "91: {'green', 'yellow', 'blue', 'red', 'small', 'rectangle', 'box'},\n",
      "93: {'grey', 'tall', 'lines'},\n",
      "94: set(),}\n"
     ]
    }
   ],
   "source": [
    "# Print the embedded Xview Data\n",
    "print(\"\" + \"\\n\".join(\"{!r}: {!r},\".format(k, v) for k, v in xview_label_dict_embedded.items()) + \"}\")"
   ]
  },
  {
   "cell_type": "markdown",
   "id": "36375ff8",
   "metadata": {},
   "source": [
    "## 8. Vectorize the Tokens to be Embedded in the Model"
   ]
  },
  {
   "cell_type": "code",
   "execution_count": null,
   "id": "61f8ddbe",
   "metadata": {},
   "outputs": [],
   "source": []
  }
 ],
 "metadata": {
  "kernelspec": {
   "display_name": "Python 3",
   "language": "python",
   "name": "python3"
  },
  "language_info": {
   "codemirror_mode": {
    "name": "ipython",
    "version": 3
   },
   "file_extension": ".py",
   "mimetype": "text/x-python",
   "name": "python",
   "nbconvert_exporter": "python",
   "pygments_lexer": "ipython3",
   "version": "3.8.8"
  }
 },
 "nbformat": 4,
 "nbformat_minor": 5
}
