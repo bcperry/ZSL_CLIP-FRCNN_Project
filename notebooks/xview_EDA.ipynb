{
 "cells": [
  {
   "cell_type": "code",
   "execution_count": 3,
   "id": "9172887c",
   "metadata": {
    "scrolled": true
   },
   "outputs": [
    {
     "name": "stdout",
     "output_type": "stream",
     "text": [
      "Requirement already satisfied: pip in c:\\data_drive\\virtual_env\\eda\\lib\\site-packages (21.1.2)\n",
      "Collecting pip\n",
      "  Downloading pip-21.1.3-py3-none-any.whl (1.5 MB)\n",
      "Installing collected packages: pip\n",
      "  Attempting uninstall: pip\n",
      "    Found existing installation: pip 21.1.2\n",
      "    Uninstalling pip-21.1.2:\n",
      "      Successfully uninstalled pip-21.1.2\n",
      "Successfully installed pip-21.1.3\n",
      "Requirement already satisfied: pywin32==225 in c:\\data_drive\\virtual_env\\eda\\lib\\site-packages (225)\n",
      "Requirement already satisfied: ipykernel in c:\\users\\blain\\anaconda3\\lib\\site-packages (5.5.5)\n",
      "Requirement already satisfied: tornado>=4.2 in c:\\users\\blain\\anaconda3\\lib\\site-packages (from ipykernel) (6.1)\n",
      "Requirement already satisfied: jupyter-client in c:\\users\\blain\\anaconda3\\lib\\site-packages (from ipykernel) (6.1.12)\n",
      "Requirement already satisfied: traitlets>=4.1.0 in c:\\users\\blain\\anaconda3\\lib\\site-packages (from ipykernel) (5.0.5)\n",
      "Requirement already satisfied: ipython>=5.0.0 in c:\\users\\blain\\anaconda3\\lib\\site-packages (from ipykernel) (7.22.0)\n",
      "Requirement already satisfied: pickleshare in c:\\users\\blain\\anaconda3\\lib\\site-packages (from ipython>=5.0.0->ipykernel) (0.7.5)\n",
      "Requirement already satisfied: setuptools>=18.5 in c:\\data_drive\\virtual_env\\eda\\lib\\site-packages (from ipython>=5.0.0->ipykernel) (49.2.1)\n",
      "Requirement already satisfied: prompt-toolkit!=3.0.0,!=3.0.1,<3.1.0,>=2.0.0 in c:\\users\\blain\\anaconda3\\lib\\site-packages (from ipython>=5.0.0->ipykernel) (3.0.17)\n",
      "Requirement already satisfied: backcall in c:\\users\\blain\\anaconda3\\lib\\site-packages (from ipython>=5.0.0->ipykernel) (0.2.0)\n",
      "Requirement already satisfied: pygments in c:\\users\\blain\\anaconda3\\lib\\site-packages (from ipython>=5.0.0->ipykernel) (2.8.1)\n",
      "Requirement already satisfied: decorator in c:\\users\\blain\\anaconda3\\lib\\site-packages (from ipython>=5.0.0->ipykernel) (5.0.6)\n",
      "Requirement already satisfied: colorama in c:\\users\\blain\\anaconda3\\lib\\site-packages (from ipython>=5.0.0->ipykernel) (0.4.4)\n",
      "Requirement already satisfied: jedi>=0.16 in c:\\users\\blain\\anaconda3\\lib\\site-packages (from ipython>=5.0.0->ipykernel) (0.17.2)\n",
      "Requirement already satisfied: parso<0.8.0,>=0.7.0 in c:\\users\\blain\\anaconda3\\lib\\site-packages (from jedi>=0.16->ipython>=5.0.0->ipykernel) (0.7.0)\n",
      "Requirement already satisfied: wcwidth in c:\\users\\blain\\anaconda3\\lib\\site-packages (from prompt-toolkit!=3.0.0,!=3.0.1,<3.1.0,>=2.0.0->ipython>=5.0.0->ipykernel) (0.2.5)\n",
      "Requirement already satisfied: ipython-genutils in c:\\users\\blain\\anaconda3\\lib\\site-packages (from traitlets>=4.1.0->ipykernel) (0.2.0)\n",
      "Requirement already satisfied: jupyter-core>=4.6.0 in c:\\users\\blain\\anaconda3\\lib\\site-packages (from jupyter-client->ipykernel) (4.7.1)\n",
      "Requirement already satisfied: python-dateutil>=2.1 in c:\\users\\blain\\anaconda3\\lib\\site-packages (from jupyter-client->ipykernel) (2.8.1)\n",
      "Requirement already satisfied: pyzmq>=13 in c:\\users\\blain\\anaconda3\\lib\\site-packages (from jupyter-client->ipykernel) (20.0.0)\n",
      "Requirement already satisfied: pywin32>=1.0 in c:\\data_drive\\virtual_env\\eda\\lib\\site-packages (from jupyter-core>=4.6.0->jupyter-client->ipykernel) (225)\n",
      "Requirement already satisfied: six>=1.5 in c:\\data_drive\\virtual_env\\eda\\lib\\site-packages (from python-dateutil>=2.1->jupyter-client->ipykernel) (1.15.0)\n",
      "Installed kernelspec EDA in C:\\Users\\blain\\AppData\\Roaming\\jupyter\\kernels\\eda\n"
     ]
    },
    {
     "name": "stderr",
     "output_type": "stream",
     "text": [
      "WARNING: Ignoring invalid distribution -pencv-python (c:\\data_drive\\virtual_env\\eda\\lib\\site-packages)\n",
      "WARNING: Ignoring invalid distribution -pencv-python (c:\\data_drive\\virtual_env\\eda\\lib\\site-packages)\n",
      "WARNING: Ignoring invalid distribution -pencv-python (c:\\data_drive\\virtual_env\\eda\\lib\\site-packages)\n",
      "    WARNING: Ignoring invalid distribution -pencv-python (c:\\data_drive\\virtual_env\\eda\\lib\\site-packages)\n",
      "WARNING: Ignoring invalid distribution -pencv-python (c:\\data_drive\\virtual_env\\eda\\lib\\site-packages)\n",
      "WARNING: Ignoring invalid distribution -pencv-python (c:\\data_drive\\virtual_env\\eda\\lib\\site-packages)\n",
      "WARNING: Ignoring invalid distribution -pencv-python (c:\\data_drive\\virtual_env\\eda\\lib\\site-packages)\n",
      "WARNING: Ignoring invalid distribution -pencv-python (c:\\data_drive\\virtual_env\\eda\\lib\\site-packages)\n",
      "WARNING: Ignoring invalid distribution -pencv-python (c:\\data_drive\\virtual_env\\eda\\lib\\site-packages)\n",
      "WARNING: Ignoring invalid distribution -pencv-python (c:\\data_drive\\virtual_env\\eda\\lib\\site-packages)\n",
      "WARNING: Ignoring invalid distribution -pencv-python (c:\\data_drive\\virtual_env\\eda\\lib\\site-packages)\n",
      "WARNING: Ignoring invalid distribution -pencv-python (c:\\data_drive\\virtual_env\\eda\\lib\\site-packages)\n",
      "WARNING: Ignoring invalid distribution -pencv-python (c:\\data_drive\\virtual_env\\eda\\lib\\site-packages)\n",
      "WARNING: Ignoring invalid distribution -pencv-python (c:\\data_drive\\virtual_env\\eda\\lib\\site-packages)\n",
      "WARNING: Ignoring invalid distribution -pencv-python (c:\\data_drive\\virtual_env\\eda\\lib\\site-packages)\n",
      "WARNING: Ignoring invalid distribution -pencv-python (c:\\data_drive\\virtual_env\\eda\\lib\\site-packages)\n",
      "WARNING: Ignoring invalid distribution -pencv-python (c:\\data_drive\\virtual_env\\eda\\lib\\site-packages)\n",
      "WARNING: Ignoring invalid distribution -pencv-python (c:\\data_drive\\virtual_env\\eda\\lib\\site-packages)\n"
     ]
    }
   ],
   "source": [
    "ENV_NAME = 'EDA'\n",
    "ENV_DIR = r'C:\\Data_drive\\\\Virtual_Env'\n",
    "\n",
    "change_dir = 'cd ' + ENV_DIR\n",
    "\n",
    "#create the virtual environment\n",
    "create = 'python -m venv --system-site-packages ' + ENV_NAME\n",
    "\n",
    "#activate the virtual environment\n",
    "activate = '.\\\\' + ENV_NAME + r'\\Scripts\\activate'\n",
    "\n",
    "#install to properly sync with Jupyter\n",
    "upgrade = 'python -m pip install --upgrade pip'\n",
    "upgrade2 = 'pip install --upgrade pywin32==225'\n",
    "\n",
    "#sync with jupyter\n",
    "install = 'pip install ipykernel'\n",
    "install2 = 'python -m ipykernel install --user --name=' + ENV_NAME\n",
    "\n",
    "\n",
    "!{change_dir} && {create} && {activate} && {upgrade} && {upgrade2} && {install} &&{install2}"
   ]
  },
  {
   "cell_type": "markdown",
   "id": "57fcc06b",
   "metadata": {},
   "source": [
    "# CHANGE THE KERNEL"
   ]
  },
  {
   "cell_type": "markdown",
   "id": "3527cfe9",
   "metadata": {},
   "source": [
    "# Install the necessary packages"
   ]
  },
  {
   "cell_type": "code",
   "execution_count": 1,
   "id": "6c808bc4",
   "metadata": {},
   "outputs": [
    {
     "name": "stdout",
     "output_type": "stream",
     "text": [
      "Package                            Version\n",
      "---------------------------------- -------------------\n",
      "absl-py                            0.13.0\n",
      "alabaster                          0.7.12\n",
      "anaconda-client                    1.7.2\n",
      "anaconda-navigator                 2.0.3\n",
      "anaconda-project                   0.9.1\n",
      "anyio                              2.2.0\n",
      "apache-beam                        2.30.0\n",
      "appdirs                            1.4.4\n",
      "argh                               0.26.2\n",
      "argon2-cffi                        20.1.0\n",
      "asn1crypto                         1.4.0\n",
      "astroid                            2.5\n",
      "astropy                            4.2.1\n",
      "astunparse                         1.6.3\n",
      "async-generator                    1.10\n",
      "atomicwrites                       1.4.0\n",
      "attrs                              20.3.0\n",
      "autopep8                           1.5.6\n",
      "avro-python3                       1.10.2\n",
      "Babel                              2.9.0\n",
      "backcall                           0.2.0\n",
      "backports.functools-lru-cache      1.6.4\n",
      "backports.shutil-get-terminal-size 1.0.0\n",
      "backports.tempfile                 1.0\n",
      "backports.weakref                  1.0.post1\n",
      "bcrypt                             3.2.0\n",
      "beautifulsoup4                     4.9.3\n",
      "bitarray                           1.9.2\n",
      "bkcharts                           0.2\n",
      "black                              19.10b0\n",
      "bleach                             3.3.0\n",
      "bokeh                              2.3.2\n",
      "boto                               2.49.0\n",
      "Bottleneck                         1.3.2\n",
      "brotlipy                           0.7.0\n",
      "cachetools                         4.2.2\n",
      "certifi                            2020.12.5\n",
      "cffi                               1.14.5\n",
      "chardet                            4.0.0\n",
      "click                              7.1.2\n",
      "click-plugins                      1.1.1\n",
      "cligj                              0.7.2\n",
      "cloudpickle                        1.6.0\n",
      "clyent                             1.2.2\n",
      "colorama                           0.4.4\n",
      "comtypes                           1.1.9\n",
      "conda                              4.10.1\n",
      "conda-build                        3.21.4\n",
      "conda-content-trust                0+unknown\n",
      "conda-package-handling             1.7.3\n",
      "conda-repo-cli                     1.0.4\n",
      "conda-token                        0.3.0\n",
      "conda-verify                       3.4.2\n",
      "contextlib2                        0.6.0.post1\n",
      "crcmod                             1.7\n",
      "cryptography                       3.4.7"
     ]
    },
    {
     "name": "stderr",
     "output_type": "stream",
     "text": [
      "WARNING: Ignoring invalid distribution -pencv-python (c:\\data_drive\\virtual_env\\eda\\lib\\site-packages)\n",
      "WARNING: Ignoring invalid distribution -pencv-python (c:\\data_drive\\virtual_env\\eda\\lib\\site-packages)\n",
      "WARNING: Ignoring invalid distribution -pencv-python (c:\\data_drive\\virtual_env\\eda\\lib\\site-packages)\n"
     ]
    },
    {
     "name": "stdout",
     "output_type": "stream",
     "text": [
      "\n",
      "cycler                             0.10.0\n",
      "Cython                             0.29.23\n",
      "cytoolz                            0.11.0\n",
      "dask                               2021.4.0\n",
      "decorator                          5.0.6\n",
      "defusedxml                         0.7.1\n",
      "diff-match-patch                   20200713\n",
      "dill                               0.3.1.1\n",
      "distributed                        2021.4.0\n",
      "docopt                             0.6.2\n",
      "docutils                           0.17\n",
      "entrypoints                        0.3\n",
      "et-xmlfile                         1.0.1\n",
      "fastavro                           1.4.1\n",
      "fastcache                          1.1.0\n",
      "filelock                           3.0.12\n",
      "Fiona                              1.8.20\n",
      "flake8                             3.9.0\n",
      "Flask                              1.1.2\n",
      "flatbuffers                        1.12\n",
      "fsspec                             0.9.0\n",
      "future                             0.18.2\n",
      "gast                               0.4.0\n",
      "GDAL                               3.3.0\n",
      "geopandas                          0.9.0\n",
      "gevent                             21.1.2\n",
      "gin-config                         0.4.0\n",
      "glob2                              0.7\n",
      "google-api-python-client           2.9.0\n",
      "google-auth                        1.31.0\n",
      "google-auth-oauthlib               0.4.4\n",
      "google-cloud-bigquery              2.20.0\n",
      "google-pasta                       0.2.0\n",
      "greenlet                           1.0.0\n",
      "grpcio                             1.34.1\n",
      "h5py                               3.1.0\n",
      "hdfs                               2.6.0\n",
      "HeapDict                           1.0.1\n",
      "html5lib                           1.1\n",
      "httplib2                           0.19.1\n",
      "idna                               2.10\n",
      "imagecodecs                        2021.3.31\n",
      "imageio                            2.9.0\n",
      "imagesize                          1.2.0\n",
      "importlib-metadata                 3.10.0\n",
      "iniconfig                          1.1.1\n",
      "intervaltree                       3.1.0\n",
      "ipykernel                          5.5.5\n",
      "ipython                            7.22.0\n",
      "ipython-genutils                   0.2.0\n",
      "ipywidgets                         7.6.3\n",
      "isort                              5.8.0\n",
      "itsdangerous                       1.1.0\n",
      "jdcal                              1.4.1\n",
      "jedi                               0.17.2\n",
      "Jinja2                             2.11.3\n",
      "joblib                             1.0.1\n",
      "Js2Py                              0.71\n",
      "json5                              0.9.5\n",
      "jsonschema                         3.2.0\n",
      "jupyter                            1.0.0\n",
      "jupyter-client                     6.1.12\n",
      "jupyter-console                    6.4.0\n",
      "jupyter-core                       4.7.1\n",
      "jupyter-packaging                  0.7.12\n",
      "jupyter-server                     1.4.1\n",
      "jupyterlab                         3.0.14\n",
      "jupyterlab-pygments                0.1.2\n",
      "jupyterlab-server                  2.4.0\n",
      "jupyterlab-widgets                 1.0.0\n",
      "kaggle                             1.5.12\n",
      "keras-nightly                      2.5.0.dev2021032900\n",
      "Keras-Preprocessing                1.1.2\n",
      "keyring                            22.3.0\n",
      "kiwisolver                         1.3.1\n",
      "lazy-object-proxy                  1.6.0\n",
      "libarchive-c                       2.9\n",
      "llvmlite                           0.36.0\n",
      "locket                             0.2.1\n",
      "lvis                               0.5.3\n",
      "lxml                               4.6.3\n",
      "Markdown                           3.3.4\n",
      "MarkupSafe                         1.1.1\n",
      "matplotlib                         3.3.4\n",
      "mccabe                             0.6.1\n",
      "menuinst                           1.4.16\n",
      "mistune                            0.8.4\n",
      "mkl-fft                            1.3.0\n",
      "mkl-random                         1.2.1\n",
      "mkl-service                        2.3.0\n",
      "mock                               4.0.3\n",
      "more-itertools                     8.7.0\n",
      "mpmath                             1.2.1\n",
      "msgpack                            1.0.2\n",
      "multipledispatch                   0.6.0\n",
      "munch                              2.5.0\n",
      "mypy-extensions                    0.4.3\n",
      "navigator-updater                  0.2.1\n",
      "nbclassic                          0.2.6\n",
      "nbclient                           0.5.3\n",
      "nbconvert                          6.0.7\n",
      "nbformat                           5.1.3\n",
      "nest-asyncio                       1.5.1\n",
      "networkx                           2.5\n",
      "nltk                               3.6.1\n",
      "nose                               1.3.7\n",
      "notebook                           6.3.0\n",
      "numba                              0.53.1\n",
      "numexpr                            2.7.3\n",
      "numpy                              1.19.5\n",
      "numpydoc                           1.1.0\n",
      "oauth2client                       4.1.3\n",
      "oauthlib                           3.1.1\n",
      "object-detection                   0.1\n",
      "olefile                            0.46\n",
      "opencv-python-headless             4.5.2.54\n",
      "openpyxl                           3.0.7\n",
      "opt-einsum                         3.3.0\n",
      "packaging                          20.9\n",
      "pandas                             1.2.4\n",
      "pandocfilters                      1.4.3\n",
      "paramiko                           2.7.2\n",
      "parso                              0.7.0\n",
      "partd                              1.2.0\n",
      "path                               15.1.2\n",
      "pathlib2                           2.3.5\n",
      "pathspec                           0.7.0\n",
      "patsy                              0.5.1\n",
      "pep8                               1.7.1\n",
      "pexpect                            4.8.0\n",
      "pickleshare                        0.7.5\n",
      "Pillow                             8.2.0\n",
      "pip                                21.1.3\n",
      "pipwin                             0.5.1\n",
      "pkginfo                            1.7.0\n",
      "pluggy                             0.13.1\n",
      "ply                                3.11\n",
      "prometheus-client                  0.10.1\n",
      "prompt-toolkit                     3.0.17\n",
      "protobuf                           3.17.3\n",
      "psutil                             5.8.0\n",
      "ptyprocess                         0.7.0\n",
      "py                                 1.10.0\n",
      "py-cpuinfo                         8.0.0\n",
      "pyarrow                            3.0.0\n",
      "pyasn1                             0.4.8\n",
      "pyasn1-modules                     0.2.8\n",
      "pycocotools                        2.0.2\n",
      "pycodestyle                        2.6.0\n",
      "pycosat                            0.6.3\n",
      "pycparser                          2.20\n",
      "pycurl                             7.43.0.6\n",
      "pydocstyle                         6.0.0\n",
      "pydot                              1.4.2\n",
      "pyerfa                             1.7.3\n",
      "pyflakes                           2.2.0\n",
      "pygeos                             0.10\n",
      "Pygments                           2.8.1\n",
      "pyjsparser                         2.7.1\n",
      "pylint                             2.7.4\n",
      "pyls-black                         0.4.6\n",
      "pyls-spyder                        0.3.2\n",
      "pymongo                            3.11.4\n",
      "PyNaCl                             1.4.0\n",
      "pyodbc                             4.0.0-unsupported\n",
      "pyOpenSSL                          20.0.1\n",
      "pyparsing                          2.4.7\n",
      "PyPrind                            2.11.3\n",
      "pyproj                             3.1.0\n",
      "pyreadline                         2.1\n",
      "pyrsistent                         0.17.3\n",
      "pySmartDL                          1.3.4\n",
      "PySocks                            1.7.1\n",
      "pytest                             6.2.3\n",
      "python-dateutil                    2.8.1\n",
      "python-jsonrpc-server              0.4.0\n",
      "python-language-server             0.36.2\n",
      "pytz                               2021.1\n",
      "PyWavelets                         1.1.1\n",
      "pywin32                            225\n",
      "pywin32-ctypes                     0.2.0\n",
      "pywinpty                           0.5.7\n",
      "PyYAML                             5.4.1\n",
      "pyzmq                              20.0.0\n",
      "QDarkStyle                         2.8.1\n",
      "QtAwesome                          1.0.2\n",
      "qtconsole                          5.0.3\n",
      "QtPy                               1.9.0\n",
      "regex                              2021.4.4\n",
      "requests                           2.25.1\n",
      "requests-oauthlib                  1.3.0\n",
      "rope                               0.18.0\n",
      "rsa                                4.7.2\n",
      "ruamel-yaml-conda                  0.15.100\n",
      "sacrebleu                          1.5.1\n",
      "scikit-image                       0.18.1\n",
      "scikit-learn                       0.24.1\n",
      "scipy                              1.6.2\n",
      "seaborn                            0.11.1\n",
      "Send2Trash                         1.5.0\n",
      "sentencepiece                      0.1.95\n",
      "seqeval                            1.2.2\n",
      "setuptools                         49.2.1\n",
      "Shapely                            1.7.1\n",
      "simplegeneric                      0.8.1\n",
      "singledispatch                     0.0.0\n",
      "sip                                4.19.13\n",
      "six                                1.15.0\n",
      "sniffio                            1.2.0\n",
      "snowballstemmer                    2.1.0\n",
      "sortedcollections                  2.1.0\n",
      "sortedcontainers                   2.3.0\n",
      "soupsieve                          2.2.1\n",
      "Sphinx                             4.0.1\n",
      "sphinxcontrib-applehelp            1.0.2\n",
      "sphinxcontrib-devhelp              1.0.2\n",
      "sphinxcontrib-htmlhelp             1.0.3\n",
      "sphinxcontrib-jsmath               1.0.1\n",
      "sphinxcontrib-qthelp               1.0.3\n",
      "sphinxcontrib-serializinghtml      1.1.4\n",
      "sphinxcontrib-websupport           1.2.4\n",
      "spyder                             4.2.5\n",
      "spyder-kernels                     1.10.2\n",
      "SQLAlchemy                         1.4.7\n",
      "statsmodels                        0.12.2\n",
      "sympy                              1.8\n",
      "tables                             3.6.1\n",
      "tblib                              1.7.0\n",
      "tensorboard                        2.5.0\n",
      "tensorboard-data-server            0.6.1\n",
      "tensorboard-plugin-wit             1.8.0\n",
      "tensorflow                         2.5.0\n",
      "tensorflow-addons                  0.13.0\n",
      "tensorflow-datasets                4.3.0\n",
      "tensorflow-estimator               2.5.0\n",
      "tensorflow-hub                     0.12.0\n",
      "tensorflow-model-optimization      0.5.1.dev0\n",
      "termcolor                          1.1.0\n",
      "terminado                          0.9.4\n",
      "testpath                           0.4.4\n",
      "textdistance                       4.2.1\n",
      "tf-models-official                 2.5.0\n",
      "tf-slim                            1.1.0\n",
      "threadpoolctl                      2.1.0\n",
      "three-merge                        0.1.1\n",
      "tifffile                           2021.4.8\n",
      "toml                               0.10.2\n",
      "toolz                              0.11.1\n",
      "tornado                            6.1\n",
      "tqdm                               4.59.0\n",
      "traitlets                          5.0.5\n",
      "typed-ast                          1.4.2\n",
      "typing-extensions                  3.7.4.3\n",
      "tzlocal                            2.1\n",
      "ujson                              4.0.2\n",
      "unicodecsv                         0.14.1\n",
      "urllib3                            1.26.4\n",
      "watchdog                           1.0.2\n",
      "wcwidth                            0.2.5\n",
      "webencodings                       0.5.1\n",
      "Werkzeug                           1.0.1\n",
      "wheel                              0.36.2\n",
      "widgetsnbextension                 3.5.1\n",
      "win-inet-pton                      1.1.0\n",
      "win-unicode-console                0.5\n",
      "wincertstore                       0.2\n",
      "wrapt                              1.12.1\n",
      "xlrd                               2.0.1\n",
      "XlsxWriter                         1.3.8\n",
      "xlwings                            0.23.0\n",
      "xlwt                               1.3.0\n",
      "xmltodict                          0.12.0\n",
      "yapf                               0.31.0\n",
      "zict                               2.0.0\n",
      "zipp                               3.4.1\n",
      "zope.event                         4.5.0\n",
      "zope.interface                     5.3.0\n"
     ]
    }
   ],
   "source": [
    "import sys\n",
    "!{sys.executable} -m pip list"
   ]
  },
  {
   "cell_type": "code",
   "execution_count": 11,
   "id": "9b2c9bdd",
   "metadata": {
    "collapsed": true
   },
   "outputs": [
    {
     "name": "stdout",
     "output_type": "stream",
     "text": [
      "Package                            Version\n",
      "---------------------------------- -------------------\n",
      "alabaster                          0.7.12\n",
      "anaconda-client                    1.7.2\n",
      "anaconda-navigator                 2.0.3\n",
      "anaconda-project                   0.9.1\n",
      "anyio                              2.2.0\n",
      "appdirs                            1.4.4\n",
      "argh                               0.26.2\n",
      "argon2-cffi                        20.1.0\n",
      "asn1crypto                         1.4.0\n",
      "astroid                            2.5\n",
      "astropy                            4.2.1\n",
      "async-generator                    1.10\n",
      "atomicwrites                       1.4.0\n",
      "attrs                              20.3.0\n",
      "autopep8                           1.5.6\n",
      "Babel                              2.9.0\n",
      "backcall                           0.2.0\n",
      "backports.functools-lru-cache      1.6.4\n",
      "backports.shutil-get-terminal-size 1.0.0\n",
      "backports.tempfile                 1.0\n",
      "backports.weakref                  1.0.post1\n",
      "bcrypt                             3.2.0\n",
      "beautifulsoup4                     4.9.3\n",
      "bitarray                           1.9.2\n",
      "bkcharts                           0.2\n",
      "black                              19.10b0\n",
      "bleach                             3.3.0\n",
      "bokeh                              2.3.2\n",
      "boto                               2.49.0\n",
      "Bottleneck                         1.3.2\n",
      "brotlipy                           0.7.0\n",
      "certifi                            2020.12.5\n",
      "cffi                               1.14.5\n",
      "chardet                            4.0.0\n",
      "click                              7.1.2\n",
      "cloudpickle                        1.6.0\n",
      "clyent                             1.2.2\n",
      "colorama                           0.4.4\n",
      "comtypes                           1.1.9\n",
      "conda                              4.10.1\n",
      "conda-build                        3.21.4\n",
      "conda-content-trust                0+unknown\n",
      "conda-package-handling             1.7.3\n",
      "conda-repo-cli                     1.0.4\n",
      "conda-token                        0.3.0\n",
      "conda-verify                       3.4.2\n",
      "contextlib2                        0.6.0.post1\n",
      "cryptography                       3.4.7\n",
      "cycler                             0.10.0\n",
      "Cython                             0.29.23\n",
      "cytoolz                            0.11.0\n",
      "dask                               2021.4.0\n",
      "decorator                          5.0.6\n",
      "defusedxml                         0.7.1\n",
      "diff-match-patch                   20200713\n",
      "distributed                        2021.4.0\n",
      "docutils                           0.17\n",
      "entrypoints                        0.3\n",
      "et-xmlfile                         1.0.1\n",
      "fastcache                          1.1.0\n",
      "filelock                           3.0.12\n",
      "flake8                             3.9.0\n",
      "Flask                              1.1.2\n",
      "fsspec                             0.9.0\n",
      "future                             0.18.2\n",
      "gevent                             21.1.2\n",
      "glob2                              0.7\n",
      "greenlet                           1.0.0\n",
      "h5py                               2.10.0\n",
      "HeapDict                           1.0.1\n",
      "html5lib                           1.1\n",
      "idna                               2.10\n",
      "imagecodecs                        2021.3.31\n",
      "imageio                            2.9.0\n",
      "imagesize                          1.2.0\n",
      "importlib-metadata                 3.10.0\n",
      "iniconfig                          1.1.1\n",
      "intervaltree                       3.1.0\n",
      "ipykernel                          5.3.4\n",
      "ipython                            7.22.0\n",
      "ipython-genutils                   0.2.0\n",
      "ipywidgets                         7.6.3\n",
      "isort                              5.8.0\n",
      "itsdangerous                       1.1.0\n",
      "jdcal                              1.4.1\n",
      "jedi                               0.17.2\n",
      "Jinja2                             2.11.3\n",
      "joblib                             1.0.1\n",
      "json5                              0.9.5\n",
      "jsonschema                         3.2.0\n",
      "jupyter                            1.0.0\n",
      "jupyter-client                     6.1.12\n",
      "jupyter-console                    6.4.0\n",
      "jupyter-core                       4.7.1\n",
      "jupyter-packaging                  0.7.12\n",
      "jupyter-server                     1.4.1\n",
      "jupyterlab                         3.0.14\n",
      "jupyterlab-pygments                0.1.2\n",
      "jupyterlab-server                  2.4.0\n",
      "jupyterlab-widgets                 1.0.0\n",
      "keyring                            22.3.0\n",
      "kiwisolver                         1.3.1\n",
      "lazy-object-proxy                  1.6.0\n",
      "libarchive-c                       2.9\n",
      "llvmlite                           0.36.0\n",
      "locket                             0.2.1\n",
      "lxml                               4.6.3\n",
      "MarkupSafe                         1.1.1\n",
      "matplotlib                         3.3.4\n",
      "mccabe                             0.6.1\n",
      "menuinst                           1.4.16\n",
      "mistune                            0.8.4\n",
      "mkl-fft                            1.3.0\n",
      "mkl-random                         1.2.1\n",
      "mkl-service                        2.3.0\n",
      "mock                               4.0.3\n",
      "more-itertools                     8.7.0\n",
      "mpmath                             1.2.1\n",
      "msgpack                            1.0.2\n",
      "multipledispatch                   0.6.0\n",
      "mypy-extensions                    0.4.3\n",
      "navigator-updater                  0.2.1\n",
      "nbclassic                          0.2.6\n",
      "nbclient                           0.5.3\n",
      "nbconvert                          6.0.7\n",
      "nbformat                           5.1.3\n",
      "nest-asyncio                       1.5.1\n",
      "networkx                           2.5\n",
      "nltk                               3.6.1\n",
      "nose                               1.3.7\n",
      "notebook                           6.3.0\n",
      "numba                              0.53.1\n",
      "numexpr                            2.7.3\n",
      "numpy                              1.20.1\n",
      "numpydoc                           1.1.0\n",
      "olefile                            0.46\n",
      "openpyxl                           3.0.7\n",
      "packaging                          20.9\n",
      "pandas                             1.2.4\n",
      "pandocfilters                      1.4.3\n",
      "paramiko                           2.7.2\n",
      "parso                              0.7.0\n",
      "partd                              1.2.0\n",
      "path                               15.1.2\n",
      "pathlib2                           2.3.5\n",
      "pathspec                           0.7.0\n",
      "patsy                              0.5.1\n",
      "pep8                               1.7.1\n",
      "pexpect                            4.8.0\n",
      "pickleshare                        0.7.5\n",
      "Pillow                             8.2.0\n",
      "pip                                21.0.1\n",
      "pkginfo                            1.7.0\n",
      "pluggy                             0.13.1\n",
      "ply                                3.11\n",
      "prometheus-client                  0.10.1\n",
      "prompt-toolkit                     3.0.17\n",
      "psutil                             5.8.0\n",
      "ptyprocess                         0.7.0\n",
      "py                                 1.10.0\n",
      "pycodestyle                        2.6.0\n",
      "pycosat                            0.6.3\n",
      "pycparser                          2.20\n",
      "pycurl                             7.43.0.6\n",
      "pydocstyle                         6.0.0\n",
      "pyerfa                             1.7.3\n",
      "pyflakes                           2.2.0\n",
      "Pygments                           2.8.1\n",
      "pylint                             2.7.4\n",
      "pyls-black                         0.4.6\n",
      "pyls-spyder                        0.3.2\n",
      "PyNaCl                             1.4.0\n",
      "pyodbc                             4.0.0-unsupported\n",
      "pyOpenSSL                          20.0.1\n",
      "pyparsing                          2.4.7\n",
      "pyreadline                         2.1\n",
      "pyrsistent                         0.17.3\n",
      "PySocks                            1.7.1\n",
      "pytest                             6.2.3\n",
      "python-dateutil                    2.8.1\n",
      "python-jsonrpc-server              0.4.0\n",
      "python-language-server             0.36.2\n",
      "pytz                               2021.1\n",
      "PyWavelets                         1.1.1\n",
      "pywin32                            225\n",
      "pywin32-ctypes                     0.2.0\n",
      "pywinpty                           0.5.7\n",
      "PyYAML                             5.4.1\n",
      "pyzmq                              20.0.0\n",
      "QDarkStyle                         2.8.1\n",
      "QtAwesome                          1.0.2\n",
      "qtconsole                          5.0.3\n",
      "QtPy                               1.9.0\n",
      "regex                              2021.4.4\n",
      "requests                           2.25.1\n",
      "rope                               0.18.0\n",
      "Rtree                              0.9.7\n",
      "ruamel-yaml-conda                  0.15.100\n",
      "scikit-image                       0.18.1\n",
      "scikit-learn                       0.24.1\n",
      "scipy                              1.6.2\n",
      "seaborn                            0.11.1\n",
      "Send2Trash                         1.5.0\n",
      "setuptools                         52.0.0.post20210125\n",
      "simplegeneric                      0.8.1\n",
      "singledispatch                     0.0.0\n",
      "sip                                4.19.13\n",
      "six                                1.15.0\n",
      "sniffio                            1.2.0\n",
      "snowballstemmer                    2.1.0\n",
      "sortedcollections                  2.1.0\n",
      "sortedcontainers                   2.3.0\n",
      "soupsieve                          2.2.1\n",
      "Sphinx                             4.0.1\n",
      "sphinxcontrib-applehelp            1.0.2\n",
      "sphinxcontrib-devhelp              1.0.2\n",
      "sphinxcontrib-htmlhelp             1.0.3\n",
      "sphinxcontrib-jsmath               1.0.1\n",
      "sphinxcontrib-qthelp               1.0.3\n",
      "sphinxcontrib-serializinghtml      1.1.4\n",
      "sphinxcontrib-websupport           1.2.4\n",
      "spyder                             4.2.5\n",
      "spyder-kernels                     1.10.2\n",
      "SQLAlchemy                         1.4.7\n",
      "statsmodels                        0.12.2\n",
      "sympy                              1.8\n",
      "tables                             3.6.1\n",
      "tblib                              1.7.0\n",
      "terminado                          0.9.4\n",
      "testpath                           0.4.4\n",
      "textdistance                       4.2.1\n",
      "threadpoolctl                      2.1.0\n",
      "three-merge                        0.1.1\n",
      "tifffile                           2021.4.8\n",
      "toml                               0.10.2\n",
      "toolz                              0.11.1\n",
      "tornado                            6.1\n",
      "tqdm                               4.59.0\n",
      "traitlets                          5.0.5\n",
      "typed-ast                          1.4.2\n",
      "typing-extensions                  3.7.4.3\n",
      "ujson                              4.0.2\n",
      "unicodecsv                         0.14.1\n",
      "urllib3                            1.26.4\n",
      "watchdog                           1.0.2\n",
      "wcwidth                            0.2.5\n",
      "webencodings                       0.5.1\n",
      "Werkzeug                           1.0.1\n",
      "wheel                              0.36.2\n",
      "widgetsnbextension                 3.5.1\n",
      "win-inet-pton                      1.1.0\n",
      "win-unicode-console                0.5\n",
      "wincertstore                       0.2\n",
      "wrapt                              1.12.1\n",
      "xlrd                               2.0.1\n",
      "XlsxWriter                         1.3.8\n",
      "xlwings                            0.23.0\n",
      "xlwt                               1.3.0\n",
      "xmltodict                          0.12.0\n",
      "yapf                               0.31.0\n",
      "zict                               2.0.0\n",
      "zipp                               3.4.1\n",
      "zope.event                         4.5.0\n",
      "zope.interface                     5.3.0\n"
     ]
    }
   ],
   "source": [
    "#this is the base environment\n",
    "!pip list"
   ]
  },
  {
   "cell_type": "code",
   "execution_count": 2,
   "id": "48613abe",
   "metadata": {},
   "outputs": [
    {
     "name": "stdout",
     "output_type": "stream",
     "text": [
      "Requirement already satisfied: wheel in c:\\users\\blain\\anaconda3\\lib\\site-packages (0.36.2)Note: you may need to restart the kernel to use updated packages.\n"
     ]
    },
    {
     "name": "stderr",
     "output_type": "stream",
     "text": [
      "WARNING: Ignoring invalid distribution -pencv-python (c:\\data_drive\\virtual_env\\eda\\lib\\site-packages)\n",
      "WARNING: Ignoring invalid distribution -pencv-python (c:\\data_drive\\virtual_env\\eda\\lib\\site-packages)\n",
      "WARNING: Ignoring invalid distribution -pencv-python (c:\\data_drive\\virtual_env\\eda\\lib\\site-packages)\n",
      "WARNING: Ignoring invalid distribution -pencv-python (c:\\data_drive\\virtual_env\\eda\\lib\\site-packages)\n",
      "WARNING: Ignoring invalid distribution -pencv-python (c:\\data_drive\\virtual_env\\eda\\lib\\site-packages)\n"
     ]
    },
    {
     "name": "stdout",
     "output_type": "stream",
     "text": [
      "\n",
      "Requirement already satisfied: pipwin in c:\\data_drive\\virtual_env\\eda\\lib\\site-packages (0.5.1)\n",
      "Requirement already satisfied: docopt in c:\\data_drive\\virtual_env\\eda\\lib\\site-packages (from pipwin) (0.6.2)\n",
      "Requirement already satisfied: pyprind in c:\\data_drive\\virtual_env\\eda\\lib\\site-packages (from pipwin) (2.11.3)\n",
      "Requirement already satisfied: js2py in c:\\data_drive\\virtual_env\\eda\\lib\\site-packages (from pipwin) (0.71)\n",
      "Requirement already satisfied: packaging in c:\\users\\blain\\anaconda3\\lib\\site-packages (from pipwin) (20.9)\n",
      "Requirement already satisfied: pySmartDL>=1.3.1 in c:\\data_drive\\virtual_env\\eda\\lib\\site-packages (from pipwin) (1.3.4)\n",
      "Requirement already satisfied: six in c:\\data_drive\\virtual_env\\eda\\lib\\site-packages (from pipwin) (1.15.0)\n",
      "Requirement already satisfied: requests in c:\\users\\blain\\anaconda3\\lib\\site-packages (from pipwin) (2.25.1)\n",
      "Requirement already satisfied: beautifulsoup4>=4.9.0 in c:\\users\\blain\\anaconda3\\lib\\site-packages (from pipwin) (4.9.3)\n",
      "Requirement already satisfied: soupsieve>1.2 in c:\\users\\blain\\anaconda3\\lib\\site-packages (from beautifulsoup4>=4.9.0->pipwin) (2.2.1)\n",
      "Requirement already satisfied: pyjsparser>=2.5.1 in c:\\data_drive\\virtual_env\\eda\\lib\\site-packages (from js2py->pipwin) (2.7.1)\n",
      "Requirement already satisfied: tzlocal>=1.2 in c:\\data_drive\\virtual_env\\eda\\lib\\site-packages (from js2py->pipwin) (2.1)\n",
      "Requirement already satisfied: pytz in c:\\users\\blain\\anaconda3\\lib\\site-packages (from tzlocal>=1.2->js2py->pipwin) (2021.1)\n",
      "Requirement already satisfied: pyparsing>=2.0.2 in c:\\users\\blain\\anaconda3\\lib\\site-packages (from packaging->pipwin) (2.4.7)\n",
      "Requirement already satisfied: idna<3,>=2.5 in c:\\users\\blain\\anaconda3\\lib\\site-packages (from requests->pipwin) (2.10)\n",
      "Requirement already satisfied: certifi>=2017.4.17 in c:\\users\\blain\\anaconda3\\lib\\site-packages (from requests->pipwin) (2020.12.5)\n",
      "Requirement already satisfied: chardet<5,>=3.0.2 in c:\\users\\blain\\anaconda3\\lib\\site-packages (from requests->pipwin) (4.0.0)\n",
      "Requirement already satisfied: urllib3<1.27,>=1.21.1 in c:\\users\\blain\\anaconda3\\lib\\site-packages (from requests->pipwin) (1.26.4)\n",
      "Note: you may need to restart the kernel to use updated packages.\n"
     ]
    },
    {
     "name": "stderr",
     "output_type": "stream",
     "text": [
      "WARNING: Ignoring invalid distribution -pencv-python (c:\\data_drive\\virtual_env\\eda\\lib\\site-packages)\n",
      "WARNING: Ignoring invalid distribution -pencv-python (c:\\data_drive\\virtual_env\\eda\\lib\\site-packages)\n",
      "WARNING: Ignoring invalid distribution -pencv-python (c:\\data_drive\\virtual_env\\eda\\lib\\site-packages)\n",
      "WARNING: Ignoring invalid distribution -pencv-python (c:\\data_drive\\virtual_env\\eda\\lib\\site-packages)\n",
      "WARNING: Ignoring invalid distribution -pencv-python (c:\\data_drive\\virtual_env\\eda\\lib\\site-packages)\n"
     ]
    },
    {
     "name": "stdout",
     "output_type": "stream",
     "text": [
      "Requirement already satisfied: numpy in c:\\users\\blain\\anaconda3\\lib\\site-packages (1.19.5)\n",
      "Note: you may need to restart the kernel to use updated packages.\n"
     ]
    },
    {
     "name": "stderr",
     "output_type": "stream",
     "text": [
      "WARNING: Ignoring invalid distribution -pencv-python (c:\\data_drive\\virtual_env\\eda\\lib\\site-packages)\n",
      "WARNING: Ignoring invalid distribution -pencv-python (c:\\data_drive\\virtual_env\\eda\\lib\\site-packages)\n",
      "WARNING: Ignoring invalid distribution -pencv-python (c:\\data_drive\\virtual_env\\eda\\lib\\site-packages)\n",
      "WARNING: Ignoring invalid distribution -pencv-python (c:\\data_drive\\virtual_env\\eda\\lib\\site-packages)\n",
      "WARNING: Ignoring invalid distribution -pencv-python (c:\\data_drive\\virtual_env\\eda\\lib\\site-packages)\n"
     ]
    },
    {
     "name": "stdout",
     "output_type": "stream",
     "text": [
      "Package `pandas` found in cache\n",
      "Downloading package . . .\n",
      "https://download.lfd.uci.edu/pythonlibs/q4trcu4l/pandas-1.2.4-cp38-cp38-win_amd64.whl\n",
      "pandas-1.2.4-cp38-cp38-win_amd64.whl\n"
     ]
    },
    {
     "name": "stderr",
     "output_type": "stream",
     "text": [
      "Traceback (most recent call last):\n",
      "  File \"C:\\Users\\blain\\anaconda3\\lib\\runpy.py\", line 194, in _run_module_as_main\n",
      "    return _run_code(code, main_globals, None,\n",
      "  File \"C:\\Users\\blain\\anaconda3\\lib\\runpy.py\", line 87, in _run_code\n",
      "    exec(code, run_globals)\n",
      "  File \"C:\\Data_drive\\Virtual_Env\\EDA\\lib\\site-packages\\pipwin\\__main__.py\", line 4, in <module>\n",
      "    main()\n",
      "  File \"C:\\Data_drive\\Virtual_Env\\EDA\\lib\\site-packages\\pipwin\\command.py\", line 103, in main\n",
      "    cache.install(package)\n",
      "  File \"C:\\Data_drive\\Virtual_Env\\EDA\\lib\\site-packages\\pipwin\\pipwin.py\", line 300, in install\n",
      "    wheel_file = self.download(requirement)\n",
      "  File \"C:\\Data_drive\\Virtual_Env\\EDA\\lib\\site-packages\\pipwin\\pipwin.py\", line 294, in download\n",
      "    return self._download(requirement, dest)\n",
      "  File \"C:\\Data_drive\\Virtual_Env\\EDA\\lib\\site-packages\\pipwin\\pipwin.py\", line 290, in _download\n",
      "    obj.start()\n",
      "  File \"C:\\Data_drive\\Virtual_Env\\EDA\\lib\\site-packages\\pySmartDL\\pySmartDL.py\", line 267, in start\n",
      "    urlObj = urllib.request.urlopen(req, timeout=self.timeout, context=self.context)\n",
      "  File \"C:\\Users\\blain\\anaconda3\\lib\\urllib\\request.py\", line 222, in urlopen\n",
      "    return opener.open(url, data, timeout)\n",
      "  File \"C:\\Users\\blain\\anaconda3\\lib\\urllib\\request.py\", line 531, in open\n",
      "    response = meth(req, response)\n",
      "  File \"C:\\Users\\blain\\anaconda3\\lib\\urllib\\request.py\", line 640, in http_response\n",
      "    response = self.parent.error(\n",
      "  File \"C:\\Users\\blain\\anaconda3\\lib\\urllib\\request.py\", line 569, in error\n",
      "    return self._call_chain(*args)\n",
      "  File \"C:\\Users\\blain\\anaconda3\\lib\\urllib\\request.py\", line 502, in _call_chain\n",
      "    result = func(*args)\n",
      "  File \"C:\\Users\\blain\\anaconda3\\lib\\urllib\\request.py\", line 649, in http_error_default\n",
      "    raise HTTPError(req.full_url, code, msg, hdrs, fp)\n",
      "urllib.error.HTTPError: HTTP Error 404: Not Found\n"
     ]
    },
    {
     "name": "stdout",
     "output_type": "stream",
     "text": [
      "Package `shapely` found in cache\n",
      "Downloading package . . .\n",
      "https://download.lfd.uci.edu/pythonlibs/q4trcu4l/Shapely-1.7.1-cp38-cp38-win_amd64.whl\n",
      "Shapely-1.7.1-cp38-cp38-win_amd64.whl\n"
     ]
    },
    {
     "name": "stderr",
     "output_type": "stream",
     "text": [
      "Traceback (most recent call last):\n",
      "  File \"C:\\Users\\blain\\anaconda3\\lib\\runpy.py\", line 194, in _run_module_as_main\n",
      "    return _run_code(code, main_globals, None,\n",
      "  File \"C:\\Users\\blain\\anaconda3\\lib\\runpy.py\", line 87, in _run_code\n",
      "    exec(code, run_globals)\n",
      "  File \"C:\\Data_drive\\Virtual_Env\\EDA\\lib\\site-packages\\pipwin\\__main__.py\", line 4, in <module>\n",
      "    main()\n",
      "  File \"C:\\Data_drive\\Virtual_Env\\EDA\\lib\\site-packages\\pipwin\\command.py\", line 103, in main\n",
      "    cache.install(package)\n",
      "  File \"C:\\Data_drive\\Virtual_Env\\EDA\\lib\\site-packages\\pipwin\\pipwin.py\", line 300, in install\n",
      "    wheel_file = self.download(requirement)\n",
      "  File \"C:\\Data_drive\\Virtual_Env\\EDA\\lib\\site-packages\\pipwin\\pipwin.py\", line 294, in download\n",
      "    return self._download(requirement, dest)\n",
      "  File \"C:\\Data_drive\\Virtual_Env\\EDA\\lib\\site-packages\\pipwin\\pipwin.py\", line 290, in _download\n",
      "    obj.start()\n",
      "  File \"C:\\Data_drive\\Virtual_Env\\EDA\\lib\\site-packages\\pySmartDL\\pySmartDL.py\", line 267, in start\n",
      "    urlObj = urllib.request.urlopen(req, timeout=self.timeout, context=self.context)\n",
      "  File \"C:\\Users\\blain\\anaconda3\\lib\\urllib\\request.py\", line 222, in urlopen\n",
      "    return opener.open(url, data, timeout)\n",
      "  File \"C:\\Users\\blain\\anaconda3\\lib\\urllib\\request.py\", line 531, in open\n",
      "    response = meth(req, response)\n",
      "  File \"C:\\Users\\blain\\anaconda3\\lib\\urllib\\request.py\", line 640, in http_response\n",
      "    response = self.parent.error(\n",
      "  File \"C:\\Users\\blain\\anaconda3\\lib\\urllib\\request.py\", line 569, in error\n",
      "    return self._call_chain(*args)\n",
      "  File \"C:\\Users\\blain\\anaconda3\\lib\\urllib\\request.py\", line 502, in _call_chain\n",
      "    result = func(*args)\n",
      "  File \"C:\\Users\\blain\\anaconda3\\lib\\urllib\\request.py\", line 649, in http_error_default\n",
      "    raise HTTPError(req.full_url, code, msg, hdrs, fp)\n",
      "urllib.error.HTTPError: HTTP Error 404: Not Found\n"
     ]
    },
    {
     "name": "stdout",
     "output_type": "stream",
     "text": [
      "Package `gdal` found in cache\n",
      "Downloading package . . .\n",
      "https://download.lfd.uci.edu/pythonlibs/q4trcu4l/GDAL-3.3.0-cp38-cp38-win_amd64.whl\n",
      "GDAL-3.3.0-cp38-cp38-win_amd64.whl\n"
     ]
    },
    {
     "name": "stderr",
     "output_type": "stream",
     "text": [
      "Traceback (most recent call last):\n",
      "  File \"C:\\Users\\blain\\anaconda3\\lib\\runpy.py\", line 194, in _run_module_as_main\n",
      "    return _run_code(code, main_globals, None,\n",
      "  File \"C:\\Users\\blain\\anaconda3\\lib\\runpy.py\", line 87, in _run_code\n",
      "    exec(code, run_globals)\n",
      "  File \"C:\\Data_drive\\Virtual_Env\\EDA\\lib\\site-packages\\pipwin\\__main__.py\", line 4, in <module>\n",
      "    main()\n",
      "  File \"C:\\Data_drive\\Virtual_Env\\EDA\\lib\\site-packages\\pipwin\\command.py\", line 103, in main\n",
      "    cache.install(package)\n",
      "  File \"C:\\Data_drive\\Virtual_Env\\EDA\\lib\\site-packages\\pipwin\\pipwin.py\", line 300, in install\n",
      "    wheel_file = self.download(requirement)\n",
      "  File \"C:\\Data_drive\\Virtual_Env\\EDA\\lib\\site-packages\\pipwin\\pipwin.py\", line 294, in download\n",
      "    return self._download(requirement, dest)\n",
      "  File \"C:\\Data_drive\\Virtual_Env\\EDA\\lib\\site-packages\\pipwin\\pipwin.py\", line 290, in _download\n",
      "    obj.start()\n",
      "  File \"C:\\Data_drive\\Virtual_Env\\EDA\\lib\\site-packages\\pySmartDL\\pySmartDL.py\", line 267, in start\n",
      "    urlObj = urllib.request.urlopen(req, timeout=self.timeout, context=self.context)\n",
      "  File \"C:\\Users\\blain\\anaconda3\\lib\\urllib\\request.py\", line 222, in urlopen\n",
      "    return opener.open(url, data, timeout)\n",
      "  File \"C:\\Users\\blain\\anaconda3\\lib\\urllib\\request.py\", line 531, in open\n",
      "    response = meth(req, response)\n",
      "  File \"C:\\Users\\blain\\anaconda3\\lib\\urllib\\request.py\", line 640, in http_response\n",
      "    response = self.parent.error(\n",
      "  File \"C:\\Users\\blain\\anaconda3\\lib\\urllib\\request.py\", line 569, in error\n",
      "    return self._call_chain(*args)\n",
      "  File \"C:\\Users\\blain\\anaconda3\\lib\\urllib\\request.py\", line 502, in _call_chain\n",
      "    result = func(*args)\n",
      "  File \"C:\\Users\\blain\\anaconda3\\lib\\urllib\\request.py\", line 649, in http_error_default\n",
      "    raise HTTPError(req.full_url, code, msg, hdrs, fp)\n",
      "urllib.error.HTTPError: HTTP Error 404: Not Found\n"
     ]
    },
    {
     "name": "stdout",
     "output_type": "stream",
     "text": [
      "Package `fiona` found in cache\n",
      "Downloading package . . .\n",
      "https://download.lfd.uci.edu/pythonlibs/q4trcu4l/Fiona-1.8.20-cp38-cp38-win_amd64.whl\n",
      "Fiona-1.8.20-cp38-cp38-win_amd64.whl\n"
     ]
    },
    {
     "name": "stderr",
     "output_type": "stream",
     "text": [
      "Traceback (most recent call last):\n",
      "  File \"C:\\Users\\blain\\anaconda3\\lib\\runpy.py\", line 194, in _run_module_as_main\n",
      "    return _run_code(code, main_globals, None,\n",
      "  File \"C:\\Users\\blain\\anaconda3\\lib\\runpy.py\", line 87, in _run_code\n",
      "    exec(code, run_globals)\n",
      "  File \"C:\\Data_drive\\Virtual_Env\\EDA\\lib\\site-packages\\pipwin\\__main__.py\", line 4, in <module>\n",
      "    main()\n",
      "  File \"C:\\Data_drive\\Virtual_Env\\EDA\\lib\\site-packages\\pipwin\\command.py\", line 103, in main\n",
      "    cache.install(package)\n",
      "  File \"C:\\Data_drive\\Virtual_Env\\EDA\\lib\\site-packages\\pipwin\\pipwin.py\", line 300, in install\n",
      "    wheel_file = self.download(requirement)\n",
      "  File \"C:\\Data_drive\\Virtual_Env\\EDA\\lib\\site-packages\\pipwin\\pipwin.py\", line 294, in download\n",
      "    return self._download(requirement, dest)\n",
      "  File \"C:\\Data_drive\\Virtual_Env\\EDA\\lib\\site-packages\\pipwin\\pipwin.py\", line 290, in _download\n",
      "    obj.start()\n",
      "  File \"C:\\Data_drive\\Virtual_Env\\EDA\\lib\\site-packages\\pySmartDL\\pySmartDL.py\", line 267, in start\n",
      "    urlObj = urllib.request.urlopen(req, timeout=self.timeout, context=self.context)\n",
      "  File \"C:\\Users\\blain\\anaconda3\\lib\\urllib\\request.py\", line 222, in urlopen\n",
      "    return opener.open(url, data, timeout)\n",
      "  File \"C:\\Users\\blain\\anaconda3\\lib\\urllib\\request.py\", line 531, in open\n",
      "    response = meth(req, response)\n",
      "  File \"C:\\Users\\blain\\anaconda3\\lib\\urllib\\request.py\", line 640, in http_response\n",
      "    response = self.parent.error(\n",
      "  File \"C:\\Users\\blain\\anaconda3\\lib\\urllib\\request.py\", line 569, in error\n",
      "    return self._call_chain(*args)\n",
      "  File \"C:\\Users\\blain\\anaconda3\\lib\\urllib\\request.py\", line 502, in _call_chain\n",
      "    result = func(*args)\n",
      "  File \"C:\\Users\\blain\\anaconda3\\lib\\urllib\\request.py\", line 649, in http_error_default\n",
      "    raise HTTPError(req.full_url, code, msg, hdrs, fp)\n",
      "urllib.error.HTTPError: HTTP Error 404: Not Found\n"
     ]
    },
    {
     "name": "stdout",
     "output_type": "stream",
     "text": [
      "Package `pyproj` found in cache\n",
      "Downloading package . . .\n",
      "https://download.lfd.uci.edu/pythonlibs/q4trcu4l/pyproj-3.1.0-cp38-cp38-win_amd64.whl\n",
      "pyproj-3.1.0-cp38-cp38-win_amd64.whl\n"
     ]
    },
    {
     "name": "stderr",
     "output_type": "stream",
     "text": [
      "Traceback (most recent call last):\n",
      "  File \"C:\\Users\\blain\\anaconda3\\lib\\runpy.py\", line 194, in _run_module_as_main\n",
      "    return _run_code(code, main_globals, None,\n",
      "  File \"C:\\Users\\blain\\anaconda3\\lib\\runpy.py\", line 87, in _run_code\n",
      "    exec(code, run_globals)\n",
      "  File \"C:\\Data_drive\\Virtual_Env\\EDA\\lib\\site-packages\\pipwin\\__main__.py\", line 4, in <module>\n",
      "    main()\n",
      "  File \"C:\\Data_drive\\Virtual_Env\\EDA\\lib\\site-packages\\pipwin\\command.py\", line 103, in main\n",
      "    cache.install(package)\n",
      "  File \"C:\\Data_drive\\Virtual_Env\\EDA\\lib\\site-packages\\pipwin\\pipwin.py\", line 300, in install\n",
      "    wheel_file = self.download(requirement)\n",
      "  File \"C:\\Data_drive\\Virtual_Env\\EDA\\lib\\site-packages\\pipwin\\pipwin.py\", line 294, in download\n",
      "    return self._download(requirement, dest)\n",
      "  File \"C:\\Data_drive\\Virtual_Env\\EDA\\lib\\site-packages\\pipwin\\pipwin.py\", line 290, in _download\n",
      "    obj.start()\n",
      "  File \"C:\\Data_drive\\Virtual_Env\\EDA\\lib\\site-packages\\pySmartDL\\pySmartDL.py\", line 267, in start\n",
      "    urlObj = urllib.request.urlopen(req, timeout=self.timeout, context=self.context)\n",
      "  File \"C:\\Users\\blain\\anaconda3\\lib\\urllib\\request.py\", line 222, in urlopen\n",
      "    return opener.open(url, data, timeout)\n",
      "  File \"C:\\Users\\blain\\anaconda3\\lib\\urllib\\request.py\", line 531, in open\n",
      "    response = meth(req, response)\n",
      "  File \"C:\\Users\\blain\\anaconda3\\lib\\urllib\\request.py\", line 640, in http_response\n",
      "    response = self.parent.error(\n",
      "  File \"C:\\Users\\blain\\anaconda3\\lib\\urllib\\request.py\", line 569, in error\n",
      "    return self._call_chain(*args)\n",
      "  File \"C:\\Users\\blain\\anaconda3\\lib\\urllib\\request.py\", line 502, in _call_chain\n",
      "    result = func(*args)\n",
      "  File \"C:\\Users\\blain\\anaconda3\\lib\\urllib\\request.py\", line 649, in http_error_default\n",
      "    raise HTTPError(req.full_url, code, msg, hdrs, fp)\n",
      "urllib.error.HTTPError: HTTP Error 404: Not Found\n"
     ]
    },
    {
     "name": "stdout",
     "output_type": "stream",
     "text": [
      "Package `six` found in cache\n",
      "Downloading package . . .\n",
      "https://download.lfd.uci.edu/pythonlibs/q4trcu4l/six-1.16.0-py3-none-any.whl\n",
      "six-1.16.0-py3-none-any.whl\n"
     ]
    },
    {
     "name": "stderr",
     "output_type": "stream",
     "text": [
      "Traceback (most recent call last):\n",
      "  File \"C:\\Users\\blain\\anaconda3\\lib\\runpy.py\", line 194, in _run_module_as_main\n",
      "    return _run_code(code, main_globals, None,\n",
      "  File \"C:\\Users\\blain\\anaconda3\\lib\\runpy.py\", line 87, in _run_code\n",
      "    exec(code, run_globals)\n",
      "  File \"C:\\Data_drive\\Virtual_Env\\EDA\\lib\\site-packages\\pipwin\\__main__.py\", line 4, in <module>\n",
      "    main()\n",
      "  File \"C:\\Data_drive\\Virtual_Env\\EDA\\lib\\site-packages\\pipwin\\command.py\", line 103, in main\n",
      "    cache.install(package)\n",
      "  File \"C:\\Data_drive\\Virtual_Env\\EDA\\lib\\site-packages\\pipwin\\pipwin.py\", line 300, in install\n",
      "    wheel_file = self.download(requirement)\n",
      "  File \"C:\\Data_drive\\Virtual_Env\\EDA\\lib\\site-packages\\pipwin\\pipwin.py\", line 294, in download\n",
      "    return self._download(requirement, dest)\n",
      "  File \"C:\\Data_drive\\Virtual_Env\\EDA\\lib\\site-packages\\pipwin\\pipwin.py\", line 290, in _download\n",
      "    obj.start()\n",
      "  File \"C:\\Data_drive\\Virtual_Env\\EDA\\lib\\site-packages\\pySmartDL\\pySmartDL.py\", line 267, in start\n",
      "    urlObj = urllib.request.urlopen(req, timeout=self.timeout, context=self.context)\n",
      "  File \"C:\\Users\\blain\\anaconda3\\lib\\urllib\\request.py\", line 222, in urlopen\n",
      "    return opener.open(url, data, timeout)\n",
      "  File \"C:\\Users\\blain\\anaconda3\\lib\\urllib\\request.py\", line 531, in open\n",
      "    response = meth(req, response)\n",
      "  File \"C:\\Users\\blain\\anaconda3\\lib\\urllib\\request.py\", line 640, in http_response\n",
      "    response = self.parent.error(\n",
      "  File \"C:\\Users\\blain\\anaconda3\\lib\\urllib\\request.py\", line 569, in error\n",
      "    return self._call_chain(*args)\n",
      "  File \"C:\\Users\\blain\\anaconda3\\lib\\urllib\\request.py\", line 502, in _call_chain\n",
      "    result = func(*args)\n",
      "  File \"C:\\Users\\blain\\anaconda3\\lib\\urllib\\request.py\", line 649, in http_error_default\n",
      "    raise HTTPError(req.full_url, code, msg, hdrs, fp)\n",
      "urllib.error.HTTPError: HTTP Error 404: Not Found\n"
     ]
    },
    {
     "name": "stdout",
     "output_type": "stream",
     "text": [
      "Package `rtree` found in cache\n",
      "Downloading package . . .\n",
      "https://download.lfd.uci.edu/pythonlibs/q4trcu4l/Rtree-0.9.7-cp38-cp38-win_amd64.whl\n",
      "Rtree-0.9.7-cp38-cp38-win_amd64.whl\n"
     ]
    },
    {
     "name": "stderr",
     "output_type": "stream",
     "text": [
      "Traceback (most recent call last):\n",
      "  File \"C:\\Users\\blain\\anaconda3\\lib\\runpy.py\", line 194, in _run_module_as_main\n",
      "    return _run_code(code, main_globals, None,\n",
      "  File \"C:\\Users\\blain\\anaconda3\\lib\\runpy.py\", line 87, in _run_code\n",
      "    exec(code, run_globals)\n",
      "  File \"C:\\Data_drive\\Virtual_Env\\EDA\\lib\\site-packages\\pipwin\\__main__.py\", line 4, in <module>\n",
      "    main()\n",
      "  File \"C:\\Data_drive\\Virtual_Env\\EDA\\lib\\site-packages\\pipwin\\command.py\", line 103, in main\n",
      "    cache.install(package)\n",
      "  File \"C:\\Data_drive\\Virtual_Env\\EDA\\lib\\site-packages\\pipwin\\pipwin.py\", line 300, in install\n",
      "    wheel_file = self.download(requirement)\n",
      "  File \"C:\\Data_drive\\Virtual_Env\\EDA\\lib\\site-packages\\pipwin\\pipwin.py\", line 294, in download\n",
      "    return self._download(requirement, dest)\n",
      "  File \"C:\\Data_drive\\Virtual_Env\\EDA\\lib\\site-packages\\pipwin\\pipwin.py\", line 290, in _download\n",
      "    obj.start()\n",
      "  File \"C:\\Data_drive\\Virtual_Env\\EDA\\lib\\site-packages\\pySmartDL\\pySmartDL.py\", line 267, in start\n",
      "    urlObj = urllib.request.urlopen(req, timeout=self.timeout, context=self.context)\n",
      "  File \"C:\\Users\\blain\\anaconda3\\lib\\urllib\\request.py\", line 222, in urlopen\n",
      "    return opener.open(url, data, timeout)\n",
      "  File \"C:\\Users\\blain\\anaconda3\\lib\\urllib\\request.py\", line 531, in open\n",
      "    response = meth(req, response)\n",
      "  File \"C:\\Users\\blain\\anaconda3\\lib\\urllib\\request.py\", line 640, in http_response\n",
      "    response = self.parent.error(\n",
      "  File \"C:\\Users\\blain\\anaconda3\\lib\\urllib\\request.py\", line 569, in error\n",
      "    return self._call_chain(*args)\n",
      "  File \"C:\\Users\\blain\\anaconda3\\lib\\urllib\\request.py\", line 502, in _call_chain\n",
      "    result = func(*args)\n",
      "  File \"C:\\Users\\blain\\anaconda3\\lib\\urllib\\request.py\", line 649, in http_error_default\n",
      "    raise HTTPError(req.full_url, code, msg, hdrs, fp)\n",
      "urllib.error.HTTPError: HTTP Error 404: Not Found\n"
     ]
    },
    {
     "name": "stdout",
     "output_type": "stream",
     "text": [
      "Package `geopandas` found in cache\n",
      "Downloading package . . .\n",
      "https://download.lfd.uci.edu/pythonlibs/q4trcu4l/geopandas-0.9.0-py3-none-any.whl\n",
      "geopandas-0.9.0-py3-none-any.whl\n"
     ]
    },
    {
     "name": "stderr",
     "output_type": "stream",
     "text": [
      "Traceback (most recent call last):\n",
      "  File \"C:\\Users\\blain\\anaconda3\\lib\\runpy.py\", line 194, in _run_module_as_main\n",
      "    return _run_code(code, main_globals, None,\n",
      "  File \"C:\\Users\\blain\\anaconda3\\lib\\runpy.py\", line 87, in _run_code\n",
      "    exec(code, run_globals)\n",
      "  File \"C:\\Data_drive\\Virtual_Env\\EDA\\lib\\site-packages\\pipwin\\__main__.py\", line 4, in <module>\n",
      "    main()\n",
      "  File \"C:\\Data_drive\\Virtual_Env\\EDA\\lib\\site-packages\\pipwin\\command.py\", line 103, in main\n",
      "    cache.install(package)\n",
      "  File \"C:\\Data_drive\\Virtual_Env\\EDA\\lib\\site-packages\\pipwin\\pipwin.py\", line 300, in install\n",
      "    wheel_file = self.download(requirement)\n",
      "  File \"C:\\Data_drive\\Virtual_Env\\EDA\\lib\\site-packages\\pipwin\\pipwin.py\", line 294, in download\n",
      "    return self._download(requirement, dest)\n",
      "  File \"C:\\Data_drive\\Virtual_Env\\EDA\\lib\\site-packages\\pipwin\\pipwin.py\", line 290, in _download\n",
      "    obj.start()\n",
      "  File \"C:\\Data_drive\\Virtual_Env\\EDA\\lib\\site-packages\\pySmartDL\\pySmartDL.py\", line 267, in start\n",
      "    urlObj = urllib.request.urlopen(req, timeout=self.timeout, context=self.context)\n",
      "  File \"C:\\Users\\blain\\anaconda3\\lib\\urllib\\request.py\", line 222, in urlopen\n",
      "    return opener.open(url, data, timeout)\n",
      "  File \"C:\\Users\\blain\\anaconda3\\lib\\urllib\\request.py\", line 531, in open\n",
      "    response = meth(req, response)\n",
      "  File \"C:\\Users\\blain\\anaconda3\\lib\\urllib\\request.py\", line 640, in http_response\n",
      "    response = self.parent.error(\n",
      "  File \"C:\\Users\\blain\\anaconda3\\lib\\urllib\\request.py\", line 569, in error\n",
      "    return self._call_chain(*args)\n",
      "  File \"C:\\Users\\blain\\anaconda3\\lib\\urllib\\request.py\", line 502, in _call_chain\n",
      "    result = func(*args)\n",
      "  File \"C:\\Users\\blain\\anaconda3\\lib\\urllib\\request.py\", line 649, in http_error_default\n",
      "    raise HTTPError(req.full_url, code, msg, hdrs, fp)\n",
      "urllib.error.HTTPError: HTTP Error 404: Not Found\n"
     ]
    },
    {
     "name": "stdout",
     "output_type": "stream",
     "text": [
      "Collecting opencv-python\n",
      "  Using cached opencv_python-4.5.3.56-cp38-cp38-win_amd64.whl (34.9 MB)\n",
      "Requirement already satisfied: numpy>=1.17.3 in c:\\users\\blain\\anaconda3\\lib\\site-packages (from opencv-python) (1.19.5)\n",
      "Installing collected packages: opencv-python\n",
      "Successfully installed opencv-python-4.5.3.56\n",
      "Note: you may need to restart the kernel to use updated packages.\n"
     ]
    },
    {
     "name": "stderr",
     "output_type": "stream",
     "text": [
      "WARNING: Ignoring invalid distribution -pencv-python (c:\\data_drive\\virtual_env\\eda\\lib\\site-packages)\n",
      "WARNING: Ignoring invalid distribution -pencv-python (c:\\data_drive\\virtual_env\\eda\\lib\\site-packages)\n",
      "WARNING: Ignoring invalid distribution -pencv-python (c:\\data_drive\\virtual_env\\eda\\lib\\site-packages)\n",
      "WARNING: Ignoring invalid distribution -pencv-python (c:\\data_drive\\virtual_env\\eda\\lib\\site-packages)\n",
      "WARNING: Ignoring invalid distribution -pencv-python (c:\\data_drive\\virtual_env\\eda\\lib\\site-packages)\n",
      "WARNING: Ignoring invalid distribution -pencv-python (c:\\data_drive\\virtual_env\\eda\\lib\\site-packages)\n"
     ]
    },
    {
     "name": "stdout",
     "output_type": "stream",
     "text": [
      "Requirement already satisfied: pygeos in c:\\data_drive\\virtual_env\\eda\\lib\\site-packages (0.10)\n",
      "Requirement already satisfied: numpy>=1.13 in c:\\users\\blain\\anaconda3\\lib\\site-packages (from pygeos) (1.19.5)\n",
      "Note: you may need to restart the kernel to use updated packages.\n"
     ]
    },
    {
     "name": "stderr",
     "output_type": "stream",
     "text": [
      "WARNING: Ignoring invalid distribution -pencv-python (c:\\data_drive\\virtual_env\\eda\\lib\\site-packages)\n",
      "WARNING: Ignoring invalid distribution -pencv-python (c:\\data_drive\\virtual_env\\eda\\lib\\site-packages)\n",
      "WARNING: Ignoring invalid distribution -pencv-python (c:\\data_drive\\virtual_env\\eda\\lib\\site-packages)\n",
      "WARNING: Ignoring invalid distribution -pencv-python (c:\\data_drive\\virtual_env\\eda\\lib\\site-packages)\n",
      "WARNING: Ignoring invalid distribution -pencv-python (c:\\data_drive\\virtual_env\\eda\\lib\\site-packages)\n"
     ]
    }
   ],
   "source": [
    "import sys\n",
    "\n",
    "%pip install wheel\n",
    "%pip install pipwin\n",
    "%pip install numpy\n",
    "!{sys.executable} -m pipwin install pandas\n",
    "!{sys.executable} -m pipwin install shapely\n",
    "!{sys.executable} -m pipwin install gdal\n",
    "!{sys.executable} -m pipwin install fiona\n",
    "!{sys.executable} -m pipwin install pyproj\n",
    "!{sys.executable} -m pipwin install six\n",
    "!{sys.executable} -m pipwin install rtree\n",
    "!{sys.executable} -m pipwin install geopandas\n",
    "%pip install opencv-python\n",
    "%pip install pygeos\n",
    "#%pip install matplotlib"
   ]
  },
  {
   "cell_type": "markdown",
   "id": "8ac7ecd8",
   "metadata": {},
   "source": [
    "# Import the necessary packages"
   ]
  },
  {
   "cell_type": "code",
   "execution_count": 3,
   "id": "1289ac57",
   "metadata": {},
   "outputs": [],
   "source": [
    "#to import the geojson as a pandas like dataframe\n",
    "import geopandas as gpd\n",
    "import os\n",
    "import cv2\n",
    "import random\n",
    "import matplotlib\n",
    "%matplotlib inline"
   ]
  },
  {
   "cell_type": "markdown",
   "id": "0db37632",
   "metadata": {},
   "source": [
    "# Exploratory Data Analysis"
   ]
  },
  {
   "cell_type": "code",
   "execution_count": 4,
   "id": "436539d1",
   "metadata": {},
   "outputs": [],
   "source": [
    "LOCAL_GIT_PATH = R'C:\\Data_drive\\Github'\n",
    "DATA_DIR_PATH = r'C:\\Data_drive\\Data'\n",
    "\n",
    "XVIEW_UTILS_PATH = LOCAL_GIT_PATH\n",
    "TF_INSTALL_PATH = LOCAL_GIT_PATH + r'\\models'\n",
    "GEOJSON_FILE = 'xView_train'\n",
    "CLASS_LABELS_FILE = 'xview_class_labels.txt'"
   ]
  },
  {
   "cell_type": "code",
   "execution_count": 5,
   "id": "c032c745",
   "metadata": {},
   "outputs": [],
   "source": [
    "#Filenames and locations\n",
    "paths = {\n",
    "    'WORK_PATH': os.path.join(TF_INSTALL_PATH, 'workspace'),\n",
    "    'DATA_PATH': DATA_DIR_PATH,\n",
    "    'IMAGE_PATH': os.path.join(DATA_DIR_PATH, 'train_images', '')\n",
    "}\n",
    "\n",
    "files = {\n",
    "    'GEOJSON_IN': os.path.join(paths['DATA_PATH'], GEOJSON_FILE + '.geojson'),\n",
    "    'GEOJSON_OUT': os.path.join(paths['DATA_PATH'], GEOJSON_FILE + '_' + 'only_vehicles' + '.geojson'),\n",
    "    'CLASS_LABELS': os.path.join(paths['DATA_PATH'], CLASS_LABELS_FILE)\n",
    "}"
   ]
  },
  {
   "cell_type": "code",
   "execution_count": 6,
   "id": "6d0b2288",
   "metadata": {},
   "outputs": [],
   "source": [
    "#read in the geojson\n",
    "regions = gpd.read_file(files['GEOJSON_IN'])"
   ]
  },
  {
   "cell_type": "code",
   "execution_count": 7,
   "id": "363cf244",
   "metadata": {},
   "outputs": [],
   "source": [
    "used_ids = regions.type_id.unique()"
   ]
  },
  {
   "cell_type": "code",
   "execution_count": 8,
   "id": "ae209d35",
   "metadata": {},
   "outputs": [],
   "source": [
    "os.chdir(paths['DATA_PATH'])\n",
    "#read in the class labels\n",
    "class_dict = {}\n",
    "file = open(files['CLASS_LABELS'], \"r\")\n",
    "\n",
    "#create a class label dictionary\n",
    "for line in file:\n",
    "    key, value = line.split(':')\n",
    "    class_dict[int(key)] = value.strip()\n",
    "    \n",
    "given_ids = [key for key, vals in class_dict.items()]"
   ]
  },
  {
   "cell_type": "code",
   "execution_count": 9,
   "id": "a9ad8492",
   "metadata": {},
   "outputs": [
    {
     "name": "stdout",
     "output_type": "stream",
     "text": [
      "[75, 82]\n"
     ]
    }
   ],
   "source": [
    "extra_classes = [item for item in used_ids if item not in given_ids]\n",
    "\n",
    "print(extra_classes)"
   ]
  },
  {
   "cell_type": "code",
   "execution_count": 10,
   "id": "5408f412",
   "metadata": {},
   "outputs": [],
   "source": [
    "#split the bounds box\n",
    "names = [\"x1\", \"y1\", \"x2\", \"y2\"]\n",
    "regions[names] = regions['bounds_imcoords'].str.split(',', expand=True)\n",
    "regions[names] = regions[names].astype(int)\n",
    "regions['bottom'] = regions.y2 - regions.y1\n",
    "regions['top'] = regions.x2 - regions.x1\n",
    "regions['area'] = regions.bottom * regions.top"
   ]
  },
  {
   "cell_type": "code",
   "execution_count": 11,
   "id": "edf348e5",
   "metadata": {},
   "outputs": [
    {
     "name": "stdout",
     "output_type": "stream",
     "text": [
      "Removed 6017 small regions.\n",
      "Removed 79 invalid id types.\n",
      "Removed 5064 invalid region locations.\n"
     ]
    }
   ],
   "source": [
    "#delete any rows which contain a bounding box with a small x or y dimension\n",
    "prior = len(regions)\n",
    "\n",
    "regions = regions[regions.top > 5]\n",
    "regions = regions[regions.bottom > 5]\n",
    "\n",
    "post = len(regions)\n",
    "print('Removed {} small regions.'.format(prior-post))\n",
    "\n",
    "#remove invalid ids\n",
    "prior = len(regions)\n",
    "\n",
    "regions = regions[~regions.type_id.isin(extra_classes)]\n",
    "post = len(regions)\n",
    "\n",
    "print('Removed {} invalid id types.'.format(prior-post))\n",
    "\n",
    "#remove regions with negative locations\n",
    "prior = len(regions)\n",
    "\n",
    "regions = regions[~regions.x1 < 0]\n",
    "regions = regions[~regions.y1 < 0]\n",
    "post = len(regions)\n",
    "\n",
    "print('Removed {} invalid region locations.'.format(prior-post))"
   ]
  },
  {
   "cell_type": "code",
   "execution_count": 12,
   "id": "4a217c37",
   "metadata": {},
   "outputs": [
    {
     "name": "stdout",
     "output_type": "stream",
     "text": [
      "Removed 317554 building id types.\n"
     ]
    }
   ],
   "source": [
    "#remove buildings\n",
    "bldg_classes = [71, 72, 73, 74, 76, 77, 84, 93, 94]\n",
    "prior = len(regions)\n",
    "\n",
    "regions = regions[~regions.type_id.isin(bldg_classes)]\n",
    "post = len(regions)\n",
    "\n",
    "print('Removed {} building id types.'.format(prior-post))"
   ]
  },
  {
   "cell_type": "code",
   "execution_count": 13,
   "id": "7df7c3a7",
   "metadata": {},
   "outputs": [
    {
     "name": "stdout",
     "output_type": "stream",
     "text": [
      "Removed 10099 other id types.\n"
     ]
    }
   ],
   "source": [
    "#remove other non-vehicle items\n",
    "vehicle_classes = [11, 12, 13, 15, 17, 18, 19, 20, 21, 23, 24, 25, 26, 27, 28, 29, 32, 33, 34, 35, 36, 37, 38, 40, 41, 42, 44, 45, 47, 49, 50, 53, 59, 60, 61, 62, 63, 64, 65, 66, 91]\n",
    "prior = len(regions)\n",
    "\n",
    "regions = regions[regions.type_id.isin(vehicle_classes)]\n",
    "post = len(regions)\n",
    "\n",
    "\n",
    "print('Removed {} other id types.'.format(prior-post))"
   ]
  },
  {
   "cell_type": "code",
   "execution_count": 12,
   "id": "7b63250a",
   "metadata": {},
   "outputs": [
    {
     "data": {
      "text/plain": [
       "array([[<AxesSubplot:title={'center':'ratio'}>]], dtype=object)"
      ]
     },
     "execution_count": 12,
     "metadata": {},
     "output_type": "execute_result"
    },
    {
     "data": {
      "image/png": "[encoded data removed]",
      "text/plain": [
       "<Figure size 432x288 with 1 Axes>"
      ]
     },
     "metadata": {
      "needs_background": "light"
     },
     "output_type": "display_data"
    }
   ],
   "source": [
    "regions['ratio'] = regions.top / regions.bottom\n",
    "regions.hist(column='ratio', bins=25,range=(0, 3))"
   ]
  },
  {
   "cell_type": "code",
   "execution_count": 13,
   "id": "fcab36d1",
   "metadata": {},
   "outputs": [
    {
     "data": {
      "text/plain": [
       "array([[<AxesSubplot:title={'center':'area'}>]], dtype=object)"
      ]
     },
     "execution_count": 13,
     "metadata": {},
     "output_type": "execute_result"
    },
    {
     "data": {
      "image/png": "[encoded data removed]",
      "text/plain": [
       "<Figure size 432x288 with 1 Axes>"
      ]
     },
     "metadata": {
      "needs_background": "light"
     },
     "output_type": "display_data"
    }
   ],
   "source": [
    "#the area of the bounding box in pixels\n",
    "regions.hist(column='area', bins=50, range=(0,1000))"
   ]
  },
  {
   "cell_type": "code",
   "execution_count": 14,
   "id": "fca1e124",
   "metadata": {},
   "outputs": [
    {
     "data": {
      "text/plain": [
       "array([[<AxesSubplot:title={'center':'top'}>]], dtype=object)"
      ]
     },
     "execution_count": 14,
     "metadata": {},
     "output_type": "execute_result"
    },
    {
     "data": {
      "image/png": "[encoded data removed]",
      "text/plain": [
       "<Figure size 432x288 with 1 Axes>"
      ]
     },
     "metadata": {
      "needs_background": "light"
     },
     "output_type": "display_data"
    }
   ],
   "source": [
    "#the x size of the bounding box in pixels\n",
    "regions.hist(column='top', bins=25, range=(0,200))"
   ]
  },
  {
   "cell_type": "code",
   "execution_count": 15,
   "id": "da987cc8",
   "metadata": {},
   "outputs": [
    {
     "data": {
      "text/plain": [
       "array([[<AxesSubplot:title={'center':'bottom'}>]], dtype=object)"
      ]
     },
     "execution_count": 15,
     "metadata": {},
     "output_type": "execute_result"
    },
    {
     "data": {
      "image/png": "[encoded data removed]",
      "text/plain": [
       "<Figure size 432x288 with 1 Axes>"
      ]
     },
     "metadata": {
      "needs_background": "light"
     },
     "output_type": "display_data"
    }
   ],
   "source": [
    "#the y size of the bounding box in pixels\n",
    "regions.hist(column='bottom', bins=25, range=(0,150))"
   ]
  },
  {
   "cell_type": "code",
   "execution_count": 14,
   "id": "c0f9b083",
   "metadata": {
    "scrolled": true
   },
   "outputs": [
    {
     "data": {
      "text/plain": [
       "18    205883\n",
       "23     12026\n",
       "19      6888\n",
       "24      5847\n",
       "27      3998\n",
       "25      3611\n",
       "21      3586\n",
       "17      2852\n",
       "35      1833\n",
       "34      1604\n",
       "91      1578\n",
       "41      1447\n",
       "60      1343\n",
       "20      1089\n",
       "28       889\n",
       "26       857\n",
       "64       838\n",
       "47       758\n",
       "42       691\n",
       "13       677\n",
       "40       642\n",
       "63       628\n",
       "50       443\n",
       "12       361\n",
       "61       331\n",
       "59       326\n",
       "65       287\n",
       "44       219\n",
       "53       205\n",
       "49       193\n",
       "45       186\n",
       "32       174\n",
       "29       147\n",
       "36       124\n",
       "38       121\n",
       "37       121\n",
       "66        83\n",
       "62        78\n",
       "11        73\n",
       "15        70\n",
       "33        17\n",
       "Name: type_id, dtype: int64"
      ]
     },
     "execution_count": 14,
     "metadata": {},
     "output_type": "execute_result"
    }
   ],
   "source": [
    "regions.type_id.value_counts()"
   ]
  },
  {
   "cell_type": "code",
   "execution_count": 17,
   "id": "80e9b1bc",
   "metadata": {},
   "outputs": [
    {
     "data": {
      "text/plain": [
       "array([[<AxesSubplot:title={'center':'type_id'}>]], dtype=object)"
      ]
     },
     "execution_count": 17,
     "metadata": {},
     "output_type": "execute_result"
    },
    {
     "data": {
      "image/png": "[encoded data removed]",
      "text/plain": [
       "<Figure size 432x288 with 1 Axes>"
      ]
     },
     "metadata": {
      "needs_background": "light"
     },
     "output_type": "display_data"
    }
   ],
   "source": [
    "regions.hist(column='type_id', bins=60)"
   ]
  },
  {
   "cell_type": "code",
   "execution_count": 16,
   "id": "4186d29e",
   "metadata": {},
   "outputs": [],
   "source": [
    "#save a new geoJSON file to be used later\n",
    "regions.drop(columns=names)\n",
    "regions.drop(columns=['bottom', 'top', 'area'])\n",
    "regions.to_file(files['GEOJSON_OUT'], driver='GeoJSON')"
   ]
  },
  {
   "cell_type": "markdown",
   "id": "385d509d",
   "metadata": {},
   "source": [
    "# View images and overlay bounding boxes"
   ]
  },
  {
   "cell_type": "code",
   "execution_count": 18,
   "id": "07373f3c",
   "metadata": {},
   "outputs": [],
   "source": [
    "image_name = '10.tif'\n",
    "\n",
    "test_image = os.path.join(paths['IMAGE_PATH'], image_name)\n",
    "test_regions = regions[regions['image_id'] == image_name]"
   ]
  },
  {
   "cell_type": "code",
   "execution_count": 19,
   "id": "4cf2a4e8",
   "metadata": {},
   "outputs": [],
   "source": [
    "window_name = 'Image'\n",
    "image = cv2.imread(test_image)\n",
    "#create a color dictionary for the different ID types\n",
    "color_dict = {}\n",
    "type_set = test_regions.type_id.unique()\n",
    "\n",
    "# font needed for text\n",
    "font = cv2.FONT_HERSHEY_SIMPLEX\n",
    "\n",
    "for type_id in type_set:\n",
    "    color_dict[type_id] = (random.randint(0,255), random.randint(0,255), random.randint(0,255))\n",
    "\n",
    "\n",
    "#loop through the region and find all of the objects, then place them on the image\n",
    "for i in range(len(test_regions)):\n",
    "    lst_int = [int(x) for x in test_regions.iloc[i]['bounds_imcoords'].split(\",\")]\n",
    "    id_type = test_regions.type_id.iloc[i]\n",
    "    topleft = (lst_int[0], lst_int[1])\n",
    "    \n",
    "    bottomright = (lst_int[2], lst_int[3])\n",
    "    image = cv2.rectangle(image, topleft, bottomright, color=color_dict[id_type], thickness=1)\n",
    "    #image = cv2.putText(image, ('ID: ' + str(id_type)), topleft)\n",
    "    image = cv2.putText(image, class_dict[id_type], topleft, font, \n",
    "                   fontScale=0.5, color=color_dict[id_type], thickness=2)\n",
    "    \n",
    "# Display the image \n",
    "cv2.imshow(window_name, image) \n",
    "cv2.waitKey(0)\n",
    "cv2.destroyAllWindows()"
   ]
  },
  {
   "cell_type": "code",
   "execution_count": null,
   "id": "b7fc2fc8",
   "metadata": {},
   "outputs": [],
   "source": []
  }
 ],
 "metadata": {
  "kernelspec": {
   "display_name": "EDA",
   "language": "python",
   "name": "eda"
  },
  "language_info": {
   "codemirror_mode": {
    "name": "ipython",
    "version": 3
   },
   "file_extension": ".py",
   "mimetype": "text/x-python",
   "name": "python",
   "nbconvert_exporter": "python",
   "pygments_lexer": "ipython3",
   "version": "3.8.8"
  }
 },
 "nbformat": 4,
 "nbformat_minor": 5
}
