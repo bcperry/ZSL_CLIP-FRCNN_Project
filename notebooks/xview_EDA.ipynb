{
 "cells": [
  {
   "cell_type": "markdown",
   "id": "3527cfe9",
   "metadata": {},
   "source": [
    "# Install the necessary packages"
   ]
  },
  {
   "cell_type": "code",
   "execution_count": null,
   "id": "adda559f",
   "metadata": {},
   "outputs": [],
   "source": [
    "pip install wheel\n",
    "pip install pipwin\n",
    "\n",
    "pipwin install numpy\n",
    "pipwin install pandas\n",
    "pipwin install shapely\n",
    "pipwin install gdal\n",
    "pipwin install fiona\n",
    "pipwin install pyproj\n",
    "pipwin install six\n",
    "pipwin install rtree\n",
    "pipwin install geopandas"
   ]
  },
  {
   "cell_type": "code",
   "execution_count": null,
   "id": "70ffd2dd",
   "metadata": {},
   "outputs": [],
   "source": [
    "!pip install geojson\n",
    "!pip install shapely\n",
    "!pip install geopandas\n",
    "!pip install geojsonio"
   ]
  },
  {
   "cell_type": "markdown",
   "id": "8ac7ecd8",
   "metadata": {},
   "source": [
    "# Import the necessary packages"
   ]
  },
  {
   "cell_type": "code",
   "execution_count": 1,
   "id": "1289ac57",
   "metadata": {},
   "outputs": [],
   "source": [
    "#to import the geojson as a pandas like dataframe\n",
    "import geopandas as gpd\n",
    "import os\n",
    "import cv2\n",
    "import random"
   ]
  },
  {
   "cell_type": "markdown",
   "id": "0db37632",
   "metadata": {},
   "source": [
    "# Exploratory Data Analysis"
   ]
  },
  {
   "cell_type": "code",
   "execution_count": 2,
   "id": "436539d1",
   "metadata": {},
   "outputs": [],
   "source": [
    "XVIEW_UTILS_PATH = r'C:\\Users\\bcper\\Documents\\GitHub'\n",
    "TF_INSTALL_PATH = r'C:\\Users\\bcper\\Documents\\GitHub\\models'\n",
    "GEOJSON_FILE = 'xView_train.geojson'\n",
    "CLASS_LABELS_FILE = 'Class Labels.txt'"
   ]
  },
  {
   "cell_type": "code",
   "execution_count": 3,
   "id": "c032c745",
   "metadata": {},
   "outputs": [],
   "source": [
    "#Filenames and locations\n",
    "DATA_DIR_PATH = os.path.join(TF_INSTALL_PATH, 'workspace','data', '')\n",
    "\n",
    "paths = {\n",
    "    'WORK_PATH': os.path.join(TF_INSTALL_PATH, 'workspace'),\n",
    "    'DATA_PATH': DATA_DIR_PATH,\n",
    "    'IMAGE_PATH': r'C:\\Users\\bcper\\Documents\\GitHub\\models\\workspace\\data\\test_images'\n",
    "}\n",
    "\n",
    "files = {\n",
    "    'GEOJSON_IN': os.path.join(paths['DATA_PATH'], GEOJSON_FILE),\n",
    "    'GEOJSON_OUT': os.path.join(paths['DATA_PATH'], GEOJSON_FILE + '_' + 'rare'),\n",
    "    'CLASS_LABELS': os.path.join(paths['DATA_PATH'], CLASS_LABELS_FILE)\n",
    "}"
   ]
  },
  {
   "cell_type": "code",
   "execution_count": 4,
   "id": "6d0b2288",
   "metadata": {},
   "outputs": [],
   "source": [
    "#read in the geojson\n",
    "regions = gpd.read_file(files['GEOJSON_IN'])"
   ]
  },
  {
   "cell_type": "code",
   "execution_count": 5,
   "id": "363cf244",
   "metadata": {},
   "outputs": [],
   "source": [
    "used_ids = regions.type_id.unique()"
   ]
  },
  {
   "cell_type": "code",
   "execution_count": 6,
   "id": "ae209d35",
   "metadata": {},
   "outputs": [],
   "source": [
    "os.chdir(paths['DATA_PATH'])\n",
    "#read in the class labels\n",
    "class_dict = {}\n",
    "file = open(files['CLASS_LABELS'], \"r\")\n",
    "\n",
    "#create a class label dictionary\n",
    "for line in file:\n",
    "    key, value = line.split(':')\n",
    "    class_dict[int(key)] = value.strip()\n",
    "    \n",
    "given_ids = [key for key, vals in class_dict.items()]"
   ]
  },
  {
   "cell_type": "code",
   "execution_count": 7,
   "id": "a9ad8492",
   "metadata": {},
   "outputs": [
    {
     "name": "stdout",
     "output_type": "stream",
     "text": [
      "[75, 82]\n"
     ]
    }
   ],
   "source": [
    "extra_classes = [item for item in used_ids if item not in given_ids]\n",
    "\n",
    "print(extra_classes)"
   ]
  },
  {
   "cell_type": "code",
   "execution_count": 8,
   "id": "5408f412",
   "metadata": {},
   "outputs": [],
   "source": [
    "#split the bounds box\n",
    "names = [\"x1\", \"y1\", \"x2\", \"y2\"]\n",
    "regions[names] = regions['bounds_imcoords'].str.split(',', expand=True)\n",
    "regions[names] = regions[names].astype(int)\n",
    "regions['bottom'] = regions.y2 - regions.y1\n",
    "regions['top'] = regions.x2 - regions.x1\n",
    "regions['area'] = regions.bottom * regions.top"
   ]
  },
  {
   "cell_type": "code",
   "execution_count": 10,
   "id": "edf348e5",
   "metadata": {},
   "outputs": [
    {
     "name": "stdout",
     "output_type": "stream",
     "text": [
      "Removed 133384 small regions.\n",
      "Removed 79 invalid id types.\n"
     ]
    }
   ],
   "source": [
    "#delete any rows which contain a bounding box with a small x or y dimension\n",
    "prior = len(regions)\n",
    "\n",
    "regions = regions[regions.top > 10]\n",
    "regions = regions[regions.bottom > 10]\n",
    "\n",
    "post = len(regions)\n",
    "print('Removed {} small regions.'.format(prior-post))\n",
    "\n",
    "prior = len(regions)\n",
    "regions = regions[~regions.type_id.isin(extra_classes)]\n",
    "\n",
    "post = len(regions)\n",
    "print('Removed {} invalid id types.'.format(prior-post))\n"
   ]
  },
  {
   "cell_type": "code",
   "execution_count": 11,
   "id": "7b63250a",
   "metadata": {},
   "outputs": [
    {
     "data": {
      "text/plain": [
       "array([[<AxesSubplot:title={'center':'ratio'}>]], dtype=object)"
      ]
     },
     "execution_count": 11,
     "metadata": {},
     "output_type": "execute_result"
    },
    {
     "data": {
      "image/png": "[encoded data removed]",
      "text/plain": [
       "<Figure size 432x288 with 1 Axes>"
      ]
     },
     "metadata": {
      "needs_background": "light"
     },
     "output_type": "display_data"
    }
   ],
   "source": [
    "regions['ratio'] = regions.top / regions.bottom\n",
    "regions.hist(column='ratio', bins=25,range=(0, 3))"
   ]
  },
  {
   "cell_type": "code",
   "execution_count": 25,
   "id": "fcab36d1",
   "metadata": {},
   "outputs": [
    {
     "data": {
      "text/plain": [
       "array([[<AxesSubplot:title={'center':'area'}>]], dtype=object)"
      ]
     },
     "execution_count": 25,
     "metadata": {},
     "output_type": "execute_result"
    },
    {
     "data": {
      "image/png": "[encoded data removed]",
      "text/plain": [
       "<Figure size 432x288 with 1 Axes>"
      ]
     },
     "metadata": {
      "needs_background": "light"
     },
     "output_type": "display_data"
    }
   ],
   "source": [
    "#the area of the bounding box in pixels\n",
    "regions.hist(column='area', bins=50, range=(0,1000))"
   ]
  },
  {
   "cell_type": "code",
   "execution_count": 26,
   "id": "fca1e124",
   "metadata": {},
   "outputs": [
    {
     "data": {
      "text/plain": [
       "array([[<AxesSubplot:title={'center':'top'}>]], dtype=object)"
      ]
     },
     "execution_count": 26,
     "metadata": {},
     "output_type": "execute_result"
    },
    {
     "data": {
      "image/png": "[encoded data removed]",
      "text/plain": [
       "<Figure size 432x288 with 1 Axes>"
      ]
     },
     "metadata": {
      "needs_background": "light"
     },
     "output_type": "display_data"
    }
   ],
   "source": [
    "#the x size of the bounding box in pixels\n",
    "regions.hist(column='top', bins=25, range=(0,200))"
   ]
  },
  {
   "cell_type": "code",
   "execution_count": 27,
   "id": "da987cc8",
   "metadata": {},
   "outputs": [
    {
     "data": {
      "text/plain": [
       "array([[<AxesSubplot:title={'center':'bottom'}>]], dtype=object)"
      ]
     },
     "execution_count": 27,
     "metadata": {},
     "output_type": "execute_result"
    },
    {
     "data": {
      "image/png": "[encoded data removed]",
      "text/plain": [
       "<Figure size 432x288 with 1 Axes>"
      ]
     },
     "metadata": {
      "needs_background": "light"
     },
     "output_type": "display_data"
    }
   ],
   "source": [
    "#the y size of the bounding box in pixels\n",
    "regions.hist(column='bottom', bins=25, range=(0,150))"
   ]
  },
  {
   "cell_type": "code",
   "execution_count": 14,
   "id": "c0f9b083",
   "metadata": {},
   "outputs": [
    {
     "data": {
      "text/plain": [
       "73    316795\n",
       "18    211664\n",
       "23     12189\n",
       "19      6975\n",
       "24      5899\n",
       "       ...  \n",
       "56        70\n",
       "57        64\n",
       "75        51\n",
       "82        28\n",
       "33        17\n",
       "Name: type_id, Length: 62, dtype: int64"
      ]
     },
     "execution_count": 14,
     "metadata": {},
     "output_type": "execute_result"
    }
   ],
   "source": [
    "regions.type_id.value_counts()"
   ]
  },
  {
   "cell_type": "code",
   "execution_count": 19,
   "id": "80e9b1bc",
   "metadata": {},
   "outputs": [
    {
     "data": {
      "text/plain": [
       "array([[<AxesSubplot:title={'center':'type_id'}>]], dtype=object)"
      ]
     },
     "execution_count": 19,
     "metadata": {},
     "output_type": "execute_result"
    },
    {
     "data": {
      "image/png": "[encoded data removed]",
      "text/plain": [
       "<Figure size 432x288 with 1 Axes>"
      ]
     },
     "metadata": {
      "needs_background": "light"
     },
     "output_type": "display_data"
    }
   ],
   "source": [
    "regions.hist(column='type_id', bins=60)"
   ]
  },
  {
   "cell_type": "code",
   "execution_count": 50,
   "id": "4186d29e",
   "metadata": {},
   "outputs": [],
   "source": [
    "#save a new geoJSON file to be used later\n",
    "regions.drop(columns=names)\n",
    "regions.drop(columns=['bottom', 'top', 'ratio', 'area'])\n",
    "regions.to_file(files['GEOJSON_OUT'], driver='GeoJSON')"
   ]
  },
  {
   "cell_type": "markdown",
   "id": "385d509d",
   "metadata": {},
   "source": [
    "# View images and overlay bounding boxes"
   ]
  },
  {
   "cell_type": "code",
   "execution_count": 30,
   "id": "07373f3c",
   "metadata": {},
   "outputs": [],
   "source": [
    "image_name = '20.tif'\n",
    "\n",
    "test_image = os.path.join(paths['IMAGE_PATH'], image_name)\n",
    "test_regions = regions[regions['image_id'] == image_name]"
   ]
  },
  {
   "cell_type": "code",
   "execution_count": 31,
   "id": "59406cf1",
   "metadata": {},
   "outputs": [
    {
     "name": "stdout",
     "output_type": "stream",
     "text": [
      "C:\\Users\\bcper\\Documents\\GitHub\\models\\workspace\\data\\test_images\\20.tif\n"
     ]
    }
   ],
   "source": [
    "print(test_image)"
   ]
  },
  {
   "cell_type": "code",
   "execution_count": 32,
   "id": "4cf2a4e8",
   "metadata": {},
   "outputs": [],
   "source": [
    "window_name = 'Image'\n",
    "image = cv2.imread(test_image)\n",
    "\n",
    "#create a color dictionary for the different ID types\n",
    "color_dict = {}\n",
    "type_set = test_regions.type_id.unique()\n",
    "\n",
    "# font needed for text\n",
    "font = cv2.FONT_HERSHEY_SIMPLEX\n",
    "\n",
    "for type_id in type_set:\n",
    "    color_dict[type_id] = (random.randint(0,255), random.randint(0,255), random.randint(0,255))\n",
    "\n",
    "\n",
    "#loop through the region and find all of the objects, then place them on the image\n",
    "for i in range(len(test_regions)):\n",
    "    lst_int = [int(x) for x in test_regions.iloc[i]['bounds_imcoords'].split(\",\")]\n",
    "    id_type = test_regions.type_id.iloc[i]\n",
    "    topleft = (lst_int[0], lst_int[1])\n",
    "    \n",
    "    bottomright = (lst_int[2], lst_int[3])\n",
    "    image = cv2.rectangle(image, topleft, bottomright, color=color_dict[id_type], thickness=1)\n",
    "    #image = cv2.putText(image, ('ID: ' + str(id_type)), topleft)\n",
    "    image = cv2.putText(image, class_dict[id_type], topleft, font, \n",
    "                   fontScale=0.5, color=color_dict[id_type], thickness=2)\n",
    "    \n",
    "# Display the image \n",
    "cv2.imshow(window_name, image) \n",
    "cv2.waitKey(0)\n",
    "cv2.destroyAllWindows()"
   ]
  },
  {
   "cell_type": "code",
   "execution_count": null,
   "id": "e7b885f9",
   "metadata": {},
   "outputs": [],
   "source": []
  }
 ],
 "metadata": {
  "kernelspec": {
   "display_name": "Python 3",
   "language": "python",
   "name": "python3"
  },
  "language_info": {
   "codemirror_mode": {
    "name": "ipython",
    "version": 3
   },
   "file_extension": ".py",
   "mimetype": "text/x-python",
   "name": "python",
   "nbconvert_exporter": "python",
   "pygments_lexer": "ipython3",
   "version": "3.8.8"
  }
 },
 "nbformat": 4,
 "nbformat_minor": 5
}
