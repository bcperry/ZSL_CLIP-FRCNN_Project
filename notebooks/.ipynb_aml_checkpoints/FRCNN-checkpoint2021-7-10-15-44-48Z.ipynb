{
  "cells": [
    {
      "cell_type": "markdown",
      "source": [
        "# 1. Create FRCNN Model"
      ],
      "metadata": {},
      "id": "f89e524d"
    },
    {
      "cell_type": "markdown",
      "source": [
        "Title: Faster-RCNN\n",
        "\n",
        "Author: [Blaine Perry]\n",
        "\n",
        "Date created: 2021/08/03\n",
        "\n",
        "Last modified: 2021/08/03\n",
        "\n",
        "Description: Implementation of Faster-RCNN."
      ],
      "metadata": {},
      "id": "b90b7b65"
    },
    {
      "cell_type": "markdown",
      "source": [
        "## Train the model\r\n",
        "\r\n",
        "# Start by creating the workspace"
      ],
      "metadata": {
        "nteract": {
          "transient": {
            "deleting": false
          }
        }
      },
      "id": "54c1cea7-83ac-4025-99ab-0fec25c1c10b"
    },
    {
      "cell_type": "code",
      "source": [
        "%matplotlib inline\r\n",
        "import numpy as np\r\n",
        "import os\r\n",
        "import matplotlib.pyplot as plt"
      ],
      "outputs": [],
      "execution_count": 1,
      "metadata": {
        "collapsed": true,
        "jupyter": {
          "source_hidden": false,
          "outputs_hidden": false
        },
        "nteract": {
          "transient": {
            "deleting": false
          }
        },
        "gather": {
          "logged": 1628609847438
        }
      },
      "id": "015b9335-27d6-4664-99e5-197bc702e0f2"
    },
    {
      "cell_type": "code",
      "source": [
        "import azureml\n",
        "from azureml.core import Workspace\n",
        "\n",
        "# check core SDK version number\n",
        "print(\"Azure ML SDK Version: \", azureml.core.VERSION)"
      ],
      "outputs": [
        {
          "output_type": "stream",
          "name": "stderr",
          "text": [
            "Failure while loading azureml_run_type_providers. Failed to load entrypoint hyperdrive = azureml.train.hyperdrive:HyperDriveRun._from_run_dto with exception (azure-mgmt-resource 18.0.0 (/anaconda/envs/azureml_py38/lib/python3.8/site-packages), Requirement.parse('azure-mgmt-resource<15.0.0,>=1.2.1'), {'azureml-core'}).\n",
            "Failure while loading azureml_run_type_providers. Failed to load entrypoint automl = azureml.train.automl.run:AutoMLRun._from_run_dto with exception (pyarrow 4.0.1 (/anaconda/envs/azureml_py38/lib/python3.8/site-packages), Requirement.parse('pyarrow<4.0.0,>=0.17.0'), {'azureml-dataset-runtime'}).\n",
            "Failure while loading azureml_run_type_providers. Failed to load entrypoint azureml.PipelineRun = azureml.pipeline.core.run:PipelineRun._from_dto with exception (azure-mgmt-resource 18.0.0 (/anaconda/envs/azureml_py38/lib/python3.8/site-packages), Requirement.parse('azure-mgmt-resource<15.0.0,>=1.2.1'), {'azureml-core'}).\n",
            "Failure while loading azureml_run_type_providers. Failed to load entrypoint azureml.ReusedStepRun = azureml.pipeline.core.run:StepRun._from_reused_dto with exception (azure-mgmt-resource 18.0.0 (/anaconda/envs/azureml_py38/lib/python3.8/site-packages), Requirement.parse('azure-mgmt-resource<15.0.0,>=1.2.1'), {'azureml-core'}).\n",
            "Failure while loading azureml_run_type_providers. Failed to load entrypoint azureml.StepRun = azureml.pipeline.core.run:StepRun._from_dto with exception (azure-mgmt-resource 18.0.0 (/anaconda/envs/azureml_py38/lib/python3.8/site-packages), Requirement.parse('azure-mgmt-resource<15.0.0,>=1.2.1'), {'azureml-core'}).\n",
            "Failure while loading azureml_run_type_providers. Failed to load entrypoint azureml.scriptrun = azureml.core.script_run:ScriptRun._from_run_dto with exception (azure-mgmt-resource 18.0.0 (/anaconda/envs/azureml_py38/lib/python3.8/site-packages), Requirement.parse('azure-mgmt-resource<15.0.0,>=1.2.1')).\n"
          ]
        },
        {
          "output_type": "stream",
          "name": "stdout",
          "text": [
            "Azure ML SDK Version:  1.31.0\n"
          ]
        }
      ],
      "execution_count": 2,
      "metadata": {
        "gather": {
          "logged": 1628609848318
        }
      },
      "id": "78ea8765"
    },
    {
      "cell_type": "code",
      "source": [
        "ws = Workspace.from_config()\r\n",
        "print('Workspace name: ' + ws.name, \r\n",
        "      'Azure region: ' + ws.location, \r\n",
        "      'Subscription id: ' + ws.subscription_id, \r\n",
        "      'Resource group: ' + ws.resource_group, sep='\\n')"
      ],
      "outputs": [
        {
          "output_type": "stream",
          "name": "stdout",
          "text": [
            "Workspace name: geointerns_workspace\n",
            "Azure region: usgovarizona\n",
            "Subscription id: 8dab0d11-5037-44d3-9b24-ed18e6c0845e\n",
            "Resource group: iso_lrpf\n"
          ]
        }
      ],
      "execution_count": 3,
      "metadata": {
        "collapsed": true,
        "jupyter": {
          "source_hidden": false,
          "outputs_hidden": false
        },
        "nteract": {
          "transient": {
            "deleting": false
          }
        },
        "gather": {
          "logged": 1628609848813
        }
      },
      "id": "6d1345f7-78c9-43af-8c92-b9c279a9df02"
    },
    {
      "cell_type": "markdown",
      "source": [
        "## Create an experiment"
      ],
      "metadata": {
        "nteract": {
          "transient": {
            "deleting": false
          }
        }
      },
      "id": "1078cc0e-cb57-49ca-bf18-a55df5c0d98d"
    },
    {
      "cell_type": "code",
      "source": [
        "from azureml.core import Experiment\r\n",
        "\r\n",
        "exp = Experiment(workspace=ws, name='keras-FRCNN')"
      ],
      "outputs": [],
      "execution_count": 4,
      "metadata": {
        "collapsed": true,
        "jupyter": {
          "source_hidden": false,
          "outputs_hidden": false
        },
        "nteract": {
          "transient": {
            "deleting": false
          }
        },
        "gather": {
          "logged": 1628609849078
        }
      },
      "id": "82d90ba9-a8bd-40dc-a883-06d72fae9428"
    },
    {
      "cell_type": "markdown",
      "source": [
        "## Create or Attach existing AmlCompute\r\n",
        "You will need to create a [compute target](https://docs.microsoft.com/azure/machine-learning/service/concept-azure-machine-learning-architecture#compute-target) for training your model. Here we wil create `AmlCompute` as your training compute resource.\r\n"
      ],
      "metadata": {
        "nteract": {
          "transient": {
            "deleting": false
          }
        }
      },
      "id": "265a27d6-a93b-4f9a-8921-20bfa694fdec"
    },
    {
      "cell_type": "code",
      "source": [
        "from azureml.core.compute import ComputeTarget, AmlCompute\r\n",
        "from azureml.core.compute_target import ComputeTargetException\r\n",
        "\r\n",
        "# choose a name for your cluster\r\n",
        "cluster_name = \"two-gpu-cluster\"\r\n",
        "\r\n",
        "try:\r\n",
        "    compute_target = ComputeTarget(workspace=ws, name=cluster_name)\r\n",
        "    print('Found existing compute target')\r\n",
        "except ComputeTargetException:\r\n",
        "    print('Creating a new compute target...')\r\n",
        "    compute_config = AmlCompute.provisioning_configuration(vm_size='STANDARD_NC12', \r\n",
        "                                                           max_nodes=4)\r\n",
        "\r\n",
        "    # create the cluster\r\n",
        "    compute_target = ComputeTarget.create(ws, cluster_name, compute_config)\r\n",
        "\r\n",
        "# can poll for a minimum number of nodes and for a specific timeout. \r\n",
        "# if no min node count is provided it uses the scale settings for the cluster\r\n",
        "compute_target.wait_for_completion(show_output=True, min_node_count=None, timeout_in_minutes=20)\r\n",
        "\r\n",
        "# use get_status() to get a detailed status for the current cluster. \r\n",
        "print(compute_target.get_status().serialize())"
      ],
      "outputs": [
        {
          "output_type": "stream",
          "name": "stdout",
          "text": [
            "Found existing compute target\n",
            "Succeeded\n",
            "AmlCompute wait for completion finished\n",
            "\n",
            "Minimum number of nodes requested have been provisioned\n",
            "{'currentNodeCount': 1, 'targetNodeCount': 1, 'nodeStateCounts': {'preparingNodeCount': 0, 'runningNodeCount': 0, 'idleNodeCount': 1, 'unusableNodeCount': 0, 'leavingNodeCount': 0, 'preemptedNodeCount': 0}, 'allocationState': 'Steady', 'allocationStateTransitionTime': '2021-08-10T15:15:49.295000+00:00', 'errors': None, 'creationTime': '2021-07-08T18:36:44.988863+00:00', 'modifiedTime': '2021-07-08T18:37:15.441038+00:00', 'provisioningState': 'Succeeded', 'provisioningStateTransitionTime': None, 'scaleSettings': {'minNodeCount': 0, 'maxNodeCount': 4, 'nodeIdleTimeBeforeScaleDown': 'PT1800S'}, 'vmPriority': 'Dedicated', 'vmSize': 'STANDARD_NC12'}\n"
          ]
        }
      ],
      "execution_count": 5,
      "metadata": {
        "collapsed": true,
        "jupyter": {
          "source_hidden": false,
          "outputs_hidden": false
        },
        "nteract": {
          "transient": {
            "deleting": false
          }
        },
        "gather": {
          "logged": 1628609849275
        }
      },
      "id": "0e762f3c-9e9f-4dc5-9d79-81ad089d1bf6"
    },
    {
      "cell_type": "markdown",
      "source": [
        "## Create an environment\r\n",
        "\r\n",
        "Define a conda environment YAML file with your training script dependencies, which include TensorFlow, Keras and matplotlib, and create an Azure ML environment."
      ],
      "metadata": {
        "nteract": {
          "transient": {
            "deleting": false
          }
        }
      },
      "id": "7c8b4b9b-1c9d-4078-aca6-22e50638f38d"
    },
    {
      "cell_type": "code",
      "source": [
        "%%writefile conda_dependencies.yml\r\n",
        "\r\n",
        "channels:\r\n",
        "- conda-forge\r\n",
        "dependencies:\r\n",
        "- python=3.8.8\r\n",
        "- pip:\r\n",
        "  - azureml-defaults\r\n",
        "  - tensorflow-gpu==2.5\r\n"
      ],
      "outputs": [
        {
          "output_type": "stream",
          "name": "stdout",
          "text": [
            "Overwriting conda_dependencies.yml\n"
          ]
        }
      ],
      "execution_count": 6,
      "metadata": {
        "collapsed": true,
        "jupyter": {
          "source_hidden": false,
          "outputs_hidden": false
        },
        "nteract": {
          "transient": {
            "deleting": false
          }
        }
      },
      "id": "b2909bab-17f4-4dbb-9ac0-cd98e5059c51"
    },
    {
      "cell_type": "code",
      "source": [
        "from azureml.core import Environment\r\n",
        "\r\n",
        "keras_env = Environment.from_conda_specification(name = 'keras-2.3.1', file_path = './conda_dependencies.yml')\r\n",
        "\r\n",
        "# Specify a GPU base image\r\n",
        "keras_env.docker.base_image = 'mcr.microsoft.com/azureml/openmpi4.1.0-cuda11.0.3-cudnn8-ubuntu18.04:20210615.v1'"
      ],
      "outputs": [],
      "execution_count": 7,
      "metadata": {
        "collapsed": true,
        "jupyter": {
          "source_hidden": false,
          "outputs_hidden": false
        },
        "nteract": {
          "transient": {
            "deleting": false
          }
        },
        "gather": {
          "logged": 1628609849649
        }
      },
      "id": "c4514c85-4da0-47dd-8714-b529b8f07312"
    },
    {
      "cell_type": "markdown",
      "source": [
        "## Configure the training job\r\n",
        "\r\n",
        "Create a ScriptRunConfig object to specify the configuration details of your training job, including your training script, environment to use, and the compute target to run on.\r\n",
        "\r\n",
        "Note that we are specifying a DatasetConsumptionConfig for our FileDataset as an argument to the training script. Azure ML will resolve this DatasetConsumptionConfig to the mount-point of the backing datastore, which we access from the training script."
      ],
      "metadata": {
        "nteract": {
          "transient": {
            "deleting": false
          }
        }
      },
      "id": "f082ebdb-81c3-49fa-bf01-8a478ef82588"
    },
    {
      "cell_type": "code",
      "source": [
        "from azureml.core import Dataset\r\n",
        "dataset = Dataset.get_by_name(ws, 'xview_tfrecords')\r\n",
        "\r\n",
        "# list the files referenced by the dataset\r\n",
        "dataset.to_path()\r\n"
      ],
      "outputs": [
        {
          "output_type": "execute_result",
          "execution_count": 8,
          "data": {
            "text/plain": "['/xview_class_labels.txt',\n '/xview_test_sample.record',\n '/xview_train_sample.record']"
          },
          "metadata": {}
        }
      ],
      "execution_count": 8,
      "metadata": {
        "collapsed": true,
        "jupyter": {
          "source_hidden": false,
          "outputs_hidden": false
        },
        "nteract": {
          "transient": {
            "deleting": false
          }
        },
        "gather": {
          "logged": 1628609852984
        }
      },
      "id": "b2b0f0b9-490a-471d-afd7-d9e40e3b0f8a"
    },
    {
      "cell_type": "code",
      "source": [
        "from azureml.core import ScriptRunConfig\r\n",
        "\r\n",
        "args = ['--data-folder', dataset.as_named_input('xview_tfrecords').as_mount(),\r\n",
        "        '--num-epochs', 30]\r\n",
        "\r\n",
        "src = ScriptRunConfig(source_directory='./FRCNN',\r\n",
        "                      script='train_frcnn.py',\r\n",
        "                      arguments=args,\r\n",
        "                      compute_target=compute_target,\r\n",
        "                      environment=keras_env)"
      ],
      "outputs": [],
      "execution_count": 9,
      "metadata": {
        "collapsed": true,
        "jupyter": {
          "source_hidden": false,
          "outputs_hidden": false
        },
        "nteract": {
          "transient": {
            "deleting": false
          }
        },
        "gather": {
          "logged": 1628609853192
        }
      },
      "id": "bfd09fc2-441d-490d-bb8a-de3a121754b1"
    },
    {
      "cell_type": "code",
      "source": [
        "run = exp.submit(src)"
      ],
      "outputs": [],
      "execution_count": 10,
      "metadata": {
        "collapsed": true,
        "jupyter": {
          "source_hidden": false,
          "outputs_hidden": false
        },
        "nteract": {
          "transient": {
            "deleting": false
          }
        },
        "gather": {
          "logged": 1628609856227
        }
      },
      "id": "5289f7f6-dd9c-44c6-ab78-87e405c86b98"
    },
    {
      "cell_type": "code",
      "source": [],
      "outputs": [],
      "execution_count": null,
      "metadata": {
        "collapsed": true,
        "jupyter": {
          "source_hidden": false,
          "outputs_hidden": false
        },
        "nteract": {
          "transient": {
            "deleting": false
          }
        }
      },
      "id": "18d67b49-8566-4511-b406-6142b368ca5f"
    },
    {
      "cell_type": "code",
      "source": [],
      "outputs": [],
      "execution_count": null,
      "metadata": {
        "collapsed": true,
        "jupyter": {
          "source_hidden": false,
          "outputs_hidden": false
        },
        "nteract": {
          "transient": {
            "deleting": false
          }
        }
      },
      "id": "ce1df504-ab25-48ce-ab11-3149ae4347c5"
    }
  ],
  "metadata": {
    "kernel_info": {
      "name": "python38-azureml"
    },
    "kernelspec": {
      "name": "python38-azureml",
      "language": "python",
      "display_name": "Python 3.8 - AzureML"
    },
    "language_info": {
      "name": "python",
      "version": "3.8.1",
      "mimetype": "text/x-python",
      "codemirror_mode": {
        "name": "ipython",
        "version": 3
      },
      "pygments_lexer": "ipython3",
      "nbconvert_exporter": "python",
      "file_extension": ".py"
    },
    "nteract": {
      "version": "nteract-front-end@1.0.0"
    },
    "microsoft": {
      "host": {
        "AzureML": {
          "notebookHasBeenCompleted": true
        }
      }
    }
  },
  "nbformat": 4,
  "nbformat_minor": 5
}