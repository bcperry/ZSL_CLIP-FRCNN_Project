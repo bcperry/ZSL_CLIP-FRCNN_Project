{
  "cells": [
    {
      "cell_type": "markdown",
      "source": [
        "# Initial Machine Learning Studio setup \r\n",
        "https://github.com/MicrosoftLearning/mslearn-dp100/blob/main/06%20-%20Work%20with%20Data.ipynb"
      ],
      "metadata": {
        "nteract": {
          "transient": {
            "deleting": false
          }
        }
      }
    },
    {
      "cell_type": "markdown",
      "source": [
        "## Pull data from Blob to DataStore to DataSet"
      ],
      "metadata": {
        "nteract": {
          "transient": {
            "deleting": false
          }
        }
      }
    },
    {
      "cell_type": "code",
      "source": [
        "#import basic AzureML packages\r\n",
        "\r\n",
        "import azureml.core\r\n",
        "from azureml.core import Workspace, Datastore, Dataset\r\n",
        "\r\n",
        "\r\n",
        "# Load the workspace from the saved config file\r\n",
        "ws = Workspace.from_config()\r\n",
        "print('Ready to use Azure ML {} to work with {}'.format(azureml.core.VERSION, ws.name)) "
      ],
      "outputs": [
        {
          "output_type": "stream",
          "name": "stdout",
          "text": [
            "Ready to use Azure ML 1.27.0 to work with geointerns_filter\n"
          ]
        }
      ],
      "execution_count": 1,
      "metadata": {
        "collapsed": true,
        "jupyter": {
          "source_hidden": false,
          "outputs_hidden": false
        },
        "nteract": {
          "transient": {
            "deleting": false
          }
        },
        "gather": {
          "logged": 1621826721288
        }
      }
    },
    {
      "cell_type": "code",
      "source": [
        "# Get the current default datastore (if you just loaded the workspace this will not be the same as current example)\r\n",
        "default_ds = ws.get_default_datastore()\r\n",
        "print(default_ds)"
      ],
      "outputs": [
        {
          "output_type": "stream",
          "name": "stdout",
          "text": [
            "{\n",
            "  \"name\": \"xview_datastore\",\n",
            "  \"container_name\": \"xview\",\n",
            "  \"account_name\": \"geointerns\",\n",
            "  \"protocol\": \"https\",\n",
            "  \"endpoint\": \"core.usgovcloudapi.net\"\n",
            "}\n"
          ]
        }
      ],
      "execution_count": 2,
      "metadata": {
        "gather": {
          "logged": 1621826722734
        }
      }
    },
    {
      "cell_type": "code",
      "source": [
        "# Enumerate all datastores within the workspace, indicating which is the default\r\n",
        "for ds_name in ws.datastores:\r\n",
        "    print(ds_name, \"- Default =\", ds_name == default_ds.name)"
      ],
      "outputs": [
        {
          "output_type": "stream",
          "name": "stdout",
          "text": [
            "azureml_globaldatasets - Default = False\n",
            "xview_datastore - Default = True\n",
            "workspaceblobstore - Default = False\n",
            "workspacefilestore - Default = False\n"
          ]
        }
      ],
      "execution_count": 4,
      "metadata": {
        "collapsed": true,
        "jupyter": {
          "source_hidden": false,
          "outputs_hidden": false
        },
        "nteract": {
          "transient": {
            "deleting": false
          }
        },
        "gather": {
          "logged": 1621825310701
        }
      }
    },
    {
      "cell_type": "code",
      "source": [
        "#If you need to make a new datastore to connect to a Blob\r\n",
        "storage_account_key = open(\".storage_account_accesskey.txt\", \"r\").read()\r\n",
        "blob_datastore_name='xview_datastore' # Name of the datastore to workspace\r\n",
        "container_name=os.getenv(\"BLOB_CONTAINER\", \"xview\") # Name of Azure blob container\r\n",
        "account_name=os.getenv(\"BLOB_ACCOUNTNAME\", \"geointerns\") # Storage account name\r\n",
        "account_key=os.getenv(\"BLOB_ACCOUNT_KEY\", storage_Account_key) # Storage account access key\r\n",
        "\r\n",
        "#register the containor to the workspace (aka store the connection information)\r\n",
        "blob_datastore = Datastore.register_azure_blob_container(workspace=ws, \r\n",
        "                                                         datastore_name=blob_datastore_name, \r\n",
        "                                                         container_name=container_name, \r\n",
        "                                                         account_name=account_name,\r\n",
        "                                                         account_key=account_key)"
      ],
      "outputs": [],
      "execution_count": 5,
      "metadata": {
        "collapsed": true,
        "jupyter": {
          "source_hidden": false,
          "outputs_hidden": false
        },
        "nteract": {
          "transient": {
            "deleting": false
          }
        },
        "gather": {
          "logged": 1621825311248
        }
      }
    },
    {
      "cell_type": "code",
      "source": [
        "#set the newly created datastore as your default\r\n",
        "ws.set_default_datastore('xview_datastore')"
      ],
      "outputs": [],
      "execution_count": 6,
      "metadata": {
        "collapsed": true,
        "jupyter": {
          "source_hidden": false,
          "outputs_hidden": false
        },
        "nteract": {
          "transient": {
            "deleting": false
          }
        },
        "gather": {
          "logged": 1621825312452
        }
      }
    },
    {
      "cell_type": "code",
      "source": [
        "# Show the difference by displaying the current default datastore\r\n",
        "default_ds = ws.get_default_datastore()\r\n",
        "print(default_ds)"
      ],
      "outputs": [
        {
          "output_type": "stream",
          "name": "stdout",
          "text": [
            "{\n",
            "  \"name\": \"xview_datastore\",\n",
            "  \"container_name\": \"xview\",\n",
            "  \"account_name\": \"geointerns\",\n",
            "  \"protocol\": \"https\",\n",
            "  \"endpoint\": \"core.usgovcloudapi.net\"\n",
            "}\n"
          ]
        }
      ],
      "execution_count": 7,
      "metadata": {
        "collapsed": true,
        "jupyter": {
          "source_hidden": false,
          "outputs_hidden": false
        },
        "nteract": {
          "transient": {
            "deleting": false
          }
        },
        "gather": {
          "logged": 1621825313379
        }
      }
    },
    {
      "cell_type": "code",
      "source": [
        "#Check to see what datasets are inside\r\n",
        "print(\"Datasets:\")\r\n",
        "for dataset_name in list(ws.datasets.keys()):\r\n",
        "    dataset = Dataset.get_by_name(ws, dataset_name)\r\n",
        "    print(\"\\t\", dataset.name, 'version', dataset.version)"
      ],
      "outputs": [
        {
          "output_type": "stream",
          "name": "stdout",
          "text": [
            "Datasets:\n",
            "\t xview_train version 1\n",
            "\t xview_val version 1\n"
          ]
        }
      ],
      "execution_count": 8,
      "metadata": {
        "collapsed": true,
        "jupyter": {
          "source_hidden": false,
          "outputs_hidden": false
        },
        "nteract": {
          "transient": {
            "deleting": false
          }
        },
        "gather": {
          "logged": 1621825317515
        }
      }
    },
    {
      "cell_type": "code",
      "source": [
        "#Make the Datastore into a Dataset so it's accessible by Azure ML\r\n",
        "\r\n",
        "#Create a file dataset from the path on the datastore (this may take a short while) (redo for training vs val)\r\n",
        "blob_path = 'train_images/train_images/*.tif'\r\n",
        "file_data_set = Dataset.File.from_files(path=(default_ds,blob_path))\r\n",
        "\r\n",
        "# Get the files in the dataset\r\n",
        "for file_path in file_data_set.to_path():\r\n",
        "    print(file_path)"
      ],
      "outputs": [
        {
          "output_type": "stream",
          "name": "stdout",
          "text": [
            "/10.tif\n",
            "/100.tif\n",
            "/102.tif\n",
            "/1036.tif\n",
            "/1037.tif\n",
            "/104.tif\n",
            "/1042.tif\n",
            "/1044.tif\n",
            "/1046.tif\n",
            "/1048.tif\n",
            "/1049.tif\n",
            "/105.tif\n",
            "/1050.tif\n",
            "/1051.tif\n",
            "/1052.tif\n",
            "/1053.tif\n",
            "/1056.tif\n",
            "/1058.tif\n",
            "/106.tif\n",
            "/1061.tif\n",
            "/1063.tif\n",
            "/1065.tif\n",
            "/1067.tif\n",
            "/1068.tif\n",
            "/107.tif\n",
            "/1070.tif\n",
            "/1072.tif\n",
            "/1076.tif\n",
            "/1077.tif\n",
            "/1079.tif\n",
            "/1080.tif\n",
            "/1081.tif\n",
            "/1084.tif\n",
            "/1085.tif\n",
            "/1086.tif\n",
            "/1087.tif\n",
            "/1088.tif\n",
            "/1089.tif\n",
            "/109.tif\n",
            "/1090.tif\n",
            "/1091.tif\n",
            "/1092.tif\n",
            "/1094.tif\n",
            "/1095.tif\n",
            "/110.tif\n",
            "/1104.tif\n",
            "/1106.tif\n",
            "/1109.tif\n",
            "/111.tif\n",
            "/1114.tif\n",
            "/1118.tif\n",
            "/112.tif\n",
            "/1120.tif\n",
            "/1121.tif\n",
            "/1124.tif\n",
            "/1125.tif\n",
            "/1126.tif\n",
            "/1127.tif\n",
            "/1128.tif\n",
            "/1129.tif\n",
            "/1132.tif\n",
            "/1133.tif\n",
            "/1135.tif\n",
            "/1136.tif\n",
            "/1139.tif\n",
            "/1140.tif\n",
            "/1141.tif\n",
            "/1142.tif\n",
            "/1149.tif\n",
            "/1150.tif\n",
            "/1154.tif\n",
            "/1155.tif\n",
            "/1158.tif\n",
            "/1164.tif\n",
            "/1165.tif\n",
            "/1169.tif\n",
            "/1175.tif\n",
            "/1178.tif\n",
            "/118.tif\n",
            "/1180.tif\n",
            "/1181.tif\n",
            "/1182.tif\n",
            "/1184.tif\n",
            "/1185.tif\n",
            "/1192.tif\n",
            "/1193.tif\n",
            "/1196.tif\n",
            "/1197.tif\n",
            "/1205.tif\n",
            "/1206.tif\n",
            "/1208.tif\n",
            "/1211.tif\n",
            "/1212.tif\n",
            "/1216.tif\n",
            "/1217.tif\n",
            "/1224.tif\n",
            "/1233.tif\n",
            "/1237.tif\n",
            "/124.tif\n",
            "/1244.tif\n",
            "/1245.tif\n",
            "/1246.tif\n",
            "/125.tif\n",
            "/1253.tif\n",
            "/1255.tif\n",
            "/1256.tif\n",
            "/126.tif\n",
            "/1265.tif\n",
            "/1268.tif\n",
            "/1278.tif\n",
            "/128.tif\n",
            "/1280.tif\n",
            "/1284.tif\n",
            "/1285.tif\n",
            "/129.tif\n",
            "/130.tif\n",
            "/1309.tif\n",
            "/131.tif\n",
            "/1311.tif\n",
            "/1327.tif\n",
            "/1329.tif\n",
            "/1346.tif\n",
            "/1351.tif\n",
            "/1353.tif\n",
            "/1357.tif\n",
            "/136.tif\n",
            "/1361.tif\n",
            "/1362.tif\n",
            "/1364.tif\n",
            "/1372.tif\n",
            "/1374.tif\n",
            "/1378.tif\n",
            "/1379.tif\n",
            "/1384.tif\n",
            "/1385.tif\n",
            "/1397.tif\n",
            "/1399.tif\n",
            "/140.tif\n",
            "/1403.tif\n",
            "/1405.tif\n",
            "/1406.tif\n",
            "/1416.tif\n",
            "/1418.tif\n",
            "/142.tif\n",
            "/1420.tif\n",
            "/1422.tif\n",
            "/1425.tif\n",
            "/1428.tif\n",
            "/1429.tif\n",
            "/1430.tif\n",
            "/1431.tif\n",
            "/1432.tif\n",
            "/1436.tif\n",
            "/1438.tif\n",
            "/1439.tif\n",
            "/144.tif\n",
            "/1440.tif\n",
            "/1441.tif\n",
            "/1442.tif\n",
            "/1443.tif\n",
            "/1444.tif\n",
            "/1445.tif\n",
            "/1446.tif\n",
            "/1447.tif\n",
            "/1448.tif\n",
            "/1449.tif\n",
            "/145.tif\n",
            "/1450.tif\n",
            "/1451.tif\n",
            "/1452.tif\n",
            "/1453.tif\n",
            "/1454.tif\n",
            "/1456.tif\n",
            "/1457.tif\n",
            "/1459.tif\n",
            "/1460.tif\n",
            "/1462.tif\n",
            "/1463.tif\n",
            "/1465.tif\n",
            "/1466.tif\n",
            "/1467.tif\n",
            "/1468.tif\n",
            "/1469.tif\n",
            "/1472.tif\n",
            "/1473.tif\n",
            "/1476.tif\n",
            "/1478.tif\n",
            "/1482.tif\n",
            "/1486.tif\n",
            "/1487.tif\n",
            "/149.tif\n",
            "/1496.tif\n",
            "/1505.tif\n",
            "/1507.tif\n",
            "/1508.tif\n",
            "/1509.tif\n",
            "/1511.tif\n",
            "/1523.tif\n",
            "/1529.tif\n",
            "/1530.tif\n",
            "/1559.tif\n",
            "/1562.tif\n",
            "/1565.tif\n",
            "/1568.tif\n",
            "/157.tif\n",
            "/1577.tif\n",
            "/1579.tif\n",
            "/158.tif\n",
            "/1580.tif\n",
            "/1581.tif\n",
            "/1584.tif\n",
            "/1585.tif\n",
            "/1586.tif\n",
            "/1587.tif\n",
            "/159.tif\n",
            "/1590.tif\n",
            "/1593.tif\n",
            "/1600.tif\n",
            "/1602.tif\n",
            "/1604.tif\n",
            "/1606.tif\n",
            "/1607.tif\n",
            "/1608.tif\n",
            "/1610.tif\n",
            "/1624.tif\n",
            "/1625.tif\n",
            "/163.tif\n",
            "/1630.tif\n",
            "/1633.tif\n",
            "/1647.tif\n",
            "/1649.tif\n",
            "/1651.tif\n",
            "/1653.tif\n",
            "/1654.tif\n",
            "/1656.tif\n",
            "/1673.tif\n",
            "/1675.tif\n",
            "/1677.tif\n",
            "/1679.tif\n",
            "/1690.tif\n",
            "/1692.tif\n",
            "/1694.tif\n",
            "/1695.tif\n",
            "/1701.tif\n",
            "/1702.tif\n",
            "/1703.tif\n",
            "/1707.tif\n",
            "/1739.tif\n",
            "/1740.tif\n",
            "/1741.tif\n",
            "/1743.tif\n",
            "/1749.tif\n",
            "/1767.tif\n",
            "/1768.tif\n",
            "/1769.tif\n",
            "/1770.tif\n",
            "/1772.tif\n",
            "/1782.tif\n",
            "/1783.tif\n",
            "/1784.tif\n",
            "/1786.tif\n",
            "/1787.tif\n",
            "/1788.tif\n",
            "/1789.tif\n",
            "/1795.tif\n",
            "/1799.tif\n",
            "/18.tif\n",
            "/180.tif\n",
            "/1801.tif\n",
            "/1806.tif\n",
            "/1807.tif\n",
            "/1809.tif\n",
            "/181.tif\n",
            "/1810.tif\n",
            "/1815.tif\n",
            "/1817.tif\n",
            "/1818.tif\n",
            "/1820.tif\n",
            "/1821.tif\n",
            "/1823.tif\n",
            "/1824.tif\n",
            "/1825.tif\n",
            "/1827.tif\n",
            "/1828.tif\n",
            "/1829.tif\n",
            "/1831.tif\n",
            "/1832.tif\n",
            "/1834.tif\n",
            "/1838.tif\n",
            "/1840.tif\n",
            "/1841.tif\n",
            "/1845.tif\n",
            "/1847.tif\n",
            "/1848.tif\n",
            "/1849.tif\n",
            "/1855.tif\n",
            "/1856.tif\n",
            "/1858.tif\n",
            "/1863.tif\n",
            "/1870.tif\n",
            "/1875.tif\n",
            "/1880.tif\n",
            "/1881.tif\n",
            "/1883.tif\n",
            "/1886.tif\n",
            "/1887.tif\n",
            "/1888.tif\n",
            "/1889.tif\n",
            "/1891.tif\n",
            "/1892.tif\n",
            "/1893.tif\n",
            "/1894.tif\n",
            "/1896.tif\n",
            "/1897.tif\n",
            "/1898.tif\n",
            "/1899.tif\n",
            "/1900.tif\n",
            "/1902.tif\n",
            "/1904.tif\n",
            "/1906.tif\n",
            "/1907.tif\n",
            "/1908.tif\n",
            "/1910.tif\n",
            "/1912.tif\n",
            "/1913.tif\n",
            "/1914.tif\n",
            "/1918.tif\n",
            "/1919.tif\n",
            "/1920.tif\n",
            "/1921.tif\n",
            "/1922.tif\n",
            "/1926.tif\n",
            "/1927.tif\n",
            "/1928.tif\n",
            "/1929.tif\n",
            "/193.tif\n",
            "/1930.tif\n",
            "/1931.tif\n",
            "/1932.tif\n",
            "/1938.tif\n",
            "/1940.tif\n",
            "/1945.tif\n",
            "/1961.tif\n",
            "/1963.tif\n",
            "/1964.tif\n",
            "/1972.tif\n",
            "/1973.tif\n",
            "/1976.tif\n",
            "/1980.tif\n",
            "/1982.tif\n",
            "/1983.tif\n",
            "/1985.tif\n",
            "/1987.tif\n",
            "/1988.tif\n",
            "/20.tif\n",
            "/2000.tif\n",
            "/2004.tif\n",
            "/2008.tif\n",
            "/2009.tif\n",
            "/2010.tif\n",
            "/2011.tif\n",
            "/2012.tif\n",
            "/2014.tif\n",
            "/2017.tif\n",
            "/2020.tif\n",
            "/2021.tif\n",
            "/2026.tif\n",
            "/2029.tif\n",
            "/203.tif\n",
            "/2031.tif\n",
            "/2032.tif\n",
            "/2036.tif\n",
            "/2042.tif\n",
            "/2044.tif\n",
            "/2053.tif\n",
            "/2055.tif\n",
            "/2062.tif\n",
            "/2064.tif\n",
            "/2072.tif\n",
            "/2078.tif\n",
            "/2094.tif\n",
            "/2106.tif\n",
            "/2108.tif\n",
            "/2110.tif\n",
            "/2112.tif\n",
            "/2114.tif\n",
            "/2115.tif\n",
            "/2118.tif\n",
            "/2122.tif\n",
            "/2124.tif\n",
            "/2125.tif\n",
            "/2128.tif\n",
            "/2130.tif\n",
            "/2131.tif\n",
            "/2139.tif\n",
            "/2142.tif\n",
            "/2145.tif\n",
            "/2148.tif\n",
            "/2150.tif\n",
            "/2159.tif\n",
            "/216.tif\n",
            "/2160.tif\n",
            "/2162.tif\n",
            "/2168.tif\n",
            "/217.tif\n",
            "/2179.tif\n",
            "/2181.tif\n",
            "/2193.tif\n",
            "/2197.tif\n",
            "/2207.tif\n",
            "/2214.tif\n",
            "/2215.tif\n",
            "/2225.tif\n",
            "/223.tif\n",
            "/2230.tif\n",
            "/2237.tif\n",
            "/2239.tif\n",
            "/2242.tif\n",
            "/2247.tif\n",
            "/2250.tif\n",
            "/2251.tif\n",
            "/2261.tif\n",
            "/2264.tif\n",
            "/2268.tif\n",
            "/2269.tif\n",
            "/2270.tif\n",
            "/2278.tif\n",
            "/2279.tif\n",
            "/2281.tif\n",
            "/2292.tif\n",
            "/2293.tif\n",
            "/2294.tif\n",
            "/2301.tif\n",
            "/2303.tif\n",
            "/2305.tif\n",
            "/2306.tif\n",
            "/2308.tif\n",
            "/2309.tif\n",
            "/2310.tif\n",
            "/2313.tif\n",
            "/2314.tif\n",
            "/2315.tif\n",
            "/2316.tif\n",
            "/2318.tif\n",
            "/2320.tif\n",
            "/2322.tif\n",
            "/2325.tif\n",
            "/2326.tif\n",
            "/2334.tif\n",
            "/2341.tif\n",
            "/2353.tif\n",
            "/2354.tif\n",
            "/2355.tif\n",
            "/2356.tif\n",
            "/2359.tif\n",
            "/2361.tif\n",
            "/2365.tif\n",
            "/237.tif\n",
            "/2370.tif\n",
            "/2371.tif\n",
            "/2373.tif\n",
            "/2375.tif\n",
            "/238.tif\n",
            "/2382.tif\n",
            "/2384.tif\n",
            "/2386.tif\n",
            "/2387.tif\n",
            "/2389.tif\n",
            "/2391.tif\n",
            "/2398.tif\n",
            "/2399.tif\n",
            "/24.tif\n",
            "/2400.tif\n",
            "/2405.tif\n",
            "/2408.tif\n",
            "/2413.tif\n",
            "/2414.tif\n",
            "/2416.tif\n",
            "/2421.tif\n",
            "/2423.tif\n",
            "/2425.tif\n",
            "/2436.tif\n",
            "/2438.tif\n",
            "/2440.tif\n",
            "/2454.tif\n",
            "/2455.tif\n",
            "/2459.tif\n",
            "/2460.tif\n",
            "/2462.tif\n",
            "/2468.tif\n",
            "/2469.tif\n",
            "/2470.tif\n",
            "/2471.tif\n",
            "/2472.tif\n",
            "/2475.tif\n",
            "/2482.tif\n",
            "/2484.tif\n",
            "/2485.tif\n",
            "/2486.tif\n",
            "/2487.tif\n",
            "/2489.tif\n",
            "/2490.tif\n",
            "/2493.tif\n",
            "/2495.tif\n",
            "/2497.tif\n",
            "/2498.tif\n",
            "/2499.tif\n",
            "/2503.tif\n",
            "/2504.tif\n",
            "/2505.tif\n",
            "/2507.tif\n",
            "/2509.tif\n",
            "/2510.tif\n",
            "/2511.tif\n",
            "/2513.tif\n",
            "/2514.tif\n",
            "/2515.tif\n",
            "/2516.tif\n",
            "/2518.tif\n",
            "/2519.tif\n",
            "/252.tif\n",
            "/2520.tif\n",
            "/2521.tif\n",
            "/2523.tif\n",
            "/2524.tif\n",
            "/2530.tif\n",
            "/2531.tif\n",
            "/2532.tif\n",
            "/2538.tif\n",
            "/254.tif\n",
            "/2541.tif\n",
            "/2542.tif\n",
            "/2543.tif\n",
            "/2544.tif\n",
            "/2545.tif\n",
            "/2547.tif\n",
            "/2550.tif\n",
            "/2552.tif\n",
            "/2555.tif\n",
            "/2557.tif\n",
            "/2559.tif\n",
            "/2560.tif\n",
            "/2561.tif\n",
            "/2562.tif\n",
            "/2564.tif\n",
            "/2565.tif\n",
            "/2567.tif\n",
            "/2568.tif\n",
            "/2571.tif\n",
            "/2573.tif\n",
            "/2574.tif\n",
            "/2584.tif\n",
            "/2587.tif\n",
            "/2589.tif\n",
            "/2591.tif\n",
            "/2596.tif\n",
            "/2599.tif\n",
            "/2606.tif\n",
            "/2608.tif\n",
            "/2609.tif\n",
            "/2618.tif\n",
            "/2619.tif\n",
            "/282.tif\n",
            "/283.tif\n",
            "/285.tif\n",
            "/287.tif\n",
            "/289.tif\n",
            "/291.tif\n",
            "/293.tif\n",
            "/294.tif\n",
            "/295.tif\n",
            "/296.tif\n",
            "/302.tif\n",
            "/303.tif\n",
            "/307.tif\n",
            "/309.tif\n",
            "/31.tif\n",
            "/310.tif\n",
            "/311.tif\n",
            "/315.tif\n",
            "/317.tif\n",
            "/320.tif\n",
            "/321.tif\n",
            "/322.tif\n",
            "/323.tif\n",
            "/324.tif\n",
            "/325.tif\n",
            "/33.tif\n",
            "/331.tif\n",
            "/333.tif\n",
            "/340.tif\n",
            "/342.tif\n",
            "/343.tif\n",
            "/345.tif\n",
            "/355.tif\n",
            "/360.tif\n",
            "/362.tif\n",
            "/370.tif\n",
            "/371.tif\n",
            "/372.tif\n",
            "/373.tif\n",
            "/374.tif\n",
            "/375.tif\n",
            "/377.tif\n",
            "/378.tif\n",
            "/379.tif\n",
            "/38.tif\n",
            "/380.tif\n",
            "/381.tif\n",
            "/382.tif\n",
            "/386.tif\n",
            "/389.tif\n",
            "/393.tif\n",
            "/394.tif\n",
            "/399.tif\n",
            "/40.tif\n",
            "/401.tif\n",
            "/407.tif\n",
            "/41.tif\n",
            "/414.tif\n",
            "/415.tif\n",
            "/418.tif\n",
            "/42.tif\n",
            "/422.tif\n",
            "/423.tif\n",
            "/43.tif\n",
            "/430.tif\n",
            "/432.tif\n",
            "/433.tif\n",
            "/434.tif\n",
            "/437.tif\n",
            "/445.tif\n",
            "/451.tif\n",
            "/455.tif\n",
            "/457.tif\n",
            "/46.tif\n",
            "/462.tif\n",
            "/463.tif\n",
            "/464.tif\n",
            "/465.tif\n",
            "/469.tif\n",
            "/47.tif\n",
            "/473.tif\n",
            "/474.tif\n",
            "/481.tif\n",
            "/484.tif\n",
            "/486.tif\n",
            "/488.tif\n",
            "/492.tif\n",
            "/493.tif\n",
            "/494.tif\n",
            "/498.tif\n",
            "/5.tif\n",
            "/500.tif\n",
            "/506.tif\n",
            "/509.tif\n",
            "/510.tif\n",
            "/512.tif\n",
            "/513.tif\n",
            "/517.tif\n",
            "/520.tif\n",
            "/521.tif\n",
            "/523.tif\n",
            "/525.tif\n",
            "/529.tif\n",
            "/53.tif\n",
            "/531.tif\n",
            "/532.tif\n",
            "/534.tif\n",
            "/535.tif\n",
            "/537.tif\n",
            "/538.tif\n",
            "/540.tif\n",
            "/541.tif\n",
            "/546.tif\n",
            "/548.tif\n",
            "/552.tif\n",
            "/556.tif\n",
            "/557.tif\n",
            "/559.tif\n",
            "/561.tif\n",
            "/562.tif\n",
            "/563.tif\n",
            "/567.tif\n",
            "/568.tif\n",
            "/569.tif\n",
            "/574.tif\n",
            "/575.tif\n",
            "/579.tif\n",
            "/580.tif\n",
            "/584.tif\n",
            "/587.tif\n",
            "/593.tif\n",
            "/594.tif\n",
            "/595.tif\n",
            "/596.tif\n",
            "/598.tif\n",
            "/600.tif\n",
            "/601.tif\n",
            "/604.tif\n",
            "/605.tif\n",
            "/606.tif\n",
            "/608.tif\n",
            "/609.tif\n",
            "/610.tif\n",
            "/611.tif\n",
            "/612.tif\n",
            "/613.tif\n",
            "/614.tif\n",
            "/615.tif\n",
            "/617.tif\n",
            "/618.tif\n",
            "/619.tif\n",
            "/620.tif\n",
            "/621.tif\n",
            "/622.tif\n",
            "/626.tif\n",
            "/627.tif\n",
            "/629.tif\n",
            "/635.tif\n",
            "/637.tif\n",
            "/639.tif\n",
            "/641.tif\n",
            "/647.tif\n",
            "/650.tif\n",
            "/652.tif\n",
            "/658.tif\n",
            "/659.tif\n",
            "/665.tif\n",
            "/669.tif\n",
            "/670.tif\n",
            "/671.tif\n",
            "/672.tif\n",
            "/674.tif\n",
            "/680.tif\n",
            "/682.tif\n",
            "/684.tif\n",
            "/69.tif\n",
            "/692.tif\n",
            "/694.tif\n",
            "/708.tif\n",
            "/709.tif\n",
            "/711.tif\n",
            "/712.tif\n",
            "/716.tif\n",
            "/72.tif\n",
            "/720.tif\n",
            "/724.tif\n",
            "/727.tif\n",
            "/73.tif\n",
            "/732.tif\n",
            "/734.tif\n",
            "/735.tif\n",
            "/74.tif\n",
            "/740.tif\n",
            "/741.tif\n",
            "/742.tif\n",
            "/744.tif\n",
            "/75.tif\n",
            "/752.tif\n",
            "/756.tif\n",
            "/760.tif\n",
            "/761.tif\n",
            "/763.tif\n",
            "/764.tif\n",
            "/765.tif\n",
            "/766.tif\n",
            "/767.tif\n",
            "/768.tif\n",
            "/769.tif\n",
            "/772.tif\n",
            "/774.tif\n",
            "/777.tif\n",
            "/781.tif\n",
            "/788.tif\n",
            "/79.tif\n",
            "/791.tif\n",
            "/792.tif\n",
            "/794.tif\n",
            "/8.tif\n",
            "/80.tif\n",
            "/802.tif\n",
            "/805.tif\n",
            "/807.tif\n",
            "/813.tif\n",
            "/814.tif\n",
            "/815.tif\n",
            "/817.tif\n",
            "/819.tif\n",
            "/822.tif\n",
            "/825.tif\n",
            "/83.tif\n",
            "/836.tif\n",
            "/837.tif\n",
            "/838.tif\n",
            "/84.tif\n",
            "/847.tif\n",
            "/859.tif\n",
            "/86.tif\n",
            "/860.tif\n",
            "/862.tif\n",
            "/863.tif\n",
            "/87.tif\n",
            "/870.tif\n",
            "/871.tif\n",
            "/88.tif\n",
            "/880.tif\n",
            "/883.tif\n",
            "/884.tif\n",
            "/885.tif\n",
            "/886.tif\n",
            "/887.tif\n",
            "/888.tif\n",
            "/889.tif\n",
            "/89.tif\n",
            "/892.tif\n",
            "/893.tif\n",
            "/894.tif\n",
            "/895.tif\n",
            "/90.tif\n",
            "/903.tif\n",
            "/905.tif\n",
            "/907.tif\n",
            "/91.tif\n",
            "/910.tif\n",
            "/914.tif\n",
            "/92.tif\n",
            "/924.tif\n",
            "/926.tif\n",
            "/927.tif\n",
            "/928.tif\n",
            "/930.tif\n",
            "/931.tif\n",
            "/94.tif\n",
            "/942.tif\n",
            "/946.tif\n",
            "/95.tif\n",
            "/959.tif\n",
            "/960.tif\n",
            "/962.tif\n",
            "/968.tif\n",
            "/97.tif\n",
            "/983.tif\n",
            "/986.tif\n",
            "/99.tif\n",
            "/996.tif\n"
          ]
        }
      ],
      "execution_count": 20,
      "metadata": {
        "collapsed": true,
        "jupyter": {
          "source_hidden": false,
          "outputs_hidden": false
        },
        "nteract": {
          "transient": {
            "deleting": false
          }
        },
        "gather": {
          "logged": 1621690228139
        }
      }
    },
    {
      "cell_type": "code",
      "source": [
        "#Register Dataset:\r\n",
        "\r\n",
        "# Register the file dataset\r\n",
        "try:\r\n",
        "    file_data_set = file_data_set.register(workspace=ws,\r\n",
        "                                            name='xview_train',\r\n",
        "                                            description='training images from xview',\r\n",
        "                                            tags = {'format':'tif'},\r\n",
        "                                            create_new_version=True)\r\n",
        "except Exception as ex:\r\n",
        "    print(ex)\r\n",
        "\r\n",
        "print('Datasets registered')"
      ],
      "outputs": [
        {
          "output_type": "stream",
          "name": "stdout",
          "text": [
            "Datasets registered\n"
          ]
        }
      ],
      "execution_count": 21,
      "metadata": {
        "collapsed": true,
        "jupyter": {
          "source_hidden": false,
          "outputs_hidden": false
        },
        "nteract": {
          "transient": {
            "deleting": false
          }
        },
        "gather": {
          "logged": 1621690249305
        }
      }
    },
    {
      "cell_type": "code",
      "source": [
        "#Show what datasets are inside now\r\n",
        "\r\n",
        "print(\"Datasets:\")\r\n",
        "for dataset_name in list(ws.datasets.keys()):\r\n",
        "    dataset = Dataset.get_by_name(ws, dataset_name)\r\n",
        "    print(\"\\t\", dataset.name, 'version', dataset.version)"
      ],
      "outputs": [
        {
          "output_type": "stream",
          "name": "stdout",
          "text": [
            "Datasets:\n",
            "\t xview_train version 1\n",
            "\t xview_val version 1\n"
          ]
        }
      ],
      "execution_count": 22,
      "metadata": {
        "collapsed": true,
        "jupyter": {
          "source_hidden": false,
          "outputs_hidden": false
        },
        "nteract": {
          "transient": {
            "deleting": false
          }
        },
        "gather": {
          "logged": 1621690251329
        }
      }
    },
    {
      "cell_type": "markdown",
      "source": [
        "## Once set up: How to load dataset for manipulation"
      ],
      "metadata": {
        "nteract": {
          "transient": {
            "deleting": false
          }
        }
      }
    },
    {
      "cell_type": "code",
      "source": [
        "from PIL import Image\r\n",
        "import os"
      ],
      "outputs": [],
      "execution_count": 3,
      "metadata": {
        "collapsed": true,
        "jupyter": {
          "source_hidden": false,
          "outputs_hidden": false
        },
        "nteract": {
          "transient": {
            "deleting": false
          }
        },
        "gather": {
          "logged": 1621827047705
        }
      }
    },
    {
      "cell_type": "code",
      "source": [
        "#make datafolder on compute instance\r\n",
        "\r\n",
        "train_folder = os.path.join(os.getcwd(), 'data/train_xview')\r\n",
        "val_folder = os.path.join(os.getcwd(), 'data/val_xview')\r\n",
        "\r\n",
        "os.makedirs(train_folder, exist_ok = True)\r\n",
        "os.makedirs(val_folder, exist_ok = True)\r\n"
      ],
      "outputs": [],
      "execution_count": 4,
      "metadata": {
        "collapsed": true,
        "jupyter": {
          "source_hidden": false,
          "outputs_hidden": false
        },
        "nteract": {
          "transient": {
            "deleting": false
          }
        },
        "gather": {
          "logged": 1621827053858
        }
      }
    },
    {
      "cell_type": "code",
      "source": [
        "#download data from dataset into compute instance (can also mount instead of download)\r\n",
        "train_dataset = ws.datasets['xview_train']\r\n",
        "train_dataset.download(train_folder, overwrite=True)\r\n",
        "\r\n",
        "val_dataset = ws.datasets['xview_val']\r\n",
        "val_dataset.download(val_folder, overwrite=True)"
      ],
      "outputs": [
        {
          "output_type": "execute_result",
          "execution_count": 18,
          "data": {
            "text/plain": "['/mnt/batch/tasks/shared/LS_root/mounts/clusters/basic-4corecpu/code/Users/Jessica.Zhu/data/val_xview/1038.tif',\n '/mnt/batch/tasks/shared/LS_root/mounts/clusters/basic-4corecpu/code/Users/Jessica.Zhu/data/val_xview/1040.tif',\n '/mnt/batch/tasks/shared/LS_root/mounts/clusters/basic-4corecpu/code/Users/Jessica.Zhu/data/val_xview/1043.tif',\n '/mnt/batch/tasks/shared/LS_root/mounts/clusters/basic-4corecpu/code/Users/Jessica.Zhu/data/val_xview/1054.tif',\n '/mnt/batch/tasks/shared/LS_root/mounts/clusters/basic-4corecpu/code/Users/Jessica.Zhu/data/val_xview/1060.tif',\n '/mnt/batch/tasks/shared/LS_root/mounts/clusters/basic-4corecpu/code/Users/Jessica.Zhu/data/val_xview/1062.tif',\n '/mnt/batch/tasks/shared/LS_root/mounts/clusters/basic-4corecpu/code/Users/Jessica.Zhu/data/val_xview/1064.tif',\n '/mnt/batch/tasks/shared/LS_root/mounts/clusters/basic-4corecpu/code/Users/Jessica.Zhu/data/val_xview/1066.tif',\n '/mnt/batch/tasks/shared/LS_root/mounts/clusters/basic-4corecpu/code/Users/Jessica.Zhu/data/val_xview/1069.tif',\n '/mnt/batch/tasks/shared/LS_root/mounts/clusters/basic-4corecpu/code/Users/Jessica.Zhu/data/val_xview/1071.tif',\n '/mnt/batch/tasks/shared/LS_root/mounts/clusters/basic-4corecpu/code/Users/Jessica.Zhu/data/val_xview/1073.tif',\n '/mnt/batch/tasks/shared/LS_root/mounts/clusters/basic-4corecpu/code/Users/Jessica.Zhu/data/val_xview/1075.tif',\n '/mnt/batch/tasks/shared/LS_root/mounts/clusters/basic-4corecpu/code/Users/Jessica.Zhu/data/val_xview/108.tif',\n '/mnt/batch/tasks/shared/LS_root/mounts/clusters/basic-4corecpu/code/Users/Jessica.Zhu/data/val_xview/1082.tif',\n '/mnt/batch/tasks/shared/LS_root/mounts/clusters/basic-4corecpu/code/Users/Jessica.Zhu/data/val_xview/1097.tif',\n '/mnt/batch/tasks/shared/LS_root/mounts/clusters/basic-4corecpu/code/Users/Jessica.Zhu/data/val_xview/1098.tif',\n '/mnt/batch/tasks/shared/LS_root/mounts/clusters/basic-4corecpu/code/Users/Jessica.Zhu/data/val_xview/11.tif',\n '/mnt/batch/tasks/shared/LS_root/mounts/clusters/basic-4corecpu/code/Users/Jessica.Zhu/data/val_xview/1102.tif',\n '/mnt/batch/tasks/shared/LS_root/mounts/clusters/basic-4corecpu/code/Users/Jessica.Zhu/data/val_xview/1115.tif',\n '/mnt/batch/tasks/shared/LS_root/mounts/clusters/basic-4corecpu/code/Users/Jessica.Zhu/data/val_xview/1116.tif',\n '/mnt/batch/tasks/shared/LS_root/mounts/clusters/basic-4corecpu/code/Users/Jessica.Zhu/data/val_xview/1117.tif',\n '/mnt/batch/tasks/shared/LS_root/mounts/clusters/basic-4corecpu/code/Users/Jessica.Zhu/data/val_xview/1122.tif',\n '/mnt/batch/tasks/shared/LS_root/mounts/clusters/basic-4corecpu/code/Users/Jessica.Zhu/data/val_xview/1134.tif',\n '/mnt/batch/tasks/shared/LS_root/mounts/clusters/basic-4corecpu/code/Users/Jessica.Zhu/data/val_xview/1138.tif',\n '/mnt/batch/tasks/shared/LS_root/mounts/clusters/basic-4corecpu/code/Users/Jessica.Zhu/data/val_xview/1148.tif',\n '/mnt/batch/tasks/shared/LS_root/mounts/clusters/basic-4corecpu/code/Users/Jessica.Zhu/data/val_xview/1159.tif',\n '/mnt/batch/tasks/shared/LS_root/mounts/clusters/basic-4corecpu/code/Users/Jessica.Zhu/data/val_xview/1161.tif',\n '/mnt/batch/tasks/shared/LS_root/mounts/clusters/basic-4corecpu/code/Users/Jessica.Zhu/data/val_xview/1177.tif',\n '/mnt/batch/tasks/shared/LS_root/mounts/clusters/basic-4corecpu/code/Users/Jessica.Zhu/data/val_xview/1194.tif',\n '/mnt/batch/tasks/shared/LS_root/mounts/clusters/basic-4corecpu/code/Users/Jessica.Zhu/data/val_xview/12.tif',\n '/mnt/batch/tasks/shared/LS_root/mounts/clusters/basic-4corecpu/code/Users/Jessica.Zhu/data/val_xview/1207.tif',\n '/mnt/batch/tasks/shared/LS_root/mounts/clusters/basic-4corecpu/code/Users/Jessica.Zhu/data/val_xview/121.tif',\n '/mnt/batch/tasks/shared/LS_root/mounts/clusters/basic-4corecpu/code/Users/Jessica.Zhu/data/val_xview/1213.tif',\n '/mnt/batch/tasks/shared/LS_root/mounts/clusters/basic-4corecpu/code/Users/Jessica.Zhu/data/val_xview/122.tif',\n '/mnt/batch/tasks/shared/LS_root/mounts/clusters/basic-4corecpu/code/Users/Jessica.Zhu/data/val_xview/1234.tif',\n '/mnt/batch/tasks/shared/LS_root/mounts/clusters/basic-4corecpu/code/Users/Jessica.Zhu/data/val_xview/1235.tif',\n '/mnt/batch/tasks/shared/LS_root/mounts/clusters/basic-4corecpu/code/Users/Jessica.Zhu/data/val_xview/1254.tif',\n '/mnt/batch/tasks/shared/LS_root/mounts/clusters/basic-4corecpu/code/Users/Jessica.Zhu/data/val_xview/1258.tif',\n '/mnt/batch/tasks/shared/LS_root/mounts/clusters/basic-4corecpu/code/Users/Jessica.Zhu/data/val_xview/1263.tif',\n '/mnt/batch/tasks/shared/LS_root/mounts/clusters/basic-4corecpu/code/Users/Jessica.Zhu/data/val_xview/1267.tif',\n '/mnt/batch/tasks/shared/LS_root/mounts/clusters/basic-4corecpu/code/Users/Jessica.Zhu/data/val_xview/1282.tif',\n '/mnt/batch/tasks/shared/LS_root/mounts/clusters/basic-4corecpu/code/Users/Jessica.Zhu/data/val_xview/1308.tif',\n '/mnt/batch/tasks/shared/LS_root/mounts/clusters/basic-4corecpu/code/Users/Jessica.Zhu/data/val_xview/1326.tif',\n '/mnt/batch/tasks/shared/LS_root/mounts/clusters/basic-4corecpu/code/Users/Jessica.Zhu/data/val_xview/1333.tif',\n '/mnt/batch/tasks/shared/LS_root/mounts/clusters/basic-4corecpu/code/Users/Jessica.Zhu/data/val_xview/1358.tif',\n '/mnt/batch/tasks/shared/LS_root/mounts/clusters/basic-4corecpu/code/Users/Jessica.Zhu/data/val_xview/1359.tif',\n '/mnt/batch/tasks/shared/LS_root/mounts/clusters/basic-4corecpu/code/Users/Jessica.Zhu/data/val_xview/1360.tif',\n '/mnt/batch/tasks/shared/LS_root/mounts/clusters/basic-4corecpu/code/Users/Jessica.Zhu/data/val_xview/1401.tif',\n '/mnt/batch/tasks/shared/LS_root/mounts/clusters/basic-4corecpu/code/Users/Jessica.Zhu/data/val_xview/1402.tif',\n '/mnt/batch/tasks/shared/LS_root/mounts/clusters/basic-4corecpu/code/Users/Jessica.Zhu/data/val_xview/1414.tif',\n '/mnt/batch/tasks/shared/LS_root/mounts/clusters/basic-4corecpu/code/Users/Jessica.Zhu/data/val_xview/1426.tif',\n '/mnt/batch/tasks/shared/LS_root/mounts/clusters/basic-4corecpu/code/Users/Jessica.Zhu/data/val_xview/143.tif',\n '/mnt/batch/tasks/shared/LS_root/mounts/clusters/basic-4corecpu/code/Users/Jessica.Zhu/data/val_xview/1434.tif',\n '/mnt/batch/tasks/shared/LS_root/mounts/clusters/basic-4corecpu/code/Users/Jessica.Zhu/data/val_xview/1464.tif',\n '/mnt/batch/tasks/shared/LS_root/mounts/clusters/basic-4corecpu/code/Users/Jessica.Zhu/data/val_xview/147.tif',\n '/mnt/batch/tasks/shared/LS_root/mounts/clusters/basic-4corecpu/code/Users/Jessica.Zhu/data/val_xview/1470.tif',\n '/mnt/batch/tasks/shared/LS_root/mounts/clusters/basic-4corecpu/code/Users/Jessica.Zhu/data/val_xview/1471.tif',\n '/mnt/batch/tasks/shared/LS_root/mounts/clusters/basic-4corecpu/code/Users/Jessica.Zhu/data/val_xview/1474.tif',\n '/mnt/batch/tasks/shared/LS_root/mounts/clusters/basic-4corecpu/code/Users/Jessica.Zhu/data/val_xview/1475.tif',\n '/mnt/batch/tasks/shared/LS_root/mounts/clusters/basic-4corecpu/code/Users/Jessica.Zhu/data/val_xview/1506.tif',\n '/mnt/batch/tasks/shared/LS_root/mounts/clusters/basic-4corecpu/code/Users/Jessica.Zhu/data/val_xview/1510.tif',\n '/mnt/batch/tasks/shared/LS_root/mounts/clusters/basic-4corecpu/code/Users/Jessica.Zhu/data/val_xview/1520.tif',\n '/mnt/batch/tasks/shared/LS_root/mounts/clusters/basic-4corecpu/code/Users/Jessica.Zhu/data/val_xview/1521.tif',\n '/mnt/batch/tasks/shared/LS_root/mounts/clusters/basic-4corecpu/code/Users/Jessica.Zhu/data/val_xview/1522.tif',\n '/mnt/batch/tasks/shared/LS_root/mounts/clusters/basic-4corecpu/code/Users/Jessica.Zhu/data/val_xview/1554.tif',\n '/mnt/batch/tasks/shared/LS_root/mounts/clusters/basic-4corecpu/code/Users/Jessica.Zhu/data/val_xview/1566.tif',\n '/mnt/batch/tasks/shared/LS_root/mounts/clusters/basic-4corecpu/code/Users/Jessica.Zhu/data/val_xview/1578.tif',\n '/mnt/batch/tasks/shared/LS_root/mounts/clusters/basic-4corecpu/code/Users/Jessica.Zhu/data/val_xview/1595.tif',\n '/mnt/batch/tasks/shared/LS_root/mounts/clusters/basic-4corecpu/code/Users/Jessica.Zhu/data/val_xview/1599.tif',\n '/mnt/batch/tasks/shared/LS_root/mounts/clusters/basic-4corecpu/code/Users/Jessica.Zhu/data/val_xview/1605.tif',\n '/mnt/batch/tasks/shared/LS_root/mounts/clusters/basic-4corecpu/code/Users/Jessica.Zhu/data/val_xview/1627.tif',\n '/mnt/batch/tasks/shared/LS_root/mounts/clusters/basic-4corecpu/code/Users/Jessica.Zhu/data/val_xview/1650.tif',\n '/mnt/batch/tasks/shared/LS_root/mounts/clusters/basic-4corecpu/code/Users/Jessica.Zhu/data/val_xview/1652.tif',\n '/mnt/batch/tasks/shared/LS_root/mounts/clusters/basic-4corecpu/code/Users/Jessica.Zhu/data/val_xview/1670.tif',\n '/mnt/batch/tasks/shared/LS_root/mounts/clusters/basic-4corecpu/code/Users/Jessica.Zhu/data/val_xview/1681.tif',\n '/mnt/batch/tasks/shared/LS_root/mounts/clusters/basic-4corecpu/code/Users/Jessica.Zhu/data/val_xview/1693.tif',\n '/mnt/batch/tasks/shared/LS_root/mounts/clusters/basic-4corecpu/code/Users/Jessica.Zhu/data/val_xview/1728.tif',\n '/mnt/batch/tasks/shared/LS_root/mounts/clusters/basic-4corecpu/code/Users/Jessica.Zhu/data/val_xview/1742.tif',\n '/mnt/batch/tasks/shared/LS_root/mounts/clusters/basic-4corecpu/code/Users/Jessica.Zhu/data/val_xview/1746.tif',\n '/mnt/batch/tasks/shared/LS_root/mounts/clusters/basic-4corecpu/code/Users/Jessica.Zhu/data/val_xview/1750.tif',\n '/mnt/batch/tasks/shared/LS_root/mounts/clusters/basic-4corecpu/code/Users/Jessica.Zhu/data/val_xview/1765.tif',\n '/mnt/batch/tasks/shared/LS_root/mounts/clusters/basic-4corecpu/code/Users/Jessica.Zhu/data/val_xview/178.tif',\n '/mnt/batch/tasks/shared/LS_root/mounts/clusters/basic-4corecpu/code/Users/Jessica.Zhu/data/val_xview/1794.tif',\n '/mnt/batch/tasks/shared/LS_root/mounts/clusters/basic-4corecpu/code/Users/Jessica.Zhu/data/val_xview/1800.tif',\n '/mnt/batch/tasks/shared/LS_root/mounts/clusters/basic-4corecpu/code/Users/Jessica.Zhu/data/val_xview/1804.tif',\n '/mnt/batch/tasks/shared/LS_root/mounts/clusters/basic-4corecpu/code/Users/Jessica.Zhu/data/val_xview/1811.tif',\n '/mnt/batch/tasks/shared/LS_root/mounts/clusters/basic-4corecpu/code/Users/Jessica.Zhu/data/val_xview/1813.tif',\n '/mnt/batch/tasks/shared/LS_root/mounts/clusters/basic-4corecpu/code/Users/Jessica.Zhu/data/val_xview/1814.tif',\n '/mnt/batch/tasks/shared/LS_root/mounts/clusters/basic-4corecpu/code/Users/Jessica.Zhu/data/val_xview/1816.tif',\n '/mnt/batch/tasks/shared/LS_root/mounts/clusters/basic-4corecpu/code/Users/Jessica.Zhu/data/val_xview/1819.tif',\n '/mnt/batch/tasks/shared/LS_root/mounts/clusters/basic-4corecpu/code/Users/Jessica.Zhu/data/val_xview/1833.tif',\n '/mnt/batch/tasks/shared/LS_root/mounts/clusters/basic-4corecpu/code/Users/Jessica.Zhu/data/val_xview/1835.tif',\n '/mnt/batch/tasks/shared/LS_root/mounts/clusters/basic-4corecpu/code/Users/Jessica.Zhu/data/val_xview/1836.tif',\n '/mnt/batch/tasks/shared/LS_root/mounts/clusters/basic-4corecpu/code/Users/Jessica.Zhu/data/val_xview/1843.tif',\n '/mnt/batch/tasks/shared/LS_root/mounts/clusters/basic-4corecpu/code/Users/Jessica.Zhu/data/val_xview/1846.tif',\n '/mnt/batch/tasks/shared/LS_root/mounts/clusters/basic-4corecpu/code/Users/Jessica.Zhu/data/val_xview/1866.tif',\n '/mnt/batch/tasks/shared/LS_root/mounts/clusters/basic-4corecpu/code/Users/Jessica.Zhu/data/val_xview/1872.tif',\n '/mnt/batch/tasks/shared/LS_root/mounts/clusters/basic-4corecpu/code/Users/Jessica.Zhu/data/val_xview/1882.tif',\n '/mnt/batch/tasks/shared/LS_root/mounts/clusters/basic-4corecpu/code/Users/Jessica.Zhu/data/val_xview/1895.tif',\n '/mnt/batch/tasks/shared/LS_root/mounts/clusters/basic-4corecpu/code/Users/Jessica.Zhu/data/val_xview/1903.tif',\n '/mnt/batch/tasks/shared/LS_root/mounts/clusters/basic-4corecpu/code/Users/Jessica.Zhu/data/val_xview/1905.tif',\n '/mnt/batch/tasks/shared/LS_root/mounts/clusters/basic-4corecpu/code/Users/Jessica.Zhu/data/val_xview/1909.tif',\n '/mnt/batch/tasks/shared/LS_root/mounts/clusters/basic-4corecpu/code/Users/Jessica.Zhu/data/val_xview/1916.tif',\n '/mnt/batch/tasks/shared/LS_root/mounts/clusters/basic-4corecpu/code/Users/Jessica.Zhu/data/val_xview/1917.tif',\n '/mnt/batch/tasks/shared/LS_root/mounts/clusters/basic-4corecpu/code/Users/Jessica.Zhu/data/val_xview/1925.tif',\n '/mnt/batch/tasks/shared/LS_root/mounts/clusters/basic-4corecpu/code/Users/Jessica.Zhu/data/val_xview/1933.tif',\n '/mnt/batch/tasks/shared/LS_root/mounts/clusters/basic-4corecpu/code/Users/Jessica.Zhu/data/val_xview/1935.tif',\n '/mnt/batch/tasks/shared/LS_root/mounts/clusters/basic-4corecpu/code/Users/Jessica.Zhu/data/val_xview/1944.tif',\n '/mnt/batch/tasks/shared/LS_root/mounts/clusters/basic-4corecpu/code/Users/Jessica.Zhu/data/val_xview/1946.tif',\n '/mnt/batch/tasks/shared/LS_root/mounts/clusters/basic-4corecpu/code/Users/Jessica.Zhu/data/val_xview/1951.tif',\n '/mnt/batch/tasks/shared/LS_root/mounts/clusters/basic-4corecpu/code/Users/Jessica.Zhu/data/val_xview/1952.tif',\n '/mnt/batch/tasks/shared/LS_root/mounts/clusters/basic-4corecpu/code/Users/Jessica.Zhu/data/val_xview/1955.tif',\n '/mnt/batch/tasks/shared/LS_root/mounts/clusters/basic-4corecpu/code/Users/Jessica.Zhu/data/val_xview/1996.tif',\n '/mnt/batch/tasks/shared/LS_root/mounts/clusters/basic-4corecpu/code/Users/Jessica.Zhu/data/val_xview/1997.tif',\n '/mnt/batch/tasks/shared/LS_root/mounts/clusters/basic-4corecpu/code/Users/Jessica.Zhu/data/val_xview/2001.tif',\n '/mnt/batch/tasks/shared/LS_root/mounts/clusters/basic-4corecpu/code/Users/Jessica.Zhu/data/val_xview/201.tif',\n '/mnt/batch/tasks/shared/LS_root/mounts/clusters/basic-4corecpu/code/Users/Jessica.Zhu/data/val_xview/2016.tif',\n '/mnt/batch/tasks/shared/LS_root/mounts/clusters/basic-4corecpu/code/Users/Jessica.Zhu/data/val_xview/2023.tif',\n '/mnt/batch/tasks/shared/LS_root/mounts/clusters/basic-4corecpu/code/Users/Jessica.Zhu/data/val_xview/2024.tif',\n '/mnt/batch/tasks/shared/LS_root/mounts/clusters/basic-4corecpu/code/Users/Jessica.Zhu/data/val_xview/2038.tif',\n '/mnt/batch/tasks/shared/LS_root/mounts/clusters/basic-4corecpu/code/Users/Jessica.Zhu/data/val_xview/2047.tif',\n '/mnt/batch/tasks/shared/LS_root/mounts/clusters/basic-4corecpu/code/Users/Jessica.Zhu/data/val_xview/205.tif',\n '/mnt/batch/tasks/shared/LS_root/mounts/clusters/basic-4corecpu/code/Users/Jessica.Zhu/data/val_xview/207.tif',\n '/mnt/batch/tasks/shared/LS_root/mounts/clusters/basic-4corecpu/code/Users/Jessica.Zhu/data/val_xview/2077.tif',\n '/mnt/batch/tasks/shared/LS_root/mounts/clusters/basic-4corecpu/code/Users/Jessica.Zhu/data/val_xview/2100.tif',\n '/mnt/batch/tasks/shared/LS_root/mounts/clusters/basic-4corecpu/code/Users/Jessica.Zhu/data/val_xview/2102.tif',\n '/mnt/batch/tasks/shared/LS_root/mounts/clusters/basic-4corecpu/code/Users/Jessica.Zhu/data/val_xview/2116.tif',\n '/mnt/batch/tasks/shared/LS_root/mounts/clusters/basic-4corecpu/code/Users/Jessica.Zhu/data/val_xview/2120.tif',\n '/mnt/batch/tasks/shared/LS_root/mounts/clusters/basic-4corecpu/code/Users/Jessica.Zhu/data/val_xview/2127.tif',\n '/mnt/batch/tasks/shared/LS_root/mounts/clusters/basic-4corecpu/code/Users/Jessica.Zhu/data/val_xview/2129.tif',\n '/mnt/batch/tasks/shared/LS_root/mounts/clusters/basic-4corecpu/code/Users/Jessica.Zhu/data/val_xview/2132.tif',\n '/mnt/batch/tasks/shared/LS_root/mounts/clusters/basic-4corecpu/code/Users/Jessica.Zhu/data/val_xview/2135.tif',\n '/mnt/batch/tasks/shared/LS_root/mounts/clusters/basic-4corecpu/code/Users/Jessica.Zhu/data/val_xview/2146.tif',\n '/mnt/batch/tasks/shared/LS_root/mounts/clusters/basic-4corecpu/code/Users/Jessica.Zhu/data/val_xview/2167.tif',\n '/mnt/batch/tasks/shared/LS_root/mounts/clusters/basic-4corecpu/code/Users/Jessica.Zhu/data/val_xview/2178.tif',\n '/mnt/batch/tasks/shared/LS_root/mounts/clusters/basic-4corecpu/code/Users/Jessica.Zhu/data/val_xview/2195.tif',\n '/mnt/batch/tasks/shared/LS_root/mounts/clusters/basic-4corecpu/code/Users/Jessica.Zhu/data/val_xview/221.tif',\n '/mnt/batch/tasks/shared/LS_root/mounts/clusters/basic-4corecpu/code/Users/Jessica.Zhu/data/val_xview/2300.tif',\n '/mnt/batch/tasks/shared/LS_root/mounts/clusters/basic-4corecpu/code/Users/Jessica.Zhu/data/val_xview/2307.tif',\n '/mnt/batch/tasks/shared/LS_root/mounts/clusters/basic-4corecpu/code/Users/Jessica.Zhu/data/val_xview/2321.tif',\n '/mnt/batch/tasks/shared/LS_root/mounts/clusters/basic-4corecpu/code/Users/Jessica.Zhu/data/val_xview/2336.tif',\n '/mnt/batch/tasks/shared/LS_root/mounts/clusters/basic-4corecpu/code/Users/Jessica.Zhu/data/val_xview/2340.tif',\n '/mnt/batch/tasks/shared/LS_root/mounts/clusters/basic-4corecpu/code/Users/Jessica.Zhu/data/val_xview/2342.tif',\n '/mnt/batch/tasks/shared/LS_root/mounts/clusters/basic-4corecpu/code/Users/Jessica.Zhu/data/val_xview/2349.tif',\n '/mnt/batch/tasks/shared/LS_root/mounts/clusters/basic-4corecpu/code/Users/Jessica.Zhu/data/val_xview/2351.tif',\n '/mnt/batch/tasks/shared/LS_root/mounts/clusters/basic-4corecpu/code/Users/Jessica.Zhu/data/val_xview/2357.tif',\n '/mnt/batch/tasks/shared/LS_root/mounts/clusters/basic-4corecpu/code/Users/Jessica.Zhu/data/val_xview/2363.tif',\n '/mnt/batch/tasks/shared/LS_root/mounts/clusters/basic-4corecpu/code/Users/Jessica.Zhu/data/val_xview/2378.tif',\n '/mnt/batch/tasks/shared/LS_root/mounts/clusters/basic-4corecpu/code/Users/Jessica.Zhu/data/val_xview/239.tif',\n '/mnt/batch/tasks/shared/LS_root/mounts/clusters/basic-4corecpu/code/Users/Jessica.Zhu/data/val_xview/2392.tif',\n '/mnt/batch/tasks/shared/LS_root/mounts/clusters/basic-4corecpu/code/Users/Jessica.Zhu/data/val_xview/2393.tif',\n '/mnt/batch/tasks/shared/LS_root/mounts/clusters/basic-4corecpu/code/Users/Jessica.Zhu/data/val_xview/2402.tif',\n '/mnt/batch/tasks/shared/LS_root/mounts/clusters/basic-4corecpu/code/Users/Jessica.Zhu/data/val_xview/2403.tif',\n '/mnt/batch/tasks/shared/LS_root/mounts/clusters/basic-4corecpu/code/Users/Jessica.Zhu/data/val_xview/2404.tif',\n '/mnt/batch/tasks/shared/LS_root/mounts/clusters/basic-4corecpu/code/Users/Jessica.Zhu/data/val_xview/241.tif',\n '/mnt/batch/tasks/shared/LS_root/mounts/clusters/basic-4corecpu/code/Users/Jessica.Zhu/data/val_xview/2411.tif',\n '/mnt/batch/tasks/shared/LS_root/mounts/clusters/basic-4corecpu/code/Users/Jessica.Zhu/data/val_xview/2415.tif',\n '/mnt/batch/tasks/shared/LS_root/mounts/clusters/basic-4corecpu/code/Users/Jessica.Zhu/data/val_xview/2427.tif',\n '/mnt/batch/tasks/shared/LS_root/mounts/clusters/basic-4corecpu/code/Users/Jessica.Zhu/data/val_xview/2428.tif',\n '/mnt/batch/tasks/shared/LS_root/mounts/clusters/basic-4corecpu/code/Users/Jessica.Zhu/data/val_xview/2429.tif',\n '/mnt/batch/tasks/shared/LS_root/mounts/clusters/basic-4corecpu/code/Users/Jessica.Zhu/data/val_xview/2442.tif',\n '/mnt/batch/tasks/shared/LS_root/mounts/clusters/basic-4corecpu/code/Users/Jessica.Zhu/data/val_xview/2449.tif',\n '/mnt/batch/tasks/shared/LS_root/mounts/clusters/basic-4corecpu/code/Users/Jessica.Zhu/data/val_xview/2464.tif',\n '/mnt/batch/tasks/shared/LS_root/mounts/clusters/basic-4corecpu/code/Users/Jessica.Zhu/data/val_xview/2473.tif',\n '/mnt/batch/tasks/shared/LS_root/mounts/clusters/basic-4corecpu/code/Users/Jessica.Zhu/data/val_xview/2480.tif',\n '/mnt/batch/tasks/shared/LS_root/mounts/clusters/basic-4corecpu/code/Users/Jessica.Zhu/data/val_xview/2491.tif',\n '/mnt/batch/tasks/shared/LS_root/mounts/clusters/basic-4corecpu/code/Users/Jessica.Zhu/data/val_xview/2496.tif',\n '/mnt/batch/tasks/shared/LS_root/mounts/clusters/basic-4corecpu/code/Users/Jessica.Zhu/data/val_xview/2500.tif',\n '/mnt/batch/tasks/shared/LS_root/mounts/clusters/basic-4corecpu/code/Users/Jessica.Zhu/data/val_xview/2508.tif',\n '/mnt/batch/tasks/shared/LS_root/mounts/clusters/basic-4corecpu/code/Users/Jessica.Zhu/data/val_xview/2517.tif',\n '/mnt/batch/tasks/shared/LS_root/mounts/clusters/basic-4corecpu/code/Users/Jessica.Zhu/data/val_xview/2522.tif',\n '/mnt/batch/tasks/shared/LS_root/mounts/clusters/basic-4corecpu/code/Users/Jessica.Zhu/data/val_xview/2529.tif',\n '/mnt/batch/tasks/shared/LS_root/mounts/clusters/basic-4corecpu/code/Users/Jessica.Zhu/data/val_xview/2537.tif',\n '/mnt/batch/tasks/shared/LS_root/mounts/clusters/basic-4corecpu/code/Users/Jessica.Zhu/data/val_xview/2549.tif',\n '/mnt/batch/tasks/shared/LS_root/mounts/clusters/basic-4corecpu/code/Users/Jessica.Zhu/data/val_xview/2554.tif',\n '/mnt/batch/tasks/shared/LS_root/mounts/clusters/basic-4corecpu/code/Users/Jessica.Zhu/data/val_xview/2556.tif',\n '/mnt/batch/tasks/shared/LS_root/mounts/clusters/basic-4corecpu/code/Users/Jessica.Zhu/data/val_xview/2563.tif',\n '/mnt/batch/tasks/shared/LS_root/mounts/clusters/basic-4corecpu/code/Users/Jessica.Zhu/data/val_xview/2570.tif',\n '/mnt/batch/tasks/shared/LS_root/mounts/clusters/basic-4corecpu/code/Users/Jessica.Zhu/data/val_xview/2575.tif',\n '/mnt/batch/tasks/shared/LS_root/mounts/clusters/basic-4corecpu/code/Users/Jessica.Zhu/data/val_xview/2579.tif',\n '/mnt/batch/tasks/shared/LS_root/mounts/clusters/basic-4corecpu/code/Users/Jessica.Zhu/data/val_xview/259.tif',\n '/mnt/batch/tasks/shared/LS_root/mounts/clusters/basic-4corecpu/code/Users/Jessica.Zhu/data/val_xview/2604.tif',\n '/mnt/batch/tasks/shared/LS_root/mounts/clusters/basic-4corecpu/code/Users/Jessica.Zhu/data/val_xview/261.tif',\n '/mnt/batch/tasks/shared/LS_root/mounts/clusters/basic-4corecpu/code/Users/Jessica.Zhu/data/val_xview/2613.tif',\n '/mnt/batch/tasks/shared/LS_root/mounts/clusters/basic-4corecpu/code/Users/Jessica.Zhu/data/val_xview/2620.tif',\n '/mnt/batch/tasks/shared/LS_root/mounts/clusters/basic-4corecpu/code/Users/Jessica.Zhu/data/val_xview/2621.tif',\n '/mnt/batch/tasks/shared/LS_root/mounts/clusters/basic-4corecpu/code/Users/Jessica.Zhu/data/val_xview/2622.tif',\n '/mnt/batch/tasks/shared/LS_root/mounts/clusters/basic-4corecpu/code/Users/Jessica.Zhu/data/val_xview/27.tif',\n '/mnt/batch/tasks/shared/LS_root/mounts/clusters/basic-4corecpu/code/Users/Jessica.Zhu/data/val_xview/297.tif',\n '/mnt/batch/tasks/shared/LS_root/mounts/clusters/basic-4corecpu/code/Users/Jessica.Zhu/data/val_xview/299.tif',\n '/mnt/batch/tasks/shared/LS_root/mounts/clusters/basic-4corecpu/code/Users/Jessica.Zhu/data/val_xview/301.tif',\n '/mnt/batch/tasks/shared/LS_root/mounts/clusters/basic-4corecpu/code/Users/Jessica.Zhu/data/val_xview/313.tif',\n '/mnt/batch/tasks/shared/LS_root/mounts/clusters/basic-4corecpu/code/Users/Jessica.Zhu/data/val_xview/319.tif',\n '/mnt/batch/tasks/shared/LS_root/mounts/clusters/basic-4corecpu/code/Users/Jessica.Zhu/data/val_xview/32.tif',\n '/mnt/batch/tasks/shared/LS_root/mounts/clusters/basic-4corecpu/code/Users/Jessica.Zhu/data/val_xview/327.tif',\n '/mnt/batch/tasks/shared/LS_root/mounts/clusters/basic-4corecpu/code/Users/Jessica.Zhu/data/val_xview/332.tif',\n '/mnt/batch/tasks/shared/LS_root/mounts/clusters/basic-4corecpu/code/Users/Jessica.Zhu/data/val_xview/35.tif',\n '/mnt/batch/tasks/shared/LS_root/mounts/clusters/basic-4corecpu/code/Users/Jessica.Zhu/data/val_xview/350.tif',\n '/mnt/batch/tasks/shared/LS_root/mounts/clusters/basic-4corecpu/code/Users/Jessica.Zhu/data/val_xview/354.tif',\n '/mnt/batch/tasks/shared/LS_root/mounts/clusters/basic-4corecpu/code/Users/Jessica.Zhu/data/val_xview/357.tif',\n '/mnt/batch/tasks/shared/LS_root/mounts/clusters/basic-4corecpu/code/Users/Jessica.Zhu/data/val_xview/358.tif',\n '/mnt/batch/tasks/shared/LS_root/mounts/clusters/basic-4corecpu/code/Users/Jessica.Zhu/data/val_xview/359.tif',\n '/mnt/batch/tasks/shared/LS_root/mounts/clusters/basic-4corecpu/code/Users/Jessica.Zhu/data/val_xview/365.tif',\n '/mnt/batch/tasks/shared/LS_root/mounts/clusters/basic-4corecpu/code/Users/Jessica.Zhu/data/val_xview/367.tif',\n '/mnt/batch/tasks/shared/LS_root/mounts/clusters/basic-4corecpu/code/Users/Jessica.Zhu/data/val_xview/368.tif',\n '/mnt/batch/tasks/shared/LS_root/mounts/clusters/basic-4corecpu/code/Users/Jessica.Zhu/data/val_xview/376.tif',\n '/mnt/batch/tasks/shared/LS_root/mounts/clusters/basic-4corecpu/code/Users/Jessica.Zhu/data/val_xview/396.tif',\n '/mnt/batch/tasks/shared/LS_root/mounts/clusters/basic-4corecpu/code/Users/Jessica.Zhu/data/val_xview/412.tif',\n '/mnt/batch/tasks/shared/LS_root/mounts/clusters/basic-4corecpu/code/Users/Jessica.Zhu/data/val_xview/420.tif',\n '/mnt/batch/tasks/shared/LS_root/mounts/clusters/basic-4corecpu/code/Users/Jessica.Zhu/data/val_xview/431.tif',\n '/mnt/batch/tasks/shared/LS_root/mounts/clusters/basic-4corecpu/code/Users/Jessica.Zhu/data/val_xview/436.tif',\n '/mnt/batch/tasks/shared/LS_root/mounts/clusters/basic-4corecpu/code/Users/Jessica.Zhu/data/val_xview/447.tif',\n '/mnt/batch/tasks/shared/LS_root/mounts/clusters/basic-4corecpu/code/Users/Jessica.Zhu/data/val_xview/483.tif',\n '/mnt/batch/tasks/shared/LS_root/mounts/clusters/basic-4corecpu/code/Users/Jessica.Zhu/data/val_xview/485.tif',\n '/mnt/batch/tasks/shared/LS_root/mounts/clusters/basic-4corecpu/code/Users/Jessica.Zhu/data/val_xview/490.tif',\n '/mnt/batch/tasks/shared/LS_root/mounts/clusters/basic-4corecpu/code/Users/Jessica.Zhu/data/val_xview/511.tif',\n '/mnt/batch/tasks/shared/LS_root/mounts/clusters/basic-4corecpu/code/Users/Jessica.Zhu/data/val_xview/530.tif',\n '/mnt/batch/tasks/shared/LS_root/mounts/clusters/basic-4corecpu/code/Users/Jessica.Zhu/data/val_xview/539.tif',\n '/mnt/batch/tasks/shared/LS_root/mounts/clusters/basic-4corecpu/code/Users/Jessica.Zhu/data/val_xview/543.tif',\n '/mnt/batch/tasks/shared/LS_root/mounts/clusters/basic-4corecpu/code/Users/Jessica.Zhu/data/val_xview/554.tif',\n '/mnt/batch/tasks/shared/LS_root/mounts/clusters/basic-4corecpu/code/Users/Jessica.Zhu/data/val_xview/564.tif',\n '/mnt/batch/tasks/shared/LS_root/mounts/clusters/basic-4corecpu/code/Users/Jessica.Zhu/data/val_xview/566.tif',\n '/mnt/batch/tasks/shared/LS_root/mounts/clusters/basic-4corecpu/code/Users/Jessica.Zhu/data/val_xview/576.tif',\n '/mnt/batch/tasks/shared/LS_root/mounts/clusters/basic-4corecpu/code/Users/Jessica.Zhu/data/val_xview/577.tif',\n '/mnt/batch/tasks/shared/LS_root/mounts/clusters/basic-4corecpu/code/Users/Jessica.Zhu/data/val_xview/578.tif',\n '/mnt/batch/tasks/shared/LS_root/mounts/clusters/basic-4corecpu/code/Users/Jessica.Zhu/data/val_xview/583.tif',\n '/mnt/batch/tasks/shared/LS_root/mounts/clusters/basic-4corecpu/code/Users/Jessica.Zhu/data/val_xview/586.tif',\n '/mnt/batch/tasks/shared/LS_root/mounts/clusters/basic-4corecpu/code/Users/Jessica.Zhu/data/val_xview/589.tif',\n '/mnt/batch/tasks/shared/LS_root/mounts/clusters/basic-4corecpu/code/Users/Jessica.Zhu/data/val_xview/592.tif',\n '/mnt/batch/tasks/shared/LS_root/mounts/clusters/basic-4corecpu/code/Users/Jessica.Zhu/data/val_xview/628.tif',\n '/mnt/batch/tasks/shared/LS_root/mounts/clusters/basic-4corecpu/code/Users/Jessica.Zhu/data/val_xview/631.tif',\n '/mnt/batch/tasks/shared/LS_root/mounts/clusters/basic-4corecpu/code/Users/Jessica.Zhu/data/val_xview/632.tif',\n '/mnt/batch/tasks/shared/LS_root/mounts/clusters/basic-4corecpu/code/Users/Jessica.Zhu/data/val_xview/636.tif',\n '/mnt/batch/tasks/shared/LS_root/mounts/clusters/basic-4corecpu/code/Users/Jessica.Zhu/data/val_xview/654.tif',\n '/mnt/batch/tasks/shared/LS_root/mounts/clusters/basic-4corecpu/code/Users/Jessica.Zhu/data/val_xview/656.tif',\n '/mnt/batch/tasks/shared/LS_root/mounts/clusters/basic-4corecpu/code/Users/Jessica.Zhu/data/val_xview/664.tif',\n '/mnt/batch/tasks/shared/LS_root/mounts/clusters/basic-4corecpu/code/Users/Jessica.Zhu/data/val_xview/666.tif',\n '/mnt/batch/tasks/shared/LS_root/mounts/clusters/basic-4corecpu/code/Users/Jessica.Zhu/data/val_xview/667.tif',\n '/mnt/batch/tasks/shared/LS_root/mounts/clusters/basic-4corecpu/code/Users/Jessica.Zhu/data/val_xview/668.tif',\n '/mnt/batch/tasks/shared/LS_root/mounts/clusters/basic-4corecpu/code/Users/Jessica.Zhu/data/val_xview/673.tif',\n '/mnt/batch/tasks/shared/LS_root/mounts/clusters/basic-4corecpu/code/Users/Jessica.Zhu/data/val_xview/676.tif',\n '/mnt/batch/tasks/shared/LS_root/mounts/clusters/basic-4corecpu/code/Users/Jessica.Zhu/data/val_xview/687.tif',\n '/mnt/batch/tasks/shared/LS_root/mounts/clusters/basic-4corecpu/code/Users/Jessica.Zhu/data/val_xview/690.tif',\n '/mnt/batch/tasks/shared/LS_root/mounts/clusters/basic-4corecpu/code/Users/Jessica.Zhu/data/val_xview/7.tif',\n '/mnt/batch/tasks/shared/LS_root/mounts/clusters/basic-4corecpu/code/Users/Jessica.Zhu/data/val_xview/700.tif',\n '/mnt/batch/tasks/shared/LS_root/mounts/clusters/basic-4corecpu/code/Users/Jessica.Zhu/data/val_xview/710.tif',\n '/mnt/batch/tasks/shared/LS_root/mounts/clusters/basic-4corecpu/code/Users/Jessica.Zhu/data/val_xview/718.tif',\n '/mnt/batch/tasks/shared/LS_root/mounts/clusters/basic-4corecpu/code/Users/Jessica.Zhu/data/val_xview/731.tif',\n '/mnt/batch/tasks/shared/LS_root/mounts/clusters/basic-4corecpu/code/Users/Jessica.Zhu/data/val_xview/746.tif',\n '/mnt/batch/tasks/shared/LS_root/mounts/clusters/basic-4corecpu/code/Users/Jessica.Zhu/data/val_xview/754.tif',\n '/mnt/batch/tasks/shared/LS_root/mounts/clusters/basic-4corecpu/code/Users/Jessica.Zhu/data/val_xview/770.tif',\n '/mnt/batch/tasks/shared/LS_root/mounts/clusters/basic-4corecpu/code/Users/Jessica.Zhu/data/val_xview/780.tif',\n '/mnt/batch/tasks/shared/LS_root/mounts/clusters/basic-4corecpu/code/Users/Jessica.Zhu/data/val_xview/782.tif',\n '/mnt/batch/tasks/shared/LS_root/mounts/clusters/basic-4corecpu/code/Users/Jessica.Zhu/data/val_xview/809.tif',\n '/mnt/batch/tasks/shared/LS_root/mounts/clusters/basic-4corecpu/code/Users/Jessica.Zhu/data/val_xview/827.tif',\n '/mnt/batch/tasks/shared/LS_root/mounts/clusters/basic-4corecpu/code/Users/Jessica.Zhu/data/val_xview/882.tif',\n '/mnt/batch/tasks/shared/LS_root/mounts/clusters/basic-4corecpu/code/Users/Jessica.Zhu/data/val_xview/891.tif',\n '/mnt/batch/tasks/shared/LS_root/mounts/clusters/basic-4corecpu/code/Users/Jessica.Zhu/data/val_xview/9.tif',\n '/mnt/batch/tasks/shared/LS_root/mounts/clusters/basic-4corecpu/code/Users/Jessica.Zhu/data/val_xview/908.tif',\n '/mnt/batch/tasks/shared/LS_root/mounts/clusters/basic-4corecpu/code/Users/Jessica.Zhu/data/val_xview/909.tif',\n '/mnt/batch/tasks/shared/LS_root/mounts/clusters/basic-4corecpu/code/Users/Jessica.Zhu/data/val_xview/912.tif',\n '/mnt/batch/tasks/shared/LS_root/mounts/clusters/basic-4corecpu/code/Users/Jessica.Zhu/data/val_xview/913.tif',\n '/mnt/batch/tasks/shared/LS_root/mounts/clusters/basic-4corecpu/code/Users/Jessica.Zhu/data/val_xview/925.tif',\n '/mnt/batch/tasks/shared/LS_root/mounts/clusters/basic-4corecpu/code/Users/Jessica.Zhu/data/val_xview/929.tif',\n '/mnt/batch/tasks/shared/LS_root/mounts/clusters/basic-4corecpu/code/Users/Jessica.Zhu/data/val_xview/93.tif',\n '/mnt/batch/tasks/shared/LS_root/mounts/clusters/basic-4corecpu/code/Users/Jessica.Zhu/data/val_xview/941.tif',\n '/mnt/batch/tasks/shared/LS_root/mounts/clusters/basic-4corecpu/code/Users/Jessica.Zhu/data/val_xview/944.tif',\n '/mnt/batch/tasks/shared/LS_root/mounts/clusters/basic-4corecpu/code/Users/Jessica.Zhu/data/val_xview/945.tif',\n '/mnt/batch/tasks/shared/LS_root/mounts/clusters/basic-4corecpu/code/Users/Jessica.Zhu/data/val_xview/947.tif',\n '/mnt/batch/tasks/shared/LS_root/mounts/clusters/basic-4corecpu/code/Users/Jessica.Zhu/data/val_xview/949.tif',\n '/mnt/batch/tasks/shared/LS_root/mounts/clusters/basic-4corecpu/code/Users/Jessica.Zhu/data/val_xview/950.tif',\n '/mnt/batch/tasks/shared/LS_root/mounts/clusters/basic-4corecpu/code/Users/Jessica.Zhu/data/val_xview/96.tif',\n '/mnt/batch/tasks/shared/LS_root/mounts/clusters/basic-4corecpu/code/Users/Jessica.Zhu/data/val_xview/961.tif',\n '/mnt/batch/tasks/shared/LS_root/mounts/clusters/basic-4corecpu/code/Users/Jessica.Zhu/data/val_xview/963.tif',\n '/mnt/batch/tasks/shared/LS_root/mounts/clusters/basic-4corecpu/code/Users/Jessica.Zhu/data/val_xview/965.tif',\n '/mnt/batch/tasks/shared/LS_root/mounts/clusters/basic-4corecpu/code/Users/Jessica.Zhu/data/val_xview/967.tif',\n '/mnt/batch/tasks/shared/LS_root/mounts/clusters/basic-4corecpu/code/Users/Jessica.Zhu/data/val_xview/978.tif',\n '/mnt/batch/tasks/shared/LS_root/mounts/clusters/basic-4corecpu/code/Users/Jessica.Zhu/data/val_xview/98.tif',\n '/mnt/batch/tasks/shared/LS_root/mounts/clusters/basic-4corecpu/code/Users/Jessica.Zhu/data/val_xview/981.tif',\n '/mnt/batch/tasks/shared/LS_root/mounts/clusters/basic-4corecpu/code/Users/Jessica.Zhu/data/val_xview/985.tif',\n '/mnt/batch/tasks/shared/LS_root/mounts/clusters/basic-4corecpu/code/Users/Jessica.Zhu/data/val_xview/995.tif']"
          },
          "metadata": {}
        }
      ],
      "execution_count": 18,
      "metadata": {
        "collapsed": true,
        "jupyter": {
          "source_hidden": false,
          "outputs_hidden": false
        },
        "nteract": {
          "transient": {
            "deleting": false
          }
        },
        "gather": {
          "logged": 1621826322879
        }
      }
    },
    {
      "cell_type": "code",
      "source": [
        "#View random images (and continue doing ML like on a normal computer)\r\n",
        "import random\r\n",
        "\r\n",
        "file_list =  [x for x in os.listdir(\"data/train_xview\")\r\n",
        "               if os.path.isfile(os.path.join(\"data/train_xview\", x))]\r\n"
      ],
      "outputs": [],
      "execution_count": 15,
      "metadata": {
        "collapsed": true,
        "jupyter": {
          "source_hidden": false,
          "outputs_hidden": false
        },
        "nteract": {
          "transient": {
            "deleting": false
          }
        },
        "gather": {
          "logged": 1621827769667
        }
      }
    },
    {
      "cell_type": "code",
      "source": [
        "#display image\r\n",
        "random.seed(28)\r\n",
        "im_random = random.choice(file_list)  \r\n",
        "print(im_random)\r\n",
        "im = Image.open(fp=\"data/train_xview/\"+im_random)\r\n",
        "im.thumbnail((300,300)) #shrink it \r\n",
        "im.show()"
      ],
      "outputs": [
        {
          "output_type": "stream",
          "name": "stdout",
          "text": [
            "130.tif\n"
          ]
        },
        {
          "output_type": "display_data",
          "data": {
            "text/plain": "<PIL.TiffImagePlugin.TiffImageFile image mode=RGB size=300x295 at 0x7F847FD29358>",
            "image/png": "[encoded data removed]"
          },
          "metadata": {}
        }
      ],
      "execution_count": 34,
      "metadata": {
        "collapsed": true,
        "jupyter": {
          "source_hidden": false,
          "outputs_hidden": false
        },
        "nteract": {
          "transient": {
            "deleting": false
          }
        },
        "gather": {
          "logged": 1621829726592
        }
      }
    },
    {
      "cell_type": "markdown",
      "source": [
        "##### Make sure to stop your compute instance. \r\n",
        "\r\n",
        "(The files will stay but the kernel and billing will stop)"
      ],
      "metadata": {
        "nteract": {
          "transient": {
            "deleting": false
          }
        }
      }
    }
  ],
  "metadata": {
    "kernelspec": {
      "name": "python3-azureml",
      "language": "python",
      "display_name": "Python 3.6 - AzureML"
    },
    "language_info": {
      "name": "python",
      "version": "3.6.9",
      "mimetype": "text/x-python",
      "codemirror_mode": {
        "name": "ipython",
        "version": 3
      },
      "pygments_lexer": "ipython3",
      "nbconvert_exporter": "python",
      "file_extension": ".py"
    },
    "kernel_info": {
      "name": "python3-azureml"
    },
    "nteract": {
      "version": "nteract-front-end@1.0.0"
    },
    "microsoft": {
      "host": {
        "AzureML": {
          "notebookHasBeenCompleted": true
        }
      }
    }
  },
  "nbformat": 4,
  "nbformat_minor": 2
}